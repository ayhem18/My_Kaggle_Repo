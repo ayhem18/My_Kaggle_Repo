{
 "cells": [
  {
   "cell_type": "markdown",
   "metadata": {},
   "source": [
    "## Motivation\n",
    "Well I decided to start competing in Kaggle competitions. I need as much practice as possible.\n",
    "## Disclaimer: \n",
    "All the code here is inspired by the following [video](https://www.youtube.com/watch?v=I3FBJdiExcg&t=1s)  "
   ]
  },
  {
   "cell_type": "markdown",
   "metadata": {},
   "source": [
    "### Step1: Have a general idea about the problem: Read the corresponding documentation\n"
   ]
  },
  {
   "cell_type": "code",
   "execution_count": null,
   "metadata": {},
   "outputs": [],
   "source": [
    "import numpy as np\n",
    "import pandas as pd\n",
    "import matplotlib.pyplot as plt\n",
    "import re"
   ]
  },
  {
   "cell_type": "code",
   "execution_count": null,
   "metadata": {},
   "outputs": [],
   "source": [
    "df = pd.read_csv(\"train.csv\")\n",
    "df = df.set_index(\"PassengerId\")\n",
    "print(df.head())"
   ]
  },
  {
   "cell_type": "markdown",
   "metadata": {},
   "source": [
    "### Descriptive analysis\n",
    "Let's try to understand the data."
   ]
  },
  {
   "cell_type": "code",
   "execution_count": null,
   "metadata": {},
   "outputs": [],
   "source": [
    "print(df.describe())"
   ]
  },
  {
   "cell_type": "code",
   "execution_count": null,
   "metadata": {},
   "outputs": [],
   "source": [
    "df = df.rename(mapper=str.lower, axis=1)\n",
    "print(df.columns)\n",
    "df = df.rename(columns={\"survived\":\"y\", \"embarked\":\"from\", \"pclass\":\"c\"})"
   ]
  },
  {
   "cell_type": "code",
   "execution_count": null,
   "metadata": {},
   "outputs": [],
   "source": [
    "X_num_names = [\"y\", \"c\", \"age\", \"sibsp\", \"parch\", \"fare\"]\n",
    "X_cat_names = [\"name\", \"sex\", \"ticket\", \"cabin\", \"from\"]\n",
    "df_num = df.loc[:, X_num_names]\n",
    "df_cat = df.loc[:, X_cat_names]"
   ]
  },
  {
   "cell_type": "code",
   "execution_count": null,
   "metadata": {},
   "outputs": [],
   "source": [
    "df_num.describe()\n"
   ]
  },
  {
   "cell_type": "code",
   "execution_count": null,
   "metadata": {},
   "outputs": [],
   "source": [
    "for col in df_num.columns:\n",
    "    plt.hist(df_num[col])\n",
    "    plt.title(col)\n",
    "    plt.show()"
   ]
  },
  {
   "cell_type": "code",
   "execution_count": null,
   "metadata": {},
   "outputs": [],
   "source": [
    "df_survive = df[df['y']==1]\n",
    "print(df_survive.describe())\n",
    "print(\"#\" * 50)\n",
    "df_dead = df[df['y'] == 0]\n",
    "print(df_dead.describe())"
   ]
  },
  {
   "cell_type": "code",
   "execution_count": null,
   "metadata": {},
   "outputs": [],
   "source": [
    "fun_list = [pd.Series.count, np.sum, np.mean, np.std, np.max, np.min]\n",
    "\n",
    "df_survived_class = df_survive.groupby(\"c\").agg({\"fare\":fun_list})\n",
    "df_dead_class = df_dead.groupby(\"c\").agg({\"fare\":fun_list})\n",
    "print(df_survived_class)\n",
    "print(df_dead_class)\n",
    "\n",
    "def age_division(age):\n",
    "    if age <= 12:\n",
    "        return \"kid\"\n",
    "    elif age <= 18:\n",
    "        return \"teen\"\n",
    "    elif age <= 40:\n",
    "        return \"adult\"\n",
    "    else:\n",
    "        return \"elderly\"\n",
    "\n",
    "# df_survived_age = df_survive.set_index(\"age\").groupby(age_division).agg({\"age\":fun_list})\n",
    "# df_dead_age = df_dead.set_index(\"age\").groupby(age_division).agg({\"age\":fun_list})\n",
    "\n",
    "# print(df_survived_age)\n",
    "# print(df_dead_age) \n",
    "# print(len(df_survive[df_survive[\"age\"] >= 41]))"
   ]
  },
  {
   "cell_type": "code",
   "execution_count": null,
   "metadata": {},
   "outputs": [],
   "source": [
    "df_num.corr()"
   ]
  },
  {
   "cell_type": "code",
   "execution_count": null,
   "metadata": {},
   "outputs": [],
   "source": [
    "print(pd.pivot_table(df, index='y', values=['c','age', 'fare'], aggfunc=[pd.Series.count, np.mean]))"
   ]
  },
  {
   "cell_type": "code",
   "execution_count": null,
   "metadata": {},
   "outputs": [],
   "source": [
    "# comparing survivors' values with respect to categorical variables.\n",
    "print(pd.pivot_table(df, index='y', columns=['c'], values='ticket', aggfunc='count'))\n",
    "print(pd.pivot_table(df, index='y', columns=['sex'], aggfunc='count', values='ticket'))\n",
    "print(pd.pivot_table(df, index='y', columns='from', aggfunc='count', values='ticket'))\n",
    "# at first glance it might seem that passengers embarking from \"C\" are more likely to survive. Yet, it might be useful to consider\n",
    "# the social class of people coming from the different stations.\n",
    "\n",
    "print(pd.pivot_table(df, index='c', columns=['from'], values='name', aggfunc='count'))\n",
    "# the last observation did not provide evidence to completely rool out the possibility of positive correlation between the embarkment \n",
    "# point and survival, more investigation is needed.\n"
   ]
  },
  {
   "cell_type": "code",
   "execution_count": null,
   "metadata": {},
   "outputs": [],
   "source": [
    "\n",
    "df_better = df.copy()\n",
    "# 0: male, 1: female\n",
    "genre_mapper = {\"male\":0, \"female\":1}\n",
    "df_better[\"sex\"] = pd.Series([genre_mapper[x] for x in df_better['sex']])\n",
    "\n",
    "from_mapper = {\"C\":1, \"Q\":2, \"S\":3}\n",
    "df_better[\"from\"] = pd.Series([from_mapper[x] if x in from_mapper else x for x in df_better[\"from\"]])\n",
    "df_better['from'] = df_better['from'].astype(float)\n",
    "# print(df_better.head())\n",
    "print(df_better.loc[:, [\"y\", \"from\"]].corr())"
   ]
  },
  {
   "cell_type": "code",
   "execution_count": null,
   "metadata": {},
   "outputs": [],
   "source": [
    "# understand the relation between classes and the embarkment station\n",
    "from_class_ana = df_better.groupby(\"from\").agg({\"c\":['count', 'mean'], \"fare\":'mean'})\n",
    "print(from_class_ana)\n",
    "# so we can say the embarkment station has little to no correlation with the social class\n",
    "\n",
    "print(pd.pivot_table(df_better, index='from',columns='c',values='ticket', aggfunc='count'))\n"
   ]
  },
  {
   "cell_type": "code",
   "execution_count": null,
   "metadata": {},
   "outputs": [],
   "source": [
    "# understanding the cabin\n",
    "\n",
    "print(df_better[\"cabin\"].isna().sum())\n",
    "print(df_better[\"cabin\"].copy().dropna().count())\n",
    "# so only 204 passengers bought cabins"
   ]
  },
  {
   "cell_type": "code",
   "execution_count": null,
   "metadata": {},
   "outputs": [],
   "source": [
    "# we assume that the cabins are indeed separated by spaces\n",
    "df_better['num_cabins'] = df_better.cabin.apply(lambda x: 0 if pd.isna(x) else len(x.split(\" \")))\n",
    "print(df_better.num_cabins.value_counts())\n",
    "# let's check the relation between number of cabins and social class\n",
    "print(pd.pivot_table(df_better, index='num_cabins', columns='c', values='ticket', aggfunc='count'))"
   ]
  },
  {
   "cell_type": "code",
   "execution_count": null,
   "metadata": {},
   "outputs": [],
   "source": [
    "# understanding the fare column:\n",
    "print (df_better.loc[:, [\"fare\"]].describe())\n",
    "fare_s = df_better['fare']\n",
    "fare_df = df_better.loc[:, [\"fare\"]]\n",
    "# consider the nan values\n",
    "print(fare_s.isna().sum())\n",
    "# there is no nan values: such a delight !!!\n",
    "\n",
    "print(fare_s[lambda x : x == 0].count())"
   ]
  },
  {
   "cell_type": "code",
   "execution_count": null,
   "metadata": {},
   "outputs": [],
   "source": [
    "df_original = df.copy()\n",
    "df = df_better\n",
    "# now df is the dataframe with all the modifications"
   ]
  },
  {
   "cell_type": "code",
   "execution_count": null,
   "metadata": {},
   "outputs": [],
   "source": [
    "df_no_fare = df[df['fare'] == 0]\n",
    "df_fare = df[df['fare'] != 0]\n",
    "fare_np = df_fare[\"fare\"].values\n",
    "\n",
    "quantiles_values = [0, 0.25, 0.5, 0.75, 1]\n",
    "fare_quantiles = {}\n",
    "for i in range(1, 4):\n",
    "    fare_quantiles[\"fare_q_c\" + str(i)] = np.quantile(df_fare[df_fare[\"c\"] == i][\"fare\"].values, quantiles_values)\n",
    "\n",
    "for key, value in fare_quantiles.items():\n",
    "    print(str(key) + \": \" + str(value)) \n",
    "\n",
    "def quartile_number(value, quantiles):\n",
    "    # value assumed to be at least larger or equal then the lowest value\n",
    "    assert (value >= quantiles_values[0])\n",
    "    for i in range(len(quantiles) - 1):\n",
    "        if value >= quantiles[i] and value < quantiles[i + 1]:\n",
    "            return i + 1\n",
    "    return len(quantiles) - 1 \n",
    "\n",
    "def classify_passenger(row):\n",
    "    return quartile_number(row['fare'], fare_quantiles[\"fare_q_c\" + str(int(row['c']))])    \n",
    "\n",
    "\n",
    "df_fare['quartile_class'] = df_fare.loc[:, ['fare', 'c']].apply(lambda row: classify_passenger(row), axis=1)\n",
    "print(df_fare.loc[:, ['fare', 'c', 'quartile_class']].head(15))\n",
    "\n",
    "# fare_quantile = np.quantile(fare_np, [0, 0.25, 0.5, 0.75, 1])\n",
    "# df_better[\"class_fare_quantile\"] = df_fare.loc[:, ['fare', 'c']].apply()\n",
    "# print(fare_quantile)\n"
   ]
  },
  {
   "cell_type": "code",
   "execution_count": null,
   "metadata": {},
   "outputs": [],
   "source": [
    "# let's try to see the relationship between the fare quartile and the survival\n",
    "\n",
    "fare_class_quartile_effect = pd.pivot_table(df_fare, index='y', columns=['c','quartile_class'], values='name', aggfunc='count')\n",
    "print(fare_class_quartile_effect)\n",
    "print(\"#\" * 50)\n",
    "fare_class_quartile_effect.loc[2] = fare_class_quartile_effect.loc[1] / fare_class_quartile_effect.loc[0]\n",
    "print(fare_class_quartile_effect)\n"
   ]
  },
  {
   "cell_type": "code",
   "execution_count": 61,
   "metadata": {},
   "outputs": [
    {
     "name": "stdout",
     "output_type": "stream",
     "text": [
      "c\n",
      "1    86.148874\n",
      "2    21.358661\n",
      "3    13.787875\n",
      "Name: fare, dtype: float64\n",
      "                       y  quartile_class\n",
      "y               1.000000        0.103309\n",
      "quartile_class  0.103309        1.000000\n"
     ]
    }
   ],
   "source": [
    "\n",
    "fare_by_class_mean = df_fare.groupby(\"c\").agg({\"fare\": np.mean}).squeeze()\n",
    "print(fare_by_class_mean)\n",
    "def fill_up_fare(row):\n",
    "    if row['fare'] == 0:\n",
    "        row['fare'] = fare_by_class_mean[row['c']]\n",
    "    return row\n",
    "\n",
    "# we can see that there is positive correlation between the quartile_class feature and survival\n",
    "# it is necessary to impute the row: the mean seems like a reasonable choice\n",
    "\n",
    "df = df.apply(lambda row: fill_up_fare(row) , axis=1)\n",
    "\n",
    "# now time to add the new feature to the beloved dataframe\n",
    "df['quartile_class'] = df.loc[:, ['fare', 'c']].apply(lambda row: classify_passenger(row), axis=1)\n",
    "\n",
    "# let's consider the correlation between survival and the quartile class\n",
    "print(df.loc[:, [\"y\", 'quartile_class']].corr())"
   ]
  },
  {
   "cell_type": "code",
   "execution_count": null,
   "metadata": {},
   "outputs": [],
   "source": []
  },
  {
   "cell_type": "code",
   "execution_count": null,
   "metadata": {},
   "outputs": [],
   "source": [
    "# check the correlation between the number of cabines and survival\n",
    "print(df.loc[:, [\"y\", \"num_cabins\"]].corr())\n",
    "\n",
    "# There are 3 features that might reflect in a passenger's social image:\n",
    "# * class * fare * num_cabins\n",
    "# let's consider each individually\n",
    "\n",
    "print((pd.pivot_table(df, index='y', columns=[ 'num_cabins', 'c'], values='ticket', aggfunc=['count'])))"
   ]
  },
  {
   "cell_type": "code",
   "execution_count": null,
   "metadata": {},
   "outputs": [],
   "source": [
    "df['train_test'] = pd.Series([1 for _ in range(len(df))])"
   ]
  },
  {
   "cell_type": "code",
   "execution_count": null,
   "metadata": {},
   "outputs": [],
   "source": [
    "df_test = pd.read_csv(\"test.csv\")\n",
    "df_test = df_test.rename(mapper=str.lower, axis=1)\n",
    "print(df_test.columns)\n",
    "df_test = df_test.rename(columns={\"embarked\":\"from\", \"pclass\":\"c\"})\n",
    "df_test['train_test'] = pd.Series([1 for _ in range(len(df_test))])"
   ]
  },
  {
   "cell_type": "code",
   "execution_count": null,
   "metadata": {},
   "outputs": [],
   "source": [
    "print(df_test)\n",
    "print(df)"
   ]
  },
  {
   "cell_type": "code",
   "execution_count": null,
   "metadata": {},
   "outputs": [],
   "source": []
  }
 ],
 "metadata": {
  "kernelspec": {
   "display_name": "Python 3.10.4 ('ds_env')",
   "language": "python",
   "name": "python3"
  },
  "language_info": {
   "codemirror_mode": {
    "name": "ipython",
    "version": 3
   },
   "file_extension": ".py",
   "mimetype": "text/x-python",
   "name": "python",
   "nbconvert_exporter": "python",
   "pygments_lexer": "ipython3",
   "version": "3.10.4"
  },
  "orig_nbformat": 4,
  "vscode": {
   "interpreter": {
    "hash": "08488e93894ea7be7272109919d40edb52233f14daf834f5f2387122a81730e1"
   }
  }
 },
 "nbformat": 4,
 "nbformat_minor": 2
}
