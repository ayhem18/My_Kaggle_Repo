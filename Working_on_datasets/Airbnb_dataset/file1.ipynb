{
 "cells": [
  {
   "cell_type": "code",
   "execution_count": 4,
   "metadata": {},
   "outputs": [],
   "source": [
    "# let's see what ROME has for us\n",
    "import os \n",
    "import pandas as pd\n",
    "HOME = os.getcwd()\n",
    "ROME_DATA = os.path.join(HOME,'rome_data')\n",
    "ROME_REVIEWS = os.path.join('rome.csv')"
   ]
  },
  {
   "cell_type": "code",
   "execution_count": 5,
   "metadata": {},
   "outputs": [],
   "source": [
    "rome = pd.read_csv(ROME_REVIEWS)"
   ]
  },
  {
   "cell_type": "code",
   "execution_count": 7,
   "metadata": {},
   "outputs": [
    {
     "data": {
      "text/html": [
       "<div>\n",
       "<style scoped>\n",
       "    .dataframe tbody tr th:only-of-type {\n",
       "        vertical-align: middle;\n",
       "    }\n",
       "\n",
       "    .dataframe tbody tr th {\n",
       "        vertical-align: top;\n",
       "    }\n",
       "\n",
       "    .dataframe thead th {\n",
       "        text-align: right;\n",
       "    }\n",
       "</style>\n",
       "<table border=\"1\" class=\"dataframe\">\n",
       "  <thead>\n",
       "    <tr style=\"text-align: right;\">\n",
       "      <th></th>\n",
       "      <th>listing_id</th>\n",
       "      <th>id</th>\n",
       "      <th>date</th>\n",
       "      <th>reviewer_id</th>\n",
       "      <th>reviewer_name</th>\n",
       "      <th>comments</th>\n",
       "    </tr>\n",
       "  </thead>\n",
       "  <tbody>\n",
       "    <tr>\n",
       "      <th>0</th>\n",
       "      <td>2737</td>\n",
       "      <td>24343517</td>\n",
       "      <td>2014-12-26</td>\n",
       "      <td>24333039</td>\n",
       "      <td>Raphaell</td>\n",
       "      <td>This spot was in a great and nice area,walking...</td>\n",
       "    </tr>\n",
       "    <tr>\n",
       "      <th>1</th>\n",
       "      <td>2737</td>\n",
       "      <td>24966779</td>\n",
       "      <td>2015-01-04</td>\n",
       "      <td>10493776</td>\n",
       "      <td>Ia</td>\n",
       "      <td>Elif was really very helpful, while arranging ...</td>\n",
       "    </tr>\n",
       "    <tr>\n",
       "      <th>2</th>\n",
       "      <td>2737</td>\n",
       "      <td>29770086</td>\n",
       "      <td>2015-04-12</td>\n",
       "      <td>29630601</td>\n",
       "      <td>Julia</td>\n",
       "      <td>Elif's flat is spacious, clean, and had everyt...</td>\n",
       "    </tr>\n",
       "    <tr>\n",
       "      <th>3</th>\n",
       "      <td>2737</td>\n",
       "      <td>30477570</td>\n",
       "      <td>2015-04-22</td>\n",
       "      <td>31215535</td>\n",
       "      <td>Sevil</td>\n",
       "      <td>I had a wonderful time staying with Elif and h...</td>\n",
       "    </tr>\n",
       "    <tr>\n",
       "      <th>4</th>\n",
       "      <td>2737</td>\n",
       "      <td>31659336</td>\n",
       "      <td>2015-05-08</td>\n",
       "      <td>1959813</td>\n",
       "      <td>Suzy</td>\n",
       "      <td>Elif was a brilliant host, with an exceptional...</td>\n",
       "    </tr>\n",
       "  </tbody>\n",
       "</table>\n",
       "</div>"
      ],
      "text/plain": [
       "   listing_id        id        date  reviewer_id reviewer_name  \\\n",
       "0        2737  24343517  2014-12-26     24333039      Raphaell   \n",
       "1        2737  24966779  2015-01-04     10493776            Ia   \n",
       "2        2737  29770086  2015-04-12     29630601         Julia   \n",
       "3        2737  30477570  2015-04-22     31215535         Sevil   \n",
       "4        2737  31659336  2015-05-08      1959813          Suzy   \n",
       "\n",
       "                                            comments  \n",
       "0  This spot was in a great and nice area,walking...  \n",
       "1  Elif was really very helpful, while arranging ...  \n",
       "2  Elif's flat is spacious, clean, and had everyt...  \n",
       "3  I had a wonderful time staying with Elif and h...  \n",
       "4  Elif was a brilliant host, with an exceptional...  "
      ]
     },
     "execution_count": 7,
     "metadata": {},
     "output_type": "execute_result"
    }
   ],
   "source": [
    "rome.head()"
   ]
  },
  {
   "cell_type": "code",
   "execution_count": 6,
   "metadata": {},
   "outputs": [
    {
     "ename": "TypeError",
     "evalue": "'>' not supported between instances of 'str' and 'float'",
     "output_type": "error",
     "traceback": [
      "\u001b[1;31m---------------------------------------------------------------------------\u001b[0m",
      "\u001b[1;31mTypeError\u001b[0m                                 Traceback (most recent call last)",
      "Cell \u001b[1;32mIn[6], line 4\u001b[0m\n\u001b[0;32m      2\u001b[0m \u001b[39mfrom\u001b[39;00m \u001b[39mrandom\u001b[39;00m \u001b[39mimport\u001b[39;00m sample\n\u001b[0;32m      3\u001b[0m random\u001b[39m.\u001b[39mseed(\u001b[39m11\u001b[39m)\n\u001b[1;32m----> 4\u001b[0m s_3 \u001b[39m=\u001b[39m rome[\u001b[39m'\u001b[39;49m\u001b[39mscores\u001b[39;49m\u001b[39m'\u001b[39;49m \u001b[39m>\u001b[39;49m \u001b[39m0.9\u001b[39;49m]\n\u001b[0;32m      5\u001b[0m s_2 \u001b[39m=\u001b[39m rome[(rome[\u001b[39m'\u001b[39m\u001b[39mscores\u001b[39m\u001b[39m'\u001b[39m] \u001b[39m>\u001b[39m\u001b[39m=\u001b[39m \u001b[39m0.6\u001b[39m) \u001b[39m&\u001b[39m (rome[\u001b[39m'\u001b[39m\u001b[39mscores\u001b[39m\u001b[39m'\u001b[39m] \u001b[39m<\u001b[39m \u001b[39m0.9\u001b[39m)]\n\u001b[0;32m      6\u001b[0m s_1 \u001b[39m=\u001b[39m rome[rome[\u001b[39m'\u001b[39m\u001b[39mscores\u001b[39m\u001b[39m'\u001b[39m] \u001b[39m<\u001b[39m \u001b[39m0.6\u001b[39m]\n",
      "\u001b[1;31mTypeError\u001b[0m: '>' not supported between instances of 'str' and 'float'"
     ]
    }
   ],
   "source": [
    "import random\n",
    "from random import sample\n",
    "random.seed(11)\n",
    "s_3 = rome['scores' > 0.9]\n",
    "s_2 = rome[(rome['scores'] >= 0.6) & (rome['scores'] < 0.9)]\n",
    "s_1 = rome[rome['scores'] < 0.6]\n",
    "\n",
    "s3 = sample(s_3, 5)\n",
    "print(s1)"
   ]
  },
  {
   "cell_type": "code",
   "execution_count": 2,
   "metadata": {},
   "outputs": [
    {
     "name": "stdout",
     "output_type": "stream",
     "text": [
      "Requirement already satisfied: langdetect in c:\\users\\bouab\\dev\\ds_env\\lib\\site-packages (1.0.9)\n",
      "Requirement already satisfied: six in c:\\users\\bouab\\dev\\ds_env\\lib\\site-packages (from langdetect) (1.16.0)\n"
     ]
    },
    {
     "name": "stderr",
     "output_type": "stream",
     "text": [
      "\n",
      "[notice] A new release of pip is available: 23.0.1 -> 23.1.2\n",
      "[notice] To update, run: python.exe -m pip install --upgrade pip\n"
     ]
    }
   ],
   "source": [
    "! pip install langdetect"
   ]
  },
  {
   "cell_type": "code",
   "execution_count": 3,
   "metadata": {},
   "outputs": [
    {
     "data": {
      "text/plain": [
       "'en'"
      ]
     },
     "execution_count": 3,
     "metadata": {},
     "output_type": "execute_result"
    }
   ],
   "source": [
    "from langdetect import detect\n",
    "detect(\"War doesn't show who's right, just who's left.\")"
   ]
  },
  {
   "cell_type": "code",
   "execution_count": 4,
   "metadata": {},
   "outputs": [],
   "source": [
    "from langdetect import DetectorFactory\n",
    "DetectorFactory.seed = 0"
   ]
  },
  {
   "cell_type": "code",
   "execution_count": 5,
   "metadata": {},
   "outputs": [
    {
     "name": "stdout",
     "output_type": "stream",
     "text": [
      "Good morning\n"
     ]
    }
   ],
   "source": [
    "from translate import Translator\n",
    "translator= Translator(from_lang=\"german\",to_lang=\"english\")\n",
    "translation = translator.translate(\"Guten Morgen\")\n",
    "print(translation)"
   ]
  },
  {
   "cell_type": "code",
   "execution_count": 6,
   "metadata": {},
   "outputs": [
    {
     "name": "stdout",
     "output_type": "stream",
     "text": [
      "Requirement already satisfied: pyspellchecker in c:\\users\\bouab\\dev\\ds_env\\lib\\site-packages (0.7.2)\n"
     ]
    },
    {
     "name": "stderr",
     "output_type": "stream",
     "text": [
      "\n",
      "[notice] A new release of pip is available: 23.0.1 -> 23.1.2\n",
      "[notice] To update, run: python.exe -m pip install --upgrade pip\n"
     ]
    },
    {
     "name": "stdout",
     "output_type": "stream",
     "text": [
      "Requirement already satisfied: langcodes[data] in c:\\users\\bouab\\dev\\ds_env\\lib\\site-packages (3.3.0)\n",
      "Requirement already satisfied: language-data<2.0,>=1.1 in c:\\users\\bouab\\dev\\ds_env\\lib\\site-packages (from langcodes[data]) (1.1)\n",
      "Requirement already satisfied: marisa-trie<0.8.0,>=0.7.7 in c:\\users\\bouab\\dev\\ds_env\\lib\\site-packages (from language-data<2.0,>=1.1->langcodes[data]) (0.7.8)\n",
      "Requirement already satisfied: setuptools in c:\\users\\bouab\\dev\\ds_env\\lib\\site-packages (from marisa-trie<0.8.0,>=0.7.7->language-data<2.0,>=1.1->langcodes[data]) (67.3.1)\n"
     ]
    },
    {
     "name": "stderr",
     "output_type": "stream",
     "text": [
      "\n",
      "[notice] A new release of pip is available: 23.0.1 -> 23.1.2\n",
      "[notice] To update, run: python.exe -m pip install --upgrade pip\n"
     ]
    }
   ],
   "source": [
    "! pip install pyspellchecker\n",
    "! pip install langcodes[data]"
   ]
  },
  {
   "cell_type": "code",
   "execution_count": 7,
   "metadata": {},
   "outputs": [],
   "source": [
    "from spellchecker import SpellChecker\n",
    "from nltk.tokenize import word_tokenize\n",
    "import re\n",
    "\n",
    "SPELL = SpellChecker()\n",
    "\n",
    "punc = r'[#%&\\(\\)\\*\\+,\\/:;<=>@\\[\\\\\\]\\^_`{\\|}~\\$-]+' # kept all possibly-meaningfl\n",
    "\n",
    "punc_complete = r'[!\\\"#\\$%&\\'\\(\\)\\*\\+,\\.\\/:;<=>\\?@\\[\\]\\^_`{\\|}~-]+'\n",
    "\n",
    "\n",
    "def is_english(processed_text):\n",
    "    try:\n",
    "        # use a word tokenizer\n",
    "        tokens = word_tokenize(processed_text)\n",
    "        tokens = [t for t in tokens if re.match(t, punc_complete) is None]\n",
    "    except:        \n",
    "        return True\n",
    "\n",
    "    total_length = len(tokens)\n",
    "    mis_length = 0\n",
    "\n",
    "    for i in range(0, len(tokens), 10):\n",
    "        mis_length += len(SPELL.unknown(tokens[i: i + 10]))\n",
    "        if mis_length >= 0.2 * total_length:\n",
    "            return False\n",
    "    \n",
    "    return True"
   ]
  },
  {
   "cell_type": "code",
   "execution_count": 8,
   "metadata": {},
   "outputs": [],
   "source": [
    "\n",
    "from translate import Translator\n",
    "translator= Translator(from_lang=\"german\",to_lang=\"english\")\n",
    "translation = translator.translate(\"Guten Morgen\")\n",
    "\n",
    "ESP_TRANSLATE = Translator(from_lang=\"spanish\",to_lang=\"english\")\n",
    "DE_TRANSLATE = Translator(from_lang='german', to_lang='english')"
   ]
  },
  {
   "cell_type": "code",
   "execution_count": 9,
   "metadata": {},
   "outputs": [],
   "source": [
    "from deep_translator import GoogleTranslator\n",
    "from nltk.tokenize import word_tokenize\n",
    "import re # for regex manipulation\n",
    "# first let's embed some text data\n",
    "\n",
    "\n",
    "from langcodes import Language\n",
    "import nltk\n",
    "from nltk.corpus import stopwords\n",
    "STOP_WORDS = set(stopwords.words('english'))\n",
    "\n",
    "URL_REGEX = r'((([A-Za-z]{3,9}:(?:\\/\\/)?)(?:[-;:&=\\+\\$,\\w]+@)?[A-Za-z0-9.-]+|(?:www.|[-;:&=\\+\\$,\\w]+@)[A-Za-z0-9.-]+)((?:\\/[\\+~%\\/.\\w_-]*)?\\??(?:[-\\+=&;%@.\\w_]*)#?(?:[\\w]*))?)'\n",
    "\n",
    "# this function is needed for \n",
    "def clean_text(text):\n",
    "    if text is None: \n",
    "        return \n",
    "    \n",
    "    # a minimal data processing\n",
    "    text = text.lower().strip()\n",
    "    # remove any non desirable characters: \n",
    "    text = re.sub(punc, '', text)\n",
    "    # remove extra spaces\n",
    "    text = re.sub(r'(\\s+)(<\\s*br\\s*>)', ' ', text)\n",
    "    return text\n",
    "\n",
    "TRANSLATOR = GoogleTranslator(source='auto', target='en') \n",
    "\n",
    "def prepare_comment_scoring(text: str):\n",
    "    # first of all clean the text\n",
    "    text = clean_text(text)\n",
    "    # first detect if it is in the english language\n",
    "    if is_english(text[:100]): # first 100 characters should be enough to determine whether the text is english or not.\n",
    "        return text\n",
    "    return None\n",
    "\n",
    "    res = TRANSLATOR.translate(text)\n",
    "    return res "
   ]
  },
  {
   "cell_type": "code",
   "execution_count": 22,
   "metadata": {},
   "outputs": [],
   "source": [
    "from nltk.sentiment.vader import SentimentIntensityAnalyzer\n",
    "\n",
    "# create the scores out of the actual text comments\n",
    "\n",
    "SID = SentimentIntensityAnalyzer()\n",
    "\n",
    "def sentiment_score(text: str, analyser=None):\n",
    "    if analyser is None:\n",
    "        analyser = SID\n",
    "    return analyser.polarity_scores(str(text))['compound']\n",
    "\n",
    "# let's add the sentiment scores for a city reviews\n",
    "def add_sentiment_scores(reviews_df: pd.DataFrame, save_path: str=None, limit:int=None):\n",
    "    # first extract the actual reviews from the dataframe\n",
    "    scores_df = pd.DataFrame(data={\"scores\":[(sentiment_score(clean_text(str(x))) if is_english(clean_text(str(x))[100:]) else None) for x in reviews_df['comments'].iloc[:(limit if limit else -1)]]})    \n",
    "    scores_df.dropna(subset='scores', inplace=True)\n",
    "    res =  pd.concat([reviews_df, scores_df], ignore_index=False, axis=1)\n",
    "    if save_path:\n",
    "        res.to_csv(save_path, index=False)\n",
    "    return res\n"
   ]
  },
  {
   "cell_type": "code",
   "execution_count": 11,
   "metadata": {},
   "outputs": [],
   "source": [
    "mexico_reviews = pd.read_csv('mexico.csv')\n",
    "# test the comment preparation with spanish"
   ]
  },
  {
   "cell_type": "code",
   "execution_count": 12,
   "metadata": {},
   "outputs": [
    {
     "data": {
      "text/html": [
       "<div>\n",
       "<style scoped>\n",
       "    .dataframe tbody tr th:only-of-type {\n",
       "        vertical-align: middle;\n",
       "    }\n",
       "\n",
       "    .dataframe tbody tr th {\n",
       "        vertical-align: top;\n",
       "    }\n",
       "\n",
       "    .dataframe thead th {\n",
       "        text-align: right;\n",
       "    }\n",
       "</style>\n",
       "<table border=\"1\" class=\"dataframe\">\n",
       "  <thead>\n",
       "    <tr style=\"text-align: right;\">\n",
       "      <th></th>\n",
       "      <th>listing_id</th>\n",
       "      <th>id</th>\n",
       "      <th>date</th>\n",
       "      <th>reviewer_id</th>\n",
       "      <th>reviewer_name</th>\n",
       "      <th>comments</th>\n",
       "      <th>scores</th>\n",
       "    </tr>\n",
       "  </thead>\n",
       "  <tbody>\n",
       "    <tr>\n",
       "      <th>0</th>\n",
       "      <td>44616</td>\n",
       "      <td>706908</td>\n",
       "      <td>2011-11-09</td>\n",
       "      <td>634733</td>\n",
       "      <td>Lindsay</td>\n",
       "      <td>Forget staying in a hotel. Stay at condesa hau...</td>\n",
       "      <td>0.8805</td>\n",
       "    </tr>\n",
       "    <tr>\n",
       "      <th>1</th>\n",
       "      <td>2056638</td>\n",
       "      <td>9623913</td>\n",
       "      <td>2014-01-03</td>\n",
       "      <td>6743067</td>\n",
       "      <td>Nora Carolina</td>\n",
       "      <td>El sitio es precioso, está muy bien ubicado al...</td>\n",
       "      <td>NaN</td>\n",
       "    </tr>\n",
       "    <tr>\n",
       "      <th>2</th>\n",
       "      <td>2056638</td>\n",
       "      <td>10085314</td>\n",
       "      <td>2014-01-29</td>\n",
       "      <td>267280</td>\n",
       "      <td>Andres</td>\n",
       "      <td>The host are amazing!!!!... The whole family i...</td>\n",
       "      <td>0.8946</td>\n",
       "    </tr>\n",
       "    <tr>\n",
       "      <th>3</th>\n",
       "      <td>44616</td>\n",
       "      <td>2006160</td>\n",
       "      <td>2012-08-16</td>\n",
       "      <td>3087087</td>\n",
       "      <td>Samuel</td>\n",
       "      <td>Fantastic location, great place, friendly host...</td>\n",
       "      <td>0.9529</td>\n",
       "    </tr>\n",
       "    <tr>\n",
       "      <th>4</th>\n",
       "      <td>44616</td>\n",
       "      <td>3174954</td>\n",
       "      <td>2012-12-28</td>\n",
       "      <td>3234920</td>\n",
       "      <td>Anna</td>\n",
       "      <td>I would highly recommend Condesa Haus for anyo...</td>\n",
       "      <td>0.9868</td>\n",
       "    </tr>\n",
       "  </tbody>\n",
       "</table>\n",
       "</div>"
      ],
      "text/plain": [
       "   listing_id        id        date  reviewer_id  reviewer_name  \\\n",
       "0       44616    706908  2011-11-09       634733        Lindsay   \n",
       "1     2056638   9623913  2014-01-03      6743067  Nora Carolina   \n",
       "2     2056638  10085314  2014-01-29       267280         Andres   \n",
       "3       44616   2006160  2012-08-16      3087087         Samuel   \n",
       "4       44616   3174954  2012-12-28      3234920           Anna   \n",
       "\n",
       "                                            comments  scores  \n",
       "0  Forget staying in a hotel. Stay at condesa hau...  0.8805  \n",
       "1  El sitio es precioso, está muy bien ubicado al...     NaN  \n",
       "2  The host are amazing!!!!... The whole family i...  0.8946  \n",
       "3  Fantastic location, great place, friendly host...  0.9529  \n",
       "4  I would highly recommend Condesa Haus for anyo...  0.9868  "
      ]
     },
     "execution_count": 12,
     "metadata": {},
     "output_type": "execute_result"
    }
   ],
   "source": [
    "# r = add_sentiment_scores(mexico_reviews, limit=10000)\n",
    "# r.head()"
   ]
  },
  {
   "cell_type": "code",
   "execution_count": 18,
   "metadata": {},
   "outputs": [],
   "source": [
    "# let's set this once and for all\n",
    "def join_no_agg(listings: pd.DataFrame, reviews_df: pd.DataFrame, city: str):\n",
    "    # first select the columns needed \n",
    "    reviews_df = reviews_df[['listing_id', 'scores', 'date', 'comments']] #, 'host_id']].rename(columns={\"host_id\": 'host'})\n",
    "    # extract the city from the reviews dataframe\n",
    "    listings = listings[listings['city'] == city]\n",
    "    listings = listings.merge(reviews_df, how='inner', on='listing_id', )\n",
    "    return  listings.dropna(subset=['scores'])"
   ]
  },
  {
   "cell_type": "code",
   "execution_count": 14,
   "metadata": {},
   "outputs": [],
   "source": [
    "METADATA_LOC = os.path.join('Airbnb Data', 'Reviews.csv')\n",
    "LISTINGS = os.path.join('Airbnb Data', 'Listings.csv')\n",
    "\n",
    "PATHS = ['rome.csv', 'new_york.csv', 'hong_kong.csv', 'paris.csv', 'rio.csv', 'sydney.csv', 'istanbul.csv', 'mexico.csv', 'captown.csv', 'bangok.csv']\n",
    "# prepare_data(METADATA_LOC, PATHS, LISTINGS, limit=20000)"
   ]
  },
  {
   "cell_type": "code",
   "execution_count": 15,
   "metadata": {},
   "outputs": [
    {
     "name": "stderr",
     "output_type": "stream",
     "text": [
      "C:\\Users\\bouab\\AppData\\Local\\Temp\\ipykernel_16392\\2828045340.py:2: DtypeWarning: Columns (5,13) have mixed types. Specify dtype option on import or set low_memory=False.\n",
      "  listings = pd.read_csv(LISTINGS, encoding='latin1')\n"
     ]
    }
   ],
   "source": [
    "# rome_reviews = pd.read_csv('rome.csv')\n",
    "listings = pd.read_csv(LISTINGS, encoding='latin1')\n",
    "# cap_reviews = pd.read_csv('captown.csv')\n",
    "# york_reviews = pd.read_csv('new_york.csv')\n",
    "# rome_listings = listings[listings['city'] == 'Rome']['listing_id']"
   ]
  },
  {
   "cell_type": "code",
   "execution_count": 16,
   "metadata": {},
   "outputs": [],
   "source": [
    "listings_org = listings.copy()"
   ]
  },
  {
   "cell_type": "code",
   "execution_count": 24,
   "metadata": {},
   "outputs": [
    {
     "name": "stdout",
     "output_type": "stream",
     "text": [
      "['Paris', 'New York', 'Sydney', 'Rome', 'Rio de Janeiro', 'Istanbul', 'Mexico City', 'Bangkok', 'Cape Town', 'Hong Kong']\n",
      "Paris paris.csv\n",
      "New York new_york.csv\n",
      "Sydney sydney.csv\n",
      "Rome rome.csv\n",
      "Rio de Janeiro rio.csv\n",
      "Istanbul istanbul.csv\n",
      "Mexico City mexico.csv\n",
      "Bangkok bangok.csv\n",
      "Cape Town captown.csv\n",
      "Hong Kong hong_kong.csv\n"
     ]
    }
   ],
   "source": [
    "# let's run the code my baby\n",
    "cities = list(listings['city'].value_counts().index)\n",
    "print(cities)\n",
    "listings = listings_org.copy()\n",
    "\n",
    "PATHS = ['paris.csv', 'new_york.csv', 'sydney.csv',  'rome.csv', 'rio.csv', 'istanbul.csv', 'mexico.csv',  'bangok.csv', 'captown.csv', 'hong_kong.csv']\n",
    "\n",
    "\n",
    "result = None\n",
    "for c, p  in zip(cities, PATHS):\n",
    "    print(c, os.path.basename(p))\n",
    "    reviews = pd.read_csv(p, nrows=100000)\n",
    "    scores = add_sentiment_scores(reviews)\n",
    "    \n",
    "    listing_city = join_no_agg(listings, scores, city=c)\n",
    "    \n",
    "    if result is None:\n",
    "        result = listing_city\n",
    "    else:\n",
    "        result = pd.concat([result, listing_city], axis=0, ignore_index=True)\n",
    "\n",
    "\n",
    "result.to_csv('final_listings_temp.csv', index=False)"
   ]
  },
  {
   "cell_type": "code",
   "execution_count": 25,
   "metadata": {},
   "outputs": [
    {
     "data": {
      "text/plain": [
       "729536"
      ]
     },
     "execution_count": 25,
     "metadata": {},
     "output_type": "execute_result"
    }
   ],
   "source": [
    "\n",
    "len(result.dropna(subset=['scores']))\n",
    "# len(result.dropna())"
   ]
  },
  {
   "cell_type": "code",
   "execution_count": null,
   "metadata": {},
   "outputs": [
    {
     "data": {
      "text/plain": [
       "72581"
      ]
     },
     "execution_count": 37,
     "metadata": {},
     "output_type": "execute_result"
    }
   ],
   "source": [
    "len(listing_city.dropna(subset=['scores']))"
   ]
  },
  {
   "cell_type": "code",
   "execution_count": null,
   "metadata": {},
   "outputs": [
    {
     "data": {
      "text/plain": [
       "586360"
      ]
     },
     "execution_count": 38,
     "metadata": {},
     "output_type": "execute_result"
    }
   ],
   "source": [
    "len(result.dropna(subset='scores'))"
   ]
  },
  {
   "cell_type": "code",
   "execution_count": null,
   "metadata": {},
   "outputs": [
    {
     "data": {
      "text/plain": [
       "279712"
      ]
     },
     "execution_count": 39,
     "metadata": {},
     "output_type": "execute_result"
    }
   ],
   "source": [
    "len(listings['listing_id'].value_counts())"
   ]
  },
  {
   "cell_type": "code",
   "execution_count": null,
   "metadata": {},
   "outputs": [],
   "source": [
    "rome_reviews = add_sentiment_scores(rome_reviews, limit=1000)"
   ]
  },
  {
   "cell_type": "code",
   "execution_count": null,
   "metadata": {},
   "outputs": [],
   "source": [
    "join_no_agg(listings_org, rome_reviews)"
   ]
  },
  {
   "cell_type": "code",
   "execution_count": null,
   "metadata": {},
   "outputs": [
    {
     "data": {
      "text/html": [
       "<div>\n",
       "<style scoped>\n",
       "    .dataframe tbody tr th:only-of-type {\n",
       "        vertical-align: middle;\n",
       "    }\n",
       "\n",
       "    .dataframe tbody tr th {\n",
       "        vertical-align: top;\n",
       "    }\n",
       "\n",
       "    .dataframe thead th {\n",
       "        text-align: right;\n",
       "    }\n",
       "</style>\n",
       "<table border=\"1\" class=\"dataframe\">\n",
       "  <thead>\n",
       "    <tr style=\"text-align: right;\">\n",
       "      <th></th>\n",
       "      <th>name</th>\n",
       "      <th>host_id</th>\n",
       "      <th>host_since</th>\n",
       "      <th>host_location</th>\n",
       "      <th>host_response_time</th>\n",
       "      <th>host_response_rate</th>\n",
       "      <th>host_acceptance_rate</th>\n",
       "      <th>host_is_superhost</th>\n",
       "      <th>host_total_listings_count</th>\n",
       "      <th>host_has_profile_pic</th>\n",
       "      <th>...</th>\n",
       "      <th>date_y</th>\n",
       "      <th>scores_x</th>\n",
       "      <th>date_x</th>\n",
       "      <th>scores_y</th>\n",
       "      <th>date_y</th>\n",
       "      <th>scores_x</th>\n",
       "      <th>date_x</th>\n",
       "      <th>listing_id</th>\n",
       "      <th>scores_y</th>\n",
       "      <th>date_y</th>\n",
       "    </tr>\n",
       "  </thead>\n",
       "  <tbody>\n",
       "  </tbody>\n",
       "</table>\n",
       "<p>0 rows × 53 columns</p>\n",
       "</div>"
      ],
      "text/plain": [
       "Empty DataFrame\n",
       "Columns: [name, host_id, host_since, host_location, host_response_time, host_response_rate, host_acceptance_rate, host_is_superhost, host_total_listings_count, host_has_profile_pic, host_identity_verified, neighbourhood, district, city, latitude, longitude, property_type, room_type, accommodates, bedrooms, amenities, price, minimum_nights, maximum_nights, review_scores_rating, review_scores_accuracy, review_scores_cleanliness, review_scores_checkin, review_scores_communication, review_scores_location, review_scores_value, instant_bookable, scores_x, date_x, scores_y, date_y, scores_x, date_x, scores_y, date_y, scores_x, date_x, scores_y, date_y, scores_x, date_x, scores_y, date_y, scores_x, date_x, listing_id, scores_y, date_y]\n",
       "Index: []\n",
       "\n",
       "[0 rows x 53 columns]"
      ]
     },
     "execution_count": 61,
     "metadata": {},
     "output_type": "execute_result"
    }
   ],
   "source": [
    "listings"
   ]
  },
  {
   "cell_type": "code",
   "execution_count": null,
   "metadata": {},
   "outputs": [
    {
     "data": {
      "text/html": [
       "<div>\n",
       "<style scoped>\n",
       "    .dataframe tbody tr th:only-of-type {\n",
       "        vertical-align: middle;\n",
       "    }\n",
       "\n",
       "    .dataframe tbody tr th {\n",
       "        vertical-align: top;\n",
       "    }\n",
       "\n",
       "    .dataframe thead th {\n",
       "        text-align: right;\n",
       "    }\n",
       "</style>\n",
       "<table border=\"1\" class=\"dataframe\">\n",
       "  <thead>\n",
       "    <tr style=\"text-align: right;\">\n",
       "      <th></th>\n",
       "      <th>listing_id</th>\n",
       "      <th>id</th>\n",
       "      <th>date</th>\n",
       "      <th>reviewer_id</th>\n",
       "      <th>reviewer_name</th>\n",
       "      <th>comments</th>\n",
       "      <th>scores</th>\n",
       "    </tr>\n",
       "  </thead>\n",
       "  <tbody>\n",
       "    <tr>\n",
       "      <th>0</th>\n",
       "      <td>5396</td>\n",
       "      <td>4824</td>\n",
       "      <td>2009-06-30</td>\n",
       "      <td>19995</td>\n",
       "      <td>Sarah</td>\n",
       "      <td>Perfect location!! Nasrine was a delight and m...</td>\n",
       "      <td>0.9629</td>\n",
       "    </tr>\n",
       "    <tr>\n",
       "      <th>1</th>\n",
       "      <td>5396</td>\n",
       "      <td>4968</td>\n",
       "      <td>2009-07-03</td>\n",
       "      <td>20117</td>\n",
       "      <td>Chris</td>\n",
       "      <td>This is a nice place in a great location in Pa...</td>\n",
       "      <td>0.9682</td>\n",
       "    </tr>\n",
       "    <tr>\n",
       "      <th>2</th>\n",
       "      <td>5396</td>\n",
       "      <td>5240</td>\n",
       "      <td>2009-07-08</td>\n",
       "      <td>22190</td>\n",
       "      <td>Annelaure</td>\n",
       "      <td>Nice studio, very clean, very quiet, in a grea...</td>\n",
       "      <td>0.9520</td>\n",
       "    </tr>\n",
       "    <tr>\n",
       "      <th>3</th>\n",
       "      <td>5396</td>\n",
       "      <td>9619</td>\n",
       "      <td>2009-09-10</td>\n",
       "      <td>11947</td>\n",
       "      <td>Jean</td>\n",
       "      <td>Superb location, great studio. \\r&lt;br/&gt;A slice ...</td>\n",
       "      <td>0.9081</td>\n",
       "    </tr>\n",
       "    <tr>\n",
       "      <th>4</th>\n",
       "      <td>5396</td>\n",
       "      <td>18970</td>\n",
       "      <td>2009-12-02</td>\n",
       "      <td>40625</td>\n",
       "      <td>Bette</td>\n",
       "      <td>Perfect place to be in Paris, walking home eve...</td>\n",
       "      <td>0.7650</td>\n",
       "    </tr>\n",
       "  </tbody>\n",
       "</table>\n",
       "</div>"
      ],
      "text/plain": [
       "   listing_id     id        date  reviewer_id reviewer_name  \\\n",
       "0        5396   4824  2009-06-30        19995         Sarah   \n",
       "1        5396   4968  2009-07-03        20117         Chris   \n",
       "2        5396   5240  2009-07-08        22190     Annelaure   \n",
       "3        5396   9619  2009-09-10        11947          Jean   \n",
       "4        5396  18970  2009-12-02        40625         Bette   \n",
       "\n",
       "                                            comments  scores  \n",
       "0  Perfect location!! Nasrine was a delight and m...  0.9629  \n",
       "1  This is a nice place in a great location in Pa...  0.9682  \n",
       "2  Nice studio, very clean, very quiet, in a grea...  0.9520  \n",
       "3  Superb location, great studio. \\r<br/>A slice ...  0.9081  \n",
       "4  Perfect place to be in Paris, walking home eve...  0.7650  "
      ]
     },
     "execution_count": 58,
     "metadata": {},
     "output_type": "execute_result"
    }
   ],
   "source": [
    "p = pd.read_csv('paris.csv')\n",
    "p1 = add_sentiment_scores(p, limit=10)\n",
    "\n",
    "p1.head()"
   ]
  },
  {
   "cell_type": "code",
   "execution_count": null,
   "metadata": {},
   "outputs": [],
   "source": [
    "\n",
    "def produce_reviews_dataframe(dfs: list[pd.DataFrame]):\n",
    "    dfs_with_scores = [add_sentiment_scores(d) for d in dfs]\n",
    "    # concatenate the result horizontally\n",
    "    return pd.concat(dfs_with_scores, axis=0, ignore_index=True) \n",
    "\n",
    "def join_with_metadata(meta_df: pd.DataFrame, original_df: pd.DataFrame):\n",
    "    df = meta_df.merge(original_df, left_on='review_id', right_on='id')\n",
    "    # remove duplicate\n",
    "    df = df.loc[:, ~ df.columns.duplicated()]\n",
    "    # fix the names\n",
    "    df.columns = [c[:-2] if c.endswith('_x') or c.endswith('_y') else c for c in df.columns]\n",
    "    return df\n",
    "\n",
    "import numpy as np\n",
    "\n",
    "# create final dataframe by merging the metadata + scores to the dataframe\n",
    "def final_data(listings: pd.DataFrame, meta_data: pd.DataFrame):\n",
    "    final_scores = pd.pivot_table(meta_data, index='listing_id', values='scores', aggfunc=[np.median])\n",
    "\n",
    "    # first merge the listings dataframe with the metadata\n",
    "    all_data = listings.merge(final_scores, on='listing_id')\n",
    "    # time to aggregate\n",
    "    # extract the actual scores: the median for each listing\n",
    "    return all_data.loc[:, ~all_data.duplicated()]\n",
    "\n",
    "\n",
    "def prepare_data(meta_data_path: str, paths:list, listings: str, limit:int=None):\n",
    "    \n",
    "    # create the dataframes\n",
    "    dfs = [pd.read_csv(p, nrows=limit, encoding='latin1') for p in paths]\n",
    "    meta_data = pd.read_csv(meta_data_path)\n",
    "    # create the scored version of each review dataframe\n",
    "    dfs_scored = [add_sentiment_scores(d, save_path=os.path.basename(p) + \"_scored.csv\") for d, p in zip(dfs, paths)]\n",
    "    # create the final meta data by joining each of the scored reviews with the meta data\n",
    "    final_metadata = meta_data.copy()\n",
    "    for ds in dfs_scored:\n",
    "        final_metadata = join_with_metadata(final_metadata, ds)\n",
    "    \n",
    "    res = final_data(pd.read_csv(listings, encoding='latin1'), final_metadata)\n",
    "    res.to_csv('final_df.csv', index=False)\n",
    "    return res"
   ]
  },
  {
   "cell_type": "code",
   "execution_count": null,
   "metadata": {},
   "outputs": [
    {
     "data": {
      "text/plain": [
       "13522"
      ]
     },
     "execution_count": 10,
     "metadata": {},
     "output_type": "execute_result"
    }
   ],
   "source": [
    "meta_data = pd.read_csv(METADATA_LOC)\n",
    "s1 = (set(rome_reviews['listing_id']).intersection(set(meta_data['listing_id'])))\n",
    "s2 = (set())\n",
    "s = "
   ]
  },
  {
   "cell_type": "code",
   "execution_count": null,
   "metadata": {},
   "outputs": [
    {
     "data": {
      "text/plain": [
       "Paris             64690\n",
       "New York          37012\n",
       "Sydney            33630\n",
       "Rome              27647\n",
       "Rio de Janeiro    26615\n",
       "Istanbul          24519\n",
       "Mexico City       20065\n",
       "Bangkok           19361\n",
       "Cape Town         19086\n",
       "Hong Kong          7087\n",
       "Name: city, dtype: int64"
      ]
     },
     "execution_count": 17,
     "metadata": {},
     "output_type": "execute_result"
    }
   ],
   "source": [
    "listings['city'].value_counts()"
   ]
  },
  {
   "cell_type": "code",
   "execution_count": null,
   "metadata": {},
   "outputs": [],
   "source": [
    "meta_data = pd.read_csv(METADATA_LOC)\n",
    "s1 = set(meta_data['listing_id']).intersection(rome_listings)\n",
    "s2 = set(meta_data['listing_id']).intersection(listing)"
   ]
  },
  {
   "cell_type": "code",
   "execution_count": null,
   "metadata": {},
   "outputs": [
    {
     "data": {
      "text/plain": [
       "11877     31061330\n",
       "11878     34241344\n",
       "11879     42406983\n",
       "11906      8584410\n",
       "11907     23530761\n",
       "            ...   \n",
       "268600    16079231\n",
       "268601    18052019\n",
       "268602    18248493\n",
       "268603    20044773\n",
       "269381    33603730\n",
       "Name: listing_id, Length: 19086, dtype: int64"
      ]
     },
     "execution_count": 18,
     "metadata": {},
     "output_type": "execute_result"
    }
   ],
   "source": [
    "cap_listings = listings[listings['city'] == 'Cape Town']['listing_id']\n",
    "cap_listings"
   ]
  },
  {
   "cell_type": "code",
   "execution_count": null,
   "metadata": {},
   "outputs": [
    {
     "data": {
      "text/plain": [
       "8775"
      ]
     },
     "execution_count": 19,
     "metadata": {},
     "output_type": "execute_result"
    }
   ],
   "source": [
    "cap_reviews = pd.read_csv('captown.csv')\n",
    "len(set(cap_reviews['listing_id']).intersection(set(cap_listings)))"
   ]
  },
  {
   "cell_type": "code",
   "execution_count": null,
   "metadata": {},
   "outputs": [
    {
     "name": "stderr",
     "output_type": "stream",
     "text": [
      "C:\\Users\\bouab\\AppData\\Local\\Temp\\ipykernel_22060\\2279133999.py:2: DtypeWarning: Columns (5,13) have mixed types. Specify dtype option on import or set low_memory=False.\n",
      "  listings = pd.read_csv(LISTINGS, encoding='latin1')\n"
     ]
    },
    {
     "data": {
      "text/plain": [
       "False"
      ]
     },
     "execution_count": 6,
     "metadata": {},
     "output_type": "execute_result"
    }
   ],
   "source": [
    "set(rome_reviews['listing_id']).issubset(set(listings['listing_id']))"
   ]
  },
  {
   "cell_type": "code",
   "execution_count": null,
   "metadata": {},
   "outputs": [],
   "source": [
    "sub_rome = rome_reviews.iloc[:5000, :]"
   ]
  },
  {
   "cell_type": "code",
   "execution_count": null,
   "metadata": {},
   "outputs": [],
   "source": [
    "rome_scores = [sentiment_score(x) for x in sub_rome['comments']]\n",
    "sub_rome = pd.concat([sub_rome, pd.DataFrame(data={\"scores\": rome_scores})], axis=1, ignore_index=False)\n"
   ]
  },
  {
   "cell_type": "code",
   "execution_count": null,
   "metadata": {},
   "outputs": [
    {
     "data": {
      "text/html": [
       "<div>\n",
       "<style scoped>\n",
       "    .dataframe tbody tr th:only-of-type {\n",
       "        vertical-align: middle;\n",
       "    }\n",
       "\n",
       "    .dataframe tbody tr th {\n",
       "        vertical-align: top;\n",
       "    }\n",
       "\n",
       "    .dataframe thead th {\n",
       "        text-align: right;\n",
       "    }\n",
       "</style>\n",
       "<table border=\"1\" class=\"dataframe\">\n",
       "  <thead>\n",
       "    <tr style=\"text-align: right;\">\n",
       "      <th></th>\n",
       "      <th>listing_id</th>\n",
       "      <th>id</th>\n",
       "      <th>date</th>\n",
       "      <th>reviewer_id</th>\n",
       "      <th>reviewer_name</th>\n",
       "      <th>comments</th>\n",
       "      <th>scores</th>\n",
       "    </tr>\n",
       "  </thead>\n",
       "  <tbody>\n",
       "    <tr>\n",
       "      <th>0</th>\n",
       "      <td>2737</td>\n",
       "      <td>24343517</td>\n",
       "      <td>2014-12-26</td>\n",
       "      <td>24333039</td>\n",
       "      <td>Raphaell</td>\n",
       "      <td>This spot was in a great and nice area,walking...</td>\n",
       "      <td>0.9260</td>\n",
       "    </tr>\n",
       "    <tr>\n",
       "      <th>1</th>\n",
       "      <td>2737</td>\n",
       "      <td>24966779</td>\n",
       "      <td>2015-01-04</td>\n",
       "      <td>10493776</td>\n",
       "      <td>Ia</td>\n",
       "      <td>Elif was really very helpful, while arranging ...</td>\n",
       "      <td>0.9436</td>\n",
       "    </tr>\n",
       "    <tr>\n",
       "      <th>2</th>\n",
       "      <td>2737</td>\n",
       "      <td>29770086</td>\n",
       "      <td>2015-04-12</td>\n",
       "      <td>29630601</td>\n",
       "      <td>Julia</td>\n",
       "      <td>Elif's flat is spacious, clean, and had everyt...</td>\n",
       "      <td>0.9816</td>\n",
       "    </tr>\n",
       "    <tr>\n",
       "      <th>3</th>\n",
       "      <td>2737</td>\n",
       "      <td>30477570</td>\n",
       "      <td>2015-04-22</td>\n",
       "      <td>31215535</td>\n",
       "      <td>Sevil</td>\n",
       "      <td>I had a wonderful time staying with Elif and h...</td>\n",
       "      <td>0.9772</td>\n",
       "    </tr>\n",
       "    <tr>\n",
       "      <th>4</th>\n",
       "      <td>2737</td>\n",
       "      <td>31659336</td>\n",
       "      <td>2015-05-08</td>\n",
       "      <td>1959813</td>\n",
       "      <td>Suzy</td>\n",
       "      <td>Elif was a brilliant host, with an exceptional...</td>\n",
       "      <td>0.9544</td>\n",
       "    </tr>\n",
       "  </tbody>\n",
       "</table>\n",
       "</div>"
      ],
      "text/plain": [
       "   listing_id        id        date  reviewer_id reviewer_name  \\\n",
       "0        2737  24343517  2014-12-26     24333039      Raphaell   \n",
       "1        2737  24966779  2015-01-04     10493776            Ia   \n",
       "2        2737  29770086  2015-04-12     29630601         Julia   \n",
       "3        2737  30477570  2015-04-22     31215535         Sevil   \n",
       "4        2737  31659336  2015-05-08      1959813          Suzy   \n",
       "\n",
       "                                            comments  scores  \n",
       "0  This spot was in a great and nice area,walking...  0.9260  \n",
       "1  Elif was really very helpful, while arranging ...  0.9436  \n",
       "2  Elif's flat is spacious, clean, and had everyt...  0.9816  \n",
       "3  I had a wonderful time staying with Elif and h...  0.9772  \n",
       "4  Elif was a brilliant host, with an exceptional...  0.9544  "
      ]
     },
     "execution_count": 41,
     "metadata": {},
     "output_type": "execute_result"
    }
   ],
   "source": [
    "sub_rome.head()"
   ]
  },
  {
   "cell_type": "code",
   "execution_count": null,
   "metadata": {},
   "outputs": [
    {
     "data": {
      "text/html": [
       "<div>\n",
       "<style scoped>\n",
       "    .dataframe tbody tr th:only-of-type {\n",
       "        vertical-align: middle;\n",
       "    }\n",
       "\n",
       "    .dataframe tbody tr th {\n",
       "        vertical-align: top;\n",
       "    }\n",
       "\n",
       "    .dataframe thead th {\n",
       "        text-align: right;\n",
       "    }\n",
       "</style>\n",
       "<table border=\"1\" class=\"dataframe\">\n",
       "  <thead>\n",
       "    <tr style=\"text-align: right;\">\n",
       "      <th></th>\n",
       "      <th>listing_id</th>\n",
       "      <th>review_id</th>\n",
       "      <th>date</th>\n",
       "      <th>reviewer_id</th>\n",
       "    </tr>\n",
       "  </thead>\n",
       "  <tbody>\n",
       "    <tr>\n",
       "      <th>0</th>\n",
       "      <td>11798</td>\n",
       "      <td>330265172</td>\n",
       "      <td>2018-09-30</td>\n",
       "      <td>11863072</td>\n",
       "    </tr>\n",
       "    <tr>\n",
       "      <th>1</th>\n",
       "      <td>15383</td>\n",
       "      <td>330103585</td>\n",
       "      <td>2018-09-30</td>\n",
       "      <td>39147453</td>\n",
       "    </tr>\n",
       "    <tr>\n",
       "      <th>2</th>\n",
       "      <td>16455</td>\n",
       "      <td>329985788</td>\n",
       "      <td>2018-09-30</td>\n",
       "      <td>1125378</td>\n",
       "    </tr>\n",
       "    <tr>\n",
       "      <th>3</th>\n",
       "      <td>17919</td>\n",
       "      <td>330016899</td>\n",
       "      <td>2018-09-30</td>\n",
       "      <td>172717984</td>\n",
       "    </tr>\n",
       "    <tr>\n",
       "      <th>4</th>\n",
       "      <td>26827</td>\n",
       "      <td>329995638</td>\n",
       "      <td>2018-09-30</td>\n",
       "      <td>17542859</td>\n",
       "    </tr>\n",
       "  </tbody>\n",
       "</table>\n",
       "</div>"
      ],
      "text/plain": [
       "   listing_id  review_id        date  reviewer_id\n",
       "0       11798  330265172  2018-09-30     11863072\n",
       "1       15383  330103585  2018-09-30     39147453\n",
       "2       16455  329985788  2018-09-30      1125378\n",
       "3       17919  330016899  2018-09-30    172717984\n",
       "4       26827  329995638  2018-09-30     17542859"
      ]
     },
     "execution_count": 48,
     "metadata": {},
     "output_type": "execute_result"
    }
   ],
   "source": [
    "AIRBNB_REVIEWS = os.path.join('Airbnb Data', 'Reviews.csv')\n",
    "reviews_metadata = pd.read_csv(AIRBNB_REVIEWS)\n",
    "\n",
    "reviews_metadata.head()"
   ]
  },
  {
   "cell_type": "code",
   "execution_count": null,
   "metadata": {},
   "outputs": [],
   "source": [
    "new_df = reviews_metadata.merge(sub_rome, left_on='review_id', right_on='id').drop(columns=['reviewer_name', 'comments', 'id', 'date_x', 'listing_id_x'])"
   ]
  },
  {
   "cell_type": "code",
   "execution_count": null,
   "metadata": {},
   "outputs": [],
   "source": [
    "new_df.head()\n",
    "new_df.columns = [c[:-2] if c.endswith('_x') or c.endswith('_y') else c for c in new_df.columns]\n"
   ]
  },
  {
   "cell_type": "code",
   "execution_count": null,
   "metadata": {},
   "outputs": [],
   "source": [
    "# let's how I can make it happen some how"
   ]
  },
  {
   "cell_type": "code",
   "execution_count": null,
   "metadata": {},
   "outputs": [],
   "source": [
    "\n",
    "rome_scores = add_sentiment_scores(rome_reviews)\n"
   ]
  },
  {
   "cell_type": "code",
   "execution_count": null,
   "metadata": {},
   "outputs": [],
   "source": [
    "# join the city review scores with the scores' meta data, aggregate the reviews: either median or avergeg\n",
    "pd.merge(reviews_metadata, rome_scores)"
   ]
  },
  {
   "cell_type": "code",
   "execution_count": null,
   "metadata": {},
   "outputs": [
    {
     "name": "stdout",
     "output_type": "stream",
     "text": [
      "Index(['id', 'listing_url', 'scrape_id', 'last_scraped', 'source', 'name',\n",
      "       'description', 'neighborhood_overview', 'picture_url', 'host_id',\n",
      "       'host_url', 'host_name', 'host_since', 'host_location', 'host_about',\n",
      "       'host_response_time', 'host_response_rate', 'host_acceptance_rate',\n",
      "       'host_is_superhost', 'host_thumbnail_url', 'host_picture_url',\n",
      "       'host_neighbourhood', 'host_listings_count',\n",
      "       'host_total_listings_count', 'host_verifications',\n",
      "       'host_has_profile_pic', 'host_identity_verified', 'neighbourhood',\n",
      "       'neighbourhood_cleansed', 'neighbourhood_group_cleansed', 'latitude',\n",
      "       'longitude', 'property_type', 'room_type', 'accommodates', 'bathrooms',\n",
      "       'bathrooms_text', 'bedrooms', 'beds', 'amenities', 'price',\n",
      "       'minimum_nights', 'maximum_nights', 'minimum_minimum_nights',\n",
      "       'maximum_minimum_nights', 'minimum_maximum_nights',\n",
      "       'maximum_maximum_nights', 'minimum_nights_avg_ntm',\n",
      "       'maximum_nights_avg_ntm', 'calendar_updated', 'has_availability',\n",
      "       'availability_30', 'availability_60', 'availability_90',\n",
      "       'availability_365', 'calendar_last_scraped', 'number_of_reviews',\n",
      "       'number_of_reviews_ltm', 'number_of_reviews_l30d', 'first_review',\n",
      "       'last_review', 'review_scores_rating', 'review_scores_accuracy',\n",
      "       'review_scores_cleanliness', 'review_scores_checkin',\n",
      "       'review_scores_communication', 'review_scores_location',\n",
      "       'review_scores_value', 'license', 'instant_bookable',\n",
      "       'calculated_host_listings_count',\n",
      "       'calculated_host_listings_count_entire_homes',\n",
      "       'calculated_host_listings_count_private_rooms',\n",
      "       'calculated_host_listings_count_shared_rooms', 'reviews_per_month'],\n",
      "      dtype='object')\n"
     ]
    }
   ],
   "source": [
    "import pandas  as pd\n",
    "df = pd.read_csv(rome_listings)\n",
    "\n",
    "df.head()\n",
    "# let's remove any non necessary data\n",
    "print(df.columns)\n",
    "to_drop = [c for c in df.columns if 'scrape' in c]\n",
    "df = df.drop(columns=to_drop)"
   ]
  },
  {
   "cell_type": "code",
   "execution_count": null,
   "metadata": {},
   "outputs": [
    {
     "name": "stdout",
     "output_type": "stream",
     "text": [
      "<class 'pandas.core.frame.DataFrame'>\n",
      "RangeIndex: 24924 entries, 0 to 24923\n",
      "Data columns (total 72 columns):\n",
      " #   Column                                        Non-Null Count  Dtype  \n",
      "---  ------                                        --------------  -----  \n",
      " 0   id                                            24924 non-null  int64  \n",
      " 1   listing_url                                   24924 non-null  object \n",
      " 2   source                                        24924 non-null  object \n",
      " 3   name                                          24920 non-null  object \n",
      " 4   description                                   24465 non-null  object \n",
      " 5   neighborhood_overview                         15266 non-null  object \n",
      " 6   picture_url                                   24924 non-null  object \n",
      " 7   host_id                                       24924 non-null  int64  \n",
      " 8   host_url                                      24924 non-null  object \n",
      " 9   host_name                                     24916 non-null  object \n",
      " 10  host_since                                    24916 non-null  object \n",
      " 11  host_location                                 19419 non-null  object \n",
      " 12  host_about                                    13536 non-null  object \n",
      " 13  host_response_time                            21101 non-null  object \n",
      " 14  host_response_rate                            21101 non-null  object \n",
      " 15  host_acceptance_rate                          22464 non-null  object \n",
      " 16  host_is_superhost                             24901 non-null  object \n",
      " 17  host_thumbnail_url                            24916 non-null  object \n",
      " 18  host_picture_url                              24916 non-null  object \n",
      " 19  host_neighbourhood                            14104 non-null  object \n",
      " 20  host_listings_count                           24916 non-null  float64\n",
      " 21  host_total_listings_count                     24916 non-null  float64\n",
      " 22  host_verifications                            24924 non-null  object \n",
      " 23  host_has_profile_pic                          24916 non-null  object \n",
      " 24  host_identity_verified                        24916 non-null  object \n",
      " 25  neighbourhood                                 15266 non-null  object \n",
      " 26  neighbourhood_cleansed                        24924 non-null  object \n",
      " 27  neighbourhood_group_cleansed                  0 non-null      float64\n",
      " 28  latitude                                      24924 non-null  float64\n",
      " 29  longitude                                     24924 non-null  float64\n",
      " 30  property_type                                 24924 non-null  object \n",
      " 31  room_type                                     24924 non-null  object \n",
      " 32  accommodates                                  24924 non-null  int64  \n",
      " 33  bathrooms                                     0 non-null      float64\n",
      " 34  bathrooms_text                                24878 non-null  object \n",
      " 35  bedrooms                                      24274 non-null  float64\n",
      " 36  beds                                          24599 non-null  float64\n",
      " 37  amenities                                     24924 non-null  object \n",
      " 38  price                                         24924 non-null  object \n",
      " 39  minimum_nights                                24924 non-null  int64  \n",
      " 40  maximum_nights                                24924 non-null  int64  \n",
      " 41  minimum_minimum_nights                        24923 non-null  float64\n",
      " 42  maximum_minimum_nights                        24923 non-null  float64\n",
      " 43  minimum_maximum_nights                        24923 non-null  float64\n",
      " 44  maximum_maximum_nights                        24923 non-null  float64\n",
      " 45  minimum_nights_avg_ntm                        24923 non-null  float64\n",
      " 46  maximum_nights_avg_ntm                        24923 non-null  float64\n",
      " 47  calendar_updated                              0 non-null      float64\n",
      " 48  has_availability                              24924 non-null  object \n",
      " 49  availability_30                               24924 non-null  int64  \n",
      " 50  availability_60                               24924 non-null  int64  \n",
      " 51  availability_90                               24924 non-null  int64  \n",
      " 52  availability_365                              24924 non-null  int64  \n",
      " 53  number_of_reviews                             24924 non-null  int64  \n",
      " 54  number_of_reviews_ltm                         24924 non-null  int64  \n",
      " 55  number_of_reviews_l30d                        24924 non-null  int64  \n",
      " 56  first_review                                  21152 non-null  object \n",
      " 57  last_review                                   21152 non-null  object \n",
      " 58  review_scores_rating                          21152 non-null  float64\n",
      " 59  review_scores_accuracy                        21054 non-null  float64\n",
      " 60  review_scores_cleanliness                     21056 non-null  float64\n",
      " 61  review_scores_checkin                         21053 non-null  float64\n",
      " 62  review_scores_communication                   21055 non-null  float64\n",
      " 63  review_scores_location                        21051 non-null  float64\n",
      " 64  review_scores_value                           21050 non-null  float64\n",
      " 65  license                                       4455 non-null   object \n",
      " 66  instant_bookable                              24924 non-null  object \n",
      " 67  calculated_host_listings_count                24924 non-null  int64  \n",
      " 68  calculated_host_listings_count_entire_homes   24924 non-null  int64  \n",
      " 69  calculated_host_listings_count_private_rooms  24924 non-null  int64  \n",
      " 70  calculated_host_listings_count_shared_rooms   24924 non-null  int64  \n",
      " 71  reviews_per_month                             21152 non-null  float64\n",
      "dtypes: float64(23), int64(16), object(33)\n",
      "memory usage: 13.7+ MB\n"
     ]
    }
   ],
   "source": [
    "df.info()"
   ]
  },
  {
   "cell_type": "code",
   "execution_count": null,
   "metadata": {},
   "outputs": [
    {
     "data": {
      "text/html": [
       "<div>\n",
       "<style scoped>\n",
       "    .dataframe tbody tr th:only-of-type {\n",
       "        vertical-align: middle;\n",
       "    }\n",
       "\n",
       "    .dataframe tbody tr th {\n",
       "        vertical-align: top;\n",
       "    }\n",
       "\n",
       "    .dataframe thead th {\n",
       "        text-align: right;\n",
       "    }\n",
       "</style>\n",
       "<table border=\"1\" class=\"dataframe\">\n",
       "  <thead>\n",
       "    <tr style=\"text-align: right;\">\n",
       "      <th></th>\n",
       "      <th>id</th>\n",
       "      <th>host_id</th>\n",
       "      <th>host_listings_count</th>\n",
       "      <th>host_total_listings_count</th>\n",
       "      <th>neighbourhood_group_cleansed</th>\n",
       "      <th>latitude</th>\n",
       "      <th>longitude</th>\n",
       "      <th>accommodates</th>\n",
       "      <th>bathrooms</th>\n",
       "      <th>bedrooms</th>\n",
       "      <th>...</th>\n",
       "      <th>review_scores_cleanliness</th>\n",
       "      <th>review_scores_checkin</th>\n",
       "      <th>review_scores_communication</th>\n",
       "      <th>review_scores_location</th>\n",
       "      <th>review_scores_value</th>\n",
       "      <th>calculated_host_listings_count</th>\n",
       "      <th>calculated_host_listings_count_entire_homes</th>\n",
       "      <th>calculated_host_listings_count_private_rooms</th>\n",
       "      <th>calculated_host_listings_count_shared_rooms</th>\n",
       "      <th>reviews_per_month</th>\n",
       "    </tr>\n",
       "  </thead>\n",
       "  <tbody>\n",
       "    <tr>\n",
       "      <th>count</th>\n",
       "      <td>2.492400e+04</td>\n",
       "      <td>2.492400e+04</td>\n",
       "      <td>24916.000000</td>\n",
       "      <td>24916.000000</td>\n",
       "      <td>0.0</td>\n",
       "      <td>24924.000000</td>\n",
       "      <td>24924.000000</td>\n",
       "      <td>24924.000000</td>\n",
       "      <td>0.0</td>\n",
       "      <td>24274.000000</td>\n",
       "      <td>...</td>\n",
       "      <td>21056.000000</td>\n",
       "      <td>21053.000000</td>\n",
       "      <td>21055.000000</td>\n",
       "      <td>21051.000000</td>\n",
       "      <td>21050.000000</td>\n",
       "      <td>24924.000000</td>\n",
       "      <td>24924.000000</td>\n",
       "      <td>24924.000000</td>\n",
       "      <td>24924.000000</td>\n",
       "      <td>21152.000000</td>\n",
       "    </tr>\n",
       "    <tr>\n",
       "      <th>mean</th>\n",
       "      <td>1.703675e+17</td>\n",
       "      <td>1.360828e+08</td>\n",
       "      <td>22.525205</td>\n",
       "      <td>33.621368</td>\n",
       "      <td>NaN</td>\n",
       "      <td>41.892184</td>\n",
       "      <td>12.479909</td>\n",
       "      <td>3.718986</td>\n",
       "      <td>NaN</td>\n",
       "      <td>1.479319</td>\n",
       "      <td>...</td>\n",
       "      <td>4.720824</td>\n",
       "      <td>4.825979</td>\n",
       "      <td>4.818234</td>\n",
       "      <td>4.740421</td>\n",
       "      <td>4.653697</td>\n",
       "      <td>8.853635</td>\n",
       "      <td>6.913537</td>\n",
       "      <td>1.596293</td>\n",
       "      <td>0.160809</td>\n",
       "      <td>1.447997</td>\n",
       "    </tr>\n",
       "    <tr>\n",
       "      <th>std</th>\n",
       "      <td>3.047832e+17</td>\n",
       "      <td>1.516362e+08</td>\n",
       "      <td>137.214717</td>\n",
       "      <td>229.271244</td>\n",
       "      <td>NaN</td>\n",
       "      <td>0.034911</td>\n",
       "      <td>0.046817</td>\n",
       "      <td>2.100338</td>\n",
       "      <td>NaN</td>\n",
       "      <td>0.857885</td>\n",
       "      <td>...</td>\n",
       "      <td>0.385505</td>\n",
       "      <td>0.325868</td>\n",
       "      <td>0.348405</td>\n",
       "      <td>0.350755</td>\n",
       "      <td>0.394543</td>\n",
       "      <td>27.203894</td>\n",
       "      <td>26.568139</td>\n",
       "      <td>3.804072</td>\n",
       "      <td>2.297319</td>\n",
       "      <td>1.478046</td>\n",
       "    </tr>\n",
       "    <tr>\n",
       "      <th>min</th>\n",
       "      <td>2.737000e+03</td>\n",
       "      <td>1.944000e+03</td>\n",
       "      <td>1.000000</td>\n",
       "      <td>1.000000</td>\n",
       "      <td>NaN</td>\n",
       "      <td>41.657010</td>\n",
       "      <td>12.248663</td>\n",
       "      <td>0.000000</td>\n",
       "      <td>NaN</td>\n",
       "      <td>1.000000</td>\n",
       "      <td>...</td>\n",
       "      <td>0.000000</td>\n",
       "      <td>0.000000</td>\n",
       "      <td>0.000000</td>\n",
       "      <td>0.000000</td>\n",
       "      <td>0.000000</td>\n",
       "      <td>1.000000</td>\n",
       "      <td>0.000000</td>\n",
       "      <td>0.000000</td>\n",
       "      <td>0.000000</td>\n",
       "      <td>0.010000</td>\n",
       "    </tr>\n",
       "    <tr>\n",
       "      <th>25%</th>\n",
       "      <td>1.518544e+07</td>\n",
       "      <td>1.617832e+07</td>\n",
       "      <td>1.000000</td>\n",
       "      <td>2.000000</td>\n",
       "      <td>NaN</td>\n",
       "      <td>41.886990</td>\n",
       "      <td>12.462080</td>\n",
       "      <td>2.000000</td>\n",
       "      <td>NaN</td>\n",
       "      <td>1.000000</td>\n",
       "      <td>...</td>\n",
       "      <td>4.630000</td>\n",
       "      <td>4.790000</td>\n",
       "      <td>4.790000</td>\n",
       "      <td>4.640000</td>\n",
       "      <td>4.560000</td>\n",
       "      <td>1.000000</td>\n",
       "      <td>1.000000</td>\n",
       "      <td>0.000000</td>\n",
       "      <td>0.000000</td>\n",
       "      <td>0.330000</td>\n",
       "    </tr>\n",
       "    <tr>\n",
       "      <th>50%</th>\n",
       "      <td>3.483575e+07</td>\n",
       "      <td>6.149261e+07</td>\n",
       "      <td>3.000000</td>\n",
       "      <td>4.000000</td>\n",
       "      <td>NaN</td>\n",
       "      <td>41.896790</td>\n",
       "      <td>12.477630</td>\n",
       "      <td>4.000000</td>\n",
       "      <td>NaN</td>\n",
       "      <td>1.000000</td>\n",
       "      <td>...</td>\n",
       "      <td>4.830000</td>\n",
       "      <td>4.920000</td>\n",
       "      <td>4.920000</td>\n",
       "      <td>4.850000</td>\n",
       "      <td>4.750000</td>\n",
       "      <td>3.000000</td>\n",
       "      <td>1.000000</td>\n",
       "      <td>0.000000</td>\n",
       "      <td>0.000000</td>\n",
       "      <td>0.980000</td>\n",
       "    </tr>\n",
       "    <tr>\n",
       "      <th>75%</th>\n",
       "      <td>5.383802e+07</td>\n",
       "      <td>2.261692e+08</td>\n",
       "      <td>7.000000</td>\n",
       "      <td>8.000000</td>\n",
       "      <td>NaN</td>\n",
       "      <td>41.906220</td>\n",
       "      <td>12.502918</td>\n",
       "      <td>4.000000</td>\n",
       "      <td>NaN</td>\n",
       "      <td>2.000000</td>\n",
       "      <td>...</td>\n",
       "      <td>4.960000</td>\n",
       "      <td>5.000000</td>\n",
       "      <td>5.000000</td>\n",
       "      <td>4.970000</td>\n",
       "      <td>4.870000</td>\n",
       "      <td>6.000000</td>\n",
       "      <td>3.000000</td>\n",
       "      <td>2.000000</td>\n",
       "      <td>0.000000</td>\n",
       "      <td>2.120000</td>\n",
       "    </tr>\n",
       "    <tr>\n",
       "      <th>max</th>\n",
       "      <td>8.463915e+17</td>\n",
       "      <td>5.052097e+08</td>\n",
       "      <td>2138.000000</td>\n",
       "      <td>5171.000000</td>\n",
       "      <td>NaN</td>\n",
       "      <td>42.121600</td>\n",
       "      <td>12.792470</td>\n",
       "      <td>16.000000</td>\n",
       "      <td>NaN</td>\n",
       "      <td>17.000000</td>\n",
       "      <td>...</td>\n",
       "      <td>5.000000</td>\n",
       "      <td>5.000000</td>\n",
       "      <td>5.000000</td>\n",
       "      <td>5.000000</td>\n",
       "      <td>5.000000</td>\n",
       "      <td>239.000000</td>\n",
       "      <td>238.000000</td>\n",
       "      <td>47.000000</td>\n",
       "      <td>39.000000</td>\n",
       "      <td>36.020000</td>\n",
       "    </tr>\n",
       "  </tbody>\n",
       "</table>\n",
       "<p>8 rows × 39 columns</p>\n",
       "</div>"
      ],
      "text/plain": [
       "                 id       host_id  host_listings_count  \\\n",
       "count  2.492400e+04  2.492400e+04         24916.000000   \n",
       "mean   1.703675e+17  1.360828e+08            22.525205   \n",
       "std    3.047832e+17  1.516362e+08           137.214717   \n",
       "min    2.737000e+03  1.944000e+03             1.000000   \n",
       "25%    1.518544e+07  1.617832e+07             1.000000   \n",
       "50%    3.483575e+07  6.149261e+07             3.000000   \n",
       "75%    5.383802e+07  2.261692e+08             7.000000   \n",
       "max    8.463915e+17  5.052097e+08          2138.000000   \n",
       "\n",
       "       host_total_listings_count  neighbourhood_group_cleansed      latitude  \\\n",
       "count               24916.000000                           0.0  24924.000000   \n",
       "mean                   33.621368                           NaN     41.892184   \n",
       "std                   229.271244                           NaN      0.034911   \n",
       "min                     1.000000                           NaN     41.657010   \n",
       "25%                     2.000000                           NaN     41.886990   \n",
       "50%                     4.000000                           NaN     41.896790   \n",
       "75%                     8.000000                           NaN     41.906220   \n",
       "max                  5171.000000                           NaN     42.121600   \n",
       "\n",
       "          longitude  accommodates  bathrooms      bedrooms  ...  \\\n",
       "count  24924.000000  24924.000000        0.0  24274.000000  ...   \n",
       "mean      12.479909      3.718986        NaN      1.479319  ...   \n",
       "std        0.046817      2.100338        NaN      0.857885  ...   \n",
       "min       12.248663      0.000000        NaN      1.000000  ...   \n",
       "25%       12.462080      2.000000        NaN      1.000000  ...   \n",
       "50%       12.477630      4.000000        NaN      1.000000  ...   \n",
       "75%       12.502918      4.000000        NaN      2.000000  ...   \n",
       "max       12.792470     16.000000        NaN     17.000000  ...   \n",
       "\n",
       "       review_scores_cleanliness  review_scores_checkin  \\\n",
       "count               21056.000000           21053.000000   \n",
       "mean                    4.720824               4.825979   \n",
       "std                     0.385505               0.325868   \n",
       "min                     0.000000               0.000000   \n",
       "25%                     4.630000               4.790000   \n",
       "50%                     4.830000               4.920000   \n",
       "75%                     4.960000               5.000000   \n",
       "max                     5.000000               5.000000   \n",
       "\n",
       "       review_scores_communication  review_scores_location  \\\n",
       "count                 21055.000000            21051.000000   \n",
       "mean                      4.818234                4.740421   \n",
       "std                       0.348405                0.350755   \n",
       "min                       0.000000                0.000000   \n",
       "25%                       4.790000                4.640000   \n",
       "50%                       4.920000                4.850000   \n",
       "75%                       5.000000                4.970000   \n",
       "max                       5.000000                5.000000   \n",
       "\n",
       "       review_scores_value  calculated_host_listings_count  \\\n",
       "count         21050.000000                    24924.000000   \n",
       "mean              4.653697                        8.853635   \n",
       "std               0.394543                       27.203894   \n",
       "min               0.000000                        1.000000   \n",
       "25%               4.560000                        1.000000   \n",
       "50%               4.750000                        3.000000   \n",
       "75%               4.870000                        6.000000   \n",
       "max               5.000000                      239.000000   \n",
       "\n",
       "       calculated_host_listings_count_entire_homes  \\\n",
       "count                                 24924.000000   \n",
       "mean                                      6.913537   \n",
       "std                                      26.568139   \n",
       "min                                       0.000000   \n",
       "25%                                       1.000000   \n",
       "50%                                       1.000000   \n",
       "75%                                       3.000000   \n",
       "max                                     238.000000   \n",
       "\n",
       "       calculated_host_listings_count_private_rooms  \\\n",
       "count                                  24924.000000   \n",
       "mean                                       1.596293   \n",
       "std                                        3.804072   \n",
       "min                                        0.000000   \n",
       "25%                                        0.000000   \n",
       "50%                                        0.000000   \n",
       "75%                                        2.000000   \n",
       "max                                       47.000000   \n",
       "\n",
       "       calculated_host_listings_count_shared_rooms  reviews_per_month  \n",
       "count                                 24924.000000       21152.000000  \n",
       "mean                                      0.160809           1.447997  \n",
       "std                                       2.297319           1.478046  \n",
       "min                                       0.000000           0.010000  \n",
       "25%                                       0.000000           0.330000  \n",
       "50%                                       0.000000           0.980000  \n",
       "75%                                       0.000000           2.120000  \n",
       "max                                      39.000000          36.020000  \n",
       "\n",
       "[8 rows x 39 columns]"
      ]
     },
     "execution_count": 5,
     "metadata": {},
     "output_type": "execute_result"
    }
   ],
   "source": [
    "df.describe()"
   ]
  },
  {
   "cell_type": "code",
   "execution_count": null,
   "metadata": {},
   "outputs": [],
   "source": [
    "# let's keep only the value_score reviews\n",
    "REVIEWS = [c for c in df.columns if 'review' in c]\n",
    "\n",
    "df.drop(columns=[r for r in REVIEWS if r != 'review_scores_value'], inplace=True)\n",
    "df.drop(columns=[c for c in df.columns if 'url' in c] + ['source'], inplace=True)"
   ]
  },
  {
   "attachments": {},
   "cell_type": "markdown",
   "metadata": {},
   "source": [
    "## REVIEWS"
   ]
  },
  {
   "cell_type": "code",
   "execution_count": null,
   "metadata": {},
   "outputs": [
    {
     "name": "stdout",
     "output_type": "stream",
     "text": [
      "       review_scores_value\n",
      "count         21050.000000\n",
      "mean              4.653697\n",
      "std               0.394543\n",
      "min               0.000000\n",
      "25%               4.560000\n",
      "50%               4.750000\n",
      "75%               4.870000\n",
      "max               5.000000\n"
     ]
    },
    {
     "data": {
      "image/png": "[encoded data removed]",
      "text/plain": [
       "<Figure size 640x480 with 1 Axes>"
      ]
     },
     "metadata": {},
     "output_type": "display_data"
    }
   ],
   "source": [
    "import matplotlib.pyplot as plt\n",
    "import seaborn as sns\n",
    "\n",
    "REVIEWS = [col for col in df.columns if 'review' in col.lower()]\n",
    "# let's start by a simple description of our target variable(s)\n",
    " \n",
    "print(df[REVIEWS].describe())\n",
    "\n",
    "sns.histplot(df, x='review_scores_value', stat='percent', bins=20)\n",
    "plt.show()\n",
    "R = 'review_scores_value'"
   ]
  },
  {
   "cell_type": "code",
   "execution_count": null,
   "metadata": {},
   "outputs": [
    {
     "name": "stdout",
     "output_type": "stream",
     "text": [
      "0.053602952977050235\n"
     ]
    },
    {
     "data": {
      "text/plain": [
       "review_scores_value   -3.887285\n",
       "dtype: float64"
      ]
     },
     "execution_count": 8,
     "metadata": {},
     "output_type": "execute_result"
    }
   ],
   "source": [
    "print(len(df[df[R] <= 4]) / len(df)) # only 5 percent of the users have\n",
    "df[[R]].skew()"
   ]
  },
  {
   "cell_type": "code",
   "execution_count": null,
   "metadata": {},
   "outputs": [
    {
     "data": {
      "text/html": [
       "<div>\n",
       "<style scoped>\n",
       "    .dataframe tbody tr th:only-of-type {\n",
       "        vertical-align: middle;\n",
       "    }\n",
       "\n",
       "    .dataframe tbody tr th {\n",
       "        vertical-align: top;\n",
       "    }\n",
       "\n",
       "    .dataframe thead th {\n",
       "        text-align: right;\n",
       "    }\n",
       "</style>\n",
       "<table border=\"1\" class=\"dataframe\">\n",
       "  <thead>\n",
       "    <tr style=\"text-align: right;\">\n",
       "      <th></th>\n",
       "      <th>listing_id</th>\n",
       "      <th>id</th>\n",
       "      <th>date</th>\n",
       "      <th>reviewer_id</th>\n",
       "      <th>reviewer_name</th>\n",
       "      <th>comments</th>\n",
       "    </tr>\n",
       "  </thead>\n",
       "  <tbody>\n",
       "    <tr>\n",
       "      <th>0</th>\n",
       "      <td>2737</td>\n",
       "      <td>24343517</td>\n",
       "      <td>2014-12-26</td>\n",
       "      <td>24333039</td>\n",
       "      <td>Raphaell</td>\n",
       "      <td>This spot was in a great and nice area,walking...</td>\n",
       "    </tr>\n",
       "    <tr>\n",
       "      <th>1</th>\n",
       "      <td>2737</td>\n",
       "      <td>24966779</td>\n",
       "      <td>2015-01-04</td>\n",
       "      <td>10493776</td>\n",
       "      <td>Ia</td>\n",
       "      <td>Elif was really very helpful, while arranging ...</td>\n",
       "    </tr>\n",
       "    <tr>\n",
       "      <th>2</th>\n",
       "      <td>2737</td>\n",
       "      <td>29770086</td>\n",
       "      <td>2015-04-12</td>\n",
       "      <td>29630601</td>\n",
       "      <td>Julia</td>\n",
       "      <td>Elif's flat is spacious, clean, and had everyt...</td>\n",
       "    </tr>\n",
       "    <tr>\n",
       "      <th>3</th>\n",
       "      <td>2737</td>\n",
       "      <td>30477570</td>\n",
       "      <td>2015-04-22</td>\n",
       "      <td>31215535</td>\n",
       "      <td>Sevil</td>\n",
       "      <td>I had a wonderful time staying with Elif and h...</td>\n",
       "    </tr>\n",
       "    <tr>\n",
       "      <th>4</th>\n",
       "      <td>2737</td>\n",
       "      <td>31659336</td>\n",
       "      <td>2015-05-08</td>\n",
       "      <td>1959813</td>\n",
       "      <td>Suzy</td>\n",
       "      <td>Elif was a brilliant host, with an exceptional...</td>\n",
       "    </tr>\n",
       "  </tbody>\n",
       "</table>\n",
       "</div>"
      ],
      "text/plain": [
       "   listing_id        id        date  reviewer_id reviewer_name  \\\n",
       "0        2737  24343517  2014-12-26     24333039      Raphaell   \n",
       "1        2737  24966779  2015-01-04     10493776            Ia   \n",
       "2        2737  29770086  2015-04-12     29630601         Julia   \n",
       "3        2737  30477570  2015-04-22     31215535         Sevil   \n",
       "4        2737  31659336  2015-05-08      1959813          Suzy   \n",
       "\n",
       "                                            comments  \n",
       "0  This spot was in a great and nice area,walking...  \n",
       "1  Elif was really very helpful, while arranging ...  \n",
       "2  Elif's flat is spacious, clean, and had everyt...  \n",
       "3  I had a wonderful time staying with Elif and h...  \n",
       "4  Elif was a brilliant host, with an exceptional...  "
      ]
     },
     "execution_count": 10,
     "metadata": {},
     "output_type": "execute_result"
    }
   ],
   "source": [
    "# let's extract the reviews\n",
    "reviews = pd.read_csv(os.path.join(ROME_DATA, 'reviews.csv'))\n",
    "\n",
    "reviews.head()"
   ]
  },
  {
   "cell_type": "code",
   "execution_count": null,
   "metadata": {},
   "outputs": [
    {
     "data": {
      "text/plain": [
       "count    21152.000000\n",
       "mean        62.343845\n",
       "std         88.555587\n",
       "min          1.000000\n",
       "25%          7.000000\n",
       "50%         26.000000\n",
       "75%         81.000000\n",
       "max       1424.000000\n",
       "Name: id, dtype: float64"
      ]
     },
     "execution_count": 19,
     "metadata": {},
     "output_type": "execute_result"
    }
   ],
   "source": [
    "l = reviews.groupby(['listing_id'])['id'].count()\n",
    "l.describe()"
   ]
  },
  {
   "cell_type": "code",
   "execution_count": null,
   "metadata": {},
   "outputs": [],
   "source": []
  }
 ],
 "metadata": {
  "kernelspec": {
   "display_name": "ds_env",
   "language": "python",
   "name": "python3"
  },
  "language_info": {
   "codemirror_mode": {
    "name": "ipython",
    "version": 3
   },
   "file_extension": ".py",
   "mimetype": "text/x-python",
   "name": "python",
   "nbconvert_exporter": "python",
   "pygments_lexer": "ipython3",
   "version": "3.9.12"
  },
  "orig_nbformat": 4,
  "vscode": {
   "interpreter": {
    "hash": "7bb0ce5cb6b092cde9f0ba713d915425207ed6ea08d3ede97530b87c251a3aee"
   }
  }
 },
 "nbformat": 4,
 "nbformat_minor": 2
}
