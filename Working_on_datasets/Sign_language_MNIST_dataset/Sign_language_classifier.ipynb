{
  "cells": [
    {
      "cell_type": "markdown",
      "metadata": {
        "id": "view-in-github",
        "colab_type": "text"
      },
      "source": [
        "<a href=\"https://colab.research.google.com/github/ayhem18/My_Kaggle_Repo/blob/master/Working_on_datasets/Sign_language_MNIST_dataset/Sign_language_classifier.ipynb\" target=\"_parent\"><img src=\"https://colab.research.google.com/assets/colab-badge.svg\" alt=\"Open In Colab\"/></a>"
      ]
    },
    {
      "cell_type": "markdown",
      "metadata": {
        "id": "CuC5GYRt1_3w"
      },
      "source": [
        "## Overview\n",
        "This notebook is classifier is a sign language classifier using Deep Learning Techniques implemented in the Tensorflow framework.\n",
        "The training as well as testing datasets can be found through the data science platform [Kaggle Platform](https://www.kaggle.com/datasets/datamunge/sign-language-mnist) "
      ]
    },
    {
      "cell_type": "markdown",
      "metadata": {
        "id": "9xc0UjRgd5rS"
      },
      "source": [
        "### Imports and loading data "
      ]
    },
    {
      "cell_type": "code",
      "execution_count": null,
      "metadata": {
        "id": "W5EOBDt31_34"
      },
      "outputs": [],
      "source": [
        "import os\n",
        "import numpy as np\n",
        "import pandas as pd \n",
        "import matplotlib.pyplot as plt\n",
        "# set the seeds for both numpy as tensorflow\n",
        "tf.random.set_seed(11)\n",
        "np.random.seed(31) "
      ]
    },
    {
      "cell_type": "code",
      "execution_count": null,
      "metadata": {
        "id": "-TPzCP0I1_3-"
      },
      "outputs": [],
      "source": [
        "main_directory = os.path.join(\"sample_data\", \"datasets\") # the root directory for the data (Please change it accordingly)"
      ]
    },
    {
      "cell_type": "markdown",
      "metadata": {
        "id": "hesF0oSI1_4A"
      },
      "source": [
        "### Setting the directories \n",
        "The dataset is provided in a zip file. The datatsets are extracted. I decided to automate the process with Python in the few next cells."
      ]
    },
    {
      "cell_type": "code",
      "execution_count": null,
      "metadata": {
        "id": "KBGZmTJY1_4C"
      },
      "outputs": [],
      "source": [
        "import zipfile\n",
        "initial_archive_name = \"archive.zip\"\n",
        "archive_zip = os.path.join(main_directory, initial_archive_name)\n",
        "if os.path.exists(archive_zip):\n",
        "    zip_ref = zipfile.ZipFile(archive_zip, 'r')\n",
        "    zip_ref.extractall(main_directory)\n",
        "    zip_ref.close()"
      ]
    },
    {
      "cell_type": "code",
      "execution_count": null,
      "metadata": {
        "colab": {
          "base_uri": "https://localhost:8080/"
        },
        "id": "Dn3NrVt91_4F",
        "outputId": "36db6503-3bb3-42de-ff32-60198bf28dde"
      },
      "outputs": [
        {
          "output_type": "stream",
          "name": "stdout",
          "text": [
            "['sign_mnist_test', '.ipynb_checkpoints', 'sign_mnist_train']\n"
          ]
        }
      ],
      "source": [
        "print(os.listdir(main_directory))   \n",
        "TRAINING_DIR_NAME = \"sign_mnist_train\"\n",
        "TESTING_DIR_NAME = \"sign_mnist_test\""
      ]
    },
    {
      "cell_type": "markdown",
      "metadata": {
        "id": "ibGH7SYd1_4K"
      },
      "source": [
        "### Working with the training files\n",
        "After removing the unnecessary directories, it is time to understand the data provided and perform the necessary data preprocessing before creating any model."
      ]
    },
    {
      "cell_type": "code",
      "execution_count": null,
      "metadata": {
        "id": "h3LR2gov1_4M"
      },
      "outputs": [],
      "source": [
        "TRAIN_DIR = os.path.join(main_directory, TRAINING_DIR_NAME)\n",
        "TEST_DIR = os.path.join(main_directory, TESTING_DIR_NAME)"
      ]
    },
    {
      "cell_type": "code",
      "execution_count": null,
      "metadata": {
        "colab": {
          "base_uri": "https://localhost:8080/"
        },
        "id": "yvbffQeM1_4O",
        "outputId": "2f42c3bf-abc8-4804-ad6c-86f602741f01"
      },
      "outputs": [
        {
          "output_type": "stream",
          "name": "stdout",
          "text": [
            "['sign_mnist_train.csv']\n",
            "['sign_mnist_test.csv']\n"
          ]
        }
      ],
      "source": [
        "# print the content of the training diretory\n",
        "print(os.listdir(TRAIN_DIR))\n",
        "print(os.listdir(TEST_DIR))"
      ]
    },
    {
      "cell_type": "code",
      "execution_count": null,
      "metadata": {
        "id": "N47j69STqHAY"
      },
      "outputs": [],
      "source": [
        "train_file_name = \"sign_mnist_train.csv\"\n",
        "test_file_name = \"sign_mnist_test.csv\""
      ]
    },
    {
      "cell_type": "code",
      "execution_count": null,
      "metadata": {
        "id": "FDnvNRAZpxXh"
      },
      "outputs": [],
      "source": [
        "## remove unnecessary files in both directories\n",
        "from shutil import rmtree\n",
        "train_dir = os.listdir(TRAIN_DIR)\n",
        "test_dir = os.listdir(TEST_DIR)\n",
        "for f in train_dir:\n",
        "  if f != train_file_name:\n",
        "    try:\n",
        "      os.remove(os.path.join(TRAIN_DIR, f))\n",
        "    except:\n",
        "      rmtree(os.path.join(TRAIN_DIR, f))\n",
        "for f in test_dir:\n",
        "  if f != test_file_name:\n",
        "    try:\n",
        "      os.remove(os.path.join(TEST_DIR, f))\n",
        "    except:\n",
        "      rmtree(os.path.join(TEST_DIR, f))\n",
        "      "
      ]
    },
    {
      "cell_type": "code",
      "execution_count": null,
      "metadata": {
        "id": "MhYvTDB_1_4P"
      },
      "outputs": [],
      "source": [
        "## the data is stored in a csv which requires the use of the pandas library\n",
        "import pandas as pd\n",
        "train_file = os.path.join(TRAIN_DIR, os.listdir(TRAIN_DIR)[0])\n",
        "train_df_org = pd.read_csv(train_file) \n",
        "\n",
        "test_file = os.path.join(TEST_DIR, os.listdir(TEST_DIR)[0])\n",
        "test_df_org = pd.read_csv(test_file)"
      ]
    },
    {
      "cell_type": "code",
      "execution_count": null,
      "metadata": {
        "id": "2ioaLmpM1_4Q",
        "colab": {
          "base_uri": "https://localhost:8080/"
        },
        "outputId": "1ea1ea6e-aec6-444a-e581-d07c92809efc"
      },
      "outputs": [
        {
          "output_type": "stream",
          "name": "stdout",
          "text": [
            "(27455, 785)\n",
            "Index(['label', 'pixel1', 'pixel2', 'pixel3', 'pixel4', 'pixel5', 'pixel6',\n",
            "       'pixel7', 'pixel8', 'pixel9',\n",
            "       ...\n",
            "       'pixel775', 'pixel776', 'pixel777', 'pixel778', 'pixel779', 'pixel780',\n",
            "       'pixel781', 'pixel782', 'pixel783', 'pixel784'],\n",
            "      dtype='object', length=785)\n"
          ]
        }
      ],
      "source": [
        "print(train_df_org.shape)\n",
        "# so we can see we have 785 columns and 27455 training samples\n",
        "print(train_df_org.columns)\n",
        "# as we can see the first picture is the label while the rest represent numerical values of the individual pixels\n",
        "\n",
        "new_cols_name = {}\n",
        "new_cols_name['label'] = \"y\"\n",
        "for i in range(1, 785):\n",
        "    new_cols_name[\"pixel{}\".format(str(i))] = str(i)\n",
        "train_df = train_df_org.rename(columns=new_cols_name)\n",
        "test_df = test_df_org.rename(columns=new_cols_name)"
      ]
    },
    {
      "cell_type": "code",
      "execution_count": null,
      "metadata": {
        "id": "cXISZvnB1_4S"
      },
      "outputs": [],
      "source": [
        "y_train = train_df[\"y\"]\n",
        "train_df.drop(\"y\", inplace=True,axis=1)\n",
        "\n",
        "y_test = test_df[\"y\"]\n",
        "test_df.drop(\"y\", inplace=True,axis=1)"
      ]
    },
    {
      "cell_type": "code",
      "execution_count": null,
      "metadata": {
        "id": "aOuCYUbd1_4T"
      },
      "outputs": [],
      "source": [
        "img_size = (28, 28)"
      ]
    },
    {
      "cell_type": "markdown",
      "metadata": {
        "id": "M0IMe2HoVveY"
      },
      "source": [
        "### Visualization \n",
        "Visualizing a random sample of the images used in the dataset, helps building a better intuitive understanding of the data."
      ]
    },
    {
      "cell_type": "code",
      "execution_count": null,
      "metadata": {
        "id": "jjBpp9I41_4U"
      },
      "outputs": [],
      "source": [
        "# according to the data documentation, the images are meant to be 28 * 28 gray scale images\n",
        "pixel_range = 255.0\n",
        "def transform_row_to_pic(df, index):\n",
        "    return df.iloc[i, :].values.reshape(img_size) / pixel_range"
      ]
    },
    {
      "cell_type": "code",
      "execution_count": null,
      "metadata": {
        "id": "Mc6QGyfk1_4W",
        "colab": {
          "base_uri": "https://localhost:8080/"
        },
        "outputId": "6d55823e-25a9-4b0f-ffe4-018576d3cb92"
      },
      "outputs": [
        {
          "output_type": "display_data",
          "data": {
            "text/plain": [
              "<Figure size 720x720 with 20 Axes>"
            ],
            "image/png": "[encoded data removed]"
          },
          "metadata": {}
        }
      ],
      "source": [
        "import string\n",
        "import random\n",
        "sample = 20\n",
        "## Visualize a random smaple of the training dataset \n",
        "\n",
        "plt.figure(figsize=(10, 10))\n",
        "for i in range(sample):\n",
        "    plt.subplot(5,5,i+1)\n",
        "    plt.xticks([])\n",
        "    plt.yticks([])\n",
        "    plt.grid(False)\n",
        "    index = random.randint(0, len(train_df))\n",
        "    plt.imshow(transform_row_to_pic(train_df, index), cmap=plt.cm.binary)\n",
        "    plt.xlabel(string.ascii_letters[y_train[index]]) # the numerical label associated with the hand sign is the letter's order in the alphabet\n",
        "\n",
        "plt.show()"
      ]
    },
    {
      "cell_type": "code",
      "execution_count": null,
      "metadata": {
        "id": "T_k5_ER7TcHf",
        "colab": {
          "base_uri": "https://localhost:8080/"
        },
        "outputId": "a9077690-21e0-4b94-e666-b590b237c999"
      },
      "outputs": [
        {
          "output_type": "display_data",
          "data": {
            "text/plain": [
              "<Figure size 432x288 with 20 Axes>"
            ],
            "image/png": "[encoded data removed]"
          },
          "metadata": {}
        }
      ],
      "source": [
        "# visualize a random sample of the test dataset.\n",
        "for i in range(sample):\n",
        "    plt.subplot(5,5,i+1)\n",
        "    plt.xticks([])\n",
        "    plt.yticks([])\n",
        "    plt.grid(False)\n",
        "    index = random.randint(0, len(test_df))\n",
        "    plt.imshow(transform_row_to_pic(test_df, index), cmap=plt.cm.binary)\n",
        "    plt.xlabel(string.ascii_letters[(y_test[index])]) # the numerical label associated with the hand sign is the letter's order in the alphabet\n",
        "\n",
        "plt.show()"
      ]
    },
    {
      "cell_type": "markdown",
      "metadata": {
        "id": "n0Ej8kNOWNGe"
      },
      "source": [
        "### Reshaping, normalization and CV\n",
        "The data is meant to represent (28 * 28) grey scale images as par the documentation. Additionally, it is recommended to normalize the data: (map it to the range [0, 1] instead of [0, 255]) as it both accelerates the training and potentially improves the performance.  \n",
        "A Cross Validation is needed for hyperparameters' tuning."
      ]
    },
    {
      "cell_type": "code",
      "execution_count": null,
      "metadata": {
        "id": "-V5WVp_3Xdaa",
        "colab": {
          "base_uri": "https://localhost:8080/"
        },
        "outputId": "f64b4b01-20ee-4471-f79e-6720be908e7b"
      },
      "outputs": [
        {
          "output_type": "stream",
          "name": "stdout",
          "text": [
            "(27455, 784)\n",
            "(7172, 784)\n"
          ]
        }
      ],
      "source": [
        "## first convert the data from dataframes to numpy arrays\n",
        "X_train = train_df.values / pixel_range\n",
        "Y_train = y_train.values\n",
        "\n",
        "X_test = test_df.values / pixel_range\n",
        "Y_test = y_test.values\n",
        "\n",
        "print(X_train.shape)\n",
        "print(X_test.shape)\n"
      ]
    },
    {
      "cell_type": "code",
      "execution_count": null,
      "metadata": {
        "id": "c9mzHQKZM495"
      },
      "outputs": [],
      "source": [
        "## create the cross-validation out of the training dataset as the testing dataset is not too large \n",
        "from sklearn.model_selection import train_test_split\n",
        "val_size = 0.2\n",
        "random_state = 11\n",
        "X_train, X_val, Y_train, Y_val = train_test_split(X_train, Y_train, test_size=val_size, random_state=random_state) "
      ]
    },
    {
      "cell_type": "code",
      "execution_count": null,
      "metadata": {
        "id": "ypk21D1dnkHT",
        "colab": {
          "base_uri": "https://localhost:8080/"
        },
        "outputId": "2fb7cab3-7ead-44dd-f4ad-e3e5c2fa4d3b"
      },
      "outputs": [
        {
          "output_type": "stream",
          "name": "stdout",
          "text": [
            "(21964, 28, 28, 1)\n",
            "(5491, 28, 28, 1)\n",
            "(7172, 28, 28, 1)\n"
          ]
        }
      ],
      "source": [
        "# reshaping the data to feed it to the model\n",
        "X_train = X_train.reshape(-1, 28, 28,1)\n",
        "X_val = X_val.reshape(-1, 28, 28, 1)\n",
        "X_test = X_test.reshape(-1, 28, 28, 1)\n",
        "\n",
        "print(X_train.shape)\n",
        "print(X_val.shape)\n",
        "print(X_test.shape)"
      ]
    },
    {
      "cell_type": "code",
      "execution_count": null,
      "metadata": {
        "id": "Y3ZQ__wZ1_4Y"
      },
      "outputs": [],
      "source": [
        "# DL models imports\n",
        "import tensorflow as tf\n",
        "import tensorflow.keras.layers as tfl"
      ]
    },
    {
      "cell_type": "markdown",
      "metadata": {
        "id": "BJAjsMsp6Gn0"
      },
      "source": [
        "### Data Augmentation\n",
        "The training data provided is relatively large. However, we might try to augment the data to obtain more diversity and possibly achieve  \n",
        "better performance."
      ]
    },
    {
      "cell_type": "code",
      "execution_count": null,
      "metadata": {
        "id": "kfqJAKggfAxf"
      },
      "outputs": [],
      "source": [
        "from tensorflow.keras.preprocessing.image import ImageDataGenerator\n",
        "\n",
        "tf.random.set_seed(11)\n",
        "datagen = ImageDataGenerator(\n",
        "        rotation_range=10,  # randomly rotate the image with an angle up to 10 degrees\n",
        "        zoom_range = 0.15, # randomly zoom up to 15% \n",
        "        width_shift_range=0.15,  # randomly shift the image horizontally up to 15% of the image total width \n",
        "        height_shift_range=0.15,  # randomly shift the image vertifcally up to 15% of the image total height\n",
        "        horizontal_flip=False,  # randomly flip images\n",
        "        vertical_flip=False)  # randomly flip images\n",
        "# the flipping options are set to true as certain images are close to being symmetric, which might lead to misleading results\n",
        "# fit the generator to the training dataset\n",
        "datagen.fit(X_train)"
      ]
    },
    {
      "cell_type": "markdown",
      "metadata": {
        "id": "LTev3ffQ3NDx"
      },
      "source": [
        "## Models\n",
        "In this part of the notebook, I will experiment with different models starting with Plain Neural Networks to CNN based on transfer learning."
      ]
    },
    {
      "cell_type": "markdown",
      "metadata": {
        "id": "WWiXAXhn1_4Z"
      },
      "source": [
        "### Plain Neural Networks \n",
        "So the first approach to solve this problem is to use Plain neural networks that uses all of the pixels in each picture. The main goal is to achieve as high of a performance as possible with each available model."
      ]
    },
    {
      "cell_type": "code",
      "execution_count": null,
      "metadata": {
        "id": "HKl7hQ2z1_4a"
      },
      "outputs": [],
      "source": [
        "# build the model: \n",
        "#input_shape = (1, 784)\n",
        "def dnn_model(input_shape=(28, 28, 1)):\n",
        "  tf.random.set_seed(11)\n",
        "  first_model = tf.keras.Sequential([\n",
        "      tfl.Flatten(input_shape=input_shape), \n",
        "      tfl.Dense(1024, activation='relu'), \n",
        "      tfl.Dense(1024, activation='relu'), \n",
        "      tfl.BatchNormalization(), \n",
        "      tfl.Dense(512, activation='relu'), \n",
        "      tfl.Dense(512, activation='relu'),\n",
        "      tfl.BatchNormalization(),\n",
        "      tfl.Dense(256, activation='relu'), \n",
        "      tfl.Dense(128, activation='relu'),\n",
        "      tfl.BatchNormalization(),\n",
        "      tfl.Dense(64, activation='relu'),\n",
        "      tfl.Dense(32, activation='relu'), \n",
        "      tfl.BatchNormalization(),  \n",
        "      tfl.Dense(26, activation='softmax')] # output layer\n",
        "      ) \n",
        "  return first_model\n"
      ]
    },
    {
      "cell_type": "markdown",
      "metadata": {
        "id": "fo7E19fTEK2h"
      },
      "source": [
        "#### DNN without augmented images\n",
        "In this subsection, I train DNN model on original training dataset with and without the augmented images."
      ]
    },
    {
      "cell_type": "code",
      "execution_count": null,
      "metadata": {
        "id": "CjzFlAW31_4b",
        "colab": {
          "base_uri": "https://localhost:8080/"
        },
        "outputId": "161feafe-81b4-4aab-ee43-50f3477ef195"
      },
      "outputs": [
        {
          "output_type": "stream",
          "name": "stdout",
          "text": [
            "Epoch 1/10\n",
            "687/687 [==============================] - 29s 41ms/step - loss: 2.0772 - accuracy: 0.3678 - val_loss: 5.8438 - val_accuracy: 0.1025\n",
            "Epoch 2/10\n",
            "687/687 [==============================] - 27s 39ms/step - loss: 0.8709 - accuracy: 0.7159 - val_loss: 3.1150 - val_accuracy: 0.3123\n",
            "Epoch 3/10\n",
            "687/687 [==============================] - 28s 41ms/step - loss: 0.4541 - accuracy: 0.8563 - val_loss: 1.2160 - val_accuracy: 0.6414\n",
            "Epoch 4/10\n",
            "687/687 [==============================] - 28s 41ms/step - loss: 0.2970 - accuracy: 0.9031 - val_loss: 0.6071 - val_accuracy: 0.8040\n",
            "Epoch 5/10\n",
            "687/687 [==============================] - 27s 40ms/step - loss: 0.1891 - accuracy: 0.9388 - val_loss: 1.7811 - val_accuracy: 0.5895\n",
            "Epoch 6/10\n",
            "687/687 [==============================] - 27s 39ms/step - loss: 0.1562 - accuracy: 0.9501 - val_loss: 0.3554 - val_accuracy: 0.8864\n",
            "Epoch 7/10\n",
            "687/687 [==============================] - 27s 40ms/step - loss: 0.1235 - accuracy: 0.9604 - val_loss: 0.7820 - val_accuracy: 0.7685\n",
            "Epoch 8/10\n",
            "687/687 [==============================] - 27s 40ms/step - loss: 0.1307 - accuracy: 0.9557 - val_loss: 0.8765 - val_accuracy: 0.7711\n",
            "Epoch 9/10\n",
            "687/687 [==============================] - 27s 40ms/step - loss: 0.1010 - accuracy: 0.9679 - val_loss: 0.2456 - val_accuracy: 0.9157\n",
            "Epoch 10/10\n",
            "687/687 [==============================] - 28s 41ms/step - loss: 0.1009 - accuracy: 0.9680 - val_loss: 0.2565 - val_accuracy: 0.9215\n"
          ]
        }
      ],
      "source": [
        "EPOCHS = 10\n",
        "first_model = dnn_model(input_shape=(28, 28, 1))\n",
        "first_model.compile(optimizer='adam', \n",
        "                    loss=tf.keras.losses.SparseCategoricalCrossentropy(from_logits=False), metrics=['accuracy'])\n",
        "\n",
        "history_aug = first_model.fit(X_train, Y_train, epochs=EPOCHS, validation_data=(X_val, Y_val))"
      ]
    },
    {
      "cell_type": "code",
      "execution_count": null,
      "metadata": {
        "id": "VW3IomWKM49_",
        "colab": {
          "base_uri": "https://localhost:8080/"
        },
        "outputId": "9ade102a-02a1-410b-8f14-b8c629831378"
      },
      "outputs": [
        {
          "output_type": "stream",
          "name": "stdout",
          "text": [
            "225/225 [==============================] - 2s 9ms/step - loss: 1.5214 - accuracy: 0.6956\n",
            "[1.5214080810546875, 0.6956218481063843]\n"
          ]
        }
      ],
      "source": [
        "print(first_model.evaluate(X_test, Y_test))"
      ]
    },
    {
      "cell_type": "code",
      "execution_count": null,
      "metadata": {
        "id": "Xr_JeaCk1_4b",
        "colab": {
          "base_uri": "https://localhost:8080/",
          "height": 298
        },
        "outputId": "c774ff82-f1fd-4e24-e8f8-3015964bdd57"
      },
      "outputs": [
        {
          "output_type": "display_data",
          "data": {
            "text/plain": [
              "<Figure size 432x288 with 1 Axes>"
            ],
            "image/png": "[encoded data removed]"
          },
          "metadata": {
            "needs_background": "light"
          }
        },
        {
          "output_type": "display_data",
          "data": {
            "text/plain": [
              "<Figure size 432x288 with 0 Axes>"
            ]
          },
          "metadata": {}
        }
      ],
      "source": [
        "acc = history_aug.history['accuracy']\n",
        "val_acc = history_aug.history['val_accuracy']\n",
        "loss = history_aug.history['loss']\n",
        "val_loss = history_aug.history['val_loss']\n",
        "\n",
        "epochs = range(len(acc))\n",
        "\n",
        "plt.plot(epochs, acc, 'r', label='Training accuracy')\n",
        "plt.plot(epochs, val_acc, 'b', label='Validation accuracy')\n",
        "plt.title('Training and validation accuracy')\n",
        "plt.legend(loc=0)\n",
        "plt.figure()\n",
        "\n",
        "plt.show()"
      ]
    },
    {
      "cell_type": "markdown",
      "metadata": {
        "id": "QyGBWapME3gC"
      },
      "source": [
        "#### DNN with augmented images\n",
        "Let's inspect the effect of adding augmented images to the training dataset."
      ]
    },
    {
      "cell_type": "code",
      "execution_count": null,
      "metadata": {
        "id": "5Wsu8lXkiMDp",
        "colab": {
          "base_uri": "https://localhost:8080/"
        },
        "outputId": "79b91480-2594-46ca-e4b6-dad69d010c6c"
      },
      "outputs": [
        {
          "output_type": "stream",
          "name": "stdout",
          "text": [
            "Epoch 1/10\n",
            "202/202 [==============================] - 20s 90ms/step - loss: 2.9093 - accuracy: 0.1573 - val_loss: 5.0960 - val_accuracy: 0.0523\n",
            "Epoch 2/10\n",
            "202/202 [==============================] - 18s 89ms/step - loss: 2.1668 - accuracy: 0.3271 - val_loss: 10.5909 - val_accuracy: 0.0546\n",
            "Epoch 3/10\n",
            "202/202 [==============================] - 18s 89ms/step - loss: 1.6918 - accuracy: 0.4561 - val_loss: 6.2672 - val_accuracy: 0.1071\n",
            "Epoch 4/10\n",
            "202/202 [==============================] - 18s 88ms/step - loss: 1.3456 - accuracy: 0.5569 - val_loss: 3.8363 - val_accuracy: 0.1670\n",
            "Epoch 5/10\n",
            "202/202 [==============================] - 18s 88ms/step - loss: 1.1080 - accuracy: 0.6287 - val_loss: 2.7368 - val_accuracy: 0.3467\n",
            "Epoch 6/10\n",
            "202/202 [==============================] - 18s 88ms/step - loss: 0.9194 - accuracy: 0.6929 - val_loss: 1.5473 - val_accuracy: 0.5194\n",
            "Epoch 7/10\n",
            "202/202 [==============================] - 19s 94ms/step - loss: 0.8215 - accuracy: 0.7253 - val_loss: 1.2546 - val_accuracy: 0.5910\n",
            "Epoch 8/10\n",
            "202/202 [==============================] - 19s 94ms/step - loss: 0.6984 - accuracy: 0.7653 - val_loss: 0.7794 - val_accuracy: 0.7345\n",
            "Epoch 9/10\n",
            "202/202 [==============================] - 18s 89ms/step - loss: 0.6374 - accuracy: 0.7858 - val_loss: 1.9417 - val_accuracy: 0.5088\n",
            "Epoch 10/10\n",
            "202/202 [==============================] - 18s 88ms/step - loss: 0.5690 - accuracy: 0.8094 - val_loss: 1.3681 - val_accuracy: 0.5868\n"
          ]
        }
      ],
      "source": [
        "first_model_aug = dnn_model()\n",
        "first_model_aug.compile(optimizer='adam', \n",
        "                    loss=tf.keras.losses.SparseCategoricalCrossentropy(from_logits=False), metrics=['accuracy'])\n",
        "\n",
        "NUM_BATCHES = 200\n",
        "history_aug = first_model_aug.fit(datagen.flow(X_train,Y_train, batch_size = len(X_train) // 200),epochs = EPOCHS , validation_data = (X_val, Y_val))\n"
      ]
    },
    {
      "cell_type": "code",
      "execution_count": null,
      "metadata": {
        "id": "szn94KmdFB_v",
        "colab": {
          "base_uri": "https://localhost:8080/"
        },
        "outputId": "48948f99-ffa0-41ed-e686-3876a1263f30"
      },
      "outputs": [
        {
          "output_type": "stream",
          "name": "stdout",
          "text": [
            "225/225 [==============================] - 2s 9ms/step - loss: 1.5344 - accuracy: 0.5545\n",
            "[1.5344457626342773, 0.5545175671577454]\n"
          ]
        }
      ],
      "source": [
        "print(first_model_aug.evaluate(X_test, Y_test))"
      ]
    },
    {
      "cell_type": "code",
      "execution_count": null,
      "metadata": {
        "id": "GxzV9NoHFFb4",
        "colab": {
          "base_uri": "https://localhost:8080/"
        },
        "outputId": "28165681-2dcb-431f-85ab-3714dfe21c60"
      },
      "outputs": [
        {
          "output_type": "display_data",
          "data": {
            "text/plain": [
              "<Figure size 432x288 with 1 Axes>"
            ],
            "image/png": "[encoded data removed]"
          },
          "metadata": {
            "needs_background": "light"
          }
        },
        {
          "output_type": "display_data",
          "data": {
            "text/plain": [
              "<Figure size 432x288 with 0 Axes>"
            ]
          },
          "metadata": {}
        }
      ],
      "source": [
        "acc = history_aug.history['accuracy']\n",
        "val_acc = history_aug.history['val_accuracy']\n",
        "loss = history_aug.history['loss']\n",
        "val_loss = history_aug.history['val_loss']\n",
        "\n",
        "epochs = range(len(acc))\n",
        "\n",
        "plt.plot(epochs, acc, 'r', label='Training accuracy')\n",
        "plt.plot(epochs, val_acc, 'b', label='Validation accuracy')\n",
        "plt.title('Training and validation accuracy')\n",
        "plt.legend(loc=0)\n",
        "plt.figure()\n",
        "\n",
        "plt.show()"
      ]
    },
    {
      "cell_type": "markdown",
      "metadata": {
        "id": "XdW5QBs2M4-A"
      },
      "source": [
        "Plain Neural networks are not the most efficient models for computer vision tasks. \n",
        "### Convolutional Neural Network\n",
        "Convolutional neural network represent a more powerful tool as they extract features from the images using filters resulting in a significant improvement in performance while mainting a relatively low number of parameters."
      ]
    },
    {
      "cell_type": "code",
      "execution_count": null,
      "metadata": {
        "id": "O4w0-d0OM4-A"
      },
      "outputs": [],
      "source": [
        "def cnn_model(num_classes, input_shape=(28, 28, 1)):\n",
        "    # set the seed to ensure reproducible results\n",
        "    tf.random.set_seed(11)\n",
        "    # define the input\n",
        "    inputs = tf.keras.Input(shape=input_shape)\n",
        "    # relu activation is used extensively:\n",
        "    relu = tfl.ReLU()\n",
        "    # 2D convolutional layer\n",
        "    f1 = 32\n",
        "    size1  = (3, 3)\n",
        "    conv1 = tfl.Conv2D(filters=f1, kernel_size=size1, strides=(1, 1), padding='same')\n",
        "    \n",
        "    pool1 = tfl.MaxPool2D((3, 3))\n",
        "    f2 = 64\n",
        "    conv2 = tfl.Conv2D(filters=f2, kernel_size=size1, strides=(1, 1), padding='same')\n",
        "    \n",
        "    size2 = (3, 3)\n",
        "    f3 = 128\n",
        "    conv3 = tfl.Conv2D(filters=f3, kernel_size=size2, strides=(2, 2), padding='same')\n",
        "\n",
        "    f4 = 128\n",
        "    conv4 = tfl.Conv2D(filters=f4, kernel_size=size2, strides=(1, 1), padding='same')\n",
        "\n",
        "    pool2 = tfl.MaxPool2D((2, 2))\n",
        "\n",
        "    # the neural network should be as follows:\n",
        "    # con1 * 2 -> conv2 *2 -> pool1 -> conv3 * 2 -> conv4 * 2 -> pool2 -> fully connected1 -> fullyconnected2 -> softmax\n",
        "    \n",
        "    #con1 * 2\n",
        "    x = conv1(inputs)\n",
        "    x = relu(x)\n",
        "    x = conv1(inputs)\n",
        "    x = relu(x)\n",
        "    # con2 * 2\n",
        "    x = conv2(inputs)\n",
        "    x = relu(x)\n",
        "    \n",
        "    x = conv2(inputs)\n",
        "    x = relu(x)\n",
        "    # normalizing on the channel axis\n",
        "    x = tfl.BatchNormalization(axis=-1)(x)\n",
        "    x = pool1(x)\n",
        "    \n",
        "    x = conv3(x)\n",
        "    x = relu(x)\n",
        "\n",
        "    x = conv4(x)\n",
        "    x = relu(x)\n",
        "\n",
        "    # normalizing on the channel axis\n",
        "    x = tfl.BatchNormalization(axis=-1)(x)\n",
        "    x = pool2(x)\n",
        "\n",
        "    flatten = tfl.Flatten() \n",
        "    fc1 = tfl.Dense(128, activation='relu')\n",
        "    fc2 = tfl.Dense(512, activation='relu')\n",
        "    if num_classes == 2:\n",
        "        fc3 = tfl.Dense(1 , activation='sigmoid')\n",
        "    else:\n",
        "        fc3 = tfl.Dense(num_classes, activation='softmax')\n",
        "    x = flatten(x)\n",
        "    x = fc1(x)\n",
        "    x = fc2(x)\n",
        "    outputs = fc3(x)\n",
        "    \n",
        "    model = tf.keras.Model(inputs=inputs, outputs=outputs)\n",
        "    return model"
      ]
    },
    {
      "cell_type": "code",
      "execution_count": null,
      "metadata": {
        "id": "5knx1azfM4-B"
      },
      "outputs": [],
      "source": [
        "cnnModel = cnn_model(input_shape=(28, 28, 1), num_classes=26)\n",
        "\n",
        "cnnModel.compile(optimizer='adam', \n",
        "                    loss=tf.keras.losses.SparseCategoricalCrossentropy(from_logits=False), metrics=['accuracy'])"
      ]
    },
    {
      "cell_type": "code",
      "execution_count": null,
      "metadata": {
        "id": "R2bVIcG0PJTb",
        "colab": {
          "base_uri": "https://localhost:8080/"
        },
        "outputId": "beb5f85f-979f-4173-9124-62d284482300"
      },
      "outputs": [
        {
          "output_type": "stream",
          "name": "stdout",
          "text": [
            "Model: \"model_13\"\n",
            "__________________________________________________________________________________________________\n",
            " Layer (type)                   Output Shape         Param #     Connected to                     \n",
            "==================================================================================================\n",
            " input_14 (InputLayer)          [(None, 28, 28, 1)]  0           []                               \n",
            "                                                                                                  \n",
            " conv2d_53 (Conv2D)             (None, 28, 28, 64)   640         ['input_14[0][0]']               \n",
            "                                                                                                  \n",
            " re_lu_13 (ReLU)                multiple             0           ['conv2d_53[1][0]',              \n",
            "                                                                  'conv2d_54[0][0]',              \n",
            "                                                                  'conv2d_55[0][0]']              \n",
            "                                                                                                  \n",
            " batch_normalization_42 (BatchN  (None, 28, 28, 64)  256         ['re_lu_13[3][0]']               \n",
            " ormalization)                                                                                    \n",
            "                                                                                                  \n",
            " max_pooling2d_26 (MaxPooling2D  (None, 9, 9, 64)    0           ['batch_normalization_42[0][0]'] \n",
            " )                                                                                                \n",
            "                                                                                                  \n",
            " conv2d_54 (Conv2D)             (None, 5, 5, 128)    73856       ['max_pooling2d_26[0][0]']       \n",
            "                                                                                                  \n",
            " conv2d_55 (Conv2D)             (None, 5, 5, 128)    147584      ['re_lu_13[4][0]']               \n",
            "                                                                                                  \n",
            " batch_normalization_43 (BatchN  (None, 5, 5, 128)   512         ['re_lu_13[5][0]']               \n",
            " ormalization)                                                                                    \n",
            "                                                                                                  \n",
            " max_pooling2d_27 (MaxPooling2D  (None, 2, 2, 128)   0           ['batch_normalization_43[0][0]'] \n",
            " )                                                                                                \n",
            "                                                                                                  \n",
            " flatten_17 (Flatten)           (None, 512)          0           ['max_pooling2d_27[0][0]']       \n",
            "                                                                                                  \n",
            " dense_63 (Dense)               (None, 128)          65664       ['flatten_17[0][0]']             \n",
            "                                                                                                  \n",
            " dense_64 (Dense)               (None, 512)          66048       ['dense_63[0][0]']               \n",
            "                                                                                                  \n",
            " dense_65 (Dense)               (None, 26)           13338       ['dense_64[0][0]']               \n",
            "                                                                                                  \n",
            "==================================================================================================\n",
            "Total params: 367,898\n",
            "Trainable params: 367,514\n",
            "Non-trainable params: 384\n",
            "__________________________________________________________________________________________________\n"
          ]
        }
      ],
      "source": [
        "cnnModel.summary()"
      ]
    },
    {
      "cell_type": "code",
      "execution_count": null,
      "metadata": {
        "id": "Yc0K019LM4-C",
        "colab": {
          "base_uri": "https://localhost:8080/"
        },
        "outputId": "1df0e3cd-63bf-4a36-ad42-55a8e9643512"
      },
      "outputs": [
        {
          "output_type": "stream",
          "name": "stdout",
          "text": [
            "Epoch 1/10\n",
            "687/687 [==============================] - 57s 81ms/step - loss: 0.3143 - accuracy: 0.9060 - val_loss: 0.4646 - val_accuracy: 0.8702\n",
            "Epoch 2/10\n",
            "687/687 [==============================] - 55s 80ms/step - loss: 0.0222 - accuracy: 0.9930 - val_loss: 2.5621e-04 - val_accuracy: 1.0000\n",
            "Epoch 3/10\n",
            "687/687 [==============================] - 56s 82ms/step - loss: 1.3009e-04 - accuracy: 1.0000 - val_loss: 8.2749e-05 - val_accuracy: 1.0000\n",
            "Epoch 4/10\n",
            "687/687 [==============================] - 55s 80ms/step - loss: 4.6268e-05 - accuracy: 1.0000 - val_loss: 5.1402e-05 - val_accuracy: 1.0000\n",
            "Epoch 5/10\n",
            "687/687 [==============================] - 55s 80ms/step - loss: 2.7449e-05 - accuracy: 1.0000 - val_loss: 3.1315e-05 - val_accuracy: 1.0000\n",
            "Epoch 6/10\n",
            "687/687 [==============================] - 56s 81ms/step - loss: 1.5518e-05 - accuracy: 1.0000 - val_loss: 1.8802e-05 - val_accuracy: 1.0000\n",
            "Epoch 7/10\n",
            "687/687 [==============================] - 55s 79ms/step - loss: 1.0303e-05 - accuracy: 1.0000 - val_loss: 1.5620e-05 - val_accuracy: 1.0000\n",
            "Epoch 8/10\n",
            "687/687 [==============================] - 55s 80ms/step - loss: 6.8313e-06 - accuracy: 1.0000 - val_loss: 1.1344e-05 - val_accuracy: 1.0000\n",
            "Epoch 9/10\n",
            "687/687 [==============================] - 55s 80ms/step - loss: 4.7112e-06 - accuracy: 1.0000 - val_loss: 9.7153e-06 - val_accuracy: 1.0000\n",
            "Epoch 10/10\n",
            "687/687 [==============================] - 56s 82ms/step - loss: 3.2528e-06 - accuracy: 1.0000 - val_loss: 6.6556e-06 - val_accuracy: 1.0000\n"
          ]
        },
        {
          "output_type": "execute_result",
          "data": {
            "text/plain": [
              "<keras.callbacks.History at 0x7f080559c510>"
            ]
          },
          "metadata": {},
          "execution_count": 109
        }
      ],
      "source": [
        "num_batches = 20\n",
        "cnnModel.fit(X_train, Y_train, epochs=EPOCHS, validation_data=(X_val, Y_val))"
      ]
    },
    {
      "cell_type": "code",
      "execution_count": null,
      "metadata": {
        "id": "yTgEWrI6wwj7",
        "colab": {
          "base_uri": "https://localhost:8080/"
        },
        "outputId": "28bb9241-0e84-4523-85fc-1bd2335bce65"
      },
      "outputs": [
        {
          "output_type": "stream",
          "name": "stdout",
          "text": [
            "225/225 [==============================] - 4s 18ms/step - loss: 0.2280 - accuracy: 0.9541\n",
            "[0.22799110412597656, 0.9541271328926086]\n"
          ]
        }
      ],
      "source": [
        "# let's evaluate the model on the test dataset.\n",
        "print(cnnModel.evaluate(X_test, Y_test))"
      ]
    },
    {
      "cell_type": "markdown",
      "metadata": {
        "id": "LPX431w3ovn5"
      },
      "source": [
        "Despite having a training accuracy of 100% and significantly low loss function, the test accuracy is still generally low which is a sign of overfitting. Let's introduce a number of tools to improve the test accurary:\n",
        "* data augmentation\n",
        "* dropout layers"
      ]
    },
    {
      "cell_type": "markdown",
      "source": [
        "### CNN with dropout layers"
      ],
      "metadata": {
        "id": "Z_OJJhFU5FIn"
      }
    },
    {
      "cell_type": "code",
      "execution_count": null,
      "metadata": {
        "id": "V1PTEzhjvvXG"
      },
      "outputs": [],
      "source": [
        "def cnn_model_dropout(p1, p2, num_classes, input_shape=(28, 28, 1)):\n",
        "    # set the see for reproducible results\n",
        "    tf.random.set_seed(11)\n",
        "    # define the input\n",
        "    inputs = tf.keras.Input(shape=input_shape)\n",
        "    # relu activation is used extensively:\n",
        "    relu = tfl.ReLU()\n",
        "    # 2D convolutional layer\n",
        "    f1 = 32\n",
        "    size1  = (3, 3)\n",
        "    conv1 = tfl.Conv2D(filters=f1, kernel_size=size1, strides=(1, 1), padding='same')\n",
        "    \n",
        "    pool1 = tfl.MaxPool2D((3, 3))\n",
        "    f2 = 64\n",
        "    conv2 = tfl.Conv2D(filters=f2, kernel_size=size1, strides=(1, 1), padding='same')\n",
        "    \n",
        "    size2 = (3, 3)\n",
        "    f3 = 128\n",
        "    conv3 = tfl.Conv2D(filters=f3, kernel_size=size2, strides=(2, 2), padding='same')\n",
        "\n",
        "    f4 = 128\n",
        "    conv4 = tfl.Conv2D(filters=f4, kernel_size=size2, strides=(1, 1), padding='same')\n",
        "\n",
        "    pool2 = tfl.MaxPool2D((2, 2))\n",
        "\n",
        "    # the neural network should be as follows:\n",
        "    # con1 * 2 -> conv2 *2 -> pool1 -> conv3 * 2 -> conv4 * 2 -> pool2 -> fully connected1 -> fullyconnected2 -> softmax\n",
        "    \n",
        "    #con1 * 2\n",
        "    x = conv1(inputs)\n",
        "    x = relu(x)\n",
        "    x = conv1(inputs)\n",
        "    x = relu(x)\n",
        "    # con2 * 2\n",
        "    x = conv2(inputs)\n",
        "    x = relu(x)\n",
        "    \n",
        "    x = conv2(inputs)\n",
        "    x = relu(x)\n",
        "    # normalizing on the channel axis\n",
        "    x = tfl.BatchNormalization(axis=-1)(x)\n",
        "    x = pool1(x)\n",
        "    \n",
        "    x = conv3(x)\n",
        "    x = relu(x)\n",
        "\n",
        "    x = conv4(x)\n",
        "    x = relu(x)\n",
        "\n",
        "    # normalizing on the channel axis\n",
        "    x = tfl.BatchNormalization(axis=-1)(x)\n",
        "    x = pool2(x)\n",
        "\n",
        "    flatten = tfl.Flatten() \n",
        "    fc1 = tfl.Dense(512, activation='relu')\n",
        "    # add a dropout layer with a dropping rate of maximum 0.5\n",
        "    d1 = tfl.Dropout(min(0.5, p1))\n",
        "    fc2 = tfl.Dense(512, activation='relu')\n",
        "    d2 = tfl.Dropout(min(0.5, p2))\n",
        "    fc = tfl.Dense(1024)\n",
        "    \n",
        "    if num_classes == 2:\n",
        "        fc3 = tfl.Dense(1 , activation='sigmoid')\n",
        "    else:\n",
        "        fc3 = tfl.Dense(num_classes, activation='softmax')\n",
        "    x = flatten(x)\n",
        "    x = fc1(x)\n",
        "    x = d1(x)\n",
        "    x = fc2(x)\n",
        "    x = d2(x)\n",
        "    outputs = fc3(x)\n",
        "    \n",
        "    model = tf.keras.Model(inputs=inputs, outputs=outputs)\n",
        "    return model\n"
      ]
    },
    {
      "cell_type": "markdown",
      "metadata": {
        "id": "xP6KLHGOxUrg"
      },
      "source": [
        "### Hyperparameter Tuning\n",
        "As combatting overfitting introduces additional hyperparameters, some tuning reveals necessary. I will consider a grid search over a space of hyparameters including:\n",
        "* p1 and p2 as mentioned in the model's definition\n",
        "* the optimization agorithm (O.A)\n",
        "* the learning rate associated with the O.A"
      ]
    },
    {
      "cell_type": "code",
      "execution_count": null,
      "metadata": {
        "id": "fh3LDyqk0yO6",
        "colab": {
          "base_uri": "https://localhost:8080/"
        },
        "outputId": "ccb4c446-35d6-4324-c44f-5b9abe205704"
      },
      "outputs": [
        {
          "output_type": "stream",
          "name": "stdout",
          "text": [
            "The tensorboard extension is already loaded. To reload it, use:\n",
            "  %reload_ext tensorboard\n"
          ]
        }
      ],
      "source": [
        "# Load the TensorBoard notebook extension\n",
        "%load_ext tensorboard\n",
        "\n",
        "from tensorboard.plugins.hparams import api as hp"
      ]
    },
    {
      "cell_type": "markdown",
      "metadata": {
        "id": "Y0Oy6WvsEiQe"
      },
      "source": [
        "As for the learning rate, the default value is good enough for now. As the other candidates values result in signficantly lower performances. Therefore, it might be more efficient to determine the dropout rates as well as the optimization alogorithm first, then proceed to tune the learning rate."
      ]
    },
    {
      "cell_type": "code",
      "execution_count": null,
      "metadata": {
        "id": "zXmWqXLu3s0u"
      },
      "outputs": [],
      "source": [
        "def train_test_model(hparams,  X_tr=None, Y_tr=None, X_ts=None, Y_ts=None, n_epochs=1):\n",
        "  # make sure both the dataset and the labels are set\n",
        "  assert (X_tr is None and Y_tr is None) or (X_tr is not None and Y_tr is not None)\n",
        "  assert (X_ts is None and Y_ts is None) or (X_ts is not None and Y_ts is not None)\n",
        "  \n",
        "  # set the default values for the test dataset and labels\n",
        "  if X_ts is None: \n",
        "    X_ts = X_val\n",
        "    Y_ts = Y_val\n",
        "  # set the default values for the training \n",
        "  if X_tr is None: \n",
        "    X_tr = X_train\n",
        "    Y_tr = Y_train\n",
        "\n",
        "  our_model = cnn_model_dropout(hparams[HP_DROPOUT_1], hparams[HP_DROPOUT_2], num_classes=26)\n",
        "  \n",
        "  our_model.compile(\n",
        "      optimizer=hparams[HP_OPTIMIZER],\n",
        "      loss='sparse_categorical_crossentropy',\n",
        "      metrics=['accuracy'],\n",
        "  )\n",
        "\n",
        "  our_model.fit(X_tr, Y_tr, epochs=n_epochs) # Run with only 1 epoch to speed the process up\n",
        "  loss, accuracy = our_model.evaluate(X_ts, Y_ts)\n",
        "  return loss, accuracy"
      ]
    },
    {
      "cell_type": "markdown",
      "metadata": {
        "id": "J4o56Ug5FSGA"
      },
      "source": [
        "#### Grid Search approach\n",
        "The approach is exhaustive, simple, and thus time-consuming. The cell below would take a significant amount of time to execute."
      ]
    },
    {
      "cell_type": "code",
      "execution_count": null,
      "metadata": {
        "id": "U9qlZIj0xRh6"
      },
      "outputs": [],
      "source": [
        "p_values = np.linspace(0.2, 0.5, 6).tolist() # values linearly spaced in the interval [0.2, 0.5]\n",
        "from tensorflow.keras.optimizers import SGD, Adam, RMSprop\n",
        "optimizations = ['adam', 'sgd', 'rmsprop']\n",
        "# opt_classes = [Adam(), SGD(), RMSprop()]\n",
        "# from tensorflow.keras.\n",
        "# l_r_s = 10 ** np.array(list(range(-4, 0))) # learning rates\n",
        "l_r_s = [10.0 ** i for i in range(-4, 0)]\n",
        "\n",
        "HP_DROPOUT_1 = hp.HParam('d1', hp.Discrete(p_values))\n",
        "HP_DROPOUT_2 = hp.HParam('d2', hp.Discrete(p_values))\n",
        "HP_OPTIMIZER = hp.HParam('optimizer', hp.Discrete(optimizations)) \n",
        "# HP_LR = hp.HParam('learning_rate', hp.Discrete(l_r_s)) \n",
        "# tuning the hyperparameter can be delayed to a later stage\n",
        "\n",
        "# opt_dictionary = dict(zip(optimizations, opt_classes))\n"
      ]
    },
    {
      "cell_type": "code",
      "execution_count": null,
      "metadata": {
        "id": "jDPpqY846MYX"
      },
      "outputs": [],
      "source": [
        "min_loss = 1000 # large number as a start\n",
        "best_params = {}\n",
        "num_session = 1\n",
        "for dropout_rate1 in (HP_DROPOUT_1.domain.values):\n",
        "  for dropout_rate2 in (HP_DROPOUT_2.domain.values):\n",
        "    for optimizer in HP_OPTIMIZER.domain.values:\n",
        "        hparams = {\n",
        "            HP_DROPOUT_1: dropout_rate1,\n",
        "            HP_DROPOUT_2: dropout_rate2,\n",
        "            HP_OPTIMIZER: optimizer,\n",
        "        }\n",
        "        # using the X_tune and Y_tune for training and the validation dataset\n",
        "        # for evaluation\n",
        "        print(f\"session {str(num_session)} with parameters {str(hparams.values())}\")\n",
        "        num_session += 1\n",
        "        l, acc = train_test_model(hparams) # , X_tr=X_tune, Y_tr=Y_tune)\n",
        "        print(\"#\" * 50)\n",
        "        print(\"#\" * 50)        \n",
        "        # as the model might end up performing well on the validation dataset \n",
        "        # the loss value is more likely to be a more informative\n",
        "        # indicator of the model's performance\n",
        "        if l < min_loss:\n",
        "          best_params = hparams\n",
        "          min_loss = l\n",
        "\n"
      ]
    },
    {
      "cell_type": "code",
      "execution_count": null,
      "metadata": {
        "id": "24WKiQU1AFfp"
      },
      "outputs": [],
      "source": [
        "# test the best model on the test dataset by explicitely \n",
        "# X_ts, Y_ts = test datset\n",
        "# X_tr, Y_tr = the entire training dataset\n",
        "print(train_test_model(best_params, X_ts=X_test, Y_ts=Y_test, n_epochs=EPOCHS))\n"
      ]
    },
    {
      "cell_type": "markdown",
      "source": [
        "### CNN: dropout and slightly different structure\n",
        "Despite the  regularization as well as the exhaustive hyperparameters tuning, the model still does not perform as desired. Such results take me to a different direction: slightly changing the architecture of the CNN: mainly the part with fully connected layers."
      ],
      "metadata": {
        "id": "jT9nWIJuqKDw"
      }
    },
    {
      "cell_type": "code",
      "execution_count": null,
      "metadata": {
        "id": "H5dcVIEQlK6q"
      },
      "outputs": [],
      "source": [
        "def cnn_model_dropout_2(p1, num_classes, input_shape=(28, 28, 1)):\n",
        "    tf.random.set_seed(11)\n",
        "    # define the input\n",
        "    inputs = tf.keras.Input(shape=input_shape)\n",
        "    # relu activation is used extensively:\n",
        "    relu = tfl.ReLU()\n",
        "    # 2D convolutional layer\n",
        "    f1 = 32\n",
        "    size1  = (3, 3)\n",
        "    conv1 = tfl.Conv2D(filters=f1, kernel_size=size1, strides=(1, 1), padding='same')\n",
        "    \n",
        "    pool1 = tfl.MaxPool2D((3, 3))\n",
        "    f2 = 64\n",
        "    conv2 = tfl.Conv2D(filters=f2, kernel_size=size1, strides=(1, 1), padding='same')\n",
        "    \n",
        "    size2 = (3, 3)\n",
        "    f3 = 128\n",
        "    conv3 = tfl.Conv2D(filters=f3, kernel_size=size2, strides=(2, 2), padding='same')\n",
        "\n",
        "    f4 = 128\n",
        "    conv4 = tfl.Conv2D(filters=f4, kernel_size=size2, strides=(1, 1), padding='same')\n",
        "\n",
        "    pool2 = tfl.MaxPool2D((2, 2))\n",
        "\n",
        "    # the neural network should be as follows:\n",
        "    # con1 * 2 -> conv2 *2 -> pool1 -> conv3 * 2 -> conv4 * 2 -> pool2 -> fully connected1 -> fullyconnected2 -> softmax\n",
        "    \n",
        "    #con1 * 2\n",
        "    x = conv1(inputs)\n",
        "    x = relu(x)\n",
        "    x = conv1(inputs)\n",
        "    x = relu(x)\n",
        "    # con2 * 2\n",
        "    x = conv2(inputs)\n",
        "    x = relu(x)\n",
        "    \n",
        "    x = conv2(inputs)\n",
        "    x = relu(x)\n",
        "    # normalizing on the channel axis\n",
        "    x = tfl.BatchNormalization(axis=-1)(x)\n",
        "    x = pool1(x)\n",
        "    \n",
        "    x = conv3(x)\n",
        "    x = relu(x)\n",
        "\n",
        "    x = conv4(x)\n",
        "    x = relu(x)\n",
        "\n",
        "    # normalizing on the channel axis\n",
        "    x = tfl.BatchNormalization(axis=-1)(x)\n",
        "    x = pool2(x)\n",
        "\n",
        "    flatten = tfl.Flatten() \n",
        "    fc = tfl.Dense(1024, activation='sigmoid')\n",
        "    dropout = tfl.Dropout(p)\n",
        "\n",
        "    if num_classes == 2:\n",
        "        fc3 = tfl.Dense(1 , activation='sigmoid')\n",
        "    else:\n",
        "        fc3 = tfl.Dense(num_classes, activation='softmax')\n",
        "    x = flatten(x)\n",
        "    x = fc(x)\n",
        "    x = dropout(x)\n",
        "    outputs = fc3(x)\n",
        "    \n",
        "    model = tf.keras.Model(inputs=inputs, outputs=outputs)\n",
        "    return model\n"
      ]
    },
    {
      "cell_type": "code",
      "execution_count": null,
      "metadata": {
        "id": "iZLz4LMTl0JT"
      },
      "outputs": [],
      "source": [
        "def train_test_model_2(p,  X_tr=None, Y_tr=None, X_ts=None, Y_ts=None, n_epochs=1):\n",
        "  # make sure both the dataset and the labels are set\n",
        "  assert (X_tr is None and Y_tr is None) or (X_tr is not None and Y_tr is not None)\n",
        "  assert (X_ts is None and Y_ts is None) or (X_ts is not None and Y_ts is not None)\n",
        "  \n",
        "  # set the default values for the test dataset and labels\n",
        "  if X_ts is None: \n",
        "    X_ts = X_val\n",
        "    Y_ts = Y_val\n",
        "  # set the default values for the training \n",
        "  if X_tr is None: \n",
        "    X_tr = X_train\n",
        "    Y_tr = Y_train\n",
        "\n",
        "  our_model = cnn_model_dropout_2(p, num_classes=26)\n",
        "  \n",
        "  our_model.compile(\n",
        "      optimizer='adam',\n",
        "      loss='sparse_categorical_crossentropy',\n",
        "      metrics=['accuracy'],\n",
        "  )\n",
        "\n",
        "  our_model.fit(X_tr, Y_tr, epochs=n_epochs) # Run with only 1 epoch to speed the process up\n",
        "  loss, accuracy = our_model.evaluate(X_ts, Y_ts)\n",
        "  return loss, accuracy"
      ]
    },
    {
      "cell_type": "markdown",
      "source": [
        "#### Hypertune the unique dropout rate left\n",
        "As the new architecture includes only one dropout layer, The hyperparameter tuning might be less time consuming while exploring a larger range of values."
      ],
      "metadata": {
        "id": "tmG8w03fq0Eg"
      }
    },
    {
      "cell_type": "code",
      "execution_count": null,
      "metadata": {
        "id": "yqlcRFsgl5Nl",
        "colab": {
          "base_uri": "https://localhost:8080/"
        },
        "outputId": "562d799c-6f28-4f7b-c21d-a5d545d71701"
      },
      "outputs": [
        {
          "output_type": "stream",
          "name": "stdout",
          "text": [
            "session 1 with parameters 0.2\n",
            "687/687 [==============================] - 58s 83ms/step - loss: 0.2381 - accuracy: 0.9341\n",
            "172/172 [==============================] - 3s 19ms/step - loss: 0.0056 - accuracy: 1.0000\n",
            "##################################################\n",
            "##################################################\n",
            "session 2 with parameters 0.21500000000000002\n",
            "687/687 [==============================] - 57s 83ms/step - loss: 0.2414 - accuracy: 0.9340\n",
            "172/172 [==============================] - 3s 19ms/step - loss: 0.0046 - accuracy: 1.0000\n",
            "##################################################\n",
            "##################################################\n",
            "session 3 with parameters 0.23\n",
            "687/687 [==============================] - 59s 84ms/step - loss: 0.2438 - accuracy: 0.9318\n",
            "172/172 [==============================] - 3s 19ms/step - loss: 0.0236 - accuracy: 0.9982\n",
            "##################################################\n",
            "##################################################\n",
            "session 4 with parameters 0.245\n",
            "687/687 [==============================] - 58s 83ms/step - loss: 0.2467 - accuracy: 0.9317\n",
            "172/172 [==============================] - 3s 19ms/step - loss: 0.0039 - accuracy: 1.0000\n",
            "##################################################\n",
            "##################################################\n",
            "session 5 with parameters 0.26\n",
            "687/687 [==============================] - 58s 83ms/step - loss: 0.2475 - accuracy: 0.9323\n",
            "172/172 [==============================] - 3s 19ms/step - loss: 0.0062 - accuracy: 1.0000\n",
            "##################################################\n",
            "##################################################\n",
            "session 6 with parameters 0.275\n",
            "687/687 [==============================] - 59s 85ms/step - loss: 0.2484 - accuracy: 0.9321\n",
            "172/172 [==============================] - 3s 19ms/step - loss: 0.0072 - accuracy: 0.9996\n",
            "##################################################\n",
            "##################################################\n",
            "session 7 with parameters 0.29000000000000004\n",
            "687/687 [==============================] - 58s 84ms/step - loss: 0.2473 - accuracy: 0.9318\n",
            "172/172 [==============================] - 4s 19ms/step - loss: 0.0039 - accuracy: 1.0000\n",
            "##################################################\n",
            "##################################################\n",
            "session 8 with parameters 0.305\n",
            "687/687 [==============================] - 58s 83ms/step - loss: 0.2530 - accuracy: 0.9294\n",
            "172/172 [==============================] - 3s 19ms/step - loss: 0.0045 - accuracy: 1.0000\n",
            "##################################################\n",
            "##################################################\n",
            "session 9 with parameters 0.32\n",
            "687/687 [==============================] - 59s 85ms/step - loss: 0.2625 - accuracy: 0.9268\n",
            "172/172 [==============================] - 4s 19ms/step - loss: 0.0841 - accuracy: 0.9911\n",
            "##################################################\n",
            "##################################################\n",
            "session 10 with parameters 0.335\n",
            "687/687 [==============================] - 58s 83ms/step - loss: 0.2615 - accuracy: 0.9285\n",
            "172/172 [==============================] - 3s 19ms/step - loss: 0.0045 - accuracy: 1.0000\n",
            "##################################################\n",
            "##################################################\n",
            "session 11 with parameters 0.35\n",
            "687/687 [==============================] - 58s 84ms/step - loss: 0.2583 - accuracy: 0.9287\n",
            "172/172 [==============================] - 3s 19ms/step - loss: 0.0038 - accuracy: 1.0000\n",
            "##################################################\n",
            "##################################################\n",
            "session 12 with parameters 0.365\n",
            "687/687 [==============================] - 59s 85ms/step - loss: 0.2646 - accuracy: 0.9267\n",
            "172/172 [==============================] - 4s 20ms/step - loss: 0.0040 - accuracy: 1.0000\n",
            "##################################################\n",
            "##################################################\n",
            "session 13 with parameters 0.38\n",
            "687/687 [==============================] - 58s 83ms/step - loss: 0.2716 - accuracy: 0.9240\n",
            "172/172 [==============================] - 3s 19ms/step - loss: 0.0049 - accuracy: 1.0000\n",
            "##################################################\n",
            "##################################################\n",
            "session 14 with parameters 0.395\n",
            "687/687 [==============================] - 58s 83ms/step - loss: 0.2651 - accuracy: 0.9267\n",
            "172/172 [==============================] - 3s 19ms/step - loss: 0.0044 - accuracy: 1.0000\n",
            "##################################################\n",
            "##################################################\n",
            "session 15 with parameters 0.41000000000000003\n",
            "687/687 [==============================] - 60s 86ms/step - loss: 0.2723 - accuracy: 0.9227\n",
            "172/172 [==============================] - 4s 20ms/step - loss: 0.0043 - accuracy: 1.0000\n",
            "##################################################\n",
            "##################################################\n",
            "session 16 with parameters 0.425\n",
            "687/687 [==============================] - 58s 83ms/step - loss: 0.2826 - accuracy: 0.9201\n",
            "172/172 [==============================] - 3s 19ms/step - loss: 0.0039 - accuracy: 1.0000\n",
            "##################################################\n",
            "##################################################\n",
            "session 17 with parameters 0.44\n",
            "687/687 [==============================] - 58s 84ms/step - loss: 0.2886 - accuracy: 0.9179\n",
            "172/172 [==============================] - 3s 19ms/step - loss: 0.0078 - accuracy: 0.9998\n",
            "##################################################\n",
            "##################################################\n",
            "session 18 with parameters 0.455\n",
            "687/687 [==============================] - 59s 85ms/step - loss: 0.2979 - accuracy: 0.9159\n",
            "172/172 [==============================] - 3s 19ms/step - loss: 0.0057 - accuracy: 1.0000\n",
            "##################################################\n",
            "##################################################\n",
            "session 19 with parameters 0.47000000000000003\n",
            "687/687 [==============================] - 59s 84ms/step - loss: 0.2959 - accuracy: 0.9165\n",
            "172/172 [==============================] - 4s 20ms/step - loss: 0.0127 - accuracy: 0.9984\n",
            "##################################################\n",
            "##################################################\n",
            "session 20 with parameters 0.485\n",
            "687/687 [==============================] - 58s 84ms/step - loss: 0.3063 - accuracy: 0.9135\n",
            "172/172 [==============================] - 4s 19ms/step - loss: 0.0043 - accuracy: 1.0000\n",
            "##################################################\n",
            "##################################################\n",
            "session 21 with parameters 0.5\n",
            "687/687 [==============================] - 58s 84ms/step - loss: 0.3085 - accuracy: 0.9122\n",
            "172/172 [==============================] - 3s 19ms/step - loss: 0.0055 - accuracy: 0.9998\n",
            "##################################################\n",
            "##################################################\n"
          ]
        }
      ],
      "source": [
        "min_loss = 1000 # large number as a start\n",
        "best_p = 1\n",
        "num_session = 1\n",
        "for p in np.linspace(0.2, 0.5, 21):\n",
        "        \n",
        "        # using the X_tune and Y_tune for training and the validation dataset\n",
        "        # for evaluation\n",
        "        print(f\"session {str(num_session)} with parameters {str(p)}\")\n",
        "        num_session += 1\n",
        "        l, acc = train_test_model_2(p, n_epochs=1) # , X_tr=X_tune, Y_tr=Y_tune)\n",
        "        print(\"#\" * 50)\n",
        "        print(\"#\" * 50)        \n",
        "        # as the model might end up performing well on the validation dataset \n",
        "        # the loss value is more likely to be a more informative\n",
        "        # indicator of the model's performance\n",
        "        if l < min_loss:\n",
        "          best_p = p\n",
        "          min_loss = l"
      ]
    },
    {
      "cell_type": "markdown",
      "source": [
        "#### Test the classifier with and without data augmentation"
      ],
      "metadata": {
        "id": "0F5u9MP-rXDu"
      }
    },
    {
      "cell_type": "code",
      "execution_count": null,
      "metadata": {
        "id": "j7vBA_lksMz0",
        "colab": {
          "base_uri": "https://localhost:8080/"
        },
        "outputId": "f01e754d-d1cc-4c99-dbcc-4fbc464c19b3"
      },
      "outputs": [
        {
          "output_type": "stream",
          "name": "stdout",
          "text": [
            "Epoch 1/10\n",
            "687/687 [==============================] - 58s 83ms/step - loss: 0.3085 - accuracy: 0.9122\n",
            "Epoch 2/10\n",
            "687/687 [==============================] - 57s 83ms/step - loss: 0.0014 - accuracy: 0.9999\n",
            "Epoch 3/10\n",
            "687/687 [==============================] - 57s 83ms/step - loss: 5.0683e-04 - accuracy: 1.0000\n",
            "Epoch 4/10\n",
            "687/687 [==============================] - 57s 83ms/step - loss: 2.1656e-04 - accuracy: 1.0000\n",
            "Epoch 5/10\n",
            "687/687 [==============================] - 57s 83ms/step - loss: 1.1259e-04 - accuracy: 1.0000\n",
            "Epoch 6/10\n",
            "687/687 [==============================] - 57s 83ms/step - loss: 7.6209e-05 - accuracy: 1.0000\n",
            "Epoch 7/10\n",
            "687/687 [==============================] - 57s 83ms/step - loss: 5.0573e-05 - accuracy: 1.0000\n",
            "Epoch 8/10\n",
            "687/687 [==============================] - 57s 83ms/step - loss: 3.4778e-05 - accuracy: 1.0000\n",
            "Epoch 9/10\n",
            "687/687 [==============================] - 57s 83ms/step - loss: 2.3535e-05 - accuracy: 1.0000\n",
            "Epoch 10/10\n",
            "687/687 [==============================] - 57s 83ms/step - loss: 1.5819e-05 - accuracy: 1.0000\n",
            "225/225 [==============================] - 4s 19ms/step - loss: 0.1141 - accuracy: 0.9642\n",
            "(0.11412936449050903, 0.9641662240028381)\n"
          ]
        }
      ],
      "source": [
        "# without data augmentation : 0.96 % test accuracy\n",
        "print(train_test_model_2(best_p, X_ts=X_test, Y_ts=Y_test, n_epochs=10))"
      ]
    },
    {
      "cell_type": "code",
      "execution_count": null,
      "metadata": {
        "id": "ZVXcVb5yT2Js",
        "colab": {
          "base_uri": "https://localhost:8080/"
        },
        "outputId": "d8bc7960-7b5d-4863-e10a-d7c3df58a43e"
      },
      "outputs": [
        {
          "output_type": "stream",
          "name": "stdout",
          "text": [
            "Epoch 1/10\n",
            "202/202 [==============================] - 57s 279ms/step - loss: 1.1185 - accuracy: 0.6461 - val_loss: 3.6214 - val_accuracy: 0.0603\n",
            "Epoch 2/10\n",
            "202/202 [==============================] - 56s 279ms/step - loss: 0.1936 - accuracy: 0.9383 - val_loss: 0.8507 - val_accuracy: 0.7827\n",
            "Epoch 3/10\n",
            "202/202 [==============================] - 56s 277ms/step - loss: 0.0987 - accuracy: 0.9690 - val_loss: 0.1194 - val_accuracy: 0.9649\n",
            "Epoch 4/10\n",
            "202/202 [==============================] - 56s 279ms/step - loss: 0.0665 - accuracy: 0.9787 - val_loss: 0.0438 - val_accuracy: 0.9849\n",
            "Epoch 5/10\n",
            "202/202 [==============================] - 56s 279ms/step - loss: 0.0538 - accuracy: 0.9835 - val_loss: 0.0352 - val_accuracy: 0.9903\n",
            "Epoch 6/10\n",
            "202/202 [==============================] - 56s 277ms/step - loss: 0.0450 - accuracy: 0.9852 - val_loss: 0.1273 - val_accuracy: 0.9559\n",
            "Epoch 7/10\n",
            "202/202 [==============================] - 56s 278ms/step - loss: 0.0376 - accuracy: 0.9885 - val_loss: 0.0974 - val_accuracy: 0.9669\n",
            "Epoch 8/10\n",
            "202/202 [==============================] - 56s 278ms/step - loss: 0.0383 - accuracy: 0.9874 - val_loss: 0.0398 - val_accuracy: 0.9871\n",
            "Epoch 9/10\n",
            "202/202 [==============================] - 56s 277ms/step - loss: 0.0244 - accuracy: 0.9922 - val_loss: 0.0445 - val_accuracy: 0.9871\n",
            "Epoch 10/10\n",
            "202/202 [==============================] - 56s 276ms/step - loss: 0.0269 - accuracy: 0.9918 - val_loss: 0.0304 - val_accuracy: 0.9900\n",
            "225/225 [==============================] - 4s 19ms/step - loss: 0.0433 - accuracy: 0.9893\n",
            "[0.04332572594285011, 0.9892638325691223]\n"
          ]
        }
      ],
      "source": [
        "# let's add data augmentation to the picture\n",
        "cnn_model_reg = cnn_model_dropout_2(best_p, num_classes=26)\n",
        "cnn_model_reg.compile(\n",
        "      optimizer='adam',\n",
        "      loss='sparse_categorical_crossentropy',\n",
        "      metrics=['accuracy'],\n",
        "  )\n",
        "cnn_model_reg.fit(datagen.flow(X_train,Y_train, batch_size = len(X_train) // 200),epochs = EPOCHS , validation_data = (X_val, Y_val))\n",
        "print(cnn_model_reg.evaluate(X_test, Y_test))"
      ]
    },
    {
      "cell_type": "markdown",
      "source": [
        "## Conclusion\n",
        "### summary\n",
        "After loading, managing the data files and visualizing the data, I went in this notebook through a number of steps:\n",
        "* setting the data augmentation: applying random changes to the data in order to increase variability in the images: provide a larger and more varied training data for the models\n",
        "* train Deep Neural Networks: Due to the large number of weights, these models could not generalize well to unseen data\n",
        "* CNN: first architecture: relatively high results on both training and test datasets. However, it is still relatively low in comparison to human-level performance \n",
        "* CNN: slightly more suited architecture for the problem at hand. The regularized, tuned and (data-augmented) model reaches an accuracy of 98,9 %\n",
        "\n",
        "### Further improvements\n",
        "In order to improve the performance further, more advnaced techniques are needed. To mention a few:\n",
        "* make use of tranfer learning: using pretrained model weights and adapt its low-level learnt feature to the problem at hand\n",
        "* add residual blocks: enable deeper architectures, with less risk of overfitting and computational scalability\n"
      ],
      "metadata": {
        "id": "HBRSEPaZrkDf"
      }
    }
  ],
  "metadata": {
    "colab": {
      "collapsed_sections": [
        "hesF0oSI1_4A",
        "ibGH7SYd1_4K",
        "M0IMe2HoVveY",
        "n0Ej8kNOWNGe",
        "BJAjsMsp6Gn0",
        "QyGBWapME3gC"
      ],
      "provenance": [],
      "include_colab_link": true
    },
    "kernelspec": {
      "display_name": "Python 3.10.4 ('ds_env')",
      "language": "python",
      "name": "python3"
    },
    "language_info": {
      "codemirror_mode": {
        "name": "ipython",
        "version": 3
      },
      "file_extension": ".py",
      "mimetype": "text/x-python",
      "name": "python",
      "nbconvert_exporter": "python",
      "pygments_lexer": "ipython3",
      "version": "3.10.4"
    },
    "vscode": {
      "interpreter": {
        "hash": "006414dea9a04848ce797b510a25f3f28ac8668e3d3244e777242cca6bed477f"
      }
    }
  },
  "nbformat": 4,
  "nbformat_minor": 0
}