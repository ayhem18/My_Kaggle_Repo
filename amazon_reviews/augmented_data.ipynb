{
 "cells": [
  {
   "cell_type": "markdown",
   "metadata": {},
   "source": [
    "# Data Imports"
   ]
  },
  {
   "cell_type": "code",
   "execution_count": 1,
   "metadata": {
    "ExecuteTime": {
     "end_time": "2023-09-17T13:55:21.049919950Z",
     "start_time": "2023-09-17T13:55:20.867618399Z"
    }
   },
   "outputs": [],
   "source": [
    "# let's start with the data and see how it goes\n",
    "import os\n",
    "import pandas as pd\n",
    "HOME = os.getcwd()\n",
    "train_csv = os.path.join(HOME, 'data', 'train.csv')\n",
    "test_csv = os.path.join(HOME, 'data', 'test.csv')\n",
    "\n",
    "df_train = pd.read_csv(train_csv)\n",
    "df_test = pd.read_csv(test_csv)\n",
    "# set the columns names to lower case \n",
    "\n",
    "df_train.columns = [c.lower() for c in df_train.columns]\n",
    "df_test.columns = [c.lower() for c in df_test.columns]\n",
    "\n",
    "# remove unnecessary columns\n",
    "df_train.drop(columns=['helpfulness', 'score'], inplace=True)\n",
    "df_test.drop(columns=['helpfulness', 'score'], inplace=True)"
   ]
  },
  {
   "cell_type": "code",
   "execution_count": 2,
   "metadata": {
    "ExecuteTime": {
     "end_time": "2023-09-17T13:55:21.093064586Z",
     "start_time": "2023-09-17T13:55:21.092757Z"
    }
   },
   "outputs": [],
   "source": [
    "# add a small piece of code to call the pytorch_modular code\n",
    "from pathlib import Path\n",
    "import sys\n",
    "\n",
    "current = HOME\n",
    "while 'src' not in os.listdir(current):\n",
    "    current = Path(current).parent\n",
    "\n",
    "sys.path.append(str(current))\n",
    "sys.path.append(os.path.join(current, 'src'))"
   ]
  },
  {
   "cell_type": "code",
   "execution_count": 3,
   "metadata": {
    "ExecuteTime": {
     "end_time": "2023-09-17T13:55:21.094474458Z",
     "start_time": "2023-09-17T13:55:21.092989816Z"
    }
   },
   "outputs": [
    {
     "data": {
      "text/html": [
       "<div>\n",
       "<style scoped>\n",
       "    .dataframe tbody tr th:only-of-type {\n",
       "        vertical-align: middle;\n",
       "    }\n",
       "\n",
       "    .dataframe tbody tr th {\n",
       "        vertical-align: top;\n",
       "    }\n",
       "\n",
       "    .dataframe thead th {\n",
       "        text-align: right;\n",
       "    }\n",
       "</style>\n",
       "<table border=\"1\" class=\"dataframe\">\n",
       "  <thead>\n",
       "    <tr style=\"text-align: right;\">\n",
       "      <th></th>\n",
       "      <th>title</th>\n",
       "      <th>text</th>\n",
       "      <th>category</th>\n",
       "    </tr>\n",
       "  </thead>\n",
       "  <tbody>\n",
       "    <tr>\n",
       "      <th>0</th>\n",
       "      <td>Golden Valley Natural Buffalo Jerky</td>\n",
       "      <td>The description and photo on this product need...</td>\n",
       "      <td>grocery gourmet food</td>\n",
       "    </tr>\n",
       "    <tr>\n",
       "      <th>1</th>\n",
       "      <td>Westing Game</td>\n",
       "      <td>This was a great book!!!! It is well thought t...</td>\n",
       "      <td>toys games</td>\n",
       "    </tr>\n",
       "    <tr>\n",
       "      <th>2</th>\n",
       "      <td>Westing Game</td>\n",
       "      <td>I am a first year teacher, teaching 5th grade....</td>\n",
       "      <td>toys games</td>\n",
       "    </tr>\n",
       "    <tr>\n",
       "      <th>3</th>\n",
       "      <td>Westing Game</td>\n",
       "      <td>I got the book at my bookfair at school lookin...</td>\n",
       "      <td>toys games</td>\n",
       "    </tr>\n",
       "    <tr>\n",
       "      <th>4</th>\n",
       "      <td>I SPY A is For Jigsaw Puzzle 63pc</td>\n",
       "      <td>Hi! I'm Martine Redman and I created this puzz...</td>\n",
       "      <td>toys games</td>\n",
       "    </tr>\n",
       "  </tbody>\n",
       "</table>\n",
       "</div>"
      ],
      "text/plain": [
       "                                 title  \\\n",
       "0  Golden Valley Natural Buffalo Jerky   \n",
       "1                         Westing Game   \n",
       "2                         Westing Game   \n",
       "3                         Westing Game   \n",
       "4    I SPY A is For Jigsaw Puzzle 63pc   \n",
       "\n",
       "                                                text              category  \n",
       "0  The description and photo on this product need...  grocery gourmet food  \n",
       "1  This was a great book!!!! It is well thought t...            toys games  \n",
       "2  I am a first year teacher, teaching 5th grade....            toys games  \n",
       "3  I got the book at my bookfair at school lookin...            toys games  \n",
       "4  Hi! I'm Martine Redman and I created this puzz...            toys games  "
      ]
     },
     "execution_count": 3,
     "metadata": {},
     "output_type": "execute_result"
    }
   ],
   "source": [
    "df_train.head()"
   ]
  },
  {
   "cell_type": "code",
   "execution_count": 4,
   "metadata": {
    "ExecuteTime": {
     "end_time": "2023-09-17T13:55:21.096717811Z",
     "start_time": "2023-09-17T13:55:21.093288265Z"
    }
   },
   "outputs": [
    {
     "data": {
      "text/html": [
       "<div>\n",
       "<style scoped>\n",
       "    .dataframe tbody tr th:only-of-type {\n",
       "        vertical-align: middle;\n",
       "    }\n",
       "\n",
       "    .dataframe tbody tr th {\n",
       "        vertical-align: top;\n",
       "    }\n",
       "\n",
       "    .dataframe thead th {\n",
       "        text-align: right;\n",
       "    }\n",
       "</style>\n",
       "<table border=\"1\" class=\"dataframe\">\n",
       "  <thead>\n",
       "    <tr style=\"text-align: right;\">\n",
       "      <th></th>\n",
       "      <th>id</th>\n",
       "      <th>title</th>\n",
       "      <th>text</th>\n",
       "    </tr>\n",
       "  </thead>\n",
       "  <tbody>\n",
       "    <tr>\n",
       "      <th>0</th>\n",
       "      <td>0</td>\n",
       "      <td>PetSafe Staywell Pet Door with Clear Hard Flap</td>\n",
       "      <td>We've only had it installed about 2 weeks. So ...</td>\n",
       "    </tr>\n",
       "    <tr>\n",
       "      <th>1</th>\n",
       "      <td>1</td>\n",
       "      <td>Kaytee Timothy Cubes, 1-Pound</td>\n",
       "      <td>My bunny had a hard time eating this because t...</td>\n",
       "    </tr>\n",
       "    <tr>\n",
       "      <th>2</th>\n",
       "      <td>2</td>\n",
       "      <td>Body Back Buddy</td>\n",
       "      <td>would never in a million years have guessed th...</td>\n",
       "    </tr>\n",
       "    <tr>\n",
       "      <th>3</th>\n",
       "      <td>3</td>\n",
       "      <td>SnackMasters California Style Turkey Jerky</td>\n",
       "      <td>Being the jerky fanatic I am, snackmasters han...</td>\n",
       "    </tr>\n",
       "    <tr>\n",
       "      <th>4</th>\n",
       "      <td>4</td>\n",
       "      <td>Premier Busy Buddy Tug-a-Jug Treat Dispensing ...</td>\n",
       "      <td>Wondered how quick my dog would catch on to th...</td>\n",
       "    </tr>\n",
       "  </tbody>\n",
       "</table>\n",
       "</div>"
      ],
      "text/plain": [
       "   id                                              title  \\\n",
       "0   0     PetSafe Staywell Pet Door with Clear Hard Flap   \n",
       "1   1                      Kaytee Timothy Cubes, 1-Pound   \n",
       "2   2                                    Body Back Buddy   \n",
       "3   3         SnackMasters California Style Turkey Jerky   \n",
       "4   4  Premier Busy Buddy Tug-a-Jug Treat Dispensing ...   \n",
       "\n",
       "                                                text  \n",
       "0  We've only had it installed about 2 weeks. So ...  \n",
       "1  My bunny had a hard time eating this because t...  \n",
       "2  would never in a million years have guessed th...  \n",
       "3  Being the jerky fanatic I am, snackmasters han...  \n",
       "4  Wondered how quick my dog would catch on to th...  "
      ]
     },
     "execution_count": 4,
     "metadata": {},
     "output_type": "execute_result"
    }
   ],
   "source": [
    "df_test.head()"
   ]
  },
  {
   "cell_type": "code",
   "execution_count": 5,
   "metadata": {
    "ExecuteTime": {
     "end_time": "2023-09-17T13:55:21.096915401Z",
     "start_time": "2023-09-17T13:55:21.093470176Z"
    }
   },
   "outputs": [],
   "source": [
    "import nltk \n",
    "from nltk.tokenize import TweetTokenizer\n",
    "from nltk.corpus import stopwords\n",
    "\n",
    "try:\n",
    "    STOP_WORDS = list(stopwords.words('english'))\n",
    "except LookupError:\n",
    "    nltk.download('stopwords')\n",
    "    STOP_WORDS = list(stopwords.words('english'))"
   ]
  },
  {
   "cell_type": "code",
   "execution_count": 6,
   "metadata": {
    "ExecuteTime": {
     "end_time": "2023-09-17T13:55:21.097212598Z",
     "start_time": "2023-09-17T13:55:21.093713953Z"
    }
   },
   "outputs": [
    {
     "name": "stdout",
     "output_type": "stream",
     "text": [
      "See the title of this review. Fortunately, I am a packrat, and kept a bunch of hole repair kits from various blow up things that we have gone through over the years. Does not come with a hole repair kit though, just to warn you. Anyway, it is back in black and bouncing our 3 year old all over the place. Indoor only, I would say. Very highly recommended, in spite of a hole within a week of use. Hope that this is the first and last one... probably not.\n",
      "see title review . fortunately , packrat , kept bunch hole repair kits various blow things gone years . come hole repair kit though , warn . anyway , back black bouncing year old place . indoor , would say . highly recommended , spite hole within week use . hope first last one ... probably .\n"
     ]
    }
   ],
   "source": [
    "# preprocessing functions\n",
    "import re\n",
    "from typing import List\n",
    "\n",
    "def to_lower(text: str) -> str:\n",
    "    return text.lower()\n",
    "\n",
    "def no_extra_spaces(text: str) -> str:\n",
    "    return re.sub('\\s+', ' ', text)\n",
    "\n",
    "def no_extra_chars(text: str) -> str:\n",
    "    return re.sub(r'[^a-zA-Z\\s,!.;:-]+', ' ', text) \n",
    "\n",
    "text = 'aaa5531--==-||\"z2::,.a'\n",
    "\n",
    "def remove_stop_words(text: str,\n",
    "                      tokenizer: TweetTokenizer = None) -> str:\n",
    "    text = to_lower(text)    \n",
    "    tokenizer = TweetTokenizer() if tokenizer is None else tokenizer\n",
    "    tokens = tokenizer.tokenize(text)\n",
    "    # if the remove_stop_words argument is set to True, then filter stop words\n",
    "    tokens = [t.strip() for t in tokens if t not in STOP_WORDS] \n",
    "    return \" \".join(tokens)\n",
    "\n",
    "def process(text: str) -> str:\n",
    "    # first lower, remove extrac chracters\n",
    "    text1 = to_lower(no_extra_chars(text))\n",
    "    # remove redundant words\n",
    "    text2 = remove_stop_words(text1)\n",
    "    # remove extra spaces\n",
    "    return no_extra_spaces(text2)\n",
    "\n",
    "import random\n",
    "random.seed(69)\n",
    "example = df_train['text'][int(random.random() * len(df_train))]\n",
    "print(example)\n",
    "print(process(example))\n",
    "\n",
    "# # drop the 'text' column as only the title will be used for classification\n",
    "df_train.drop(columns=['text'], inplace=True)\n",
    "df_test.drop(columns=['text'], inplace=True)\n",
    "\n",
    "# 16 rows have missing values in the 'title' column, remove them\n",
    "df_train.dropna(inplace=True)"
   ]
  },
  {
   "cell_type": "code",
   "execution_count": 7,
   "metadata": {
    "ExecuteTime": {
     "end_time": "2023-09-17T13:55:21.097504435Z",
     "start_time": "2023-09-17T13:55:21.093860678Z"
    }
   },
   "outputs": [
    {
     "name": "stdout",
     "output_type": "stream",
     "text": [
      "title       0\n",
      "category    0\n",
      "dtype: int64\n",
      "####################################################################################################\n",
      "id       0\n",
      "title    5\n",
      "dtype: int64\n"
     ]
    }
   ],
   "source": [
    "print(df_train.isna().sum())\n",
    "print(\"#\" * 100)\n",
    "print(df_test.isna().sum())"
   ]
  },
  {
   "cell_type": "code",
   "execution_count": 8,
   "metadata": {
    "ExecuteTime": {
     "end_time": "2023-09-17T13:55:28.263882527Z",
     "start_time": "2023-09-17T13:55:21.093991142Z"
    }
   },
   "outputs": [],
   "source": [
    "import numpy as np\n",
    "\n",
    "cat2idx = {\n",
    "    'toys games': 0,\n",
    "    'health personal care': 1,\n",
    "    'beauty': 2,\n",
    "    'baby products': 3,\n",
    "    'pet supplies': 4,\n",
    "    'grocery gourmet food': 5,\n",
    "}\n",
    "\n",
    "idx2cat = {\n",
    "    0:'toys games',\n",
    "    1:'health personal care',\n",
    "    2:'beauty',\n",
    "    3:'baby products',\n",
    "    4:'pet supplies',\n",
    "    5:'grocery gourmet food' \n",
    "}\n",
    "\n",
    "# making sure the dataframes are ready for training\n",
    "def df_process_data(row):\n",
    "    if isinstance(row['title'], float):\n",
    "        row['title'] = random.choice(list(cat2idx.keys()))\n",
    "        return row\n",
    "    row['title'] = process(row['title'])\n",
    "    return row\n",
    "\n",
    "def df_process_labels(row):\n",
    "    row['category'] = process(row['category'])\n",
    "    # map it to an integer\n",
    "    row['category'] = cat2idx[row['category']]\n",
    "    return row\n",
    "\n",
    "# process the fields\n",
    "df_train = df_train.apply(df_process_data, axis=1)\n",
    "# process the labels\n",
    "df_train = df_train.apply(df_process_labels, axis=1)\n",
    "# process the data is the test split\n",
    "df_test = df_test.apply(df_process_data, axis=1)"
   ]
  },
  {
   "cell_type": "markdown",
   "metadata": {},
   "source": [
    "# Embeddings"
   ]
  },
  {
   "cell_type": "code",
   "execution_count": 10,
   "metadata": {
    "ExecuteTime": {
     "end_time": "2023-09-17T13:55:29.050319218Z",
     "start_time": "2023-09-17T13:55:28.277831762Z"
    }
   },
   "outputs": [],
   "source": [
    "# in the rest of the code I will be using the d\n",
    "import torch\n",
    "from transformers import AutoModel, AutoTokenizer\n",
    "NOTEBOOK_DEVICE = 'cuda' if torch.cuda.is_available() else 'cpu'\n",
    "CHECKPOINT = 'distilbert-base-uncased' # let's keep it simple as for the first iteration\n",
    "MODEL = AutoModel.from_pretrained(CHECKPOINT).to(NOTEBOOK_DEVICE)\n",
    "TOKENIZER = AutoTokenizer.from_pretrained(CHECKPOINT)"
   ]
  },
  {
   "cell_type": "code",
   "execution_count": 19,
   "metadata": {},
   "outputs": [],
   "source": [
    "import nlpaug.augmenter.word as naw\n",
    "import random\n",
    "random.seed(69)\n",
    "AUGMENTER1 = naw.ContextualWordEmbsAug(model_path=CHECKPOINT, aug_p=0.1, device=NOTEBOOK_DEVICE)\n",
    "AUGMENTER2 = naw.ContextualWordEmbsAug(model_path=CHECKPOINT, aug_p=0.1, device=NOTEBOOK_DEVICE)\n",
    "\n",
    "def augmented_df(df) -> pd.DataFrame:\n",
    "    aug_d1 = AUGMENTER1.augment(df['title'].tolist())\n",
    "    aug_d2 = AUGMENTER2.augment(df['title'].tolist())\n",
    "    df1 = pd.DataFrame(data={\"title\": aug_d1, \"category\": df['category']})\n",
    "    df2 = pd.DataFrame(data={\"title\": aug_d2, \"category\": df['category']})\n",
    "    return pd.concat([df1, df2])"
   ]
  },
  {
   "cell_type": "code",
   "execution_count": 22,
   "metadata": {},
   "outputs": [],
   "source": [
    "df_train_aug = augmented_df(df_train)"
   ]
  },
  {
   "cell_type": "code",
   "execution_count": 23,
   "metadata": {},
   "outputs": [],
   "source": [
    "df_train = pd.concat([df_train_aug, df_train])"
   ]
  },
  {
   "cell_type": "code",
   "execution_count": 24,
   "metadata": {
    "ExecuteTime": {
     "end_time": "2023-09-17T13:55:28.278018893Z",
     "start_time": "2023-09-17T13:55:28.265548448Z"
    }
   },
   "outputs": [],
   "source": [
    "from sklearn.model_selection import train_test_split\n",
    "train_data, val_data = train_test_split(df_train, test_size=0.15, stratify=df_train['category'], random_state=69)"
   ]
  },
  {
   "cell_type": "markdown",
   "metadata": {},
   "source": [
    "# Train Loaders"
   ]
  },
  {
   "cell_type": "code",
   "execution_count": 25,
   "metadata": {
    "ExecuteTime": {
     "end_time": "2023-09-17T13:55:29.093210680Z",
     "start_time": "2023-09-17T13:55:29.092817012Z"
    }
   },
   "outputs": [],
   "source": [
    "from torch.utils.data import DataLoader, Dataset\n",
    "\n",
    "\n",
    "def collate_function(batch: List[str], aug_prob: float = None):\n",
    "    # batch will represent a list of tuples (text, category) \n",
    "    x, y = [list(row) for row in zip(*batch)]\n",
    "    # convert both labels and data to tensors    \n",
    "    y_tensor = torch.FloatTensor(y).to(device=NOTEBOOK_DEVICE)\n",
    "    embeddings = MODEL(**TOKENIZER(x, padding=True, return_tensors='pt').to(NOTEBOOK_DEVICE)).last_hidden_state # make sure to return tensors\n",
    "    return embeddings.to(NOTEBOOK_DEVICE), y_tensor\n",
    "\n",
    "# let's create a dataset object really quick:\n",
    "class LabeledReviewDS(Dataset):\n",
    "    def __init__(self, data: pd.DataFrame) -> None:\n",
    "        super().__init__()\n",
    "        self.data = data\n",
    "\n",
    "    def __len__(self):\n",
    "        return len(self.data)\n",
    "\n",
    "    def __getitem__(self, index) -> tuple[str, int]:\n",
    "        return tuple(self.data.iloc[index, :2])\n",
    "\n",
    "# let's set the random seed\n",
    "\n",
    "torch.manual_seed(69)\n",
    "\n",
    "train_ds = LabeledReviewDS(train_data)\n",
    "val_ds = LabeledReviewDS(val_data)\n",
    "\n",
    "# create the dataloaders\n",
    "train_dl = DataLoader(dataset=train_ds, batch_size=64, shuffle=True, collate_fn=lambda x: collate_function(x, aug_prob=0.15), drop_last=True)\n",
    "val_dl = DataLoader(dataset=val_ds, batch_size=64, shuffle=False, collate_fn=collate_function)"
   ]
  },
  {
   "cell_type": "markdown",
   "metadata": {},
   "source": [
    "# Train A model"
   ]
  },
  {
   "cell_type": "code",
   "execution_count": 26,
   "metadata": {
    "ExecuteTime": {
     "end_time": "2023-09-17T13:55:29.094325168Z",
     "start_time": "2023-09-17T13:55:29.093361853Z"
    }
   },
   "outputs": [],
   "source": [
    "from torch import nn\n",
    "class SeqClassModel(nn.Module):\n",
    "    def __init__(self, \n",
    "                in_features: int,\n",
    "                hidden_size: int, \n",
    "                num_classes: int, \n",
    "                num_layers: int = 2, \n",
    "                dropout: float=0.3, \n",
    "                *args, **kwargs) -> None:\n",
    "        super().__init__(*args, **kwargs)\n",
    "        self.output_units = num_classes if num_classes > 2 else 1\n",
    "        self.rnn = nn.LSTM(input_size=in_features, \n",
    "                           hidden_size=hidden_size, \n",
    "                           dropout=dropout, \n",
    "                           num_layers=num_layers,\n",
    "                           bidirectional=True, # bidiretional RNN are more powerful\n",
    "                           batch_first=True # easier manipulation\n",
    "                           )\n",
    "        # 2: comes from the fact that the lstm is bidirectional, the rest is similar to the LSTM documention Pytorch\n",
    "        linear_input_dim = 2 * num_layers * hidden_size \n",
    "        self.batch_layer= nn.BatchNorm1d(num_features=linear_input_dim)\n",
    "        # self.relu_layer = nn.LeakyReLU()\n",
    "        self.head = nn.Linear(in_features=linear_input_dim, out_features=self.output_units)\n",
    "        \n",
    "    def forward(self, x: torch.Tensor):\n",
    "        # first pass it through the rnn\n",
    "        _, (hidden_state, _) = self.rnn(x)\n",
    "        batch_size = hidden_state.shape[1]\n",
    "        # first permuting channels: batch_size as dimensions '0' \n",
    "        # only only the last lstm layer\n",
    "        hidden_state = hidden_state.permute((1, 0, 2)).reshape((batch_size, -1))\n",
    "        return self.head.forward(self.batch_layer(hidden_state))\n"
   ]
  },
  {
   "cell_type": "code",
   "execution_count": 31,
   "metadata": {
    "ExecuteTime": {
     "end_time": "2023-09-17T13:55:29.094486140Z",
     "start_time": "2023-09-17T13:55:29.093505082Z"
    }
   },
   "outputs": [],
   "source": [
    "from torch.optim import AdamW\n",
    "from torch.optim.lr_scheduler import LinearLR\n",
    "from torchmetrics.classification import MulticlassF1Score, MulticlassAccuracy\n",
    "\n",
    "base_model = SeqClassModel(in_features=768, hidden_size=128, num_classes=6)\n",
    "optimizer = AdamW(base_model.parameters(), lr=0.01)\n",
    "scheduler = LinearLR(optimizer, start_factor=1.0, end_factor=0.005, total_iters=100)\n",
    "\n",
    "accuracy_metric, f1_metric = MulticlassAccuracy(num_classes=6), MulticlassF1Score(num_classes=6)\n",
    "\n",
    "metrics = {'accuracy': accuracy_metric, 'f1_score': f1_metric}\n",
    "\n",
    "\n",
    "train_configuration = {'optimizer': optimizer,\n",
    "                        'scheduler': scheduler,\n",
    "                        'min_val_loss': 10 ** -4,\n",
    "                        'max_epochs': 60,\n",
    "                        'report_epoch': 1,\n",
    "                        'device': NOTEBOOK_DEVICE, \n",
    "                        'metrics': metrics,\n",
    "                        'no_improve_stop': 15\n",
    "                        }"
   ]
  },
  {
   "cell_type": "code",
   "execution_count": 32,
   "metadata": {
    "ExecuteTime": {
     "end_time": "2023-09-17T13:55:58.229534101Z",
     "start_time": "2023-09-17T13:55:29.093614286Z"
    }
   },
   "outputs": [
    {
     "name": "stdout",
     "output_type": "stream",
     "text": [
      "[INFO] Created SummaryWriter, saving to: /home/ayhem18/DEV/My_Kaggle_Repo/amazon_reviews/runs/experience_27...\n"
     ]
    },
    {
     "name": "stderr",
     "output_type": "stream",
     "text": [
      "  0%|          | 0/60 [00:00<?, ?it/s]"
     ]
    },
    {
     "name": "stderr",
     "output_type": "stream",
     "text": [
      "  2%|▏         | 1/60 [02:43<2:41:10, 163.90s/it]"
     ]
    },
    {
     "name": "stdout",
     "output_type": "stream",
     "text": [
      "#########################\n",
      "training loss: 0.624814041431266\n",
      "train_accuracy: 0.7833075523376465\n",
      "train_f1_score: 0.7734293341636658\n",
      "validation loss : 0.5441950296467923\n",
      "val_accuracy: 0.8055578470230103\n",
      "val_f1_score: 0.805313229560852\n",
      "#########################\n"
     ]
    },
    {
     "name": "stderr",
     "output_type": "stream",
     "text": [
      "  3%|▎         | 2/60 [05:28<2:38:38, 164.12s/it]"
     ]
    },
    {
     "name": "stdout",
     "output_type": "stream",
     "text": [
      "#########################\n",
      "training loss: 0.4654958386392767\n",
      "train_accuracy: 0.8436644673347473\n",
      "train_f1_score: 0.8346681594848633\n",
      "validation loss : 0.45899075491631286\n",
      "val_accuracy: 0.8423064351081848\n",
      "val_f1_score: 0.8373845815658569\n",
      "#########################\n"
     ]
    },
    {
     "name": "stderr",
     "output_type": "stream",
     "text": [
      "  5%|▌         | 3/60 [08:11<2:35:32, 163.73s/it]"
     ]
    },
    {
     "name": "stdout",
     "output_type": "stream",
     "text": [
      "#########################\n",
      "training loss: 0.4141918997849149\n",
      "train_accuracy: 0.8616425395011902\n",
      "train_f1_score: 0.8530635237693787\n",
      "validation loss : 0.4326708790786723\n",
      "val_accuracy: 0.8575281500816345\n",
      "val_f1_score: 0.8460569977760315\n",
      "#########################\n"
     ]
    },
    {
     "name": "stderr",
     "output_type": "stream",
     "text": [
      "  7%|▋         | 4/60 [10:55<2:32:48, 163.73s/it]"
     ]
    },
    {
     "name": "stdout",
     "output_type": "stream",
     "text": [
      "#########################\n",
      "training loss: 0.3890629930647379\n",
      "train_accuracy: 0.8697640895843506\n",
      "train_f1_score: 0.861338198184967\n",
      "validation loss : 0.4150596187047079\n",
      "val_accuracy: 0.8669731616973877\n",
      "val_f1_score: 0.853295624256134\n",
      "#########################\n"
     ]
    },
    {
     "name": "stderr",
     "output_type": "stream",
     "text": [
      "  8%|▊         | 5/60 [13:38<2:29:53, 163.51s/it]"
     ]
    },
    {
     "name": "stdout",
     "output_type": "stream",
     "text": [
      "#########################\n",
      "training loss: 0.37274066949986995\n",
      "train_accuracy: 0.8764039278030396\n",
      "train_f1_score: 0.8678074479103088\n",
      "validation loss : 0.3975372667430986\n",
      "val_accuracy: 0.8630065321922302\n",
      "val_f1_score: 0.8593823909759521\n",
      "#########################\n"
     ]
    },
    {
     "name": "stderr",
     "output_type": "stream",
     "text": [
      " 10%|█         | 6/60 [16:21<2:27:02, 163.38s/it]"
     ]
    },
    {
     "name": "stdout",
     "output_type": "stream",
     "text": [
      "#########################\n",
      "training loss: 0.35179631757665114\n",
      "train_accuracy: 0.882953405380249\n",
      "train_f1_score: 0.8748288750648499\n",
      "validation loss : 0.45040311458262994\n",
      "val_accuracy: 0.8728832006454468\n",
      "val_f1_score: 0.8379121422767639\n",
      "#########################\n"
     ]
    },
    {
     "name": "stderr",
     "output_type": "stream",
     "text": [
      " 12%|█▏        | 7/60 [19:04<2:24:15, 163.31s/it]"
     ]
    },
    {
     "name": "stdout",
     "output_type": "stream",
     "text": [
      "#########################\n",
      "training loss: 0.33602279779657357\n",
      "train_accuracy: 0.8890826106071472\n",
      "train_f1_score: 0.8805086016654968\n",
      "validation loss : 0.4116989714456788\n",
      "val_accuracy: 0.8818569779396057\n",
      "val_f1_score: 0.8572685718536377\n",
      "#########################\n"
     ]
    },
    {
     "name": "stderr",
     "output_type": "stream",
     "text": [
      " 13%|█▎        | 8/60 [21:47<2:21:23, 163.15s/it]"
     ]
    },
    {
     "name": "stdout",
     "output_type": "stream",
     "text": [
      "#########################\n",
      "training loss: 0.32734451732935577\n",
      "train_accuracy: 0.8905859589576721\n",
      "train_f1_score: 0.8816654682159424\n",
      "validation loss : 0.3574498515074135\n",
      "val_accuracy: 0.8923094272613525\n",
      "val_f1_score: 0.876330554485321\n",
      "#########################\n"
     ]
    },
    {
     "name": "stderr",
     "output_type": "stream",
     "text": [
      " 15%|█▌        | 9/60 [24:30<2:18:43, 163.20s/it]"
     ]
    },
    {
     "name": "stdout",
     "output_type": "stream",
     "text": [
      "#########################\n",
      "training loss: 0.3154044836871817\n",
      "train_accuracy: 0.8956797122955322\n",
      "train_f1_score: 0.8871111273765564\n",
      "validation loss : 0.3679352754608114\n",
      "val_accuracy: 0.8814165592193604\n",
      "val_f1_score: 0.8710653781890869\n",
      "#########################\n"
     ]
    },
    {
     "name": "stderr",
     "output_type": "stream",
     "text": [
      " 17%|█▋        | 10/60 [27:13<2:15:59, 163.20s/it]"
     ]
    },
    {
     "name": "stdout",
     "output_type": "stream",
     "text": [
      "#########################\n",
      "training loss: 0.3115820486825813\n",
      "train_accuracy: 0.8970664739608765\n",
      "train_f1_score: 0.8888110518455505\n",
      "validation loss : 0.3393267026924072\n",
      "val_accuracy: 0.8902619481086731\n",
      "val_f1_score: 0.8802422285079956\n",
      "#########################\n"
     ]
    },
    {
     "name": "stderr",
     "output_type": "stream",
     "text": [
      " 18%|█▊        | 11/60 [29:56<2:13:15, 163.16s/it]"
     ]
    },
    {
     "name": "stdout",
     "output_type": "stream",
     "text": [
      "#########################\n",
      "training loss: 0.29894667220748\n",
      "train_accuracy: 0.9011328816413879\n",
      "train_f1_score: 0.893094003200531\n",
      "validation loss : 0.36778156015467134\n",
      "val_accuracy: 0.8867027163505554\n",
      "val_f1_score: 0.8715475797653198\n",
      "#########################\n"
     ]
    },
    {
     "name": "stderr",
     "output_type": "stream",
     "text": [
      " 20%|██        | 12/60 [32:40<2:10:36, 163.26s/it]"
     ]
    },
    {
     "name": "stdout",
     "output_type": "stream",
     "text": [
      "#########################\n",
      "training loss: 0.2897338869806662\n",
      "train_accuracy: 0.9053362011909485\n",
      "train_f1_score: 0.8965623378753662\n",
      "validation loss : 0.35452977079131925\n",
      "val_accuracy: 0.880494236946106\n",
      "val_f1_score: 0.8736609220504761\n",
      "#########################\n"
     ]
    },
    {
     "name": "stderr",
     "output_type": "stream",
     "text": [
      " 22%|██▏       | 13/60 [35:23<2:07:50, 163.20s/it]"
     ]
    },
    {
     "name": "stdout",
     "output_type": "stream",
     "text": [
      "#########################\n",
      "training loss: 0.28197246479374466\n",
      "train_accuracy: 0.9077281355857849\n",
      "train_f1_score: 0.899604320526123\n",
      "validation loss : 0.37937393134578745\n",
      "val_accuracy: 0.8851537108421326\n",
      "val_f1_score: 0.8774651288986206\n",
      "#########################\n"
     ]
    },
    {
     "name": "stderr",
     "output_type": "stream",
     "text": [
      " 23%|██▎       | 14/60 [38:06<2:05:05, 163.17s/it]"
     ]
    },
    {
     "name": "stdout",
     "output_type": "stream",
     "text": [
      "#########################\n",
      "training loss: 0.27518541195148655\n",
      "train_accuracy: 0.908929169178009\n",
      "train_f1_score: 0.9007154703140259\n",
      "validation loss : 0.32691813537732084\n",
      "val_accuracy: 0.8901875019073486\n",
      "val_f1_score: 0.8834104537963867\n",
      "#########################\n"
     ]
    },
    {
     "name": "stderr",
     "output_type": "stream",
     "text": [
      " 25%|██▌       | 15/60 [40:49<2:02:19, 163.09s/it]"
     ]
    },
    {
     "name": "stdout",
     "output_type": "stream",
     "text": [
      "#########################\n",
      "training loss: 0.26782796150032484\n",
      "train_accuracy: 0.911885142326355\n",
      "train_f1_score: 0.9039446115493774\n",
      "validation loss : 0.3561975881457329\n",
      "val_accuracy: 0.8799182772636414\n",
      "val_f1_score: 0.8744219541549683\n",
      "#########################\n"
     ]
    },
    {
     "name": "stderr",
     "output_type": "stream",
     "text": [
      " 27%|██▋       | 16/60 [43:33<1:59:44, 163.29s/it]"
     ]
    },
    {
     "name": "stdout",
     "output_type": "stream",
     "text": [
      "#########################\n",
      "training loss: 0.2634116089543268\n",
      "train_accuracy: 0.9137076139450073\n",
      "train_f1_score: 0.9060928225517273\n",
      "validation loss : 0.34185320326516816\n",
      "val_accuracy: 0.8951003551483154\n",
      "val_f1_score: 0.8844327926635742\n",
      "#########################\n"
     ]
    },
    {
     "name": "stderr",
     "output_type": "stream",
     "text": [
      " 28%|██▊       | 17/60 [46:16<1:57:00, 163.28s/it]"
     ]
    },
    {
     "name": "stdout",
     "output_type": "stream",
     "text": [
      "#########################\n",
      "training loss: 0.2630892631370394\n",
      "train_accuracy: 0.9119928479194641\n",
      "train_f1_score: 0.9040103554725647\n",
      "validation loss : 0.3364093080691412\n",
      "val_accuracy: 0.8919230103492737\n",
      "val_f1_score: 0.8822560906410217\n",
      "#########################\n"
     ]
    },
    {
     "name": "stderr",
     "output_type": "stream",
     "text": [
      " 30%|███       | 18/60 [49:00<1:54:20, 163.34s/it]"
     ]
    },
    {
     "name": "stdout",
     "output_type": "stream",
     "text": [
      "#########################\n",
      "training loss: 0.25470490519329203\n",
      "train_accuracy: 0.9170425534248352\n",
      "train_f1_score: 0.9093701839447021\n",
      "validation loss : 0.3494340869340491\n",
      "val_accuracy: 0.8924699425697327\n",
      "val_f1_score: 0.8840936422348022\n",
      "#########################\n"
     ]
    },
    {
     "name": "stderr",
     "output_type": "stream",
     "text": [
      " 32%|███▏      | 19/60 [51:43<1:51:32, 163.23s/it]"
     ]
    },
    {
     "name": "stdout",
     "output_type": "stream",
     "text": [
      "#########################\n",
      "training loss: 0.2527380825814891\n",
      "train_accuracy: 0.9170505404472351\n",
      "train_f1_score: 0.9097360968589783\n",
      "validation loss : 0.3389211665601172\n",
      "val_accuracy: 0.8815774321556091\n",
      "val_f1_score: 0.8811331391334534\n",
      "#########################\n"
     ]
    },
    {
     "name": "stderr",
     "output_type": "stream",
     "text": [
      " 33%|███▎      | 20/60 [54:26<1:48:52, 163.31s/it]"
     ]
    },
    {
     "name": "stdout",
     "output_type": "stream",
     "text": [
      "#########################\n",
      "training loss: 0.23890126145538937\n",
      "train_accuracy: 0.9209684133529663\n",
      "train_f1_score: 0.9131979942321777\n",
      "validation loss : 0.3297909198606268\n",
      "val_accuracy: 0.8871961832046509\n",
      "val_f1_score: 0.882787823677063\n",
      "#########################\n"
     ]
    },
    {
     "name": "stderr",
     "output_type": "stream",
     "text": [
      " 35%|███▌      | 21/60 [57:11<1:46:23, 163.67s/it]"
     ]
    },
    {
     "name": "stdout",
     "output_type": "stream",
     "text": [
      "#########################\n",
      "training loss: 0.23500788496656383\n",
      "train_accuracy: 0.9220826029777527\n",
      "train_f1_score: 0.9147211313247681\n",
      "validation loss : 0.32630078367730403\n",
      "val_accuracy: 0.8928298950195312\n",
      "val_f1_score: 0.8851272463798523\n",
      "#########################\n"
     ]
    },
    {
     "name": "stderr",
     "output_type": "stream",
     "text": [
      " 37%|███▋      | 22/60 [59:54<1:43:36, 163.59s/it]"
     ]
    },
    {
     "name": "stdout",
     "output_type": "stream",
     "text": [
      "#########################\n",
      "training loss: 0.23198215763054775\n",
      "train_accuracy: 0.9240731000900269\n",
      "train_f1_score: 0.91620934009552\n",
      "validation loss : 0.32762577683261945\n",
      "val_accuracy: 0.8943313956260681\n",
      "val_f1_score: 0.8843120336532593\n",
      "#########################\n"
     ]
    },
    {
     "name": "stderr",
     "output_type": "stream",
     "text": [
      " 38%|███▊      | 23/60 [1:02:37<1:40:49, 163.50s/it]"
     ]
    },
    {
     "name": "stdout",
     "output_type": "stream",
     "text": [
      "#########################\n",
      "training loss: 0.2230685958703097\n",
      "train_accuracy: 0.9256229400634766\n",
      "train_f1_score: 0.9184365272521973\n",
      "validation loss : 0.3496795007100342\n",
      "val_accuracy: 0.8909634351730347\n",
      "val_f1_score: 0.8842213153839111\n",
      "#########################\n"
     ]
    },
    {
     "name": "stderr",
     "output_type": "stream",
     "text": [
      " 40%|████      | 24/60 [1:05:21<1:38:07, 163.54s/it]"
     ]
    },
    {
     "name": "stdout",
     "output_type": "stream",
     "text": [
      "#########################\n",
      "training loss: 0.2207583234729029\n",
      "train_accuracy: 0.9278699159622192\n",
      "train_f1_score: 0.9198514819145203\n",
      "validation loss : 0.323334839934787\n",
      "val_accuracy: 0.8980064988136292\n",
      "val_f1_score: 0.8897956609725952\n",
      "#########################\n"
     ]
    },
    {
     "name": "stderr",
     "output_type": "stream",
     "text": [
      " 42%|████▏     | 25/60 [1:08:04<1:35:21, 163.47s/it]"
     ]
    },
    {
     "name": "stdout",
     "output_type": "stream",
     "text": [
      "#########################\n",
      "training loss: 0.2145512694561923\n",
      "train_accuracy: 0.9296973347663879\n",
      "train_f1_score: 0.9227617383003235\n",
      "validation loss : 0.31077250058875017\n",
      "val_accuracy: 0.8986194133758545\n",
      "val_f1_score: 0.8912683725357056\n",
      "#########################\n"
     ]
    },
    {
     "name": "stderr",
     "output_type": "stream",
     "text": [
      " 43%|████▎     | 26/60 [1:10:47<1:32:32, 163.32s/it]"
     ]
    },
    {
     "name": "stdout",
     "output_type": "stream",
     "text": [
      "#########################\n",
      "training loss: 0.21108104565928584\n",
      "train_accuracy: 0.9309092164039612\n",
      "train_f1_score: 0.9241523742675781\n",
      "validation loss : 0.31159783979045586\n",
      "val_accuracy: 0.9081543684005737\n",
      "val_f1_score: 0.8949733972549438\n",
      "#########################\n"
     ]
    },
    {
     "name": "stderr",
     "output_type": "stream",
     "text": [
      " 45%|████▌     | 27/60 [1:13:31<1:29:53, 163.43s/it]"
     ]
    },
    {
     "name": "stdout",
     "output_type": "stream",
     "text": [
      "#########################\n",
      "training loss: 0.20838112483936438\n",
      "train_accuracy: 0.9312685132026672\n",
      "train_f1_score: 0.9238835573196411\n",
      "validation loss : 0.317154383986977\n",
      "val_accuracy: 0.9064380526542664\n",
      "val_f1_score: 0.8945971131324768\n",
      "#########################\n"
     ]
    },
    {
     "name": "stderr",
     "output_type": "stream",
     "text": [
      " 47%|████▋     | 28/60 [1:16:14<1:27:04, 163.28s/it]"
     ]
    },
    {
     "name": "stdout",
     "output_type": "stream",
     "text": [
      "#########################\n",
      "training loss: 0.2033417454130868\n",
      "train_accuracy: 0.9323380589485168\n",
      "train_f1_score: 0.9259499311447144\n",
      "validation loss : 0.332357747784109\n",
      "val_accuracy: 0.9031924605369568\n",
      "val_f1_score: 0.8893856406211853\n",
      "#########################\n"
     ]
    },
    {
     "name": "stderr",
     "output_type": "stream",
     "text": [
      " 48%|████▊     | 29/60 [1:18:57<1:24:18, 163.17s/it]"
     ]
    },
    {
     "name": "stdout",
     "output_type": "stream",
     "text": [
      "#########################\n",
      "training loss: 0.20197653648024338\n",
      "train_accuracy: 0.9319815635681152\n",
      "train_f1_score: 0.9252028465270996\n",
      "validation loss : 0.3073870747330341\n",
      "val_accuracy: 0.9008771777153015\n",
      "val_f1_score: 0.8930427432060242\n",
      "#########################\n"
     ]
    },
    {
     "name": "stderr",
     "output_type": "stream",
     "text": [
      " 50%|█████     | 30/60 [1:21:40<1:21:32, 163.08s/it]"
     ]
    },
    {
     "name": "stdout",
     "output_type": "stream",
     "text": [
      "#########################\n",
      "training loss: 0.19829467611652796\n",
      "train_accuracy: 0.9339228868484497\n",
      "train_f1_score: 0.9268865585327148\n",
      "validation loss : 0.31479358496078363\n",
      "val_accuracy: 0.9077026844024658\n",
      "val_f1_score: 0.8911954164505005\n",
      "#########################\n"
     ]
    },
    {
     "name": "stderr",
     "output_type": "stream",
     "text": [
      " 52%|█████▏    | 31/60 [1:24:23<1:18:49, 163.08s/it]"
     ]
    },
    {
     "name": "stdout",
     "output_type": "stream",
     "text": [
      "#########################\n",
      "training loss: 0.1917570425906059\n",
      "train_accuracy: 0.9372875690460205\n",
      "train_f1_score: 0.9303452372550964\n",
      "validation loss : 0.3087385778467283\n",
      "val_accuracy: 0.9078048467636108\n",
      "val_f1_score: 0.8964628577232361\n",
      "#########################\n"
     ]
    },
    {
     "name": "stderr",
     "output_type": "stream",
     "text": [
      " 53%|█████▎    | 32/60 [1:27:06<1:16:05, 163.07s/it]"
     ]
    },
    {
     "name": "stdout",
     "output_type": "stream",
     "text": [
      "#########################\n",
      "training loss: 0.1932359884229383\n",
      "train_accuracy: 0.936916172504425\n",
      "train_f1_score: 0.9304003715515137\n",
      "validation loss : 0.28468405069611596\n",
      "val_accuracy: 0.9198958873748779\n",
      "val_f1_score: 0.9040467739105225\n",
      "#########################\n"
     ]
    },
    {
     "name": "stderr",
     "output_type": "stream",
     "text": [
      " 55%|█████▌    | 33/60 [1:29:49<1:13:23, 163.08s/it]"
     ]
    },
    {
     "name": "stdout",
     "output_type": "stream",
     "text": [
      "#########################\n",
      "training loss: 0.18201281745700026\n",
      "train_accuracy: 0.9405566453933716\n",
      "train_f1_score: 0.9335569739341736\n",
      "validation loss : 0.2936022647834839\n",
      "val_accuracy: 0.9144868850708008\n",
      "val_f1_score: 0.8997933268547058\n",
      "#########################\n"
     ]
    },
    {
     "name": "stderr",
     "output_type": "stream",
     "text": [
      " 57%|█████▋    | 34/60 [1:32:31<1:10:35, 162.90s/it]"
     ]
    },
    {
     "name": "stdout",
     "output_type": "stream",
     "text": [
      "#########################\n",
      "training loss: 0.18102232542073696\n",
      "train_accuracy: 0.940389096736908\n",
      "train_f1_score: 0.9331119060516357\n",
      "validation loss : 0.30962017503507594\n",
      "val_accuracy: 0.9140994548797607\n",
      "val_f1_score: 0.8936704993247986\n",
      "#########################\n"
     ]
    },
    {
     "name": "stderr",
     "output_type": "stream",
     "text": [
      " 58%|█████▊    | 35/60 [1:35:14<1:07:54, 162.98s/it]"
     ]
    },
    {
     "name": "stdout",
     "output_type": "stream",
     "text": [
      "#########################\n",
      "training loss: 0.17621359654233953\n",
      "train_accuracy: 0.9415411949157715\n",
      "train_f1_score: 0.9346655607223511\n",
      "validation loss : 0.2962948909253939\n",
      "val_accuracy: 0.9211128950119019\n",
      "val_f1_score: 0.9023481011390686\n",
      "#########################\n"
     ]
    },
    {
     "name": "stderr",
     "output_type": "stream",
     "text": [
      " 60%|██████    | 36/60 [1:37:57<1:05:12, 163.01s/it]"
     ]
    },
    {
     "name": "stdout",
     "output_type": "stream",
     "text": [
      "#########################\n",
      "training loss: 0.17204395427888322\n",
      "train_accuracy: 0.9444724321365356\n",
      "train_f1_score: 0.9375982284545898\n",
      "validation loss : 0.2750424177035795\n",
      "val_accuracy: 0.9055168032646179\n",
      "val_f1_score: 0.9035176634788513\n",
      "#########################\n"
     ]
    },
    {
     "name": "stderr",
     "output_type": "stream",
     "text": [
      " 62%|██████▏   | 37/60 [1:40:40<1:02:28, 162.96s/it]"
     ]
    },
    {
     "name": "stdout",
     "output_type": "stream",
     "text": [
      "#########################\n",
      "training loss: 0.16588986710611933\n",
      "train_accuracy: 0.9463545680046082\n",
      "train_f1_score: 0.9400557279586792\n",
      "validation loss : 0.2940605257023522\n",
      "val_accuracy: 0.9078581929206848\n",
      "val_f1_score: 0.9029098153114319\n",
      "#########################\n"
     ]
    },
    {
     "name": "stderr",
     "output_type": "stream",
     "text": [
      " 63%|██████▎   | 38/60 [1:43:23<59:44, 162.93s/it]  "
     ]
    },
    {
     "name": "stdout",
     "output_type": "stream",
     "text": [
      "#########################\n",
      "training loss: 0.16418292142137444\n",
      "train_accuracy: 0.9454382061958313\n",
      "train_f1_score: 0.9392470717430115\n",
      "validation loss : 0.2886722904781923\n",
      "val_accuracy: 0.9076282382011414\n",
      "val_f1_score: 0.9033184051513672\n",
      "#########################\n"
     ]
    },
    {
     "name": "stderr",
     "output_type": "stream",
     "text": [
      " 65%|██████▌   | 39/60 [1:46:06<56:59, 162.83s/it]"
     ]
    },
    {
     "name": "stdout",
     "output_type": "stream",
     "text": [
      "#########################\n",
      "training loss: 0.16184458951071157\n",
      "train_accuracy: 0.9474246501922607\n",
      "train_f1_score: 0.9407219886779785\n",
      "validation loss : 0.27733837725951316\n",
      "val_accuracy: 0.9070038795471191\n",
      "val_f1_score: 0.9055137634277344\n",
      "#########################\n"
     ]
    },
    {
     "name": "stderr",
     "output_type": "stream",
     "text": [
      " 67%|██████▋   | 40/60 [1:48:49<54:16, 162.81s/it]"
     ]
    },
    {
     "name": "stdout",
     "output_type": "stream",
     "text": [
      "#########################\n",
      "training loss: 0.15814255314545292\n",
      "train_accuracy: 0.9481683969497681\n",
      "train_f1_score: 0.9418627619743347\n",
      "validation loss : 0.2710557428736847\n",
      "val_accuracy: 0.9178174138069153\n",
      "val_f1_score: 0.9077887535095215\n",
      "#########################\n"
     ]
    },
    {
     "name": "stderr",
     "output_type": "stream",
     "text": [
      " 68%|██████▊   | 41/60 [1:51:31<51:33, 162.82s/it]"
     ]
    },
    {
     "name": "stdout",
     "output_type": "stream",
     "text": [
      "#########################\n",
      "training loss: 0.15488939175799685\n",
      "train_accuracy: 0.9489520788192749\n",
      "train_f1_score: 0.9432083368301392\n",
      "validation loss : 0.2960408933672076\n",
      "val_accuracy: 0.9145895838737488\n",
      "val_f1_score: 0.9037578105926514\n",
      "#########################\n"
     ]
    },
    {
     "name": "stderr",
     "output_type": "stream",
     "text": [
      " 70%|███████   | 42/60 [1:54:14<48:52, 162.90s/it]"
     ]
    },
    {
     "name": "stdout",
     "output_type": "stream",
     "text": [
      "#########################\n",
      "training loss: 0.15323804696987933\n",
      "train_accuracy: 0.9499512314796448\n",
      "train_f1_score: 0.9437553286552429\n",
      "validation loss : 0.27117619629130296\n",
      "val_accuracy: 0.9197510480880737\n",
      "val_f1_score: 0.9113265872001648\n",
      "#########################\n"
     ]
    },
    {
     "name": "stderr",
     "output_type": "stream",
     "text": [
      " 72%|███████▏  | 43/60 [1:56:57<46:08, 162.84s/it]"
     ]
    },
    {
     "name": "stdout",
     "output_type": "stream",
     "text": [
      "#########################\n",
      "training loss: 0.15054632118761035\n",
      "train_accuracy: 0.9515513777732849\n",
      "train_f1_score: 0.9451776146888733\n",
      "validation loss : 0.27245274382967055\n",
      "val_accuracy: 0.9122451543807983\n",
      "val_f1_score: 0.9063056707382202\n",
      "#########################\n"
     ]
    },
    {
     "name": "stderr",
     "output_type": "stream",
     "text": [
      " 73%|███████▎  | 44/60 [1:59:40<43:27, 162.97s/it]"
     ]
    },
    {
     "name": "stdout",
     "output_type": "stream",
     "text": [
      "#########################\n",
      "training loss: 0.1469227932393551\n",
      "train_accuracy: 0.9518728852272034\n",
      "train_f1_score: 0.9462850093841553\n",
      "validation loss : 0.2762318446254688\n",
      "val_accuracy: 0.9173176884651184\n",
      "val_f1_score: 0.9117028713226318\n",
      "#########################\n"
     ]
    },
    {
     "name": "stderr",
     "output_type": "stream",
     "text": [
      " 75%|███████▌  | 45/60 [2:02:23<40:44, 162.97s/it]"
     ]
    },
    {
     "name": "stdout",
     "output_type": "stream",
     "text": [
      "#########################\n",
      "training loss: 0.14069874037515515\n",
      "train_accuracy: 0.9545965790748596\n",
      "train_f1_score: 0.9484971165657043\n",
      "validation loss : 0.3060370916170431\n",
      "val_accuracy: 0.9074616432189941\n",
      "val_f1_score: 0.8915858864784241\n",
      "#########################\n"
     ]
    },
    {
     "name": "stderr",
     "output_type": "stream",
     "text": [
      " 77%|███████▋  | 46/60 [2:05:06<38:01, 162.94s/it]"
     ]
    },
    {
     "name": "stdout",
     "output_type": "stream",
     "text": [
      "#########################\n",
      "training loss: 0.1356954123007516\n",
      "train_accuracy: 0.9562616944313049\n",
      "train_f1_score: 0.9505376815795898\n",
      "validation loss : 0.29638452184591313\n",
      "val_accuracy: 0.9090223908424377\n",
      "val_f1_score: 0.9064628481864929\n",
      "#########################\n"
     ]
    },
    {
     "name": "stderr",
     "output_type": "stream",
     "text": [
      " 78%|███████▊  | 47/60 [2:07:49<35:17, 162.90s/it]"
     ]
    },
    {
     "name": "stdout",
     "output_type": "stream",
     "text": [
      "#########################\n",
      "training loss: 0.13516864465807996\n",
      "train_accuracy: 0.956018328666687\n",
      "train_f1_score: 0.9502392411231995\n",
      "validation loss : 0.30026422884870085\n",
      "val_accuracy: 0.9213385581970215\n",
      "val_f1_score: 0.8990538716316223\n",
      "#########################\n"
     ]
    },
    {
     "name": "stderr",
     "output_type": "stream",
     "text": [
      " 80%|████████  | 48/60 [2:10:32<32:34, 162.89s/it]"
     ]
    },
    {
     "name": "stdout",
     "output_type": "stream",
     "text": [
      "#########################\n",
      "training loss: 0.13097185940392272\n",
      "train_accuracy: 0.9569337964057922\n",
      "train_f1_score: 0.9508448243141174\n",
      "validation loss : 0.2804393193136293\n",
      "val_accuracy: 0.9057677984237671\n",
      "val_f1_score: 0.9044317007064819\n",
      "#########################\n"
     ]
    },
    {
     "name": "stderr",
     "output_type": "stream",
     "text": [
      " 82%|████████▏ | 49/60 [2:13:14<29:50, 162.75s/it]"
     ]
    },
    {
     "name": "stdout",
     "output_type": "stream",
     "text": [
      "#########################\n",
      "training loss: 0.12747953330416276\n",
      "train_accuracy: 0.9588859677314758\n",
      "train_f1_score: 0.9534929990768433\n",
      "validation loss : 0.3061195734544849\n",
      "val_accuracy: 0.8996095061302185\n",
      "val_f1_score: 0.9005774259567261\n",
      "#########################\n"
     ]
    },
    {
     "name": "stderr",
     "output_type": "stream",
     "text": [
      " 83%|████████▎ | 50/60 [2:15:57<27:07, 162.70s/it]"
     ]
    },
    {
     "name": "stdout",
     "output_type": "stream",
     "text": [
      "#########################\n",
      "training loss: 0.12318630011697292\n",
      "train_accuracy: 0.9595198631286621\n",
      "train_f1_score: 0.9539844989776611\n",
      "validation loss : 0.3029644625353898\n",
      "val_accuracy: 0.9145586490631104\n",
      "val_f1_score: 0.9054295420646667\n",
      "#########################\n"
     ]
    },
    {
     "name": "stderr",
     "output_type": "stream",
     "text": [
      " 85%|████████▌ | 51/60 [2:18:40<24:24, 162.74s/it]"
     ]
    },
    {
     "name": "stdout",
     "output_type": "stream",
     "text": [
      "#########################\n",
      "training loss: 0.11928270759829189\n",
      "train_accuracy: 0.9617543816566467\n",
      "train_f1_score: 0.9566172957420349\n",
      "validation loss : 0.26274917668378944\n",
      "val_accuracy: 0.924534022808075\n",
      "val_f1_score: 0.9124342203140259\n",
      "#########################\n"
     ]
    },
    {
     "name": "stderr",
     "output_type": "stream",
     "text": [
      " 87%|████████▋ | 52/60 [2:21:22<21:40, 162.52s/it]"
     ]
    },
    {
     "name": "stdout",
     "output_type": "stream",
     "text": [
      "#########################\n",
      "training loss: 0.11792728557834274\n",
      "train_accuracy: 0.9619300365447998\n",
      "train_f1_score: 0.9567068815231323\n",
      "validation loss : 0.28329189145501626\n",
      "val_accuracy: 0.9163578748703003\n",
      "val_f1_score: 0.9098788499832153\n",
      "#########################\n"
     ]
    },
    {
     "name": "stderr",
     "output_type": "stream",
     "text": [
      " 88%|████████▊ | 53/60 [2:24:04<18:57, 162.49s/it]"
     ]
    },
    {
     "name": "stdout",
     "output_type": "stream",
     "text": [
      "#########################\n",
      "training loss: 0.11484811850458065\n",
      "train_accuracy: 0.9627971649169922\n",
      "train_f1_score: 0.9571723341941833\n",
      "validation loss : 0.2762122264541421\n",
      "val_accuracy: 0.9200558066368103\n",
      "val_f1_score: 0.9138039350509644\n",
      "#########################\n"
     ]
    },
    {
     "name": "stderr",
     "output_type": "stream",
     "text": [
      " 90%|█████████ | 54/60 [2:26:46<16:14, 162.42s/it]"
     ]
    },
    {
     "name": "stdout",
     "output_type": "stream",
     "text": [
      "#########################\n",
      "training loss: 0.1117161799366051\n",
      "train_accuracy: 0.963699460029602\n",
      "train_f1_score: 0.9585846066474915\n",
      "validation loss : 0.28848923666151705\n",
      "val_accuracy: 0.9287794232368469\n",
      "val_f1_score: 0.9127436280250549\n",
      "#########################\n"
     ]
    },
    {
     "name": "stderr",
     "output_type": "stream",
     "text": [
      " 92%|█████████▏| 55/60 [2:29:30<13:34, 162.81s/it]"
     ]
    },
    {
     "name": "stdout",
     "output_type": "stream",
     "text": [
      "#########################\n",
      "training loss: 0.10757357150559446\n",
      "train_accuracy: 0.9648270606994629\n",
      "train_f1_score: 0.9601597785949707\n",
      "validation loss : 0.26386095967857126\n",
      "val_accuracy: 0.9280036091804504\n",
      "val_f1_score: 0.9163966178894043\n",
      "#########################\n"
     ]
    },
    {
     "name": "stderr",
     "output_type": "stream",
     "text": [
      " 93%|█████████▎| 56/60 [2:32:13<10:51, 162.77s/it]"
     ]
    },
    {
     "name": "stdout",
     "output_type": "stream",
     "text": [
      "#########################\n",
      "training loss: 0.10455742382432164\n",
      "train_accuracy: 0.9658377170562744\n",
      "train_f1_score: 0.9611656665802002\n",
      "validation loss : 0.2779472472925558\n",
      "val_accuracy: 0.9126416444778442\n",
      "val_f1_score: 0.9091469645500183\n",
      "#########################\n"
     ]
    },
    {
     "name": "stderr",
     "output_type": "stream",
     "text": [
      " 95%|█████████▌| 57/60 [2:39:28<12:13, 244.46s/it]"
     ]
    },
    {
     "name": "stdout",
     "output_type": "stream",
     "text": [
      "#########################\n",
      "training loss: 0.10096696730906568\n",
      "train_accuracy: 0.9676755666732788\n",
      "train_f1_score: 0.9628610610961914\n",
      "validation loss : 0.2589647296406593\n",
      "val_accuracy: 0.9250345230102539\n",
      "val_f1_score: 0.9185603260993958\n",
      "#########################\n"
     ]
    },
    {
     "name": "stderr",
     "output_type": "stream",
     "text": [
      " 95%|█████████▌| 57/60 [2:45:42<08:43, 174.42s/it]\n"
     ]
    },
    {
     "ename": "RuntimeError",
     "evalue": "unique_by_key: failed to synchronize: cudaErrorLaunchFailure: unspecified launch failure",
     "output_type": "error",
     "traceback": [
      "\u001b[0;31m---------------------------------------------------------------------------\u001b[0m",
      "\u001b[0;31mRuntimeError\u001b[0m                              Traceback (most recent call last)",
      "Cell \u001b[0;32mIn[32], line 2\u001b[0m\n\u001b[1;32m      1\u001b[0m \u001b[39mimport\u001b[39;00m \u001b[39msrc\u001b[39;00m\u001b[39m.\u001b[39;00m\u001b[39mpytorch_modular\u001b[39;00m\u001b[39m.\u001b[39;00m\u001b[39mimage_classification\u001b[39;00m\u001b[39m.\u001b[39;00m\u001b[39mengine_classification\u001b[39;00m \u001b[39mas\u001b[39;00m \u001b[39mcls\u001b[39;00m\n\u001b[0;32m----> 2\u001b[0m results \u001b[39m=\u001b[39m \u001b[39mcls\u001b[39;49m\u001b[39m.\u001b[39;49mtrain_model(base_model, train_dl, val_dl, train_configuration,    \n\u001b[1;32m      3\u001b[0m                             log_dir\u001b[39m=\u001b[39;49mos\u001b[39m.\u001b[39;49mpath\u001b[39m.\u001b[39;49mjoin(HOME, \u001b[39m'\u001b[39;49m\u001b[39mruns\u001b[39;49m\u001b[39m'\u001b[39;49m),         \n\u001b[1;32m      4\u001b[0m                             save_path\u001b[39m=\u001b[39;49mos\u001b[39m.\u001b[39;49mpath\u001b[39m.\u001b[39;49mjoin(HOME, \u001b[39m'\u001b[39;49m\u001b[39msaved_models\u001b[39;49m\u001b[39m'\u001b[39;49m))   \n",
      "File \u001b[0;32m~/DEV/My_Kaggle_Repo/src/pytorch_modular/image_classification/engine_classification.py:200\u001b[0m, in \u001b[0;36mtrain_model\u001b[0;34m(model, train_dataloader, test_dataloader, train_configuration, log_dir, save_path)\u001b[0m\n\u001b[1;32m    196\u001b[0m writer \u001b[39m=\u001b[39m \u001b[39mNone\u001b[39;00m \u001b[39mif\u001b[39;00m log_dir \u001b[39mis\u001b[39;00m \u001b[39mNone\u001b[39;00m \u001b[39melse\u001b[39;00m create_summary_writer(log_dir)\n\u001b[1;32m    198\u001b[0m \u001b[39mfor\u001b[39;00m epoch \u001b[39min\u001b[39;00m tqdm(\u001b[39mrange\u001b[39m(train_configuration[ut\u001b[39m.\u001b[39mMAX_EPOCHS])):\n\u001b[0;32m--> 200\u001b[0m     epoch_train_metrics \u001b[39m=\u001b[39m train_per_epoch(model\u001b[39m=\u001b[39;49mmodel,\n\u001b[1;32m    201\u001b[0m                                           train_dataloader\u001b[39m=\u001b[39;49mtrain_dataloader,\n\u001b[1;32m    202\u001b[0m                                           loss_function\u001b[39m=\u001b[39;49mtrain_configuration[ut\u001b[39m.\u001b[39;49mLOSS_FUNCTION],\n\u001b[1;32m    203\u001b[0m                                           optimizer\u001b[39m=\u001b[39;49mtrain_configuration[ut\u001b[39m.\u001b[39;49mOPTIMIZER],\n\u001b[1;32m    204\u001b[0m                                           output_layer\u001b[39m=\u001b[39;49mtrain_configuration[ut\u001b[39m.\u001b[39;49mOUTPUT_LAYER],\n\u001b[1;32m    205\u001b[0m                                           scheduler\u001b[39m=\u001b[39;49mtrain_configuration[ut\u001b[39m.\u001b[39;49mSCHEDULER],\n\u001b[1;32m    206\u001b[0m                                           device\u001b[39m=\u001b[39;49mtrain_configuration[ut\u001b[39m.\u001b[39;49mDEVICE],\n\u001b[1;32m    207\u001b[0m                                           debug\u001b[39m=\u001b[39;49mtrain_configuration[ut\u001b[39m.\u001b[39;49mDEBUG], \n\u001b[1;32m    208\u001b[0m                                           metrics\u001b[39m=\u001b[39;49mtrain_configuration[ut\u001b[39m.\u001b[39;49mMETRICS])\n\u001b[1;32m    210\u001b[0m     epoch_val_metrics \u001b[39m=\u001b[39m val_per_epoch(model\u001b[39m=\u001b[39mmodel, dataloader\u001b[39m=\u001b[39mtest_dataloader,\n\u001b[1;32m    211\u001b[0m                                       loss_function\u001b[39m=\u001b[39mtrain_configuration[ut\u001b[39m.\u001b[39mLOSS_FUNCTION],\n\u001b[1;32m    212\u001b[0m                                       output_layer\u001b[39m=\u001b[39mtrain_configuration[ut\u001b[39m.\u001b[39mOUTPUT_LAYER],\n\u001b[1;32m    213\u001b[0m                                       device\u001b[39m=\u001b[39mtrain_configuration[ut\u001b[39m.\u001b[39mDEVICE],\n\u001b[1;32m    214\u001b[0m                                       debug\u001b[39m=\u001b[39mtrain_configuration[ut\u001b[39m.\u001b[39mDEBUG], \n\u001b[1;32m    215\u001b[0m                                       metrics\u001b[39m=\u001b[39mtrain_configuration[ut\u001b[39m.\u001b[39mMETRICS])\n\u001b[1;32m    217\u001b[0m     epoch_train_loss \u001b[39m=\u001b[39m epoch_train_metrics[ut\u001b[39m.\u001b[39mTRAIN_LOSS]\n",
      "File \u001b[0;32m~/DEV/My_Kaggle_Repo/src/pytorch_modular/image_classification/epoch_engine.py:109\u001b[0m, in \u001b[0;36mtrain_per_epoch\u001b[0;34m(model, train_dataloader, loss_function, optimizer, output_layer, scheduler, device, metrics, debug)\u001b[0m\n\u001b[1;32m    107\u001b[0m train_loss \u001b[39m+\u001b[39m\u001b[39m=\u001b[39m batch_loss\u001b[39m.\u001b[39mitem()\n\u001b[1;32m    108\u001b[0m optimizer\u001b[39m.\u001b[39mzero_grad()\n\u001b[0;32m--> 109\u001b[0m batch_loss\u001b[39m.\u001b[39;49mbackward()\n\u001b[1;32m    110\u001b[0m \u001b[39m# optimizer's step\u001b[39;00m\n\u001b[1;32m    111\u001b[0m optimizer\u001b[39m.\u001b[39mstep()\n",
      "File \u001b[0;32m~/DEV/My_Kaggle_Repo/kaggle_env/lib/python3.11/site-packages/torch/_tensor.py:487\u001b[0m, in \u001b[0;36mTensor.backward\u001b[0;34m(self, gradient, retain_graph, create_graph, inputs)\u001b[0m\n\u001b[1;32m    477\u001b[0m \u001b[39mif\u001b[39;00m has_torch_function_unary(\u001b[39mself\u001b[39m):\n\u001b[1;32m    478\u001b[0m     \u001b[39mreturn\u001b[39;00m handle_torch_function(\n\u001b[1;32m    479\u001b[0m         Tensor\u001b[39m.\u001b[39mbackward,\n\u001b[1;32m    480\u001b[0m         (\u001b[39mself\u001b[39m,),\n\u001b[0;32m   (...)\u001b[0m\n\u001b[1;32m    485\u001b[0m         inputs\u001b[39m=\u001b[39minputs,\n\u001b[1;32m    486\u001b[0m     )\n\u001b[0;32m--> 487\u001b[0m torch\u001b[39m.\u001b[39;49mautograd\u001b[39m.\u001b[39;49mbackward(\n\u001b[1;32m    488\u001b[0m     \u001b[39mself\u001b[39;49m, gradient, retain_graph, create_graph, inputs\u001b[39m=\u001b[39;49minputs\n\u001b[1;32m    489\u001b[0m )\n",
      "File \u001b[0;32m~/DEV/My_Kaggle_Repo/kaggle_env/lib/python3.11/site-packages/torch/autograd/__init__.py:200\u001b[0m, in \u001b[0;36mbackward\u001b[0;34m(tensors, grad_tensors, retain_graph, create_graph, grad_variables, inputs)\u001b[0m\n\u001b[1;32m    195\u001b[0m     retain_graph \u001b[39m=\u001b[39m create_graph\n\u001b[1;32m    197\u001b[0m \u001b[39m# The reason we repeat same the comment below is that\u001b[39;00m\n\u001b[1;32m    198\u001b[0m \u001b[39m# some Python versions print out the first line of a multi-line function\u001b[39;00m\n\u001b[1;32m    199\u001b[0m \u001b[39m# calls in the traceback and some print out the last line\u001b[39;00m\n\u001b[0;32m--> 200\u001b[0m Variable\u001b[39m.\u001b[39;49m_execution_engine\u001b[39m.\u001b[39;49mrun_backward(  \u001b[39m# Calls into the C++ engine to run the backward pass\u001b[39;49;00m\n\u001b[1;32m    201\u001b[0m     tensors, grad_tensors_, retain_graph, create_graph, inputs,\n\u001b[1;32m    202\u001b[0m     allow_unreachable\u001b[39m=\u001b[39;49m\u001b[39mTrue\u001b[39;49;00m, accumulate_grad\u001b[39m=\u001b[39;49m\u001b[39mTrue\u001b[39;49;00m)\n",
      "\u001b[0;31mRuntimeError\u001b[0m: unique_by_key: failed to synchronize: cudaErrorLaunchFailure: unspecified launch failure"
     ]
    }
   ],
   "source": [
    "import src.pytorch_modular.image_classification.engine_classification as cls\n",
    "results = cls.train_model(base_model, train_dl, val_dl, train_configuration,    \n",
    "                            log_dir=os.path.join(HOME, 'runs'),         \n",
    "                            save_path=os.path.join(HOME, 'saved_models'))   "
   ]
  },
  {
   "cell_type": "markdown",
   "metadata": {},
   "source": [
    "# Inference "
   ]
  },
  {
   "cell_type": "code",
   "execution_count": null,
   "metadata": {
    "ExecuteTime": {
     "start_time": "2023-09-17T13:55:58.229436037Z"
    }
   },
   "outputs": [],
   "source": [
    "# let's make the damn submission\n",
    "from src.pytorch_modular.pytorch_utilities import load_model\n",
    "# base_model = SeqClassModel(in_features=768, hidden_size=128, num_classes=6)\n",
    "# base_model = load_model(base_model=base_model, path=os.path.join(HOME, 'saved_models', '9-17-15-10.pt'))\n",
    "# let's create a dataset object really quick:\n",
    "class TestReviewDS(Dataset):\n",
    "    def __init__(self, data: pd.DataFrame) -> None:\n",
    "        super().__init__()\n",
    "        self.data = data\n",
    "\n",
    "    def __len__(self):\n",
    "        return len(self.data)\n",
    "\n",
    "    def __getitem__(self, index) -> tuple[str, int]:\n",
    "        return self.data.iloc[index, 1]\n",
    "\n",
    "# we need a different callate_function\n",
    "def test_collate_function(batch):\n",
    "    embeddings = MODEL(**TOKENIZER(batch, padding=True, return_tensors='pt').to(NOTEBOOK_DEVICE)).last_hidden_state # make sure to return tensors\n",
    "    return embeddings.to(NOTEBOOK_DEVICE)\n",
    "    \n",
    "# let's set the random seed\n",
    "\n",
    "torch.manual_seed(69)\n",
    "\n",
    "test_ds = TestReviewDS(data=df_test)\n",
    "test_loader = DataLoader(test_ds, batch_size=32, shuffle=False, collate_fn=test_collate_function)\n",
    "# next(iter(test_loader)).shape\n",
    "predictions = cls.inference(base_model, inference_source_data=test_loader, return_tensor='list')\n",
    "# convert the numerical labels to the string ones\n",
    "predictions = [idx2cat[p] for p in predictions]"
   ]
  },
  {
   "cell_type": "code",
   "execution_count": null,
   "metadata": {
    "ExecuteTime": {
     "end_time": "2023-09-17T13:55:58.276032280Z",
     "start_time": "2023-09-17T13:55:58.272755631Z"
    }
   },
   "outputs": [],
   "source": [
    "submission = pd.DataFrame(data={\"id\": df_test['id'].tolist(), \"Category\": predictions})\n",
    "sub_dir = os.path.join(HOME, 'submissions')\n",
    "submission.to_csv(os.path.join(sub_dir, f'sub_{len(os.listdir(sub_dir)) + 1}.csv'), index=False)"
   ]
  }
 ],
 "metadata": {
  "kernelspec": {
   "display_name": "kaggle_env",
   "language": "python",
   "name": "python3"
  },
  "language_info": {
   "codemirror_mode": {
    "name": "ipython",
    "version": 3
   },
   "file_extension": ".py",
   "mimetype": "text/x-python",
   "name": "python",
   "nbconvert_exporter": "python",
   "pygments_lexer": "ipython3",
   "version": "3.11.5"
  },
  "orig_nbformat": 4
 },
 "nbformat": 4,
 "nbformat_minor": 2
}
