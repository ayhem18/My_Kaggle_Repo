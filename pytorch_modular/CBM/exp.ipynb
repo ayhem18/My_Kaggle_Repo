{
 "cells": [
  {
   "cell_type": "code",
   "execution_count": 2,
   "id": "initial_id",
   "metadata": {
    "collapsed": true,
    "ExecuteTime": {
     "end_time": "2023-10-08T19:18:13.263505972Z",
     "start_time": "2023-10-08T19:18:13.221094792Z"
    }
   },
   "outputs": [],
   "source": [
    "import os, sys\n",
    "import importlib\n",
    "\n",
    "from pathlib import Path\n",
    "\n",
    "CODEBASE_NAME = 'pytorch_modular'\n",
    "HOME = os.getcwd()\n",
    "\n",
    "try:\n",
    "    from pytorch_modular import directories_and_files as dirf\n",
    "except ModuleNotFoundError:\n",
    "    current = HOME\n",
    "    while CODEBASE_NAME not in os.listdir(current):\n",
    "        current = Path(current).parent\n",
    "\n",
    "    PROJECT_DIR = str(current)\n",
    "    sys.path.append(PROJECT_DIR\n",
    "                    )\n",
    "    sys.path.append(os.path.join(PROJECT_DIR, CODEBASE_NAME))\n",
    "    from pytorch_modular import directories_and_files as dirf\n"
   ]
  },
  {
   "cell_type": "code",
   "execution_count": null,
   "outputs": [],
   "source": [],
   "metadata": {
    "collapsed": false
   },
   "id": "53cba94d4a184dd2"
  },
  {
   "cell_type": "code",
   "execution_count": 12,
   "outputs": [],
   "source": [
    "from pytorch_modular.CBM.data.concepts_labels import raw_concepts_generator as rcg\n",
    "importlib.reload(rcg)\n",
    "generator = rcg.RawChatGptConceptGenerator()\n",
    "# just a small call to test the functionality of the class\n",
    "# concepts = generator.generate_concepts(classes=['cat', 'dog'], by_type=True)"
   ],
   "metadata": {
    "collapsed": false,
    "ExecuteTime": {
     "end_time": "2023-10-08T19:26:20.201916299Z",
     "start_time": "2023-10-08T19:26:11.550386316Z"
    }
   },
   "id": "661b4a65d27a10f1"
  },
  {
   "cell_type": "code",
   "execution_count": 13,
   "outputs": [
    {
     "data": {
      "text/plain": "{'cat': {'important': ['a long tail',\n   'a small to medium-sized body',\n   'four legs',\n   'furry coat',\n   'pointed ears',\n   'whiskers'],\n  'superclass': ['animal', 'mammal', 'organism', 'vertebrate'],\n  'around': ['a bowl of food',\n   'a bowl of water',\n   'a cat',\n   'a cat bed',\n   'a cat food bowl',\n   'a cat toy',\n   'a house',\n   'a litter box',\n   'a person',\n   'a scratching post',\n   'a toy']},\n 'dog': {'important': ['a four-legged animal',\n   'a four-legged mammal',\n   'a tail',\n   'a wet nose',\n   'fur',\n   'pointed ears'],\n  'superclass': ['animal', 'mammal', 'organism', 'vertebrate'],\n  'around': ['a bowl',\n   'a collar',\n   'a dog tag',\n   'a leash',\n   'a person',\n   'a toy',\n   'food',\n   'water']}}"
     },
     "execution_count": 13,
     "metadata": {},
     "output_type": "execute_result"
    }
   ],
   "source": [
    "\n"
   ],
   "metadata": {
    "collapsed": false,
    "ExecuteTime": {
     "end_time": "2023-10-08T19:26:27.197053214Z",
     "start_time": "2023-10-08T19:26:27.192512086Z"
    }
   },
   "id": "afda4ed6aa42f461"
  },
  {
   "cell_type": "code",
   "execution_count": null,
   "outputs": [],
   "source": [],
   "metadata": {
    "collapsed": false
   },
   "id": "df875be915b808c"
  }
 ],
 "metadata": {
  "kernelspec": {
   "display_name": "Python 3",
   "language": "python",
   "name": "python3"
  },
  "language_info": {
   "codemirror_mode": {
    "name": "ipython",
    "version": 2
   },
   "file_extension": ".py",
   "mimetype": "text/x-python",
   "name": "python",
   "nbconvert_exporter": "python",
   "pygments_lexer": "ipython2",
   "version": "2.7.6"
  }
 },
 "nbformat": 4,
 "nbformat_minor": 5
}
