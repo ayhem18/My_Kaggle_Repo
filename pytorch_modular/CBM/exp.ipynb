{
 "cells": [
  {
   "cell_type": "code",
   "execution_count": 1,
   "id": "initial_id",
   "metadata": {
    "ExecuteTime": {
     "end_time": "2023-10-09T09:41:47.003508696Z",
     "start_time": "2023-10-09T09:41:46.957443290Z"
    },
    "collapsed": true
   },
   "outputs": [],
   "source": [
    "import os, sys\n",
    "import importlib\n",
    "\n",
    "from pathlib import Path\n",
    "\n",
    "CODEBASE_NAME = 'pytorch_modular'\n",
    "HOME = os.getcwd()\n",
    "\n",
    "try:\n",
    "    from pytorch_modular import directories_and_files as dirf\n",
    "except ModuleNotFoundError:\n",
    "    current = HOME\n",
    "    while CODEBASE_NAME not in os.listdir(current):\n",
    "        current = Path(current).parent\n",
    "\n",
    "    PROJECT_DIR = str(current)\n",
    "    sys.path.append(PROJECT_DIR\n",
    "                    )\n",
    "    sys.path.append(os.path.join(PROJECT_DIR, CODEBASE_NAME))\n",
    "    from pytorch_modular import directories_and_files as dirf\n"
   ]
  },
  {
   "cell_type": "code",
   "execution_count": 2,
   "id": "661b4a65d27a10f1",
   "metadata": {
    "ExecuteTime": {
     "end_time": "2023-10-09T09:42:07.113615047Z",
     "start_time": "2023-10-09T09:41:47.007237035Z"
    },
    "collapsed": false
   },
   "outputs": [],
   "source": [
    "from pytorch_modular.CBM.data.concepts_generation import raw_concepts_generator as rcg, concepts_processing as cpro\n",
    "importlib.reload(rcg)\n",
    "generator = rcg.RawChatGptConceptGenerator()\n",
    "# just a small call to test the functionality of the class\n",
    "\n",
    "# concepts = generator.generate_concepts(classes=['cat', 'dog'], by_type=False)\n"
   ]
  },
  {
   "cell_type": "code",
   "execution_count": 3,
   "id": "1e47eaee",
   "metadata": {},
   "outputs": [
    {
     "data": {
      "text/plain": [
       "{'cat': ['a bed',\n",
       "  'a bowl',\n",
       "  'a cat bed',\n",
       "  'a cat food bowl',\n",
       "  'a catnip mouse',\n",
       "  'a house',\n",
       "  'a litter box',\n",
       "  'a long tail',\n",
       "  'a person',\n",
       "  'a scratching post',\n",
       "  'a small to medium sized body',\n",
       "  'a small to medium-sized body',\n",
       "  'a tail',\n",
       "  'a toy',\n",
       "  'animal',\n",
       "  'four legs',\n",
       "  'furry coat',\n",
       "  'mammal',\n",
       "  'organism',\n",
       "  'pointed ears',\n",
       "  'vertebrate',\n",
       "  'whiskers'],\n",
       " 'dog': ['a bowl',\n",
       "  'a collar',\n",
       "  'a dog tag',\n",
       "  'a four-legged animal',\n",
       "  'a leash',\n",
       "  'a person',\n",
       "  'a tail',\n",
       "  'a toy',\n",
       "  'a wet nose',\n",
       "  'animal',\n",
       "  'food',\n",
       "  'fur',\n",
       "  'mammal',\n",
       "  'organism',\n",
       "  'pointed ears',\n",
       "  'vertebrate',\n",
       "  'water']}"
      ]
     },
     "execution_count": 3,
     "metadata": {},
     "output_type": "execute_result"
    }
   ],
   "source": [
    "# save the concepts to avoid generating them for each run\n",
    "import json\n",
    "# concepts_json = json.dumps(concepts, indent=4)\n",
    "# with open('demo_concepts.json', 'w') as file:\n",
    "#     file.write(concepts_json)\n",
    "\n",
    "with open('demo_concepts.json', 'r') as f:\n",
    "    concepts = json.load(f)\n",
    "concepts"
   ]
  },
  {
   "cell_type": "code",
   "execution_count": 4,
   "id": "896b36f540808ba3",
   "metadata": {
    "ExecuteTime": {
     "end_time": "2023-10-09T09:42:07.118491114Z",
     "start_time": "2023-10-09T09:42:07.117971347Z"
    },
    "collapsed": false
   },
   "outputs": [],
   "source": [
    "# these values are taken as they are from the 'Label-Free CBM' paper\n",
    "CLASS_SIM_CUTOFF = 0.85\n",
    "OTHER_SIM_CUTOFF = 0.9\n",
    "MAX_LEN = 30\n",
    "PRINT_PROB = 1"
   ]
  },
  {
   "cell_type": "code",
   "execution_count": 5,
   "id": "c01fa8e0be2704eb",
   "metadata": {
    "ExecuteTime": {
     "end_time": "2023-10-09T09:44:26.093240248Z",
     "start_time": "2023-10-09T09:44:24.298704070Z"
    },
    "collapsed": false
   },
   "outputs": [
    {
     "name": "stdout",
     "output_type": "stream",
     "text": [
      "Filtering concepts with class similarity started !!!\n",
      "22\n",
      "22\n",
      "Class:dog - Concept:animal, sim:0.855 - Deleting animal\n",
      "\n",
      "21\n",
      "Filtering concepts by mutual concept-similarity started !!!\n",
      "a small to medium sized body - a small to medium-sized body , sim:0.9876 - Deleting a small to medium-sized body\n",
      "20\n",
      "Filtering concepts with class similarity started !!!\n",
      "17\n",
      "17\n",
      "Class:dog - Concept:animal, sim:0.855 - Deleting animal\n",
      "\n",
      "16\n",
      "Filtering concepts by mutual concept-similarity started !!!\n",
      "16\n"
     ]
    }
   ],
   "source": [
    "filtered_concepts_by_cls = {}\n",
    "for cls, cls_concepts in concepts.items():\n",
    "    # gather all the concepts into a single set object\n",
    "    filtered_concepts = cpro.filter_concepts(concepts=cls_concepts, \n",
    "                                        classes = ['cat', 'dog'],\n",
    "                                        cls_sim_off=CLASS_SIM_CUTOFF, \n",
    "                                        sim_cutoff=OTHER_SIM_CUTOFF, \n",
    "                                        max_length=MAX_LEN, \n",
    "                                        print_prob=PRINT_PROB)\n",
    "    filtered_concepts_by_cls[cls] = filtered_concepts"
   ]
  },
  {
   "cell_type": "code",
   "execution_count": 6,
   "id": "afda4ed6aa42f461",
   "metadata": {
    "ExecuteTime": {
     "end_time": "2023-10-09T09:42:07.278784757Z",
     "start_time": "2023-10-09T09:42:07.253437583Z"
    },
    "collapsed": false
   },
   "outputs": [
    {
     "data": {
      "text/plain": [
       "(17, 16)"
      ]
     },
     "execution_count": 6,
     "metadata": {},
     "output_type": "execute_result"
    }
   ],
   "source": [
    "len(concepts['cat']), len(filtered_concepts_by_cls['cat'])\n",
    "len(concepts['dog']), len(filtered_concepts_by_cls['dog'])"
   ]
  },
  {
   "cell_type": "code",
   "execution_count": 7,
   "id": "df875be915b808c",
   "metadata": {
    "ExecuteTime": {
     "start_time": "2023-10-09T09:42:07.253662676Z"
    },
    "collapsed": false
   },
   "outputs": [],
   "source": [
    "import importlib\n",
    "import pytorch_modular.CBM.data.CBM_data.ConceptDataset as CBMDS\n",
    "from pytorch_modular.CBM.data.concepts_generation import concepts_processing as cpro, raw_concepts_generator as rcg  \n",
    "from pytorch_modular.CBM.data.labels_generation import Clip_label_generation as clip_lg  \n",
    "\n",
    "importlib.reload(clip_lg)\n",
    "importlib.reload(CBMDS)\n",
    "importlib.reload(cpro)\n",
    "importlib.reload(rcg)\n",
    "\n",
    "exp_data = os.path.join(HOME, 'data', 'test_data')\n",
    "\n",
    "# make sure to remove any .pt files\n",
    "# initial_folder_structure = os.walk(exp_data)\n",
    "\n",
    "# for r, d, files in initial_folder_structure:\n",
    "#     for f in files:\n",
    "#         if os.path.basename(f).endswith('.pt'):\n",
    "#             os.remove(os.path.join(r, f))\n",
    "\n",
    "dataset = CBMDS.ConceptDataset(root=exp_data, concepts=filtered_concepts_by_cls, remove_existing=True)"
   ]
  },
  {
   "cell_type": "code",
   "execution_count": 8,
   "id": "0f5b3b64",
   "metadata": {},
   "outputs": [],
   "source": [
    "from torch.utils.data import DataLoader\n",
    "import importlib\n",
    "import pytorch_modular.CBM.data.CBM_data.ConceptDataset as CBMDS\n",
    "from pytorch_modular.CBM.data.concepts_generation import concepts_processing as cpro, raw_concepts_generator as rcg  \n",
    "from pytorch_modular.CBM.data.labels_generation import Clip_label_generation as clip_lg  \n",
    "\n",
    "importlib.reload(clip_lg)\n",
    "importlib.reload(CBMDS)\n",
    "importlib.reload(cpro)\n",
    "importlib.reload(rcg)\n",
    "\n",
    "cbm_loader = DataLoader(dataset, shuffle=False, batch_size=4)"
   ]
  },
  {
   "cell_type": "code",
   "execution_count": 9,
   "id": "c6ca8e78",
   "metadata": {},
   "outputs": [
    {
     "name": "stderr",
     "output_type": "stream",
     "text": [
      "qt.qpa.plugin: Could not find the Qt platform plugin \"wayland\" in \"/home/ayhem18/DEV/My_Kaggle_Repo/kaggle_env/lib/python3.11/site-packages/cv2/qt/plugins\"\n"
     ]
    },
    {
     "name": "stdout",
     "output_type": "stream",
     "text": [
      "torch.Size([36])\n",
      "tensor(0)\n",
      "torch.Size([36])\n",
      "tensor(0)\n",
      "torch.Size([36])\n",
      "tensor(0)\n",
      "torch.Size([36])\n",
      "tensor(0)\n",
      "torch.Size([36])\n",
      "tensor(0)\n",
      "torch.Size([36])\n",
      "tensor(0)\n",
      "torch.Size([36])\n",
      "tensor(1)\n",
      "torch.Size([36])\n",
      "tensor(1)\n",
      "torch.Size([36])\n",
      "tensor(1)\n",
      "torch.Size([36])\n",
      "tensor(1)\n",
      "torch.Size([36])\n",
      "tensor(1)\n",
      "torch.Size([36])\n",
      "tensor(1)\n"
     ]
    }
   ],
   "source": [
    "from pytorch_modular.visual import display_image\n",
    "\n",
    "for im, concept, label in cbm_loader:\n",
    "    for i, c, l in zip(im, concept, label):\n",
    "        display_image(i)\n",
    "        print(c.shape)\n",
    "        print(l)\n"
   ]
  },
  {
   "cell_type": "code",
   "execution_count": null,
   "id": "ccd8b138",
   "metadata": {},
   "outputs": [],
   "source": []
  }
 ],
 "metadata": {
  "kernelspec": {
   "display_name": "Python 3",
   "language": "python",
   "name": "python3"
  },
  "language_info": {
   "codemirror_mode": {
    "name": "ipython",
    "version": 3
   },
   "file_extension": ".py",
   "mimetype": "text/x-python",
   "name": "python",
   "nbconvert_exporter": "python",
   "pygments_lexer": "ipython3",
   "version": "3.11.5"
  }
 },
 "nbformat": 4,
 "nbformat_minor": 5
}
