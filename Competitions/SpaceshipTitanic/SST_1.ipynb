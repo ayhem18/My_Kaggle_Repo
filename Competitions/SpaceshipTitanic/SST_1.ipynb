{
 "cells": [
  {
   "cell_type": "markdown",
   "metadata": {},
   "source": [
    "This is my first attempt to solve the Spaceship Titanic Data science competition on the data science platform Kaggle."
   ]
  },
  {
   "cell_type": "markdown",
   "metadata": {},
   "source": [
    "# Preliminary: imports and load the data"
   ]
  },
  {
   "cell_type": "code",
   "execution_count": 6,
   "metadata": {},
   "outputs": [],
   "source": [
    "import pandas as pd\n",
    "import numpy as np\n",
    "import seaborn as sns\n",
    "import matplotlib.pyplot as plt \n",
    "import os"
   ]
  },
  {
   "cell_type": "code",
   "execution_count": 7,
   "metadata": {},
   "outputs": [],
   "source": [
    "# variable to determine whether the notebook is running on Collab or not\n",
    "try:\n",
    "  import google.colab\n",
    "  IN_COLAB = True\n",
    "except:\n",
    "  IN_COLAB = False"
   ]
  },
  {
   "cell_type": "markdown",
   "metadata": {},
   "source": [
    "Please make sure to download the data and have it in the same directory as this notebook when running it."
   ]
  },
  {
   "cell_type": "code",
   "execution_count": 8,
   "metadata": {},
   "outputs": [
    {
     "name": "stdout",
     "output_type": "stream",
     "text": [
      "Done!\n"
     ]
    }
   ],
   "source": [
    "import os\n",
    "from zipfile import ZipFile\n",
    "\n",
    "CURRENT_DIR = \"sample_data\" if IN_COLAB else os.getcwd() \n",
    "file_name = \"spaceship-titanic.zip\"\n",
    "file_name_no_zip = \"spaceship-titanic\"\n",
    "loc = os.path.join(CURRENT_DIR, file_name)\n",
    "# opening the zip file in READ mode\n",
    "\n",
    "if not os.path.isdir(os.path.join(CURRENT_DIR, file_name_no_zip)):\n",
    "    with ZipFile(loc, 'r') as zip_ref:\n",
    "        zip_ref.extractall()\n",
    "        print('Done!')"
   ]
  },
  {
   "cell_type": "code",
   "execution_count": 9,
   "metadata": {},
   "outputs": [],
   "source": [
    "train_loc = os.path.join(CURRENT_DIR, \"train.csv\")\n",
    "test_loc = os.path.join(CURRENT_DIR, \"test.csv\")\n",
    "\n",
    "df = pd.read_csv(train_loc)\n",
    "df_test = pd.read_csv(test_loc)"
   ]
  },
  {
   "cell_type": "markdown",
   "metadata": {},
   "source": [
    "# Cleaning the data\n",
    "In this section, I proceed with having a general idea about the dataset with minimal data exploration in order to certain issues such as: \n",
    "* missing values \n",
    "* outliers\n",
    "* multicollinearity\n",
    "* "
   ]
  }
 ],
 "metadata": {
  "kernelspec": {
   "display_name": "ds_env",
   "language": "python",
   "name": "ds_env"
  },
  "language_info": {
   "codemirror_mode": {
    "name": "ipython",
    "version": 3
   },
   "file_extension": ".py",
   "mimetype": "text/x-python",
   "name": "python",
   "nbconvert_exporter": "python",
   "pygments_lexer": "ipython3",
   "version": "3.10.6"
  },
  "orig_nbformat": 4
 },
 "nbformat": 4,
 "nbformat_minor": 2
}
