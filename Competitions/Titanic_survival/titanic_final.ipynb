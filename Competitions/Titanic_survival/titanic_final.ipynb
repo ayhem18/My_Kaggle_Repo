{
  "cells": [
    {
      "cell_type": "markdown",
      "metadata": {
        "colab_type": "text",
        "id": "view-in-github"
      },
      "source": [
        "<a href=\"https://colab.research.google.com/github/ayhem18/My_Kaggle_Repo/blob/master/Competitions/Titanic_survival/titanic_final.ipynb\" target=\"_parent\"><img src=\"https://colab.research.google.com/assets/colab-badge.svg\" alt=\"Open In Colab\"/></a>"
      ]
    },
    {
      "cell_type": "markdown",
      "metadata": {
        "id": "sWkrSWLQUbMe"
      },
      "source": [
        "# Overview\n",
        "This is my 2nd attempt to solve the data science challenge: predicting Titanic survival on [Kaggle](https://www.kaggle.com/competitions/titanic).\n",
        "I got inspired by this great [notebook](https://www.kaggle.com/code/kenjee/titanic-project-example/notebook) as it served as my starting point in this overwhelming journey."
      ]
    },
    {
      "cell_type": "markdown",
      "metadata": {
        "id": "GEDEapCJUbMl"
      },
      "source": [
        "## Preliminary work: imports and loading data"
      ]
    },
    {
      "cell_type": "code",
      "execution_count": 4,
      "metadata": {
        "id": "GERjqZLZUbMn"
      },
      "outputs": [],
      "source": [
        "import numpy as np\n",
        "import pandas as pd\n",
        "import matplotlib.pyplot as plt\n",
        "import re\n",
        "import os"
      ]
    },
    {
      "cell_type": "code",
      "execution_count": 5,
      "metadata": {
        "id": "MJRlV5R9UbMr"
      },
      "outputs": [],
      "source": [
        "# set the local location of the datasets\n",
        "train_file = os.path.join(\"sample_data\", \"datasets\", \"train.csv\")\n",
        "test_file = os.path.join(\"sample_data\", \"datasets\", \"test.csv\")"
      ]
    },
    {
      "cell_type": "code",
      "execution_count": 6,
      "metadata": {
        "colab": {
          "base_uri": "https://localhost:8080/"
        },
        "id": "-pHrhswcUbMs",
        "outputId": "18afc5e1-5100-4247-fedb-c9dba28ed0f7"
      },
      "outputs": [
        {
          "name": "stdout",
          "output_type": "stream",
          "text": [
            "   PassengerId  Survived  Pclass  \\\n",
            "0            1         0       3   \n",
            "1            2         1       1   \n",
            "2            3         1       3   \n",
            "3            4         1       1   \n",
            "4            5         0       3   \n",
            "\n",
            "                                                Name     Sex   Age  SibSp  \\\n",
            "0                            Braund, Mr. Owen Harris    male  22.0      1   \n",
            "1  Cumings, Mrs. John Bradley (Florence Briggs Th...  female  38.0      1   \n",
            "2                             Heikkinen, Miss. Laina  female  26.0      0   \n",
            "3       Futrelle, Mrs. Jacques Heath (Lily May Peel)  female  35.0      1   \n",
            "4                           Allen, Mr. William Henry    male  35.0      0   \n",
            "\n",
            "   Parch            Ticket     Fare Cabin Embarked  \n",
            "0      0         A/5 21171   7.2500   NaN        S  \n",
            "1      0          PC 17599  71.2833   C85        C  \n",
            "2      0  STON/O2. 3101282   7.9250   NaN        S  \n",
            "3      0            113803  53.1000  C123        S  \n",
            "4      0            373450   8.0500   NaN        S  \n"
          ]
        }
      ],
      "source": [
        "df_train_org = pd.read_csv(train_file)\n",
        "df = df_train_org.copy()# .set_index(\"PassengerId\")\n",
        "print(df.head())\n",
        "df_test_org = pd.read_csv(test_file)\n",
        "df_test = df_test_org.copy()# .set_index(\"PassengerId\")"
      ]
    },
    {
      "cell_type": "code",
      "execution_count": 7,
      "metadata": {
        "id": "wFLFDqvfUbMt"
      },
      "outputs": [],
      "source": [
        "df['train'] = pd.Series([1 for _ in range(len(df) + 1)])\n",
        "df_test['train'] = pd.Series([0.0 for _ in range(len(df_test) + 1)])"
      ]
    },
    {
      "cell_type": "code",
      "execution_count": 8,
      "metadata": {
        "id": "srKLcCLeUbMu"
      },
      "outputs": [],
      "source": [
        "df = df.set_index('PassengerId')\n",
        "df_test = df_test.set_index(\"PassengerId\")\n"
      ]
    },
    {
      "cell_type": "code",
      "execution_count": 9,
      "metadata": {
        "colab": {
          "base_uri": "https://localhost:8080/"
        },
        "id": "JXeTpatiUbMv",
        "outputId": "3bb4bb62-ee26-4ef6-d2d5-98930d2676bf"
      },
      "outputs": [
        {
          "name": "stdout",
          "output_type": "stream",
          "text": [
            "      Survived  Pclass                                               Name  \\\n",
            "0          0.0       3                            Braund, Mr. Owen Harris   \n",
            "1          1.0       1  Cumings, Mrs. John Bradley (Florence Briggs Th...   \n",
            "2          1.0       3                             Heikkinen, Miss. Laina   \n",
            "3          1.0       1       Futrelle, Mrs. Jacques Heath (Lily May Peel)   \n",
            "4          0.0       3                           Allen, Mr. William Henry   \n",
            "...        ...     ...                                                ...   \n",
            "1304       NaN       3                                 Spector, Mr. Woolf   \n",
            "1305       NaN       1                       Oliva y Ocana, Dona. Fermina   \n",
            "1306       NaN       3                       Saether, Mr. Simon Sivertsen   \n",
            "1307       NaN       3                                Ware, Mr. Frederick   \n",
            "1308       NaN       3                           Peter, Master. Michael J   \n",
            "\n",
            "         Sex   Age  SibSp  Parch              Ticket      Fare Cabin Embarked  \\\n",
            "0       male  22.0      1      0           A/5 21171    7.2500   NaN        S   \n",
            "1     female  38.0      1      0            PC 17599   71.2833   C85        C   \n",
            "2     female  26.0      0      0    STON/O2. 3101282    7.9250   NaN        S   \n",
            "3     female  35.0      1      0              113803   53.1000  C123        S   \n",
            "4       male  35.0      0      0              373450    8.0500   NaN        S   \n",
            "...      ...   ...    ...    ...                 ...       ...   ...      ...   \n",
            "1304    male   NaN      0      0           A.5. 3236    8.0500   NaN        S   \n",
            "1305  female  39.0      0      0            PC 17758  108.9000  C105        C   \n",
            "1306    male  38.5      0      0  SOTON/O.Q. 3101262    7.2500   NaN        S   \n",
            "1307    male   NaN      0      0              359309    8.0500   NaN        S   \n",
            "1308    male   NaN      1      1                2668   22.3583   NaN        C   \n",
            "\n",
            "      train  \n",
            "0       1.0  \n",
            "1       1.0  \n",
            "2       1.0  \n",
            "3       1.0  \n",
            "4       1.0  \n",
            "...     ...  \n",
            "1304    0.0  \n",
            "1305    0.0  \n",
            "1306    0.0  \n",
            "1307    0.0  \n",
            "1308    0.0  \n",
            "\n",
            "[1309 rows x 12 columns]\n"
          ]
        }
      ],
      "source": [
        "all_data = pd.concat([df,df_test], ignore_index=True)\n",
        "print(all_data)"
      ]
    },
    {
      "cell_type": "code",
      "execution_count": 10,
      "metadata": {
        "id": "uenw2le1UbMw"
      },
      "outputs": [],
      "source": [
        "all_data = all_data.rename(mapper=str.lower, axis=1) \n",
        "all_data = all_data.rename(columns={\"survived\":\"y\", \"embarked\":\"from\", \"pclass\":\"c\"})"
      ]
    },
    {
      "cell_type": "markdown",
      "metadata": {
        "id": "q6s6OWu-UbMx"
      },
      "source": [
        "## Exploring The data\n",
        "In this section, I will explore the data and consider the different contributions of each feature in the final prediction."
      ]
    },
    {
      "cell_type": "markdown",
      "metadata": {
        "id": "m-1CZmIwUbMy"
      },
      "source": [
        "### Engineering the fam_name\n",
        "The name feature as it is might not be of major relevance. However, that does not mean it does not bring any valuable insights."
      ]
    },
    {
      "cell_type": "code",
      "execution_count": 11,
      "metadata": {
        "id": "GSNExL89UbMz"
      },
      "outputs": [],
      "source": [
        "# what matters here in the name is the first part representing the family name\n",
        "all_data['fam_name'] = all_data['name'].apply(lambda x: re.sub('.;:?', \",\", x).strip().lower().split(\",\")[0]) \n",
        "# print(all_data['fam_name'])\n",
        "\n",
        "fam_sizes = all_data.pivot_table(columns='y', index='fam_name', values='ticket', aggfunc='count')\n",
        "# print(fam_sizes)"
      ]
    },
    {
      "cell_type": "code",
      "execution_count": 12,
      "metadata": {
        "id": "SJYrmWVUUbM0"
      },
      "outputs": [],
      "source": [
        "fam_sizes = all_data['fam_name'].value_counts() \n",
        "\n",
        "all_data['fam_size'] = all_data['fam_name'].apply(lambda x: fam_sizes[x])\n"
      ]
    },
    {
      "cell_type": "code",
      "execution_count": 13,
      "metadata": {
        "id": "ieBEJfx1UbM2"
      },
      "outputs": [],
      "source": [
        "df = all_data[all_data['train'] == 1].copy()"
      ]
    },
    {
      "cell_type": "markdown",
      "metadata": {
        "id": "rhjbX-FBUbM1"
      },
      "source": [
        "### Exploring and visualizing the numerical features"
      ]
    },
    {
      "cell_type": "code",
      "execution_count": 14,
      "metadata": {
        "id": "rPasvPIaUbM2"
      },
      "outputs": [],
      "source": [
        "X_num_names = [\"y\", \"c\", \"age\", \"sibsp\", \"parch\", \"fare\"]\n",
        "X_cat_names = [\"name\", \"sex\", \"ticket\", \"cabin\", \"from\"]\n",
        "df_num = df.loc[:, X_num_names]\n",
        "df_cat = df.loc[:, X_cat_names]"
      ]
    },
    {
      "cell_type": "code",
      "execution_count": 15,
      "metadata": {
        "colab": {
          "base_uri": "https://localhost:8080/",
          "height": 300
        },
        "id": "u_qvLDTTUbM3",
        "outputId": "33902da2-3aee-4e5d-f774-19bdd0a17580"
      },
      "outputs": [
        {
          "data": {
            "text/html": [
              "\n",
              "  <div id=\"df-10c3b2d4-a6e2-4cf7-b4e6-9f807a91efc8\">\n",
              "    <div class=\"colab-df-container\">\n",
              "      <div>\n",
              "<style scoped>\n",
              "    .dataframe tbody tr th:only-of-type {\n",
              "        vertical-align: middle;\n",
              "    }\n",
              "\n",
              "    .dataframe tbody tr th {\n",
              "        vertical-align: top;\n",
              "    }\n",
              "\n",
              "    .dataframe thead th {\n",
              "        text-align: right;\n",
              "    }\n",
              "</style>\n",
              "<table border=\"1\" class=\"dataframe\">\n",
              "  <thead>\n",
              "    <tr style=\"text-align: right;\">\n",
              "      <th></th>\n",
              "      <th>y</th>\n",
              "      <th>c</th>\n",
              "      <th>age</th>\n",
              "      <th>sibsp</th>\n",
              "      <th>parch</th>\n",
              "      <th>fare</th>\n",
              "    </tr>\n",
              "  </thead>\n",
              "  <tbody>\n",
              "    <tr>\n",
              "      <th>count</th>\n",
              "      <td>891.000000</td>\n",
              "      <td>891.000000</td>\n",
              "      <td>714.000000</td>\n",
              "      <td>891.000000</td>\n",
              "      <td>891.000000</td>\n",
              "      <td>891.000000</td>\n",
              "    </tr>\n",
              "    <tr>\n",
              "      <th>mean</th>\n",
              "      <td>0.383838</td>\n",
              "      <td>2.308642</td>\n",
              "      <td>29.699118</td>\n",
              "      <td>0.523008</td>\n",
              "      <td>0.381594</td>\n",
              "      <td>32.204208</td>\n",
              "    </tr>\n",
              "    <tr>\n",
              "      <th>std</th>\n",
              "      <td>0.486592</td>\n",
              "      <td>0.836071</td>\n",
              "      <td>14.526497</td>\n",
              "      <td>1.102743</td>\n",
              "      <td>0.806057</td>\n",
              "      <td>49.693429</td>\n",
              "    </tr>\n",
              "    <tr>\n",
              "      <th>min</th>\n",
              "      <td>0.000000</td>\n",
              "      <td>1.000000</td>\n",
              "      <td>0.420000</td>\n",
              "      <td>0.000000</td>\n",
              "      <td>0.000000</td>\n",
              "      <td>0.000000</td>\n",
              "    </tr>\n",
              "    <tr>\n",
              "      <th>25%</th>\n",
              "      <td>0.000000</td>\n",
              "      <td>2.000000</td>\n",
              "      <td>20.125000</td>\n",
              "      <td>0.000000</td>\n",
              "      <td>0.000000</td>\n",
              "      <td>7.910400</td>\n",
              "    </tr>\n",
              "    <tr>\n",
              "      <th>50%</th>\n",
              "      <td>0.000000</td>\n",
              "      <td>3.000000</td>\n",
              "      <td>28.000000</td>\n",
              "      <td>0.000000</td>\n",
              "      <td>0.000000</td>\n",
              "      <td>14.454200</td>\n",
              "    </tr>\n",
              "    <tr>\n",
              "      <th>75%</th>\n",
              "      <td>1.000000</td>\n",
              "      <td>3.000000</td>\n",
              "      <td>38.000000</td>\n",
              "      <td>1.000000</td>\n",
              "      <td>0.000000</td>\n",
              "      <td>31.000000</td>\n",
              "    </tr>\n",
              "    <tr>\n",
              "      <th>max</th>\n",
              "      <td>1.000000</td>\n",
              "      <td>3.000000</td>\n",
              "      <td>80.000000</td>\n",
              "      <td>8.000000</td>\n",
              "      <td>6.000000</td>\n",
              "      <td>512.329200</td>\n",
              "    </tr>\n",
              "  </tbody>\n",
              "</table>\n",
              "</div>\n",
              "      <button class=\"colab-df-convert\" onclick=\"convertToInteractive('df-10c3b2d4-a6e2-4cf7-b4e6-9f807a91efc8')\"\n",
              "              title=\"Convert this dataframe to an interactive table.\"\n",
              "              style=\"display:none;\">\n",
              "        \n",
              "  <svg xmlns=\"http://www.w3.org/2000/svg\" height=\"24px\"viewBox=\"0 0 24 24\"\n",
              "       width=\"24px\">\n",
              "    <path d=\"M0 0h24v24H0V0z\" fill=\"none\"/>\n",
              "    <path d=\"M18.56 5.44l.94 2.06.94-2.06 2.06-.94-2.06-.94-.94-2.06-.94 2.06-2.06.94zm-11 1L8.5 8.5l.94-2.06 2.06-.94-2.06-.94L8.5 2.5l-.94 2.06-2.06.94zm10 10l.94 2.06.94-2.06 2.06-.94-2.06-.94-.94-2.06-.94 2.06-2.06.94z\"/><path d=\"M17.41 7.96l-1.37-1.37c-.4-.4-.92-.59-1.43-.59-.52 0-1.04.2-1.43.59L10.3 9.45l-7.72 7.72c-.78.78-.78 2.05 0 2.83L4 21.41c.39.39.9.59 1.41.59.51 0 1.02-.2 1.41-.59l7.78-7.78 2.81-2.81c.8-.78.8-2.07 0-2.86zM5.41 20L4 18.59l7.72-7.72 1.47 1.35L5.41 20z\"/>\n",
              "  </svg>\n",
              "      </button>\n",
              "      \n",
              "  <style>\n",
              "    .colab-df-container {\n",
              "      display:flex;\n",
              "      flex-wrap:wrap;\n",
              "      gap: 12px;\n",
              "    }\n",
              "\n",
              "    .colab-df-convert {\n",
              "      background-color: #E8F0FE;\n",
              "      border: none;\n",
              "      border-radius: 50%;\n",
              "      cursor: pointer;\n",
              "      display: none;\n",
              "      fill: #1967D2;\n",
              "      height: 32px;\n",
              "      padding: 0 0 0 0;\n",
              "      width: 32px;\n",
              "    }\n",
              "\n",
              "    .colab-df-convert:hover {\n",
              "      background-color: #E2EBFA;\n",
              "      box-shadow: 0px 1px 2px rgba(60, 64, 67, 0.3), 0px 1px 3px 1px rgba(60, 64, 67, 0.15);\n",
              "      fill: #174EA6;\n",
              "    }\n",
              "\n",
              "    [theme=dark] .colab-df-convert {\n",
              "      background-color: #3B4455;\n",
              "      fill: #D2E3FC;\n",
              "    }\n",
              "\n",
              "    [theme=dark] .colab-df-convert:hover {\n",
              "      background-color: #434B5C;\n",
              "      box-shadow: 0px 1px 3px 1px rgba(0, 0, 0, 0.15);\n",
              "      filter: drop-shadow(0px 1px 2px rgba(0, 0, 0, 0.3));\n",
              "      fill: #FFFFFF;\n",
              "    }\n",
              "  </style>\n",
              "\n",
              "      <script>\n",
              "        const buttonEl =\n",
              "          document.querySelector('#df-10c3b2d4-a6e2-4cf7-b4e6-9f807a91efc8 button.colab-df-convert');\n",
              "        buttonEl.style.display =\n",
              "          google.colab.kernel.accessAllowed ? 'block' : 'none';\n",
              "\n",
              "        async function convertToInteractive(key) {\n",
              "          const element = document.querySelector('#df-10c3b2d4-a6e2-4cf7-b4e6-9f807a91efc8');\n",
              "          const dataTable =\n",
              "            await google.colab.kernel.invokeFunction('convertToInteractive',\n",
              "                                                     [key], {});\n",
              "          if (!dataTable) return;\n",
              "\n",
              "          const docLinkHtml = 'Like what you see? Visit the ' +\n",
              "            '<a target=\"_blank\" href=https://colab.research.google.com/notebooks/data_table.ipynb>data table notebook</a>'\n",
              "            + ' to learn more about interactive tables.';\n",
              "          element.innerHTML = '';\n",
              "          dataTable['output_type'] = 'display_data';\n",
              "          await google.colab.output.renderOutput(dataTable, element);\n",
              "          const docLink = document.createElement('div');\n",
              "          docLink.innerHTML = docLinkHtml;\n",
              "          element.appendChild(docLink);\n",
              "        }\n",
              "      </script>\n",
              "    </div>\n",
              "  </div>\n",
              "  "
            ],
            "text/plain": [
              "                y           c         age       sibsp       parch        fare\n",
              "count  891.000000  891.000000  714.000000  891.000000  891.000000  891.000000\n",
              "mean     0.383838    2.308642   29.699118    0.523008    0.381594   32.204208\n",
              "std      0.486592    0.836071   14.526497    1.102743    0.806057   49.693429\n",
              "min      0.000000    1.000000    0.420000    0.000000    0.000000    0.000000\n",
              "25%      0.000000    2.000000   20.125000    0.000000    0.000000    7.910400\n",
              "50%      0.000000    3.000000   28.000000    0.000000    0.000000   14.454200\n",
              "75%      1.000000    3.000000   38.000000    1.000000    0.000000   31.000000\n",
              "max      1.000000    3.000000   80.000000    8.000000    6.000000  512.329200"
            ]
          },
          "execution_count": 15,
          "metadata": {},
          "output_type": "execute_result"
        }
      ],
      "source": [
        "df_num.describe()"
      ]
    },
    {
      "cell_type": "code",
      "execution_count": 16,
      "metadata": {
        "colab": {
          "base_uri": "https://localhost:8080/",
          "height": 1000
        },
        "id": "e9yZySuMUbM3",
        "outputId": "be5d3a30-0b91-41c9-a6ed-ae074cfa3f3c"
      },
      "outputs": [
        {
          "data": {
            "image/png": "[encoded data removed]",
            "text/plain": [
              "<Figure size 432x288 with 1 Axes>"
            ]
          },
          "metadata": {
            "needs_background": "light"
          },
          "output_type": "display_data"
        },
        {
          "data": {
            "image/png": "[encoded data removed]",
            "text/plain": [
              "<Figure size 432x288 with 1 Axes>"
            ]
          },
          "metadata": {
            "needs_background": "light"
          },
          "output_type": "display_data"
        },
        {
          "data": {
            "image/png": "[encoded data removed]",
            "text/plain": [
              "<Figure size 432x288 with 1 Axes>"
            ]
          },
          "metadata": {
            "needs_background": "light"
          },
          "output_type": "display_data"
        },
        {
          "data": {
            "image/png": "[encoded data removed]",
            "text/plain": [
              "<Figure size 432x288 with 1 Axes>"
            ]
          },
          "metadata": {
            "needs_background": "light"
          },
          "output_type": "display_data"
        },
        {
          "data": {
            "image/png": "[encoded data removed]",
            "text/plain": [
              "<Figure size 432x288 with 1 Axes>"
            ]
          },
          "metadata": {
            "needs_background": "light"
          },
          "output_type": "display_data"
        },
        {
          "data": {
            "image/png": "[encoded data removed]",
            "text/plain": [
              "<Figure size 432x288 with 1 Axes>"
            ]
          },
          "metadata": {
            "needs_background": "light"
          },
          "output_type": "display_data"
        }
      ],
      "source": [
        "for col in df_num.columns:\n",
        "    plt.hist(df_num[col])\n",
        "    plt.title(col)\n",
        "    plt.show()"
      ]
    },
    {
      "cell_type": "code",
      "execution_count": 17,
      "metadata": {
        "colab": {
          "base_uri": "https://localhost:8080/"
        },
        "id": "JIehbnd3UbM4",
        "outputId": "8bb7f49a-7d47-409d-f56c-cbc3119aa66e"
      },
      "outputs": [
        {
          "name": "stdout",
          "output_type": "stream",
          "text": [
            "           y           c         age       sibsp       parch        fare  \\\n",
            "count  342.0  342.000000  290.000000  342.000000  342.000000  342.000000   \n",
            "mean     1.0    1.950292   28.343690    0.473684    0.464912   48.395408   \n",
            "std      0.0    0.863321   14.950952    0.708688    0.771712   66.596998   \n",
            "min      1.0    1.000000    0.420000    0.000000    0.000000    0.000000   \n",
            "25%      1.0    1.000000   19.000000    0.000000    0.000000   12.475000   \n",
            "50%      1.0    2.000000   28.000000    0.000000    0.000000   26.000000   \n",
            "75%      1.0    3.000000   36.000000    1.000000    1.000000   57.000000   \n",
            "max      1.0    3.000000   80.000000    4.000000    5.000000  512.329200   \n",
            "\n",
            "         fam_size  \n",
            "count  342.000000  \n",
            "mean     2.222222  \n",
            "std      1.585409  \n",
            "min      1.000000  \n",
            "25%      1.000000  \n",
            "50%      2.000000  \n",
            "75%      3.000000  \n",
            "max     11.000000  \n",
            "##################################################\n",
            "           y           c         age       sibsp       parch        fare  \\\n",
            "count  549.0  549.000000  424.000000  549.000000  549.000000  549.000000   \n",
            "mean     0.0    2.531876   30.626179    0.553734    0.329690   22.117887   \n",
            "std      0.0    0.735805   14.172110    1.288399    0.823166   31.388207   \n",
            "min      0.0    1.000000    1.000000    0.000000    0.000000    0.000000   \n",
            "25%      0.0    2.000000   21.000000    0.000000    0.000000    7.854200   \n",
            "50%      0.0    3.000000   28.000000    0.000000    0.000000   10.500000   \n",
            "75%      0.0    3.000000   39.000000    1.000000    0.000000   26.000000   \n",
            "max      0.0    3.000000   74.000000    8.000000    6.000000  263.000000   \n",
            "\n",
            "         fam_size  \n",
            "count  549.000000  \n",
            "mean     2.324226  \n",
            "std      2.138578  \n",
            "min      1.000000  \n",
            "25%      1.000000  \n",
            "50%      1.000000  \n",
            "75%      3.000000  \n",
            "max     11.000000  \n"
          ]
        }
      ],
      "source": [
        "df_survive = df.drop('train', axis=1)[df['y']==1]\n",
        "print(df_survive.describe())\n",
        "print(\"#\" * 50)\n",
        "df_dead = df.drop('train', axis=1)[df['y'] == 0]\n",
        "print(df_dead.describe())"
      ]
    },
    {
      "cell_type": "code",
      "execution_count": 18,
      "metadata": {
        "colab": {
          "base_uri": "https://localhost:8080/",
          "height": 312
        },
        "id": "VvNCnJEiUbM5",
        "outputId": "b7d74525-7613-44b0-e015-f215cce40ab7"
      },
      "outputs": [
        {
          "data": {
            "text/plain": [
              "<matplotlib.axes._subplots.AxesSubplot at 0x7fd0ad91a550>"
            ]
          },
          "execution_count": 18,
          "metadata": {},
          "output_type": "execute_result"
        },
        {
          "data": {
            "image/png": "[encoded data removed]",
            "text/plain": [
              "<Figure size 432x288 with 1 Axes>"
            ]
          },
          "metadata": {
            "needs_background": "light"
          },
          "output_type": "display_data"
        }
      ],
      "source": [
        "df_survive.reset_index().plot(kind='scatter', x='index', y='fare', title='fare variation for survivors')"
      ]
    },
    {
      "cell_type": "code",
      "execution_count": 19,
      "metadata": {
        "colab": {
          "base_uri": "https://localhost:8080/",
          "height": 312
        },
        "id": "CH3k8-2oUbM6",
        "outputId": "48025673-14ae-49dc-fcb3-f5c53cf93546"
      },
      "outputs": [
        {
          "data": {
            "text/plain": [
              "<matplotlib.axes._subplots.AxesSubplot at 0x7fd0ad89c210>"
            ]
          },
          "execution_count": 19,
          "metadata": {},
          "output_type": "execute_result"
        },
        {
          "data": {
            "image/png": "[encoded data removed]",
            "text/plain": [
              "<Figure size 432x288 with 1 Axes>"
            ]
          },
          "metadata": {
            "needs_background": "light"
          },
          "output_type": "display_data"
        }
      ],
      "source": [
        "df_dead.reset_index().plot(kind='scatter', x='index', y='fare', title='fare variation for the dead')"
      ]
    },
    {
      "cell_type": "markdown",
      "metadata": {
        "id": "fAw0erC0UbM8"
      },
      "source": [
        "#### The Fare feature\n",
        "The fare feature is quite an interesting feature as it interacts with a most of the features in the dataset. A careful investigation might reveal a number of useful and significant interactions."
      ]
    },
    {
      "cell_type": "code",
      "execution_count": 20,
      "metadata": {
        "colab": {
          "base_uri": "https://localhost:8080/"
        },
        "id": "9FNw-QsWUbM9",
        "outputId": "b3203c25-54ff-495a-8758-89cb5c2a36f4"
      },
      "outputs": [
        {
          "name": "stdout",
          "output_type": "stream",
          "text": [
            "       y  c     sex   age  sibsp  parch      fare  fam_size\n",
            "88   1.0  1  female  23.0      3      2  263.0000         6\n",
            "258  1.0  1  female  35.0      0      0  512.3292         1\n",
            "299  1.0  1  female  50.0      0      1  247.5208         2\n",
            "311  1.0  1  female  18.0      2      2  262.3750         5\n",
            "341  1.0  1  female  24.0      3      2  263.0000         6\n",
            "380  1.0  1  female  42.0      0      0  227.5250         1\n",
            "679  1.0  1    male  36.0      0      1  512.3292         2\n",
            "689  1.0  1  female  15.0      0      1  211.3375         1\n",
            "700  1.0  1  female  18.0      1      0  227.5250         2\n",
            "716  1.0  1  female  38.0      0      0  227.5250         1\n",
            "730  1.0  1  female  29.0      0      0  211.3375         2\n",
            "737  1.0  1    male  35.0      0      0  512.3292         1\n",
            "742  1.0  1  female  21.0      2      2  262.3750         5\n",
            "779  1.0  1  female  43.0      0      1  211.3375         1\n",
            "********************************************************************************************************************************************************************************************************\n",
            "       y  c   sex   age  sibsp  parch      fare  fam_size\n",
            "27   0.0  1  male  19.0      3      2  263.0000         6\n",
            "118  0.0  1  male  24.0      0      1  247.5208         2\n",
            "377  0.0  1  male  27.0      0      2  211.5000         3\n",
            "438  0.0  1  male  64.0      1      4  263.0000         6\n",
            "527  0.0  1  male   NaN      0      0  221.7792         1\n",
            "557  0.0  1  male   NaN      0      0  227.5250         1\n"
          ]
        }
      ],
      "source": [
        "df_ultra_rich = df.drop(['ticket', 'name', 'train', 'cabin', 'from', 'fam_name'], axis=1)[df['fare'] >= 200]\n",
        "print(df_ultra_rich[df_ultra_rich['y'] != 0])\n",
        "print(\"**\" * 100)\n",
        "print(df_ultra_rich[df_ultra_rich['y'] == 0]) \n",
        "\n",
        "## so if the passengers are ultra rich, then a female has quite high probability of surviving.\n",
        "## the males with the most expensive fares are the ones to survive."
      ]
    },
    {
      "cell_type": "code",
      "execution_count": 21,
      "metadata": {
        "colab": {
          "base_uri": "https://localhost:8080/"
        },
        "id": "tnNf_cxOUbM-",
        "outputId": "e9f1c5e7-b4cb-4142-a2d1-e8db132757bd"
      },
      "outputs": [
        {
          "name": "stdout",
          "output_type": "stream",
          "text": [
            "       y  c     sex    age  sibsp  parch      fare  fam_size\n",
            "31   1.0  1  female    NaN      1      0  146.5208         2\n",
            "195  1.0  1  female  58.00      0      0  146.5208         1\n",
            "215  1.0  1  female  31.00      1      0  113.2750         3\n",
            "268  1.0  1  female  58.00      0      1  153.4625         3\n",
            "269  1.0  1  female  35.00      0      0  135.6333         1\n",
            "305  1.0  1    male   0.92      1      2  151.5500         4\n",
            "306  1.0  1  female    NaN      0      0  110.8833         2\n",
            "307  1.0  1  female  17.00      1      0  108.9000         2\n",
            "318  1.0  1  female  31.00      0      2  164.8667         3\n",
            "319  1.0  1  female  40.00      1      1  134.5000         3\n",
            "325  1.0  1  female  36.00      0      0  135.6333         1\n",
            "334  1.0  1  female    NaN      1      0  133.6500         3\n",
            "337  1.0  1  female  41.00      0      0  134.5000         2\n",
            "390  1.0  1    male  36.00      1      2  120.0000         6\n",
            "393  1.0  1  female  23.00      1      0  113.2750         3\n",
            "435  1.0  1  female  14.00      1      2  120.0000         6\n",
            "537  1.0  1  female  30.00      0      0  106.4250         1\n",
            "550  1.0  1    male  17.00      0      2  110.8833         3\n",
            "581  1.0  1  female  39.00      1      1  110.8833         3\n",
            "609  1.0  1  female  40.00      0      0  153.4625         1\n",
            "660  1.0  1    male  50.00      2      0  133.6500         3\n",
            "708  1.0  1  female  22.00      0      0  151.5500         1\n",
            "763  1.0  1  female  36.00      1      2  120.0000         6\n",
            "802  1.0  1    male  11.00      1      2  120.0000         6\n",
            "856  1.0  1  female  45.00      1      1  164.8667         3\n",
            "****************************************************************************************************\n",
            "       y  c     sex   age  sibsp  parch      fare  fam_size\n",
            "297  0.0  1  female   2.0      1      2  151.5500         4\n",
            "332  0.0  1    male  38.0      0      1  153.4625         3\n",
            "373  0.0  1    male  22.0      0      0  135.6333         1\n",
            "498  0.0  1  female  25.0      1      2  151.5500         4\n",
            "505  0.0  1    male  18.0      1      0  108.9000         2\n",
            "544  0.0  1    male  50.0      1      0  106.4250         3\n",
            "659  0.0  1    male  58.0      0      2  113.2750         3\n",
            "698  0.0  1    male  49.0      1      1  110.8833         3\n"
          ]
        }
      ],
      "source": [
        "# let's consider the passengers paying fare in the range [100, 200]\n",
        "df_rich = df.drop(['ticket', 'name', 'train', 'cabin', 'from', 'fam_name'], axis=1)[(df['fare'] >= 100) & (df['fare'] <200)]\n",
        "print(df_rich[df_rich['y'] == 1])\n",
        "print(\"*\" * 100)\n",
        "print(df_rich[df_rich['y'] == 0])"
      ]
    },
    {
      "cell_type": "code",
      "execution_count": 22,
      "metadata": {
        "colab": {
          "base_uri": "https://localhost:8080/",
          "height": 0
        },
        "id": "MH2Q8ICsUbM_",
        "outputId": "e3e9aec8-0639-4ae2-e5cc-d5216865218c"
      },
      "outputs": [
        {
          "data": {
            "text/plain": [
              "<matplotlib.axes._subplots.AxesSubplot at 0x7fd0ada83e90>"
            ]
          },
          "execution_count": 22,
          "metadata": {},
          "output_type": "execute_result"
        },
        {
          "data": {
            "image/png": "[encoded data removed]",
            "text/plain": [
              "<Figure size 432x288 with 1 Axes>"
            ]
          },
          "metadata": {
            "needs_background": "light"
          },
          "output_type": "display_data"
        },
        {
          "data": {
            "image/png": "[encoded data removed]",
            "text/plain": [
              "<Figure size 432x288 with 1 Axes>"
            ]
          },
          "metadata": {
            "needs_background": "light"
          },
          "output_type": "display_data"
        },
        {
          "data": {
            "image/png": "[encoded data removed]",
            "text/plain": [
              "<Figure size 432x288 with 1 Axes>"
            ]
          },
          "metadata": {
            "needs_background": "light"
          },
          "output_type": "display_data"
        }
      ],
      "source": [
        "df_3 = df.drop(['ticket', 'name', 'train', 'cabin', 'from', 'fam_name'], axis=1)[(df['fare'] >= 50) & (df['fare'] <100)]\n",
        "df_3.reset_index().plot(kind='scatter', x='index', y='fare', title='third category fare')\n",
        "df_3_sur = df_3[df_3['y'] == 1]\n",
        "df_3_dead = df_3[df_3['y'] == 0]\n",
        "df_3_sur.reset_index().plot(kind='scatter', x='index', y='fare', title = 'third category fare survivors')\n",
        "df_3_dead.reset_index().plot(kind='scatter', x='index', y='fare', title = 'third category fare dead')"
      ]
    },
    {
      "cell_type": "code",
      "execution_count": 23,
      "metadata": {
        "colab": {
          "base_uri": "https://localhost:8080/"
        },
        "id": "ns8M9EDDUbNA",
        "outputId": "ffda73e7-4ca2-46cf-f2b9-bce32299ee22"
      },
      "outputs": [
        {
          "name": "stdout",
          "output_type": "stream",
          "text": [
            "          y          c        age      sibsp      parch       fare   fam_size\n",
            "count  70.0  70.000000  62.000000  70.000000  70.000000  70.000000  70.000000\n",
            "mean    1.0   1.171429  35.983871   0.600000   0.314286  70.381669   1.957143\n",
            "std     0.0   0.537612  13.310284   0.521981   0.602960  13.862542   0.907868\n",
            "min     1.0   1.000000   4.000000   0.000000   0.000000  51.479200   1.000000\n",
            "25%     1.0   1.000000  25.250000   0.000000   0.000000  56.495800   1.000000\n",
            "50%     1.0   1.000000  35.000000   1.000000   0.000000  73.266650   2.000000\n",
            "75%     1.0   1.000000  48.000000   1.000000   0.000000  81.393725   2.000000\n",
            "max     1.0   3.000000  63.000000   2.000000   2.000000  93.500000   4.000000\n",
            "          y          c        age      sibsp      parch       fare   fam_size\n",
            "count  38.0  38.000000  28.000000  38.000000  38.000000  38.000000  38.000000\n",
            "mean    0.0   1.605263  38.071429   2.000000   0.526316  66.817213   3.947368\n",
            "std     0.0   0.855490  14.303402   2.959182   0.796507  11.178646   3.593894\n",
            "min     0.0   1.000000  18.000000   0.000000   0.000000  50.000000   1.000000\n",
            "25%     0.0   1.000000  27.000000   0.000000   0.000000  56.048950   2.000000\n",
            "50%     0.0   1.000000  36.500000   1.000000   0.000000  69.550000   2.500000\n",
            "75%     0.0   2.000000  47.750000   2.000000   1.000000  73.500000   3.750000\n",
            "max     0.0   3.000000  70.000000   8.000000   2.000000  90.000000  11.000000\n"
          ]
        }
      ],
      "source": [
        "print(df_3_sur.describe())\n",
        "print(df_3_dead.describe())"
      ]
    },
    {
      "cell_type": "code",
      "execution_count": 24,
      "metadata": {
        "colab": {
          "base_uri": "https://localhost:8080/"
        },
        "id": "3jv2GyVyUbNA",
        "outputId": "e93f9862-11be-446a-8265-29419caf9238"
      },
      "outputs": [
        {
          "name": "stdout",
          "output_type": "stream",
          "text": [
            "       y  fam_size     fare   age\n",
            "159  0.0        11  69.5500   NaN\n",
            "201  0.0        11  69.5500   NaN\n",
            "324  0.0        11  69.5500   NaN\n",
            "846  0.0        11  69.5500   NaN\n",
            "385  0.0         7  73.5000  18.0\n",
            "155  0.0         5  61.3792  51.0\n",
            "645  1.0         4  76.7292  48.0\n",
            "62   0.0         4  83.4750  45.0\n",
            "224  1.0         3  90.0000  38.0\n",
            "445  1.0         3  81.8583   4.0\n",
            "34   0.0         3  82.1708  28.0\n",
            "102  0.0         3  77.2875  21.0\n",
            "120  0.0         3  73.5000  21.0\n",
            "124  0.0         3  77.2875  54.0\n",
            "245  0.0         3  90.0000  44.0\n",
            "262  0.0         3  79.6500  52.0\n",
            "655  0.0         3  73.5000  24.0\n",
            "665  0.0         3  73.5000  32.0\n",
            "745  0.0         3  71.0000  70.0\n",
            "97   1.0         2  63.3583  23.0\n",
            "248  1.0         2  52.5542  37.0\n",
            "370  1.0         2  55.4417  25.0\n",
            "453  1.0         2  89.1042  49.0\n",
            "484  1.0         2  91.0792  25.0\n",
            "587  1.0         2  79.2000  60.0\n",
            "599  1.0         2  56.9292  49.0\n",
            "621  1.0         2  52.5542  42.0\n",
            "690  1.0         2  57.0000  31.0\n",
            "692  1.0         2  56.4958   NaN\n",
            "712  1.0         2  52.0000  48.0\n",
            "724  1.0         2  53.1000  27.0\n",
            "6    0.0         2  51.8625  54.0\n",
            "35   0.0         2  52.0000  42.0\n",
            "54   0.0         2  61.9792  65.0\n",
            "92   0.0         2  61.1750  46.0\n",
            "137  0.0         2  53.1000  37.0\n",
            "336  0.0         2  66.6000  29.0\n",
            "434  0.0         2  55.9000  50.0\n",
            "671  0.0         2  52.0000  31.0\n",
            "741  0.0         2  78.8500  36.0\n",
            "748  0.0         2  53.1000  19.0\n",
            "826  0.0         2  56.4958   NaN\n",
            "74   1.0         1  56.4958  32.0\n",
            "509  1.0         1  56.4958  26.0\n",
            "643  1.0         1  56.4958   NaN\n",
            "681  1.0         1  76.7292  27.0\n",
            "838  1.0         1  56.4958  32.0\n",
            "72   0.0         1  73.5000  21.0\n",
            "110  0.0         1  52.0000  47.0\n",
            "139  0.0         1  79.2000  24.0\n",
            "169  0.0         1  56.4958  28.0\n",
            "185  0.0         1  50.0000   NaN\n",
            "475  0.0         1  52.0000   NaN\n",
            "789  0.0         1  79.2000  46.0\n",
            "867  0.0         1  50.4958  31.0\n"
          ]
        }
      ],
      "source": [
        "# print(df_3_sur['sex'].value_counts())\n",
        "# print(df_3_dead['sex'].value_counts())\n",
        "print(df_3[df_3['sex'] == 'male'][['y', 'fam_size', 'fare', 'age']].sort_values(['fam_size', 'y'], ascending=[False, False]))"
      ]
    },
    {
      "cell_type": "code",
      "execution_count": 25,
      "metadata": {
        "colab": {
          "base_uri": "https://localhost:8080/"
        },
        "id": "gbizE7ZKUbNB",
        "outputId": "59d7e9a3-b872-43cd-a996-36578c327643"
      },
      "outputs": [
        {
          "name": "stdout",
          "output_type": "stream",
          "text": [
            "       y  c     sex   age  sibsp  parch     fare  fam_size\n",
            "43   1.0  2  female   3.0      1      2  41.5792         4\n",
            "59   0.0  3    male  11.0      5      2  46.9000         8\n",
            "71   0.0  3  female  16.0      5      2  46.9000         8\n",
            "83   0.0  1    male  28.0      0      0  47.1000         2\n",
            "386  0.0  3    male   1.0      5      2  46.9000         8\n",
            "480  0.0  3    male   9.0      5      2  46.9000         8\n",
            "493  0.0  1    male  71.0      0      0  49.5042         1\n",
            "539  1.0  1  female  22.0      0      2  49.5000         1\n",
            "583  0.0  1    male  36.0      0      0  40.1250         1\n",
            "602  0.0  1    male   NaN      0      0  42.4000         1\n",
            "608  1.0  2  female  22.0      1      2  41.5792         4\n",
            "678  0.0  3  female  43.0      1      6  46.9000         8\n",
            "683  0.0  3    male  14.0      5      2  46.9000         8\n",
            "685  0.0  2    male  25.0      1      2  41.5792         4\n",
            "710  1.0  1  female  24.0      0      0  49.5042         1\n"
          ]
        }
      ],
      "source": [
        "df_4 = df.drop(['ticket', 'name', 'train', 'cabin', 'from', 'fam_name'], axis=1)[(df['fare'] < 50) & (df['fare'] >= 40)]\n",
        "print(df_4)"
      ]
    },
    {
      "cell_type": "code",
      "execution_count": 26,
      "metadata": {
        "colab": {
          "base_uri": "https://localhost:8080/",
          "height": 0
        },
        "id": "jb1e6juFUbNB",
        "outputId": "9a9c07e4-eda9-47f2-fb59-7a895fd3305a"
      },
      "outputs": [
        {
          "name": "stdout",
          "output_type": "stream",
          "text": [
            "3    114\n",
            "2     83\n",
            "1     32\n",
            "Name: c, dtype: int64\n",
            "3    357\n",
            "2     91\n",
            "1     38\n",
            "Name: c, dtype: int64\n"
          ]
        },
        {
          "data": {
            "image/png": "[encoded data removed]",
            "text/plain": [
              "<Figure size 432x288 with 1 Axes>"
            ]
          },
          "metadata": {
            "needs_background": "light"
          },
          "output_type": "display_data"
        }
      ],
      "source": [
        "df_5 = df.drop(['ticket', 'name', 'train', 'cabin', 'from', 'fam_name'], axis=1)[(df['fare'] < 40)]\n",
        "df_5.reset_index().plot(kind='scatter', x='index', y='fare')\n",
        "print(df_5[df_5['y']==1]['c'].value_counts())\n",
        "print(df_5[df_5['y']==0]['c'].value_counts())\n"
      ]
    },
    {
      "cell_type": "code",
      "execution_count": 27,
      "metadata": {
        "colab": {
          "base_uri": "https://localhost:8080/"
        },
        "id": "YM9_r-dLUbNC",
        "outputId": "1c800519-6ef1-4b5d-9902-c37780cc4083"
      },
      "outputs": [
        {
          "name": "stdout",
          "output_type": "stream",
          "text": [
            "   fare                                                     \n",
            "  count         sum       mean        std      amax     amin\n",
            "c                                                           \n",
            "1   136  13002.6919  95.608029  85.286820  512.3292  25.9292\n",
            "2    87   1918.8459  22.055700  10.853502   65.0000  10.5000\n",
            "3   119   1629.6916  13.694887  10.692993   56.4958   0.0000\n",
            "   fare                                              \n",
            "  count        sum       mean        std    amax amin\n",
            "c                                                    \n",
            "1    80  5174.7206  64.684007  60.662089  263.00  0.0\n",
            "2    97  1882.9958  19.412328  15.307175   73.50  0.0\n",
            "3   372  5085.0035  13.669364  12.118338   69.55  0.0\n"
          ]
        }
      ],
      "source": [
        "fun_list = [pd.Series.count, np.sum, np.mean, np.std, np.max, np.min]\n",
        "\n",
        "df_survived_class = df_survive.groupby(\"c\").agg({\"fare\":fun_list})\n",
        "df_dead_class = df_dead.groupby(\"c\").agg({\"fare\":fun_list})\n",
        "print(df_survived_class)\n",
        "print(df_dead_class)\n"
      ]
    },
    {
      "cell_type": "code",
      "execution_count": 28,
      "metadata": {
        "colab": {
          "base_uri": "https://localhost:8080/",
          "height": 0
        },
        "id": "XXFKNSbiUbNC",
        "outputId": "61238a3f-fcb2-4e35-e56f-1686056c18bd"
      },
      "outputs": [
        {
          "data": {
            "text/html": [
              "\n",
              "  <div id=\"df-c41b7e8b-586c-4020-b415-4288c4eccf16\">\n",
              "    <div class=\"colab-df-container\">\n",
              "      <div>\n",
              "<style scoped>\n",
              "    .dataframe tbody tr th:only-of-type {\n",
              "        vertical-align: middle;\n",
              "    }\n",
              "\n",
              "    .dataframe tbody tr th {\n",
              "        vertical-align: top;\n",
              "    }\n",
              "\n",
              "    .dataframe thead th {\n",
              "        text-align: right;\n",
              "    }\n",
              "</style>\n",
              "<table border=\"1\" class=\"dataframe\">\n",
              "  <thead>\n",
              "    <tr style=\"text-align: right;\">\n",
              "      <th></th>\n",
              "      <th>y</th>\n",
              "      <th>c</th>\n",
              "      <th>age</th>\n",
              "      <th>sibsp</th>\n",
              "      <th>parch</th>\n",
              "      <th>fare</th>\n",
              "    </tr>\n",
              "  </thead>\n",
              "  <tbody>\n",
              "    <tr>\n",
              "      <th>y</th>\n",
              "      <td>1.000000</td>\n",
              "      <td>-0.338481</td>\n",
              "      <td>-0.077221</td>\n",
              "      <td>-0.035322</td>\n",
              "      <td>0.081629</td>\n",
              "      <td>0.257307</td>\n",
              "    </tr>\n",
              "    <tr>\n",
              "      <th>c</th>\n",
              "      <td>-0.338481</td>\n",
              "      <td>1.000000</td>\n",
              "      <td>-0.369226</td>\n",
              "      <td>0.083081</td>\n",
              "      <td>0.018443</td>\n",
              "      <td>-0.549500</td>\n",
              "    </tr>\n",
              "    <tr>\n",
              "      <th>age</th>\n",
              "      <td>-0.077221</td>\n",
              "      <td>-0.369226</td>\n",
              "      <td>1.000000</td>\n",
              "      <td>-0.308247</td>\n",
              "      <td>-0.189119</td>\n",
              "      <td>0.096067</td>\n",
              "    </tr>\n",
              "    <tr>\n",
              "      <th>sibsp</th>\n",
              "      <td>-0.035322</td>\n",
              "      <td>0.083081</td>\n",
              "      <td>-0.308247</td>\n",
              "      <td>1.000000</td>\n",
              "      <td>0.414838</td>\n",
              "      <td>0.159651</td>\n",
              "    </tr>\n",
              "    <tr>\n",
              "      <th>parch</th>\n",
              "      <td>0.081629</td>\n",
              "      <td>0.018443</td>\n",
              "      <td>-0.189119</td>\n",
              "      <td>0.414838</td>\n",
              "      <td>1.000000</td>\n",
              "      <td>0.216225</td>\n",
              "    </tr>\n",
              "    <tr>\n",
              "      <th>fare</th>\n",
              "      <td>0.257307</td>\n",
              "      <td>-0.549500</td>\n",
              "      <td>0.096067</td>\n",
              "      <td>0.159651</td>\n",
              "      <td>0.216225</td>\n",
              "      <td>1.000000</td>\n",
              "    </tr>\n",
              "  </tbody>\n",
              "</table>\n",
              "</div>\n",
              "      <button class=\"colab-df-convert\" onclick=\"convertToInteractive('df-c41b7e8b-586c-4020-b415-4288c4eccf16')\"\n",
              "              title=\"Convert this dataframe to an interactive table.\"\n",
              "              style=\"display:none;\">\n",
              "        \n",
              "  <svg xmlns=\"http://www.w3.org/2000/svg\" height=\"24px\"viewBox=\"0 0 24 24\"\n",
              "       width=\"24px\">\n",
              "    <path d=\"M0 0h24v24H0V0z\" fill=\"none\"/>\n",
              "    <path d=\"M18.56 5.44l.94 2.06.94-2.06 2.06-.94-2.06-.94-.94-2.06-.94 2.06-2.06.94zm-11 1L8.5 8.5l.94-2.06 2.06-.94-2.06-.94L8.5 2.5l-.94 2.06-2.06.94zm10 10l.94 2.06.94-2.06 2.06-.94-2.06-.94-.94-2.06-.94 2.06-2.06.94z\"/><path d=\"M17.41 7.96l-1.37-1.37c-.4-.4-.92-.59-1.43-.59-.52 0-1.04.2-1.43.59L10.3 9.45l-7.72 7.72c-.78.78-.78 2.05 0 2.83L4 21.41c.39.39.9.59 1.41.59.51 0 1.02-.2 1.41-.59l7.78-7.78 2.81-2.81c.8-.78.8-2.07 0-2.86zM5.41 20L4 18.59l7.72-7.72 1.47 1.35L5.41 20z\"/>\n",
              "  </svg>\n",
              "      </button>\n",
              "      \n",
              "  <style>\n",
              "    .colab-df-container {\n",
              "      display:flex;\n",
              "      flex-wrap:wrap;\n",
              "      gap: 12px;\n",
              "    }\n",
              "\n",
              "    .colab-df-convert {\n",
              "      background-color: #E8F0FE;\n",
              "      border: none;\n",
              "      border-radius: 50%;\n",
              "      cursor: pointer;\n",
              "      display: none;\n",
              "      fill: #1967D2;\n",
              "      height: 32px;\n",
              "      padding: 0 0 0 0;\n",
              "      width: 32px;\n",
              "    }\n",
              "\n",
              "    .colab-df-convert:hover {\n",
              "      background-color: #E2EBFA;\n",
              "      box-shadow: 0px 1px 2px rgba(60, 64, 67, 0.3), 0px 1px 3px 1px rgba(60, 64, 67, 0.15);\n",
              "      fill: #174EA6;\n",
              "    }\n",
              "\n",
              "    [theme=dark] .colab-df-convert {\n",
              "      background-color: #3B4455;\n",
              "      fill: #D2E3FC;\n",
              "    }\n",
              "\n",
              "    [theme=dark] .colab-df-convert:hover {\n",
              "      background-color: #434B5C;\n",
              "      box-shadow: 0px 1px 3px 1px rgba(0, 0, 0, 0.15);\n",
              "      filter: drop-shadow(0px 1px 2px rgba(0, 0, 0, 0.3));\n",
              "      fill: #FFFFFF;\n",
              "    }\n",
              "  </style>\n",
              "\n",
              "      <script>\n",
              "        const buttonEl =\n",
              "          document.querySelector('#df-c41b7e8b-586c-4020-b415-4288c4eccf16 button.colab-df-convert');\n",
              "        buttonEl.style.display =\n",
              "          google.colab.kernel.accessAllowed ? 'block' : 'none';\n",
              "\n",
              "        async function convertToInteractive(key) {\n",
              "          const element = document.querySelector('#df-c41b7e8b-586c-4020-b415-4288c4eccf16');\n",
              "          const dataTable =\n",
              "            await google.colab.kernel.invokeFunction('convertToInteractive',\n",
              "                                                     [key], {});\n",
              "          if (!dataTable) return;\n",
              "\n",
              "          const docLinkHtml = 'Like what you see? Visit the ' +\n",
              "            '<a target=\"_blank\" href=https://colab.research.google.com/notebooks/data_table.ipynb>data table notebook</a>'\n",
              "            + ' to learn more about interactive tables.';\n",
              "          element.innerHTML = '';\n",
              "          dataTable['output_type'] = 'display_data';\n",
              "          await google.colab.output.renderOutput(dataTable, element);\n",
              "          const docLink = document.createElement('div');\n",
              "          docLink.innerHTML = docLinkHtml;\n",
              "          element.appendChild(docLink);\n",
              "        }\n",
              "      </script>\n",
              "    </div>\n",
              "  </div>\n",
              "  "
            ],
            "text/plain": [
              "              y         c       age     sibsp     parch      fare\n",
              "y      1.000000 -0.338481 -0.077221 -0.035322  0.081629  0.257307\n",
              "c     -0.338481  1.000000 -0.369226  0.083081  0.018443 -0.549500\n",
              "age   -0.077221 -0.369226  1.000000 -0.308247 -0.189119  0.096067\n",
              "sibsp -0.035322  0.083081 -0.308247  1.000000  0.414838  0.159651\n",
              "parch  0.081629  0.018443 -0.189119  0.414838  1.000000  0.216225\n",
              "fare   0.257307 -0.549500  0.096067  0.159651  0.216225  1.000000"
            ]
          },
          "execution_count": 28,
          "metadata": {},
          "output_type": "execute_result"
        }
      ],
      "source": [
        "df_num.corr()"
      ]
    },
    {
      "cell_type": "markdown",
      "metadata": {
        "id": "VLdn7bGzUbND"
      },
      "source": [
        "### Exploring and visualizing the Categorical features\n",
        "As I considered the numerical features in the previous subsection, it is time to investigate the effect of the categorical ones."
      ]
    },
    {
      "cell_type": "markdown",
      "metadata": {
        "id": "-AG23dsTUbND"
      },
      "source": [
        "#### Categorical features in general"
      ]
    },
    {
      "cell_type": "code",
      "execution_count": 29,
      "metadata": {
        "colab": {
          "base_uri": "https://localhost:8080/"
        },
        "id": "hTaLBtm3UbNE",
        "outputId": "c4c5ff0d-1ba5-4e4a-891f-6f34d12d609f"
      },
      "outputs": [
        {
          "name": "stdout",
          "output_type": "stream",
          "text": [
            "    count                 mean                     \n",
            "      age    c fare        age         c       fare\n",
            "y                                                  \n",
            "0.0   424  549  549  30.626179  2.531876  22.117887\n",
            "1.0   290  342  342  28.343690  1.950292  48.395408\n"
          ]
        }
      ],
      "source": [
        "print(pd.pivot_table(df, index='y', values=['c','age', 'fare'], aggfunc=[pd.Series.count, np.mean]))"
      ]
    },
    {
      "cell_type": "code",
      "execution_count": 30,
      "metadata": {
        "colab": {
          "base_uri": "https://localhost:8080/"
        },
        "id": "ZN2Ph5ryUbNE",
        "outputId": "0bdb3dd5-f2b4-4336-f8f6-64007e500e66"
      },
      "outputs": [
        {
          "name": "stdout",
          "output_type": "stream",
          "text": [
            "c      1   2    3\n",
            "y                \n",
            "0.0   80  97  372\n",
            "1.0  136  87  119\n",
            "sex  female  male\n",
            "y                \n",
            "0.0      81   468\n",
            "1.0     233   109\n",
            "from   C   Q    S\n",
            "y                \n",
            "0.0   75  47  427\n",
            "1.0   93  30  217\n",
            "from   C   Q    S\n",
            "c                \n",
            "1     85   2  127\n",
            "2     17   3  164\n",
            "3     66  72  353\n"
          ]
        }
      ],
      "source": [
        "# comparing survivors' values with respect to categorical variables.\n",
        "print(pd.pivot_table(df, index='y', columns=['c'], values='ticket', aggfunc='count'))\n",
        "print(pd.pivot_table(df, index='y', columns=['sex'], aggfunc='count', values='ticket'))\n",
        "print(pd.pivot_table(df, index='y', columns='from', aggfunc='count', values='ticket'))\n",
        "# at first glance it might seem that passengers embarking from \"C\" are more likely to survive. Yet, it might be useful to consider\n",
        "# the social class of people coming from the different stations.\n",
        "\n",
        "print(pd.pivot_table(df, index='c', columns=['from'], values='name', aggfunc='count'))\n",
        "# the last observation did not provide evidence to completely rool out the possibility of positive correlation between the embarkment \n",
        "# point and survival, more investigation is needed.\n"
      ]
    },
    {
      "cell_type": "code",
      "execution_count": 31,
      "metadata": {
        "colab": {
          "base_uri": "https://localhost:8080/"
        },
        "id": "sXLBNErYUbNF",
        "outputId": "74aedc96-654f-43eb-b6c5-eb3b3f2c8f07"
      },
      "outputs": [
        {
          "name": "stdout",
          "output_type": "stream",
          "text": [
            "             y      from\n",
            "y     1.000000 -0.169718\n",
            "from -0.169718  1.000000\n"
          ]
        }
      ],
      "source": [
        "\n",
        "# 0: male, 1: female\n",
        "genre_mapper = {\"male\":0, \"female\":1}\n",
        "all_data[\"sex\"] = pd.Series([genre_mapper[x] for x in all_data['sex']])\n",
        "\n",
        "from_mapper = {\"C\":1, \"Q\":2, \"S\":3}\n",
        "all_data[\"from\"] = pd.Series([from_mapper[x] if x in from_mapper else x for x in all_data[\"from\"]])\n",
        "\n",
        "all_data['from'] = all_data['from'].astype(float)\n",
        "print(all_data.loc[:, [\"y\", \"from\"]].corr())"
      ]
    },
    {
      "cell_type": "code",
      "execution_count": 32,
      "metadata": {
        "id": "-iyNtppMUbNG"
      },
      "outputs": [],
      "source": [
        "df = all_data[all_data['train'] == 1].copy()"
      ]
    },
    {
      "cell_type": "code",
      "execution_count": 33,
      "metadata": {
        "colab": {
          "base_uri": "https://localhost:8080/"
        },
        "id": "QBaOO8z3UbNG",
        "outputId": "c13ec33c-b234-4eaf-9271-eeb2bf3a19b5"
      },
      "outputs": [
        {
          "name": "stdout",
          "output_type": "stream",
          "text": [
            "         c                 fare\n",
            "     count      mean       mean\n",
            "from                           \n",
            "1.0    168  1.886905  59.954144\n",
            "2.0     77  2.909091  13.276030\n",
            "3.0    644  2.350932  27.079812\n",
            "c       1    2    3\n",
            "from               \n",
            "1.0    85   17   66\n",
            "2.0     2    3   72\n",
            "3.0   127  164  353\n"
          ]
        }
      ],
      "source": [
        "# understand the relation between classes and the embarkment station\n",
        "from_class_ana = df.groupby(\"from\").agg({\"c\":['count', 'mean'], \"fare\":'mean'})\n",
        "print(from_class_ana)\n",
        "# so we can say the embarkment station has little to no correlation with the social class\n",
        "\n",
        "print(pd.pivot_table(df, index='from',columns='c',values='ticket', aggfunc='count'))\n"
      ]
    },
    {
      "cell_type": "markdown",
      "metadata": {
        "id": "dgXskNbaUbNG"
      },
      "source": [
        "#### Cabin Feature\n",
        "This subsection was created to better understand the cabin column. It is currently commented as no useful insight was extracted and the column is dropped later in the notebook."
      ]
    },
    {
      "cell_type": "code",
      "execution_count": 34,
      "metadata": {
        "id": "gIOA0UrkUbNH"
      },
      "outputs": [],
      "source": [
        "# # understanding the cabin\n",
        "\n",
        "# print(df[\"cabin\"].isna().sum())\n",
        "# print(df[\"cabin\"].copy().dropna().count())\n",
        "# so only 204 passengers bought cabins"
      ]
    },
    {
      "cell_type": "code",
      "execution_count": 35,
      "metadata": {
        "id": "JIKisDZ8UbNH"
      },
      "outputs": [],
      "source": [
        "# # we assume that the cabins are indeed separated by spaces\n",
        "# df['num_cabins'] = df.cabin.apply(lambda x: 0 if pd.isna(x) else len(x.split(\" \")))\n",
        "# print(df.num_cabins.value_counts())\n",
        "# # let's check the relation between number of cabins and social class\n",
        "# print(pd.pivot_table(df, index='num_cabins', columns='c', values='ticket', aggfunc='count'))"
      ]
    },
    {
      "cell_type": "markdown",
      "metadata": {
        "id": "Vd3YZQKYUbNI"
      },
      "source": [
        "#### Fare Column ...Again\n",
        "In this subsection, I delve a bit deeper in the fare column to perceive the relationship of this feature with the rest of the categorial features: mainly the class feature. Most of the next cells are commented as the attempt to extract meaningful features did not produce desirable results.\n",
        "\n",
        "\n",
        "***More investigation on this course of action might be needed.***"
      ]
    },
    {
      "cell_type": "code",
      "execution_count": 36,
      "metadata": {
        "colab": {
          "base_uri": "https://localhost:8080/"
        },
        "id": "5zRMXRuFUbNI",
        "outputId": "6dc8ea71-3b26-48ef-e6d4-d28f3bbaec5c"
      },
      "outputs": [
        {
          "name": "stdout",
          "output_type": "stream",
          "text": [
            "             fare\n",
            "count  891.000000\n",
            "mean    32.204208\n",
            "std     49.693429\n",
            "min      0.000000\n",
            "25%      7.910400\n",
            "50%     14.454200\n",
            "75%     31.000000\n",
            "max    512.329200\n",
            "0\n",
            "15\n"
          ]
        }
      ],
      "source": [
        "# understanding the fare column:\n",
        "print (df.loc[:, [\"fare\"]].describe())\n",
        "fare_s = df['fare']\n",
        "fare_df = df.loc[:, [\"fare\"]]\n",
        "# consider the nan values\n",
        "print(fare_s.isna().sum())\n",
        "# there is no nan values: such a delight !!!\n",
        "\n",
        "print(fare_s[lambda x : x == 0].count())"
      ]
    },
    {
      "cell_type": "code",
      "execution_count": 37,
      "metadata": {
        "id": "DwEmMmNuUbNI"
      },
      "outputs": [],
      "source": [
        "# we can see that the survival probability is higher for upper social classes. However, It might be worth noting\n",
        "# that the ticket's price: fare is as well influencial. In other words, a 3rd class passenger who paid more than a 1st passenger\n",
        "# might be more likely to survive, let's consider this subtle detail: it might lead to a helpful feature\n",
        "\n",
        "# df_no_fare = df[df['fare'] == 0]\n",
        "# df_fare = df[df['fare'] != 0]\n",
        "# fare_np = df_fare[\"fare\"].values\n",
        "\n",
        "# quantiles_values = [0, 0.25, 0.5, 0.75, 1]\n",
        "# fare_quantiles = {}\n",
        "# for i in range(1, 4):\n",
        "#     fare_quantiles[\"fare_q_c\" + str(i)] = np.quantile(df_fare[df_fare[\"c\"] == i][\"fare\"].values, quantiles_values)\n",
        "\n",
        "# for key, value in fare_quantiles.items():\n",
        "#     print(str(key) + \": \" + str(value)) \n",
        "\n",
        "# def quartile_number(value, quantiles):\n",
        "#     # value assumed to be at least larger or equal then the lowest value\n",
        "#     assert (value >= quantiles_values[0])\n",
        "#     for i in range(len(quantiles) - 1):\n",
        "#         if value >= quantiles[i] and value < quantiles[i + 1]:\n",
        "#             return i + 1\n",
        "#     return len(quantiles) - 1 \n",
        "\n",
        "# def classify_passenger(row):\n",
        "#     return quartile_number(row['fare'], fare_quantiles[\"fare_q_c\" + str(int(row['c']))])    \n",
        "\n",
        "\n",
        "# df_fare['quartile_class'] = df_fare.loc[:, ['fare', 'c']].apply(lambda row: classify_passenger(row), axis=1)\n",
        "# print(df_fare.loc[:, ['fare', 'c', 'quartile_class']].head(15))\n",
        "\n"
      ]
    },
    {
      "cell_type": "code",
      "execution_count": 38,
      "metadata": {
        "id": "nzPRXeR1UbNJ"
      },
      "outputs": [],
      "source": [
        "\n",
        "# fare_class_quartile_effect = pd.pivot_table(df_fare, index='y', columns=['c','quartile_class'], values='name', aggfunc='count')\n",
        "# print(fare_class_quartile_effect)\n",
        "# print(\"#\" * 50)\n",
        "# fare_class_quartile_effect.loc[2] = fare_class_quartile_effect.loc[1] / fare_class_quartile_effect.loc[0]\n",
        "# print(fare_class_quartile_effect)"
      ]
    },
    {
      "cell_type": "code",
      "execution_count": 39,
      "metadata": {
        "colab": {
          "base_uri": "https://localhost:8080/"
        },
        "id": "T8OS2vj5UbNJ",
        "outputId": "a0189bf3-9f56-42e0-ad5b-23a9eb2dcde8"
      },
      "outputs": [
        {
          "name": "stdout",
          "output_type": "stream",
          "text": [
            "c\n",
            "1    89.447482\n",
            "2    21.648108\n",
            "3    13.378473\n",
            "Name: fare, dtype: float64\n",
            "0\n",
            "0.0\n"
          ]
        }
      ],
      "source": [
        "# the results are promissing and thus it is worthy experimenting with quartile class feature\n",
        "# let's add the values to the all_data dataframe\n",
        "# first impute the zero values with the column mean\n",
        "\n",
        "fare_by_class_mean = all_data[all_data['fare'] > 0].groupby(\"c\").agg({\"fare\": np.mean}).squeeze()\n",
        "print(fare_by_class_mean)\n",
        "\n",
        "\n",
        "def fill_up_fare(row):\n",
        "    if row['fare'] == 0 or np.isnan(row['fare']):\n",
        "        row['fare'] = fare_by_class_mean[row['c']]\n",
        "    return row\n",
        "\n",
        "# we can see that there is positive correlation between the quartile_class feature and survival\n",
        "# it is necessary to impute the row: the mean seems like a reasonable choice\n",
        "\n",
        "all_data = all_data.apply(lambda row: fill_up_fare(row) , axis=1)\n",
        "\n",
        "print(all_data['fare'].isna().sum()) # there is no Nan values anymore\n",
        "print(all_data[all_data['fare'] <= 0]['fare'].sum()) # there is no 0 fare values anymore\n",
        "\n"
      ]
    },
    {
      "cell_type": "code",
      "execution_count": 40,
      "metadata": {
        "id": "hu4u1GQgUbNK"
      },
      "outputs": [],
      "source": [
        "# now the quartile class should be added to the add_data DF\n",
        "# quantiles_values = [0, 0.25, 0.5, 0.75, 1]\n",
        "# fare_quantiles = {}\n",
        "# for i in range(1, 4):\n",
        "#     fare_quantiles[\"fare_q_c\" + str(i)] = np.quantile(all_data[all_data[\"c\"] == i][\"fare\"].values, quantiles_values)\n",
        "\n",
        "# all_data['quartile_class'] = all_data.loc[:, ['fare', 'c']].apply(lambda row: classify_passenger(row), axis=1)"
      ]
    },
    {
      "cell_type": "code",
      "execution_count": 41,
      "metadata": {
        "id": "AzhwppFzUbNK"
      },
      "outputs": [],
      "source": [
        "# print(df.loc[:, [\"y\", \"num_cabins\"]].corr())\n",
        "\n",
        "# There are 3 features that might reflect in a passenger's social image:\n",
        "# * class * fare * num_cabins\n",
        "# let's consider each individually\n",
        "\n",
        "# print((pd.pivot_table(df, index='y', columns=[ 'num_cabins', 'c'], values='ticket', aggfunc=['count'])))"
      ]
    },
    {
      "cell_type": "code",
      "execution_count": 42,
      "metadata": {
        "id": "qLEsxBBrUbNL"
      },
      "outputs": [],
      "source": [
        "## the number of cabins is quite a helpful feature as well so it seems reasonable to add it to the all_data df\n",
        "# all_data['num_cabins'] = all_data.cabin.apply(lambda x: 0 if pd.isna(x) else len(x.split(\" \")))\n"
      ]
    },
    {
      "cell_type": "markdown",
      "metadata": {
        "id": "zcTgTB7cUbNL"
      },
      "source": [
        "#### Engineering the Title feature\n",
        "Once again with the name feature, The first term used to address is the title and can reflect a number of things such as social status, age..."
      ]
    },
    {
      "cell_type": "code",
      "execution_count": 43,
      "metadata": {
        "id": "7xzjEgP2UbNM"
      },
      "outputs": [],
      "source": [
        "# let's first consider the title associated with a passenger's name\n",
        "\n",
        "df['title'] = df['name'].apply(lambda x: re.sub('[:?;.]', \",\", x).split(\",\")[1].strip())"
      ]
    },
    {
      "cell_type": "code",
      "execution_count": 44,
      "metadata": {
        "colab": {
          "base_uri": "https://localhost:8080/"
        },
        "id": "R4FCw5p7UbNM",
        "outputId": "9cb23d11-ad07-4a37-8d2e-bab2c52c89ae"
      },
      "outputs": [
        {
          "name": "stdout",
          "output_type": "stream",
          "text": [
            "Index(['Capt', 'Col', 'Don', 'Dr', 'Jonkheer', 'Lady', 'Major', 'Master',\n",
            "       'Miss', 'Mlle', 'Mme', 'Mr', 'Mrs', 'Ms', 'Rev', 'Sir', 'the Countess'],\n",
            "      dtype='object')\n"
          ]
        }
      ],
      "source": [
        "print(df.title.value_counts().index.sort_values())"
      ]
    },
    {
      "cell_type": "code",
      "execution_count": 45,
      "metadata": {
        "colab": {
          "base_uri": "https://localhost:8080/"
        },
        "id": "BREiHpOuUbNM",
        "outputId": "aeda706a-e879-4fc3-de5d-05ee09b27c5f"
      },
      "outputs": [
        {
          "name": "stdout",
          "output_type": "stream",
          "text": [
            "title  Capt  Col  Don   Dr  Jonkheer  Lady  Major  Rev  Sir  the Countess\n",
            "y                                                                        \n",
            "0.0     1.0  1.0  1.0  4.0       1.0   NaN    1.0  6.0  NaN           NaN\n",
            "1.0     NaN  1.0  NaN  3.0       NaN   1.0    1.0  NaN  1.0           1.0\n"
          ]
        }
      ],
      "source": [
        "# let's consider the non-uniform titles and their relevance to the survival\n",
        "non_comm_title = df[df['title'].isin(['Capt', 'Col', 'Don', 'Dr', 'Jonkheer', 'Lady', 'Major','Rev', 'Sir', 'the Countess'])]\n",
        "print(pd.pivot_table(non_comm_title, index='y', columns='title', values='ticket', aggfunc='count'))"
      ]
    },
    {
      "cell_type": "code",
      "execution_count": 46,
      "metadata": {
        "id": "7ItmDzRyUbNN"
      },
      "outputs": [],
      "source": [
        "# comm_title = df[df['title'].isin(['Master','Miss', 'Mlle', 'Mme', 'Mr', 'Mrs', 'Ms'])]\n",
        "# print(pd.pivot_table(comm_title, index='y', columns='title', values='ticket', aggfunc='count'))"
      ]
    },
    {
      "cell_type": "markdown",
      "metadata": {
        "id": "kzo9Ia16UbNN"
      },
      "source": [
        "## Imputing Missing Values\n",
        "It is known that machine learning models do not accept Nan values. Thus, imputing the missing values is a crucial preliminary step in the ML pipeline."
      ]
    },
    {
      "cell_type": "markdown",
      "metadata": {
        "id": "HYsAZW3-UbNN"
      },
      "source": [
        "### Imputing Age\n",
        "The age is highly correlated with the final prediction. Yet, it has a large number of missing values. A more careful imputing is needed. After investigating and little research, I decided to impute the age as follows:\n",
        "1. for classes 1 and 2: fill the missing values with the mean age\n",
        "2. for class 3: ages are grouped by title (as indicated later the two values are related), the missing values are filled with the mean of the group with the corresponding title."
      ]
    },
    {
      "cell_type": "code",
      "execution_count": 47,
      "metadata": {
        "colab": {
          "base_uri": "https://localhost:8080/"
        },
        "id": "AP1Kh-gJUbNN",
        "outputId": "383e3ffb-5add-4336-8171-828710c351dc"
      },
      "outputs": [
        {
          "name": "stdout",
          "output_type": "stream",
          "text": [
            "177\n",
            "891\n"
          ]
        }
      ],
      "source": [
        "# let's impute the age\n",
        "print(df['age'].isna().sum())\n",
        "print(len(df))"
      ]
    },
    {
      "cell_type": "code",
      "execution_count": 48,
      "metadata": {
        "colab": {
          "base_uri": "https://localhost:8080/"
        },
        "id": "veFcDpsHUbNO",
        "outputId": "9dcf35f2-2767-430f-ab4d-0a6f6bf76ed8"
      },
      "outputs": [
        {
          "name": "stdout",
          "output_type": "stream",
          "text": [
            "12.47778664731647\n",
            "74.0 0.42\n"
          ]
        }
      ],
      "source": [
        "class_3_age = df[(~np.isnan(df['age'])) &(df['c'] == 3) ]['age'].values\n",
        "print(np.nanstd(class_3_age))\n",
        "print(np.amax(class_3_age), np.amin(class_3_age))"
      ]
    },
    {
      "cell_type": "code",
      "execution_count": 49,
      "metadata": {
        "colab": {
          "base_uri": "https://localhost:8080/"
        },
        "id": "3Yowt95UUbNO",
        "outputId": "7412f770-1c4d-4121-b563-f606cadc7b94"
      },
      "outputs": [
        {
          "name": "stdout",
          "output_type": "stream",
          "text": [
            "86\n"
          ]
        }
      ],
      "source": [
        "df_test = all_data[all_data['train'] != 1]\n",
        "print(df_test['age'].isna().sum())"
      ]
    },
    {
      "cell_type": "code",
      "execution_count": 50,
      "metadata": {
        "colab": {
          "base_uri": "https://localhost:8080/"
        },
        "id": "_2il6xupUbNO",
        "outputId": "078233e8-32b5-4e18-c6a3-e6c036794f06"
      },
      "outputs": [
        {
          "name": "stdout",
          "output_type": "stream",
          "text": [
            "c\n",
            "1    39.159930\n",
            "2    29.506705\n",
            "3    24.816367\n",
            "Name: (age, mean), dtype: float64\n",
            "   name\n",
            "c      \n",
            "1    39\n",
            "2    16\n",
            "3   208\n"
          ]
        }
      ],
      "source": [
        "age_class = all_data.groupby('c').agg({\"age\":[np.mean, np.median]}).iloc[:, 0]\n",
        "print(age_class)\n",
        "# count the number of missing age values in each class \n",
        "print(all_data[np.isnan(all_data['age'])].groupby('c').agg({\"name\":'count'})) \n",
        "# as we can see there are only few values missing values for first and second class, thus it might not be harmful\n",
        "# to fill the missing values with the class's mean age\n",
        "# however, since the 3rd class has a large number of missing values, a more careful imputation might be needed."
      ]
    },
    {
      "cell_type": "markdown",
      "metadata": {
        "id": "FMqRyPGSUbNO"
      },
      "source": [
        "as we can see there 4 main titles associated with passenger from the 3rd class.\n",
        "According to the following [link](https://prowritingaid.com/art/968/mr%2c-mrs%2c-ms-and-miss%3a-everything-you-need-to-know-about-titles.aspx), the title is generally associated with \n",
        "an age category or a matrial status (that indeed correlates with age...). It might be a good idea to associate these two features\n"
      ]
    },
    {
      "cell_type": "code",
      "execution_count": 51,
      "metadata": {
        "id": "Jf-t5QSlUbNP"
      },
      "outputs": [],
      "source": [
        "# let's first consider the title associated with a passenger's name\n",
        "\n",
        "all_data['title'] = all_data['name'].apply(lambda x: re.sub('[:?;.]', \",\", x).split(\",\")[1].strip())\n"
      ]
    },
    {
      "cell_type": "code",
      "execution_count": 52,
      "metadata": {
        "colab": {
          "base_uri": "https://localhost:8080/"
        },
        "id": "ZBb-Uw_bUbNP",
        "outputId": "1710297e-d74e-4209-bebc-3500a7ae8572"
      },
      "outputs": [
        {
          "name": "stdout",
          "output_type": "stream",
          "text": [
            "Mr        448\n",
            "Miss      150\n",
            "Mrs        65\n",
            "Master     45\n",
            "Ms          1\n",
            "Name: title, dtype: int64\n",
            "title\n",
            "Master     6.090000\n",
            "Miss      17.360874\n",
            "Mr        28.318910\n",
            "Mrs       32.326531\n",
            "Ms              NaN\n",
            "Name: age, dtype: float64\n"
          ]
        }
      ],
      "source": [
        "# let's fill the third class missing ages with the mean of the associated title\n",
        "print(all_data[all_data['c'] == 3]['title'].value_counts())\n",
        "\n",
        "title_age_class_3 = all_data[all_data['c'] == 3].groupby('title').agg({\"age\":np.nanmean}).iloc[:, 0]\n",
        "print(title_age_class_3)"
      ]
    },
    {
      "cell_type": "code",
      "execution_count": 53,
      "metadata": {
        "id": "x4swDmDnUbNW"
      },
      "outputs": [],
      "source": [
        "def fill_up_age_class_3(row):\n",
        "    value1 = np.round(title_age_class_3[row['title']])\n",
        "    value2 = np.round(age_class[row['c']]) # used only for one passenger with title Ms.\n",
        "    if np.isnan(row['age']):\n",
        "        row['age'] =  value2 if np.isnan(value1) else value1\n",
        "    return row\n",
        "\n",
        "def fill_up_age_class_1_2(row):\n",
        "    if np.isnan(row['age']):\n",
        "        row['age'] = np.round(age_class[row['c']])\n",
        "    return row\n",
        "\n",
        "def fill_up_age(row):\n",
        "    if row['c'] == 3:\n",
        "        return fill_up_age_class_3(row)\n",
        "    return fill_up_age_class_1_2(row)\n",
        "\n",
        "all_data = all_data.apply(fill_up_age, axis=1)"
      ]
    },
    {
      "cell_type": "markdown",
      "metadata": {
        "id": "AxAhE5I8UbNW"
      },
      "source": [
        "## Prepare the data for modeling\n",
        "After engineering new features, imputing missing values and exploring different interactions, it is time to prepare the final dataframe for modeling."
      ]
    },
    {
      "cell_type": "markdown",
      "metadata": {
        "id": "nKwCjQ0dUbNW"
      },
      "source": [
        "### Dropping columns"
      ]
    },
    {
      "cell_type": "code",
      "execution_count": 54,
      "metadata": {
        "colab": {
          "base_uri": "https://localhost:8080/"
        },
        "id": "89oAUBZTUbNX",
        "outputId": "6a7ca80a-242a-4228-b6aa-d911265833e7"
      },
      "outputs": [
        {
          "name": "stdout",
          "output_type": "stream",
          "text": [
            "Index(['y', 'c', 'name', 'sex', 'age', 'sibsp', 'parch', 'ticket', 'fare',\n",
            "       'cabin', 'from', 'train', 'fam_name', 'fam_size', 'title'],\n",
            "      dtype='object')\n"
          ]
        }
      ],
      "source": [
        "# it is time to drop the unncessary columns\n",
        "print(all_data.columns)"
      ]
    },
    {
      "cell_type": "code",
      "execution_count": 55,
      "metadata": {
        "id": "vYJExA44UbNX"
      },
      "outputs": [],
      "source": [
        "all_data = all_data.drop(['name', 'ticket', 'cabin', 'title','sibsp', 'parch', 'fam_name'], axis=1)"
      ]
    },
    {
      "cell_type": "code",
      "execution_count": 56,
      "metadata": {
        "colab": {
          "base_uri": "https://localhost:8080/"
        },
        "id": "Tpa9uDOgUbNX",
        "outputId": "bd6275c1-9749-4e2e-9a4a-b8698adb89b3"
      },
      "outputs": [
        {
          "name": "stdout",
          "output_type": "stream",
          "text": [
            "Index(['y', 'c', 'sex', 'age', 'fare', 'from', 'train', 'fam_size'], dtype='object') Index(['y', 'c', 'sex', 'age', 'fare', 'from', 'train', 'fam_size'], dtype='object')\n"
          ]
        }
      ],
      "source": [
        "df_train = all_data[all_data['train'] == 1].copy()\n",
        "df_test = all_data[all_data['train'] != 1].copy()\n",
        "# df_train.dropna(subset=['from','age'], inplace=True) # drop nan values \n",
        "\n",
        "print(df_train.columns, df_test.columns)\n",
        "df_train.dropna(subset=['from', 'age'], inplace=True)\n",
        "X_train = df_train.drop(['train', 'y'],axis=1).values\n",
        "\n",
        "y_train = df_train['y'].values\n",
        "X_test = df_test.drop(['train', 'y'],axis=1).values"
      ]
    },
    {
      "cell_type": "markdown",
      "metadata": {
        "id": "rxoRqYQWUbNX"
      },
      "source": [
        "### Scaling data (normalization)"
      ]
    },
    {
      "cell_type": "code",
      "execution_count": 57,
      "metadata": {
        "id": "pAPVnuumUbNY"
      },
      "outputs": [],
      "source": [
        "# time to scale the data\n",
        "# we can use the sklearn class for this\n",
        "\n",
        "from sklearn.preprocessing import StandardScaler\n",
        "\n",
        "scaler = StandardScaler()\n",
        "\n",
        "X_train = scaler.fit_transform(X_train)\n",
        "X_test = scaler.fit_transform(X_test)"
      ]
    },
    {
      "cell_type": "code",
      "execution_count": 58,
      "metadata": {
        "colab": {
          "base_uri": "https://localhost:8080/"
        },
        "id": "oAyIOZEDUbNY",
        "outputId": "1c933635-c723-47ea-9851-1d4cde5eb6b4"
      },
      "outputs": [
        {
          "name": "stdout",
          "output_type": "stream",
          "text": [
            "0.8030790857972065\n"
          ]
        }
      ],
      "source": [
        "# try all the models baseline models I currently know\n",
        "from sklearn.linear_model import LogisticRegression\n",
        "from sklearn.model_selection import KFold\n",
        "from sklearn.model_selection import cross_val_score\n",
        "\n",
        "n_splits = 6\n",
        "random_state = 5\n",
        "kf = KFold(n_splits=n_splits, shuffle=True, random_state=random_state)\n",
        "\n",
        "solver = 'liblinear'\n",
        "lr = LogisticRegression(solver=solver)\n",
        "cv_scores = cross_val_score(lr, X_train, y_train, cv=kf)\n",
        "print(np.mean(cv_scores))"
      ]
    },
    {
      "cell_type": "markdown",
      "metadata": {
        "id": "PjfkCrvlUbNY"
      },
      "source": [
        "## Models\n",
        "It is time for the final phase in the Machine Learning pipeline: creating models for predicting the passengers' survival"
      ]
    },
    {
      "cell_type": "markdown",
      "metadata": {
        "id": "aKB2OH16UbNY"
      },
      "source": [
        "### First set of Models\n",
        "Let's start with basic models such as:\n",
        "* Logistic regression\n",
        "* KNN classifier\n",
        "* SVM"
      ]
    },
    {
      "cell_type": "code",
      "execution_count": 59,
      "metadata": {
        "colab": {
          "base_uri": "https://localhost:8080/"
        },
        "id": "uqQ1qCgGUbNY",
        "outputId": "be9209a6-6d83-487c-e1d6-070d86658211"
      },
      "outputs": [
        {
          "name": "stdout",
          "output_type": "stream",
          "text": [
            "[0.87919463 0.80405405 0.83783784 0.80405405 0.82432432 0.73648649]\n"
          ]
        }
      ],
      "source": [
        "from sklearn.svm import SVC\n",
        "\n",
        "svm = SVC() # the non-linear SVM\n",
        "cv_scores = cross_val_score(svm, X_train, y_train, cv=kf)\n",
        "print(cv_scores)"
      ]
    },
    {
      "cell_type": "code",
      "execution_count": 60,
      "metadata": {
        "colab": {
          "base_uri": "https://localhost:8080/"
        },
        "id": "otnZCO4lUbNZ",
        "outputId": "5df5b8b8-4d10-46b2-978b-51446ac59576"
      },
      "outputs": [
        {
          "name": "stdout",
          "output_type": "stream",
          "text": [
            "[0.87919463 0.80405405 0.83783784 0.80405405 0.82432432 0.73648649]\n"
          ]
        }
      ],
      "source": [
        "from sklearn.neighbors import KNeighborsClassifier\n",
        "knn = KNeighborsClassifier()\n",
        "cv_scores = cross_val_score(svm, X_train, y_train, cv=kf)\n",
        "print(cv_scores)"
      ]
    },
    {
      "cell_type": "code",
      "execution_count": 61,
      "metadata": {
        "colab": {
          "base_uri": "https://localhost:8080/"
        },
        "id": "W9ax6HQOUbNZ",
        "outputId": "cbce9a3f-2d44-4b64-a15c-6e0b4e90395a"
      },
      "outputs": [
        {
          "name": "stdout",
          "output_type": "stream",
          "text": [
            "[0.73595506 0.74157303 0.82022472 0.78089888 0.73446328]\n"
          ]
        }
      ],
      "source": [
        "from sklearn.tree import DecisionTreeClassifier\n",
        "dt = DecisionTreeClassifier(random_state=2) \n",
        "cv_scores = cross_val_score(dt, X_train, y_train)\n",
        "print(cv_scores)"
      ]
    },
    {
      "cell_type": "code",
      "execution_count": 62,
      "metadata": {
        "id": "waFLsBmtUbNZ"
      },
      "outputs": [],
      "source": [
        "from sklearn.metrics import accuracy_score\n",
        "def model_best_version(model, model_name):\n",
        "    print(model_name)\n",
        "    print(\"parameters \\n\" + str(model.best_params_))\n",
        "    print(\"best f1score \\n\" + str(model.best_score_))"
      ]
    },
    {
      "cell_type": "markdown",
      "metadata": {
        "id": "qzIGLYFgUbNZ"
      },
      "source": [
        "### HyperTune the first set of models"
      ]
    },
    {
      "cell_type": "code",
      "execution_count": 63,
      "metadata": {
        "colab": {
          "base_uri": "https://localhost:8080/"
        },
        "id": "BQXE-bTiUbNZ",
        "outputId": "bf308ecd-efd0-449c-87f9-22b3a69ba414"
      },
      "outputs": [
        {
          "name": "stdout",
          "output_type": "stream",
          "text": [
            "LogisticRegression\n",
            "parameters \n",
            "{'C': 36.754127913334756, 'max_iter': 2000, 'penalty': 'l2', 'solver': 'liblinear'}\n",
            "best f1score \n",
            "0.7279960170237149\n"
          ]
        }
      ],
      "source": [
        "from sklearn.model_selection import GridSearchCV\n",
        "\n",
        "# tune the parameters\n",
        "lamda = np.array([10 ** x for x in np.linspace(-5, 0.1)])\n",
        "\n",
        "lr_params = {\"max_iter\": [2000], \"penalty\":['l2'], 'C': 1 / lamda, 'solver':['liblinear']}\n",
        "\n",
        "lr_best = GridSearchCV(lr, param_grid=lr_params, cv=6, n_jobs=-1, scoring='f1')\n",
        "\n",
        "lr_best.fit(X_train, y_train)\n",
        "\n",
        "model_best_version(lr_best, \"LogisticRegression\")"
      ]
    },
    {
      "cell_type": "code",
      "execution_count": 64,
      "metadata": {
        "colab": {
          "base_uri": "https://localhost:8080/"
        },
        "id": "k8SXea0SUbNa",
        "outputId": "7b102f17-2874-4f2a-b5dd-be699e881ae9"
      },
      "outputs": [
        {
          "name": "stdout",
          "output_type": "stream",
          "text": [
            "KNN\n",
            "parameters \n",
            "{'algorithm': 'auto', 'n_neighbors': 15, 'p': 1, 'weights': 'uniform'}\n",
            "best f1score \n",
            "0.8200465566237378\n"
          ]
        }
      ],
      "source": [
        "knn_params = {'n_neighbors' : range(5, 20),\n",
        "              'weights' : ['uniform', 'distance'],\n",
        "              'algorithm' : ['auto', 'ball_tree','kd_tree'],\n",
        "              'p' : [1,2]}\n",
        "knn_best = GridSearchCV(knn, param_grid = knn_params, cv = 6,  n_jobs = -1)\n",
        "knn_best.fit(X_train,y_train)\n",
        "model_best_version(knn_best, \"KNN\")"
      ]
    },
    {
      "cell_type": "code",
      "execution_count": 65,
      "metadata": {
        "colab": {
          "base_uri": "https://localhost:8080/"
        },
        "id": "HrXLygqGUbNa",
        "outputId": "0fb8622f-fafc-4b1a-eac8-d5c6c05fc5e6"
      },
      "outputs": [
        {
          "name": "stdout",
          "output_type": "stream",
          "text": [
            "NON-linear SVM\n",
            "parameters \n",
            "{'C': 6.866488450042998, 'gamma': 0.1, 'kernel': 'rbf'}\n",
            "best f1score \n",
            "0.8245435032347784\n"
          ]
        }
      ],
      "source": [
        "from sklearn.svm import SVC\n",
        "\n",
        "svm_params = [{'kernel': ['rbf'], 'gamma': [.1,.5,1,2,5,10], 'C': 1 / lamda}]\n",
        "# {'kernel': ['poly'], 'degree' : [2,3,4,5], 'C': 1 / lamda}]\n",
        "\n",
        "svc_best = GridSearchCV(SVC(), param_grid=svm_params, cv=6, n_jobs=-1)\n",
        "svc_best.fit(X_train, y_train)\n",
        "model_best_version(svc_best, \"NON-linear SVM\")"
      ]
    },
    {
      "cell_type": "code",
      "execution_count": 66,
      "metadata": {
        "colab": {
          "base_uri": "https://localhost:8080/"
        },
        "id": "Jutt2O-WUbNa",
        "outputId": "a7dad1d6-289e-4677-abf6-e523eafc22ab"
      },
      "outputs": [
        {
          "name": "stdout",
          "output_type": "stream",
          "text": [
            "DecisionTreeClassifier\n",
            "parameters \n",
            "{'max_depth': 4, 'max_features': 'log2', 'min_samples_leaf': 0.05}\n",
            "best f1score \n",
            "0.8110299897212649\n",
            "0.8064423483886571\n"
          ]
        }
      ],
      "source": [
        "dt_params = {\"max_depth\": [2, 3,4,5,6], \"min_samples_leaf\": [0.02, 0.04, 0.05, 0.1, 0.12, 0.15], \"max_features\":[\"log2\", \"sqrt\", None]}\n",
        "dt_best = GridSearchCV(dt, param_grid=dt_params, cv=6, n_jobs=-1)\n",
        "dt_best.fit(X_train, y_train)\n",
        "model_best_version(dt_best, \"DecisionTreeClassifier\")\n",
        "\n",
        "print(cross_val_score(dt_best, X_train, y_train, cv=kf).mean())\n"
      ]
    },
    {
      "cell_type": "code",
      "execution_count": 67,
      "metadata": {
        "colab": {
          "base_uri": "https://localhost:8080/"
        },
        "id": "3a0PItMiUbNa",
        "outputId": "e13b81e3-8313-4ca0-bc7e-d838f6edd1b1"
      },
      "outputs": [
        {
          "name": "stdout",
          "output_type": "stream",
          "text": [
            "[[523  26]\n",
            " [142 198]]\n"
          ]
        }
      ],
      "source": [
        "X_train_pred = dt_best.predict(X_train)\n",
        "\n",
        "from sklearn.metrics import confusion_matrix\n",
        "print(confusion_matrix(y_train, X_train_pred))\n"
      ]
    },
    {
      "cell_type": "code",
      "execution_count": 68,
      "metadata": {
        "colab": {
          "base_uri": "https://localhost:8080/"
        },
        "id": "rWAjYc2ZUbNb",
        "outputId": "da74d2e9-2475-4b35-abbc-8262c3ab9779"
      },
      "outputs": [
        {
          "name": "stdout",
          "output_type": "stream",
          "text": [
            "       y  c  sex    age     fare  from  fam_size\n",
            "2    1.0  3    1  26.00   7.9250   3.0         1\n",
            "8    1.0  3    1  27.00  11.1333   3.0         6\n",
            "10   1.0  3    1   4.00  16.7000   3.0         3\n",
            "17   1.0  2    0  30.00  13.0000   3.0         5\n",
            "21   1.0  2    0  34.00  13.0000   3.0         1\n",
            "23   1.0  1    0  28.00  35.5000   3.0         1\n",
            "25   1.0  3    1  38.00  31.3875   3.0         8\n",
            "36   1.0  3    0  28.00   7.2292   1.0         1\n",
            "55   1.0  1    0  39.00  35.5000   3.0         1\n",
            "65   1.0  3    0   6.00  15.2458   1.0         3\n",
            "68   1.0  3    1  17.00   7.9250   3.0        11\n",
            "74   1.0  3    0  32.00  56.4958   3.0         1\n",
            "78   1.0  2    0   0.83  29.0000   3.0         3\n",
            "79   1.0  3    1  30.00  12.4750   3.0         1\n",
            "81   1.0  3    0  29.00   9.5000   3.0         1\n",
            "85   1.0  3    1  33.00  15.8500   3.0         2\n",
            "97   1.0  1    0  23.00  63.3583   1.0         2\n",
            "106  1.0  3    1  21.00   7.6500   3.0         1\n",
            "107  1.0  3    0  28.00   7.7750   3.0         1\n",
            "125  1.0  3    0  12.00  11.2417   1.0         2\n"
          ]
        }
      ],
      "source": [
        "y_diff = pd.DataFrame(np.abs(X_train_pred - y_train), columns=['diff'])\n",
        "\n",
        "y_diff = y_diff[y_diff['diff'] == 1]\n",
        "\n",
        "train_mis = df_train.drop(['train'], axis=1).iloc[y_diff.index,:]\n",
        "\n",
        "print(train_mis[train_mis['y'] == 1].head(20))\n",
        "# print(train_mis[(train_mis['y'] == 0.0) & (train_mis['quartile_class'].isin([3,4]))])\n",
        "# print(\"#\" * 100)\n",
        "\n",
        "# print(train_mis[(train_mis['y'] == 1.0) & (train_mis['quartile_class']).isin([1,2])])\n"
      ]
    },
    {
      "cell_type": "code",
      "execution_count": 69,
      "metadata": {
        "id": "VdHJt4tFUbNb"
      },
      "outputs": [],
      "source": [
        "# gather submissions\n",
        "lr_pred = lr_best.predict(X_test)\n",
        "knn_pred = knn_best.predict(X_test)\n",
        "dt_pred = dt_best.predict(X_test)\n",
        "\n",
        "\n",
        "# sub_1 = pd.DataFrame({\"PassengerId\": df_test_org['PassengerId'], \"Survived\": lr_pred}).astype(int)\n",
        "sub_knn = pd.DataFrame({\"PassengerId\": df_test_org['PassengerId'],\"Survived\": knn_pred}).astype(int)\n",
        "sub_dt = pd.DataFrame({\"PassengerId\": df_test_org['PassengerId'],\"Survived\": dt_pred}).astype(int)\n",
        "# sub_1.to_csv(\"sub1.csv\", index=False)\n",
        "sub_knn.to_csv(\"sub_knn.csv\", index=False)\n",
        "sub_dt.to_csv(\"sub_dt.csv\", index=False)\n"
      ]
    },
    {
      "cell_type": "markdown",
      "metadata": {
        "id": "henPIoeJUbNb"
      },
      "source": [
        "### More Sophisticated Models: RandomForest and XGboost Classifier"
      ]
    },
    {
      "cell_type": "markdown",
      "metadata": {
        "id": "IWembPdOUbNb"
      },
      "source": [
        "### Random Forest"
      ]
    },
    {
      "cell_type": "code",
      "execution_count": 70,
      "metadata": {
        "colab": {
          "base_uri": "https://localhost:8080/"
        },
        "id": "G7ay7-GuUbNb",
        "outputId": "7791a649-ad0e-416a-d173-2d692e4ae995"
      },
      "outputs": [
        {
          "name": "stdout",
          "output_type": "stream",
          "text": [
            "{'bootstrap': True, 'ccp_alpha': 0.0, 'class_weight': None, 'criterion': 'gini', 'max_depth': None, 'max_features': 'auto', 'max_leaf_nodes': None, 'max_samples': None, 'min_impurity_decrease': 0.0, 'min_samples_leaf': 1, 'min_samples_split': 2, 'min_weight_fraction_leaf': 0.0, 'n_estimators': 100, 'n_jobs': None, 'oob_score': False, 'random_state': None, 'verbose': 0, 'warm_start': False}\n"
          ]
        }
      ],
      "source": [
        "# let's consider more complicated models such as Random Forests model.\n",
        "from sklearn.ensemble import RandomForestClassifier\n",
        "# rf_basic = RandomForestClassifier()\n",
        "from sklearn.model_selection import RandomizedSearchCV\n",
        "\n",
        "# let's try to tune a RandomForest model\n",
        "rf = RandomForestClassifier()\n",
        "print(rf.get_params())\n"
      ]
    },
    {
      "cell_type": "code",
      "execution_count": 71,
      "metadata": {
        "colab": {
          "base_uri": "https://localhost:8080/"
        },
        "id": "S_dL5rFaUbNc",
        "outputId": "833ea4d8-18fa-40aa-c7ab-204929d9dc1e"
      },
      "outputs": [
        {
          "data": {
            "text/plain": [
              "GridSearchCV(cv=6, estimator=RandomForestClassifier(random_state=68), n_jobs=-1,\n",
              "             param_grid={'max_depth': [4, 5, 6, 7, 8],\n",
              "                         'max_features': ['sqrt', 'log2'],\n",
              "                         'max_samples': [0.8, 0.85, 0.9, 1],\n",
              "                         'min_samples_leaf': [0.02, 0.03, 0.04, 0.05, 0.08,\n",
              "                                              0.1]},\n",
              "             scoring='accuracy')"
            ]
          },
          "execution_count": 71,
          "metadata": {},
          "output_type": "execute_result"
        }
      ],
      "source": [
        "\n",
        "rf_params = {'max_depth':[4, 5, 6, 7, 8], 'max_features': ['sqrt', 'log2'], 'min_samples_leaf':[0.02, 0.03, 0.04, 0.05, 0.08, 0.1]\n",
        ", 'max_samples':[0.8, 0.85, 0.9, 1]}\n",
        "\n",
        "rf_basic = RandomForestClassifier(random_state=68)\n",
        "num_folds=6\n",
        "rf_searcher = GridSearchCV(estimator=rf_basic, \n",
        "                            param_grid=rf_params, \n",
        "                            n_jobs=-1, \n",
        "                            scoring='accuracy', \n",
        "                            cv=num_folds)\n",
        "rf_searcher.fit(X_train, y_train)\n"
      ]
    },
    {
      "cell_type": "code",
      "execution_count": 72,
      "metadata": {
        "colab": {
          "base_uri": "https://localhost:8080/"
        },
        "id": "sUiDNhUYUbNc",
        "outputId": "7bd76dc8-a39c-4e69-e70b-fb8da2fef3ae"
      },
      "outputs": [
        {
          "name": "stdout",
          "output_type": "stream",
          "text": [
            "0.8233970753655793\n",
            "0.8132927061512092\n"
          ]
        }
      ],
      "source": [
        "rf_t = rf_searcher.best_estimator_\n",
        "print(rf_t.score(X_train, y_train))\n",
        "splits = 5\n",
        "random_state = 3\n",
        "kf = KFold(n_splits=splits, random_state=random_state, shuffle=True)\n",
        "print(cross_val_score(rf_t, X_train, y_train, cv=kf).mean())\n",
        "# it seems that the estimator does not overfit the data (not too badly either way)"
      ]
    },
    {
      "cell_type": "code",
      "execution_count": 73,
      "metadata": {
        "id": "179l0yzqUbNc"
      },
      "outputs": [],
      "source": [
        "cv_accs = []\n",
        "estimators = range(20, 251, 10)\n",
        "for i in estimators:\n",
        "    \n",
        "    rf_t.n_estimators = i\n",
        "    rf_t.fit(X_train, y_train)\n",
        "    cv_accs.append(cross_val_score(rf_t, X_train, y_train, cv=kf).mean())\n"
      ]
    },
    {
      "cell_type": "code",
      "execution_count": 90,
      "metadata": {
        "colab": {
          "base_uri": "https://localhost:8080/",
          "height": 280
        },
        "id": "fRHlDjn_UbNc",
        "outputId": "a65811af-bd4b-4f05-a26e-731758a9b6da"
      },
      "outputs": [
        {
          "data": {
            "image/png": "[encoded data removed]",
            "text/plain": [
              "<Figure size 432x288 with 1 Axes>"
            ]
          },
          "metadata": {
            "needs_background": "light"
          },
          "output_type": "display_data"
        }
      ],
      "source": [
        "# plot the cross validation accuracies\n",
        "fig, ax = plt.subplots()\n",
        "ax.plot(estimators, cv_accs, '--r', label='CV')\n",
        "\n",
        "plt.yticks(np.arange(min(cv_accs), max(cv_accs) + 0.01, 0.005))\n",
        "\n",
        "#set y-axis ticks (step size=5)\n",
        "plt.xticks(np.arange(min(estimators), max(estimators)+1, 10))\n",
        "plt.xticks(rotation=45)\n",
        "leg = ax.legend();"
      ]
    },
    {
      "cell_type": "code",
      "execution_count": 91,
      "metadata": {
        "id": "byi-gZ09UbNc"
      },
      "outputs": [],
      "source": [
        "# we can see that the overall performance is more promising in the range [20, 50]\n",
        "# let's try to focus on this range\n",
        "\n",
        "# with a good visualization the optimal range can be easily seen\n",
        "\n",
        "estimators_range = list(range(15, 25))\n",
        "estimators_range.extend(list(range(125, 135)))\n",
        "\n",
        "rf_t_params = {\"n_estimators\": estimators_range}\n",
        "rf_searcher = GridSearchCV(estimator=rf_t, \n",
        "                            param_grid=rf_t_params, \n",
        "                            n_jobs=-1, \n",
        "                            scoring='accuracy', \n",
        "                            cv=5)\n",
        "\n",
        "rf_searcher.fit(X_train, y_train)\n",
        "\n",
        "rf_t = rf_searcher.best_estimator_\n"
      ]
    },
    {
      "cell_type": "code",
      "execution_count": 92,
      "metadata": {
        "id": "b_TxPzCiUbNd"
      },
      "outputs": [],
      "source": [
        "rf_pred = rf_t.predict(X_test)\n",
        "\n",
        "# sub_1 = pd.DataFrame({\"PassengerId\": df_test_org['PassengerId'], \"Survived\": lr_pred}).astype(int)\n",
        "sub_rf = pd.DataFrame({\"PassengerId\": df_test_org['PassengerId'],\"Survived\": rf_pred}).astype(int)\n",
        "\n",
        "sub_rf.to_csv('sub_rf.csv', index=False)"
      ]
    },
    {
      "cell_type": "markdown",
      "metadata": {
        "id": "omgLHC0qUbNd"
      },
      "source": [
        "### XGBoost Classifier"
      ]
    },
    {
      "cell_type": "code",
      "execution_count": 93,
      "metadata": {
        "colab": {
          "base_uri": "https://localhost:8080/"
        },
        "id": "9pIE2jsjUbNd",
        "outputId": "4e85839c-09d7-4279-ce54-fe623b8c5463"
      },
      "outputs": [
        {
          "name": "stdout",
          "output_type": "stream",
          "text": [
            "Fitting 4 folds for each of 13500 candidates, totalling 54000 fits\n"
          ]
        },
        {
          "data": {
            "text/plain": [
              "GridSearchCV(cv=4, estimator=XGBClassifier(objective='reg:logistic', seed=123),\n",
              "             param_grid={'eta': [0.001, 0.01, 0.05, 0.1, 0.2],\n",
              "                         'lambda': [0.01, 0.05, 0.1, 0, 5, 0.8],\n",
              "                         'max_depth': [3, 4, 5], 'n_estimators': range(50, 100),\n",
              "                         'subsample': [0.8, 0.9, 1]},\n",
              "             scoring='accuracy', verbose=1)"
            ]
          },
          "execution_count": 93,
          "metadata": {},
          "output_type": "execute_result"
        }
      ],
      "source": [
        "import xgboost as xgb\n",
        "\n",
        "xgc = xgb.XGBClassifier(seed=123, objective=\"reg:logistic\")\n",
        "\n",
        "params = {'n_estimators': range(50, 100),\n",
        "    'max_depth': [3, 4, 5], \n",
        "    \"eta\": [0.001, 0.01, 0.05, 0.1, 0.2],\n",
        "    \"subsample\": [0.8, 0.9, 1], \n",
        "    \"lambda\": [0.01, 0.05, 0.1, 0,5, 0.8], \n",
        "}\n",
        "\n",
        "xgb_t = GridSearchCV(xgc, param_grid=params, scoring='accuracy', cv=4, verbose=1)\n",
        "\n",
        "xgb_t.fit(X_train, y_train)"
      ]
    },
    {
      "cell_type": "code",
      "execution_count": 94,
      "metadata": {
        "id": "LkmJQEGVUbNd"
      },
      "outputs": [],
      "source": [
        "xgb_pred = xgb_t.predict(X_test)\n",
        "\n",
        "sub_xgb = pd.DataFrame({\"PassengerId\": df_test_org['PassengerId'],\"Survived\": xgb_pred}).astype(int)\n",
        "\n",
        "sub_xgb.to_csv('sub_xgb.csv', index=False)"
      ]
    },
    {
      "cell_type": "code",
      "execution_count": 95,
      "metadata": {
        "id": "cM09XL0NUbNe"
      },
      "outputs": [],
      "source": [
        "def save_model_to_file(model_name, model, file_name):\n",
        "  with open(file_name, \"a\") as f:\n",
        "    f.write(model_name + \":\\n\")\n",
        "    f.write(str(model.get_params()) + \"\\n\")\n",
        "    f.close() "
      ]
    },
    {
      "cell_type": "code",
      "execution_count": 96,
      "metadata": {
        "id": "soOKjXCqUbNe"
      },
      "outputs": [],
      "source": [
        "save_model_to_file(\"Random_Forest\", rf_t, \"best_models.txt\")\n",
        "save_model_to_file(\"XGBoost\", xgb_t, \"best_models.txt\")"
      ]
    },
    {
      "cell_type": "code",
      "execution_count": 97,
      "metadata": {
        "colab": {
          "base_uri": "https://localhost:8080/"
        },
        "id": "LPZeelakUbNe",
        "outputId": "e03d84d9-2a04-4016-d6e5-582d251b13f5"
      },
      "outputs": [
        {
          "name": "stdout",
          "output_type": "stream",
          "text": [
            "NON-linear SVM\n",
            "parameters \n",
            "{'C': 6.866488450042998, 'gamma': 0.1, 'kernel': 'rbf'}\n",
            "best f1score \n",
            "0.8245435032347784\n"
          ]
        }
      ],
      "source": [
        "svm_params = {'gamma': [.1,0.2, 0.3, .5, 0.8, 0.9]}\n",
        "svm_t = GridSearchCV(SVC(), param_grid=svm_params, cv=6, n_jobs=-1)\n",
        "svm_t.fit(X_train, y_train)\n",
        "model_best_version(svc_best, \"NON-linear SVM\")"
      ]
    },
    {
      "cell_type": "code",
      "execution_count": 98,
      "metadata": {
        "id": "HYb-zfVNUbNe"
      },
      "outputs": [],
      "source": [
        "save_model_to_file(\"SVM\", svm_t, \"best_models.txt\")"
      ]
    },
    {
      "cell_type": "markdown",
      "metadata": {
        "id": "PJytle-jUbNe"
      },
      "source": [
        "## Ensemble Learning\n",
        "One promising approach is to gather the 3 best performing models: RandomForest, SVM and XGBoost in one model and use an ensemble learning technique such as votingClassifie"
      ]
    },
    {
      "cell_type": "code",
      "execution_count": 99,
      "metadata": {
        "id": "Uak5jPOwUbNf"
      },
      "outputs": [],
      "source": [
        "n_splits = 6\n",
        "random_state = 5\n",
        "kf = KFold(n_splits=n_splits, shuffle=True, random_state=random_state)"
      ]
    },
    {
      "cell_type": "code",
      "execution_count": 101,
      "metadata": {
        "colab": {
          "base_uri": "https://localhost:8080/"
        },
        "id": "9xoWPmx5UbNf",
        "outputId": "516db214-d204-4b03-cb78-2cf4d428fbfe"
      },
      "outputs": [
        {
          "name": "stdout",
          "output_type": "stream",
          "text": [
            "Fitting 4 folds for each of 13500 candidates, totalling 54000 fits\n"
          ]
        }
      ],
      "source": [
        "from sklearn.ensemble import VotingClassifier\n",
        "\n",
        "vote_class = VotingClassifier(estimators=[(\"svm\", svm_t), ('rf', rf_t), ('xgb', xgb_t)], voting='hard')\n",
        "vote_class.fit(X_train, y_train)\n",
        "# res = cross_val_score(vote_class, X_train, y_train, cv=kf)\n",
        "\n",
        "save_model_to_file(\"voting classifier\", vote_class, \"best_models.txt\")"
      ]
    },
    {
      "cell_type": "code",
      "execution_count": 102,
      "metadata": {
        "id": "l6cShz6vUbNf"
      },
      "outputs": [],
      "source": [
        "vote_pred = vote_class.predict(X_test)\n",
        "\n",
        "sub_vote = pd.DataFrame({\"PassengerId\": df_test_org['PassengerId'],\"Survived\": vote_pred}).astype(int)\n",
        "\n",
        "sub_vote.to_csv('submission.csv', index=False)"
      ]
    }
  ],
  "metadata": {
    "colab": {
      "include_colab_link": true,
      "provenance": []
    },
    "kernelspec": {
      "display_name": "Python 3.10.4 ('ds_env')",
      "language": "python",
      "name": "python3"
    },
    "language_info": {
      "codemirror_mode": {
        "name": "ipython",
        "version": 3
      },
      "file_extension": ".py",
      "mimetype": "text/x-python",
      "name": "python",
      "nbconvert_exporter": "python",
      "pygments_lexer": "ipython3",
      "version": "3.10.4"
    },
    "orig_nbformat": 4,
    "vscode": {
      "interpreter": {
        "hash": "006414dea9a04848ce797b510a25f3f28ac8668e3d3244e777242cca6bed477f"
      }
    }
  },
  "nbformat": 4,
  "nbformat_minor": 0
}
