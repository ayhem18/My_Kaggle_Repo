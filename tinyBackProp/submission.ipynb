{
 "cells": [
  {
   "cell_type": "markdown",
   "source": [
    "\n",
    "This notebook aims at explaining the overall design of the solution.  \n",
    "\n",
    "I extended the small library written for the previous assignment to include the Convolutional Neural network. Nevertheless, the extra scripts were omitted for readability.\n",
    "\n",
    "The design is as follows:\n",
    "\n",
    "1. LAYER: general abstract layer defining the common functionalities between any layers and can be found in the \"abstract_layer.py\" file:    \n",
    "    * forward function\n",
    "    * local_x_grad: A function to compute the gradient of the output with respect to every entry / value in the input\n",
    "    * grad: for an implemented local_x_grad, this function computes the upstream gradient with respect to the input, by applying backprop algorithm\n",
    "\n",
    "2. PARAM_LAYER: another abstract class. Nevertheless, this one concerns parameterized layers (discarding mainly activation layers...). This class offers more functionalities: \n",
    "    * param_grad: the gradient of the output with respect to the weight parameters \n",
    "    * local_param_grads: A function to compute the gradient of the output with respect to every parameter / entry in the weight matrix\n",
    "    * update: Given a the gradient tensor, perform a gradient descent update step\n",
    "\n",
    "3. Conv_LAYER: the concrete implementation of the Convolutional Layer. The current function works only with 1 output channel.\n",
    "\n",
    "The code has been thoroughly tested by comparing the different outputs to torch.nn.Conv2d layer. Please find the test_conv.py script\n",
    "\n",
    "1. test_conv_forward: test the forward pass\n",
    "2. test_conv_backward: test the backward pass on the parameters: calculate dZ / dW \n",
    "3. test_conv_backward_x: test the backward pass on the input: calculate: dZ / dX\n"
   ],
   "metadata": {
    "collapsed": false
   },
   "id": "26d151872f800937"
  },
  {
   "cell_type": "code",
   "execution_count": null,
   "outputs": [],
   "source": [],
   "metadata": {
    "collapsed": false,
    "ExecuteTime": {
     "end_time": "2023-10-23T14:30:31.225604602Z",
     "start_time": "2023-10-23T14:30:31.216174434Z"
    }
   },
   "id": "48485077a7b6eb7e"
  },
  {
   "cell_type": "code",
   "execution_count": null,
   "outputs": [],
   "source": [],
   "metadata": {
    "collapsed": false
   },
   "id": "8c2ea367ae49f59f"
  }
 ],
 "metadata": {
  "kernelspec": {
   "display_name": "Python 3",
   "language": "python",
   "name": "python3"
  },
  "language_info": {
   "codemirror_mode": {
    "name": "ipython",
    "version": 2
   },
   "file_extension": ".py",
   "mimetype": "text/x-python",
   "name": "python",
   "nbconvert_exporter": "python",
   "pygments_lexer": "ipython2",
   "version": "2.7.6"
  }
 },
 "nbformat": 4,
 "nbformat_minor": 5
}
