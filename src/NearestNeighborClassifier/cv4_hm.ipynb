{
 "cells": [
  {
   "cell_type": "code",
   "execution_count": 6,
   "metadata": {},
   "outputs": [],
   "source": [
    "# let's first write the forward functions\n",
    "import numpy as np\n",
    "import random\n",
    "\n",
    "def softmax(x: np.ndarray, \n",
    "            normalization: bool = True) -> np.ndarray:\n",
    "    # first squeeze the array in case it is multi-dimentional\n",
    "    x = np.squeeze(x)\n",
    "\n",
    "    if len(x.shape) != 1:\n",
    "        raise ValueError(f\"The input is expected to be 1 dimensional. Found: {len(x.shape)} dimensions\")\n",
    "\n",
    "    # the main idea behind 'normalization' is to avoid numerical overflow with the softmax function \n",
    "    # (mainly with the denominator as a sum of exponential functions). The output of softmax for (x1, x2, ... xn) is the same as the output for\n",
    "    # (x1 - C, x2 - C, ... xn - C) where C is any constant. (other operations such as division will alter the output)\n",
    "    # consider the following link for the mathematical details : https://jaykmody.com/blog/stable-softmax/\n",
    "\n",
    "    max_x = max(x) if normalization else 0\n",
    "    x = x - max_x # if normalization is False, then 'x' is the same as the original output, otherwise the maximum element will be subtracted from each element\n",
    "    sum_exp = np.sum(np.exp(x))\n",
    "    return np.exp(x) / sum_exp\n",
    "\n",
    "# let's test the function \n",
    "\n",
    "def test_softmax(num_tests: int = 200):\n",
    "    for _ in range(num_tests):\n",
    "        # generate a random array\n",
    "        random_x = np.random.random(size=(10,)) * 10 - random.random() \n",
    "        soft_x = softmax(random_x, normalization=False)\n",
    "        soft_x_norm = softmax(random_x)\n",
    "\n",
    "        assert np.allclose(soft_x, soft_x_norm), \"WELL recheck the code!!\" # the results are less than 10 ** -5 apart.\n",
    "    print(\"well the normalization works\")"
   ]
  },
  {
   "cell_type": "code",
   "execution_count": 7,
   "metadata": {},
   "outputs": [
    {
     "name": "stdout",
     "output_type": "stream",
     "text": [
      "well the normalization works\n"
     ]
    }
   ],
   "source": [
    "test_softmax()"
   ]
  },
  {
   "cell_type": "markdown",
   "metadata": {},
   "source": [
    "let's find the gradient of the sofmax function using backpropagation: \n",
    "$$ \n",
    "softmax(x_1, x_2, ... x_n) = \\begin{bmatrix}\n",
    "\\frac{e^{x_1}}{S} \\\\\n",
    "\\frac{e^{x_2}}{S} \\\\\n",
    "..  \\\\\n",
    "\\frac{e^{x_n}}{S}\n",
    "\\end{bmatrix}\n",
    "$$\n",
    "where $S = \\sum_{i = 1}^n e^{x_i}$. Let's denote $S_i$ the output of the softmax, Then the gradient of softmax function can be expressed as follows:\n",
    "$$\n",
    "\\begin{bmatrix}\n",
    "\\frac{d S1}{d x_1} &\\frac{d S1}{d x_2} & ..  &\\frac{d S1}{d x_n} \\\\\n",
    "\\frac{d S2}{d x_1} &\\frac{d S2}{d x_2} & ..  &\\frac{d S2}{d x_n} \\\\ \n",
    "..  \\\\\n",
    "\\frac{d Sn}{d x_1} &\\frac{d Sn}{d x_2} & ..  &\\frac{d Sn}{d x_n} \\\\ \n",
    "\\end{bmatrix}\n",
    "$$\n",
    "let's find $\\frac{d S_i}{d xi}$ and $\\frac{d S_i}{d xj}$\n",
    "if we define $f(x) = \\frac{x}{x + k}$ where $k$ is some constant and $g = e^{x}$, then \n",
    "$$S_i = f(g(x_i))$$ \n",
    "\n",
    "\\begin{align}\n",
    "\\frac{d S_i}{d xi} = \\frac{d f}{d g} \\cdot \\frac{d g }{dxi} \n",
    "\\end{align}\n",
    "Using\n",
    "1. $f(x) = \\frac{x}{x + k}$ and $\\frac{d f}{d x} = -\\frac{k}{(x + k) ^ 2}$ \n",
    "2. $g = e^{x}$ and $\\frac{dg}{dx} = g(x)$\n",
    "then \n",
    "$$ \n",
    "\\frac{d S_i}{d xi} = -\\frac{k}{(g + k) ^ 2} \\cdot g\n",
    "$$\n",
    "where $g = e^{x_i}$ and $k = \\sum_{l \\neq i}^n e^{x_i}$ (which is constant with respect to $x_i$). The final result will be:\n",
    "\n",
    "$$ \n",
    "\\frac{d S_i}{d x_i} = \\frac{e^{x_i} \\cdot (\\sum_{l \\neq i}^n e^{x_i})}{(\\sum_{l = 1}^n e^{x_l}) ^ 2} = S_i - S_i ^ 2\n",
    "$$\n",
    "Using the same process we can derive the other derivative: $$, \n",
    "$$ \n",
    "\\frac{d S_i}{d xj} = -S_i \\cdot S_j\n",
    "$$"
   ]
  },
  {
   "cell_type": "code",
   "execution_count": 16,
   "metadata": {},
   "outputs": [],
   "source": [
    "# let's implement this function\n",
    "def calculate_gradient(x: np.ndarray, normalization: bool = True) -> np.ndarray:\n",
    "    # the first step is to calculate the output of softmax on x\n",
    "    s = softmax(x, normalization=normalization)\n",
    "    s = np.expand_dims(s, axis=-1)\n",
    "    assert s.shape == (len(x), 1)\n",
    "    gradient =  - s @ np.transpose(s)\n",
    "    # the current variable contains only - S_i . S_j for all i, j. the S_i term should be added to the diagonal entries\n",
    "    for i in range(len(x)):\n",
    "        gradient[i][i] += s[i][0]\n",
    "    return gradient"
   ]
  },
  {
   "cell_type": "code",
   "execution_count": 17,
   "metadata": {},
   "outputs": [
    {
     "data": {
      "text/plain": [
       "array([[ 0.08192507, -0.02203304, -0.05989202],\n",
       "       [-0.02203304,  0.18483645, -0.1628034 ],\n",
       "       [-0.05989202, -0.1628034 ,  0.22269543]])"
      ]
     },
     "execution_count": 17,
     "metadata": {},
     "output_type": "execute_result"
    }
   ],
   "source": [
    "calculate_gradient(x=[1,2, 3])"
   ]
  },
  {
   "cell_type": "code",
   "execution_count": null,
   "metadata": {},
   "outputs": [],
   "source": []
  }
 ],
 "metadata": {
  "kernelspec": {
   "display_name": "kaggle_env",
   "language": "python",
   "name": "python3"
  },
  "language_info": {
   "codemirror_mode": {
    "name": "ipython",
    "version": 3
   },
   "file_extension": ".py",
   "mimetype": "text/x-python",
   "name": "python",
   "nbconvert_exporter": "python",
   "pygments_lexer": "ipython3",
   "version": "3.11.5"
  },
  "orig_nbformat": 4
 },
 "nbformat": 4,
 "nbformat_minor": 2
}
