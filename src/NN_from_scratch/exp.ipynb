{
 "cells": [
  {
   "cell_type": "code",
   "execution_count": 93,
   "metadata": {},
   "outputs": [],
   "source": [
    "# first the usual block of code on each jupyter notebook\n",
    "import os, sys\n",
    "from pathlib import Path\n",
    "current = os.getcwd()\n",
    "while 'src' not in os.listdir(current):\n",
    "    current = Path(current).parent\n",
    "sys.path.append(str(current))\n",
    "sys.path.append(os.path.join(current, 'src'))\n"
   ]
  },
  {
   "cell_type": "code",
   "execution_count": 94,
   "metadata": {},
   "outputs": [
    {
     "data": {
      "text/plain": [
       "<module 'src.NN_from_scratch.visual' from '/home/ayhem18/DEV/My_Kaggle_Repo/src/NN_from_scratch/visual.py'>"
      ]
     },
     "execution_count": 94,
     "metadata": {},
     "output_type": "execute_result"
    }
   ],
   "source": [
    "from src.NN_from_scratch import computation as comp, variable as var, visual as vis\n",
    "import importlib \n",
    "importlib.reload(comp)\n",
    "importlib.reload(var)\n",
    "importlib.reload(vis)"
   ]
  },
  {
   "cell_type": "code",
   "execution_count": 95,
   "metadata": {},
   "outputs": [
    {
     "name": "stdout",
     "output_type": "stream",
     "text": [
      "The difference: 1 is too large numerical: 2.318640481806169, analytical 3.5036371284832106\n"
     ]
    }
   ],
   "source": [
    "\n",
    "import random\n",
    "import numpy as np\n",
    "np.random.seed(69)\n",
    "random.seed(69)\n",
    "\n",
    "def func(a, b, c):\n",
    "    L = a ** 2 + a * (b + c)\n",
    "    da = 2 * a + (b + c)\n",
    "    db = a\n",
    "    dc = a\n",
    "    return L, da, db, dc\n",
    "\n",
    "\n",
    "def funcVar(a, b, c):\n",
    "    a, b, c = var.Variable(a), var.Variable(b), var.Variable(c)\n",
    "    L = a ** 2 + a * (b + c)\n",
    "    L.backward()\n",
    "    return L.value, a.grad, b.grad, c.grad\n",
    "\n",
    "def test():\n",
    "    a, b, c = np.random.rand(3) * random.randint(1, 20)\n",
    "    y_true = func(a, b, c)\n",
    "    y_pred = funcVar(a, b, c)\n",
    "    for i, (p, t) in enumerate(zip(y_pred, y_true)):\n",
    "        if not np.isclose(p, t):\n",
    "            \n",
    "            print(f\"The difference: {i} is too large numerical: {p}, analytical {t}\")\n",
    "            break\n",
    "\n",
    "test()"
   ]
  },
  {
   "cell_type": "code",
   "execution_count": 85,
   "metadata": {},
   "outputs": [
    {
     "name": "stdout",
     "output_type": "stream",
     "text": [
      "The difference: 1 is too large numerical: 0.878313462410185, analytical -2.7139949687214684\n"
     ]
    }
   ],
   "source": [
    "# let's define a function that will computes the value of an expression\n",
    "# as well as the derivative of of the overall function with respect to each of the variables (arguments)\n",
    "\n",
    "def func(a, b, c, d, e):\n",
    "    # the expression is slightly complex\n",
    "    L = a ** 2 * ((b + c) / (d + e)) + b / a + a * (d - c)\n",
    "    # dl / da\n",
    "    dL_da = 2 * a * ((b + c) / (d + e)) - b / (a ** 2) + (d - c)\n",
    "    # dl / db\n",
    "    dl_db = a ** 2 / (d + e) + 1 / a\n",
    "    # dl / dc \n",
    "    dl_dc = a ** 2 / (d + e) - a\n",
    "    # dl / dd\n",
    "    dl_dd = - (a ** 2 * (b + c)) / ((d + e) ** 2) + a\n",
    "    # dl_de\n",
    "    dl_de = - (a ** 2 * (b + c)) / ((d + e) ** 2)\n",
    "    \n",
    "    return L, dL_da, dl_db, dl_dc, dl_dd, dl_de\n",
    "\n",
    "def funcVar(a, b, c, d, e):\n",
    "    a, b, c, d, e = var.Variable(a), var.Variable(b), var.Variable(c), var.Variable(d), var.Variable(e)\n",
    "    L = a ** 2 * ((b + c) / (d + e)) + b / a + a * (d - c)\n",
    "    L.backward()\n",
    "    return L.value, a.grad, b.grad, c.grad, d.grad, e.grad\n",
    "\n",
    "def test():\n",
    "    a, b, c, d, e = np.random.rand(5) * random.randint(1, 20)\n",
    "    y_true = func(a, b, c, d, e)\n",
    "    y_pred = funcVar(a, b, c, d, e)\n",
    "    for i, (p, t) in enumerate(zip(y_pred, y_true)):\n",
    "        if not np.isclose(p, t):\n",
    "            \n",
    "            print(f\"The difference: {i} is too large numerical: {p}, analytical {t}\")\n",
    "            break\n",
    "\n",
    "test()\n"
   ]
  },
  {
   "cell_type": "code",
   "execution_count": 78,
   "metadata": {},
   "outputs": [
    {
     "name": "stdout",
     "output_type": "stream",
     "text": [
      "variable a: 2\n",
      "variable b: 1\n",
      "variable c: 2\n",
      "variable d: 1\n",
      "variable e: 4\n"
     ]
    }
   ],
   "source": [
    "# let's build the simple expression \n",
    "a, b, c, d, e = var.Variable(2, label='a'), var.Variable(1, label='b'), var.Variable(2, label='c'), var.Variable(1, label='d'), var.Variable(4, label='e')\n",
    "print(a)\n",
    "print(b)\n",
    "print(c)\n",
    "print(d)\n",
    "print(e)\n",
    "\n",
    "# L = a ** 2 * ((b + c) / (d * e))"
   ]
  },
  {
   "cell_type": "code",
   "execution_count": 79,
   "metadata": {},
   "outputs": [
    {
     "name": "stdout",
     "output_type": "stream",
     "text": [
      "variable ((a)**('2'))*(((b)+(c))/((d)+(e))): 2.3999999952\n"
     ]
    }
   ],
   "source": [
    "L = (a ** 2) * ((b + c) / (d + e))\n",
    "L.backward()\n",
    "print(L)"
   ]
  },
  {
   "cell_type": "code",
   "execution_count": 80,
   "metadata": {},
   "outputs": [
    {
     "data": {
      "text/plain": [
       "4.000000000026205"
      ]
     },
     "execution_count": 80,
     "metadata": {},
     "output_type": "execute_result"
    }
   ],
   "source": [
    "a.grad"
   ]
  },
  {
   "cell_type": "code",
   "execution_count": 3,
   "metadata": {},
   "outputs": [
    {
     "ename": "TypeError",
     "evalue": "object.__new__() takes exactly one argument (the type to instantiate)",
     "output_type": "error",
     "traceback": [
      "\u001b[0;31m---------------------------------------------------------------------------\u001b[0m",
      "\u001b[0;31mTypeError\u001b[0m                                 Traceback (most recent call last)",
      "Cell \u001b[0;32mIn[3], line 3\u001b[0m\n\u001b[1;32m      1\u001b[0m \u001b[39m# let's build the simple expression \u001b[39;00m\n\u001b[1;32m      2\u001b[0m \u001b[39m# L = a ** 2 * ((b + c) / (d * e))\u001b[39;00m\n\u001b[0;32m----> 3\u001b[0m a, b, c, d, e, \u001b[39m=\u001b[39m var\u001b[39m.\u001b[39;49mVariable(label\u001b[39m=\u001b[39;49m\u001b[39m'\u001b[39;49m\u001b[39ma\u001b[39;49m\u001b[39m'\u001b[39;49m), var\u001b[39m.\u001b[39mVariable(label\u001b[39m=\u001b[39m\u001b[39m'\u001b[39m\u001b[39mb\u001b[39m\u001b[39m'\u001b[39m), var\u001b[39m.\u001b[39mVariable(label\u001b[39m=\u001b[39m\u001b[39m'\u001b[39m\u001b[39mc\u001b[39m\u001b[39m'\u001b[39m), var\u001b[39m.\u001b[39mVariable(label\u001b[39m=\u001b[39m\u001b[39m'\u001b[39m\u001b[39md\u001b[39m\u001b[39m'\u001b[39m), var\u001b[39m.\u001b[39mVariable(label\u001b[39m=\u001b[39m\u001b[39m'\u001b[39m\u001b[39me\u001b[39m\u001b[39m'\u001b[39m)\n",
      "File \u001b[0;32m~/DEV/My_Kaggle_Repo/src/NN_from_scratch/variable.py:35\u001b[0m, in \u001b[0;36mVariable.__new__\u001b[0;34m(cls, *args, **kwargs)\u001b[0m\n\u001b[1;32m     32\u001b[0m \u001b[39mdef\u001b[39;00m \u001b[39m__new__\u001b[39m(\u001b[39mcls\u001b[39m, \u001b[39m*\u001b[39margs, \u001b[39m*\u001b[39m\u001b[39m*\u001b[39mkwargs):\n\u001b[1;32m     33\u001b[0m     \u001b[39m# the main idea here is to increase the number of variables\u001b[39;00m\n\u001b[1;32m     34\u001b[0m     \u001b[39mcls\u001b[39m\u001b[39m.\u001b[39m_num_vars \u001b[39m+\u001b[39m\u001b[39m=\u001b[39m \u001b[39m1\u001b[39m\n\u001b[0;32m---> 35\u001b[0m     \u001b[39mreturn\u001b[39;00m \u001b[39mobject\u001b[39;49m\u001b[39m.\u001b[39;49m\u001b[39m__new__\u001b[39;49m(\u001b[39mcls\u001b[39;49m, \u001b[39m*\u001b[39;49margs, \u001b[39m*\u001b[39;49m\u001b[39m*\u001b[39;49mkwargs)\n",
      "\u001b[0;31mTypeError\u001b[0m: object.__new__() takes exactly one argument (the type to instantiate)"
     ]
    }
   ],
   "source": [
    "# let's build the simple expression \n",
    "a, b, c, d, e, = var.Variable(label='a'), var.Variable(label='b'), var.Variable(label='c'), var.Variable(label='d'), var.Variable(label='e')\n",
    "# L = a ** 2 * ((b + c) / (d * e))"
   ]
  },
  {
   "cell_type": "code",
   "execution_count": 28,
   "metadata": {},
   "outputs": [
    {
     "ename": "TypeError",
     "evalue": "unsupported operand type(s) for +: 'int' and 'Variable'",
     "output_type": "error",
     "traceback": [
      "\u001b[0;31m---------------------------------------------------------------------------\u001b[0m",
      "\u001b[0;31mTypeError\u001b[0m                                 Traceback (most recent call last)",
      "Cell \u001b[0;32mIn[28], line 2\u001b[0m\n\u001b[1;32m      1\u001b[0m \u001b[39m# let's define the expression 'L' \u001b[39;00m\n\u001b[0;32m----> 2\u001b[0m L \u001b[39m=\u001b[39m (a \u001b[39m*\u001b[39m\u001b[39m*\u001b[39m \u001b[39m2\u001b[39m) \u001b[39m*\u001b[39m ((b \u001b[39m+\u001b[39;49m c) \u001b[39m/\u001b[39m (d \u001b[39m+\u001b[39m e))\n",
      "File \u001b[0;32m~/DEV/My_Kaggle_Repo/src/NN_from_scratch/variable.py:75\u001b[0m, in \u001b[0;36mVariable.__add__\u001b[0;34m(self, other)\u001b[0m\n\u001b[1;32m     72\u001b[0m \u001b[39mdef\u001b[39;00m \u001b[39m__add__\u001b[39m(\u001b[39mself\u001b[39m, other: Union[\u001b[39m'\u001b[39m\u001b[39mVariable\u001b[39m\u001b[39m'\u001b[39m, \u001b[39mfloat\u001b[39m, \u001b[39mint\u001b[39m]) \u001b[39m-\u001b[39m\u001b[39m>\u001b[39m \u001b[39m'\u001b[39m\u001b[39mVariable\u001b[39m\u001b[39m'\u001b[39m:\n\u001b[1;32m     73\u001b[0m     \u001b[39m# the idea is quite simple\u001b[39;00m\n\u001b[0;32m---> 75\u001b[0m     \u001b[39mreturn\u001b[39;00m Variable(value\u001b[39m=\u001b[39m(\u001b[39mself\u001b[39;49m\u001b[39m.\u001b[39;49mvalue \u001b[39m+\u001b[39;49m \u001b[39mself\u001b[39;49m\u001b[39m.\u001b[39;49mget_other_value(other)),\n\u001b[1;32m     76\u001b[0m                     _operation\u001b[39m=\u001b[39mcomp\u001b[39m.\u001b[39mADD,\n\u001b[1;32m     77\u001b[0m                     _children\u001b[39m=\u001b[39m[\u001b[39mself\u001b[39m, \u001b[39mself\u001b[39m\u001b[39m.\u001b[39mget_other(other)], \n\u001b[1;32m     78\u001b[0m                     label\u001b[39m=\u001b[39m\u001b[39mself\u001b[39m\u001b[39m.\u001b[39mdefault_label(\u001b[39mself\u001b[39m, \u001b[39mself\u001b[39m\u001b[39m.\u001b[39mget_other(other), operation_str\u001b[39m=\u001b[39mcomp\u001b[39m.\u001b[39mADD))\n",
      "\u001b[0;31mTypeError\u001b[0m: unsupported operand type(s) for +: 'int' and 'Variable'"
     ]
    }
   ],
   "source": [
    "# let's define the expression 'L' \n",
    "L = (a ** 2) * ((b + c) / (d + e))"
   ]
  },
  {
   "cell_type": "code",
   "execution_count": 26,
   "metadata": {},
   "outputs": [
    {
     "ename": "TypeError",
     "evalue": "unsupported operand type(s) for *: 'int' and 'Variable'",
     "output_type": "error",
     "traceback": [
      "\u001b[0;31m---------------------------------------------------------------------------\u001b[0m",
      "\u001b[0;31mTypeError\u001b[0m                                 Traceback (most recent call last)",
      "Cell \u001b[0;32mIn[26], line 1\u001b[0m\n\u001b[0;32m----> 1\u001b[0m \u001b[39mprint\u001b[39m(a \u001b[39m*\u001b[39;49m b)\n",
      "File \u001b[0;32m~/DEV/My_Kaggle_Repo/src/NN_from_scratch/variable.py:89\u001b[0m, in \u001b[0;36mVariable.__mul__\u001b[0;34m(self, other)\u001b[0m\n\u001b[1;32m     88\u001b[0m \u001b[39mdef\u001b[39;00m \u001b[39m__mul__\u001b[39m(\u001b[39mself\u001b[39m, other: Union[\u001b[39m'\u001b[39m\u001b[39mVariable\u001b[39m\u001b[39m'\u001b[39m, \u001b[39mfloat\u001b[39m, \u001b[39mint\u001b[39m]) \u001b[39m-\u001b[39m\u001b[39m>\u001b[39m \u001b[39m'\u001b[39m\u001b[39mVariable\u001b[39m\u001b[39m'\u001b[39m:\n\u001b[0;32m---> 89\u001b[0m     \u001b[39mreturn\u001b[39;00m Variable(value\u001b[39m=\u001b[39m\u001b[39mself\u001b[39;49m\u001b[39m.\u001b[39;49mvalue \u001b[39m*\u001b[39;49m \u001b[39mself\u001b[39;49m\u001b[39m.\u001b[39;49mget_other_value(other),\n\u001b[1;32m     90\u001b[0m                     _operation\u001b[39m=\u001b[39mcomp\u001b[39m.\u001b[39mMUL,\n\u001b[1;32m     91\u001b[0m                     _children\u001b[39m=\u001b[39m[\u001b[39mself\u001b[39m, \u001b[39mself\u001b[39m\u001b[39m.\u001b[39mget_other(other)],\n\u001b[1;32m     92\u001b[0m                     label\u001b[39m=\u001b[39m\u001b[39mself\u001b[39m\u001b[39m.\u001b[39mdefault_label(\u001b[39mself\u001b[39m, \u001b[39mself\u001b[39m\u001b[39m.\u001b[39mget_other(other), operation_str\u001b[39m=\u001b[39mcomp\u001b[39m.\u001b[39mMUL))\n",
      "\u001b[0;31mTypeError\u001b[0m: unsupported operand type(s) for *: 'int' and 'Variable'"
     ]
    }
   ],
   "source": [
    "print(a * b)"
   ]
  },
  {
   "cell_type": "code",
   "execution_count": 24,
   "metadata": {},
   "outputs": [
    {
     "ename": "TypeError",
     "evalue": "unsupported operand type(s) for *: 'float' and 'Variable'",
     "output_type": "error",
     "traceback": [
      "\u001b[0;31m---------------------------------------------------------------------------\u001b[0m",
      "\u001b[0;31mTypeError\u001b[0m                                 Traceback (most recent call last)",
      "Cell \u001b[0;32mIn[24], line 1\u001b[0m\n\u001b[0;32m----> 1\u001b[0m L\u001b[39m.\u001b[39;49mbackward()\n",
      "File \u001b[0;32m~/DEV/My_Kaggle_Repo/src/NN_from_scratch/variable.py:116\u001b[0m, in \u001b[0;36mVariable.backward\u001b[0;34m(self, chain_gradient)\u001b[0m\n\u001b[1;32m    112\u001b[0m \u001b[39mif\u001b[39;00m \u001b[39mlen\u001b[39m(\u001b[39mself\u001b[39m\u001b[39m.\u001b[39m_children) \u001b[39m>\u001b[39m \u001b[39m0\u001b[39m:\n\u001b[1;32m    113\u001b[0m     \u001b[39m# let's define The current variable in terms of the children\u001b[39;00m\n\u001b[1;32m    114\u001b[0m     \u001b[39m# we use the children_function to compute\u001b[39;00m\n\u001b[1;32m    115\u001b[0m     children_function \u001b[39m=\u001b[39m \u001b[39mlambda\u001b[39;00m c1, c2: comp\u001b[39m.\u001b[39mcompute(c1, c2, \u001b[39mself\u001b[39m\u001b[39m.\u001b[39m_operation)\n\u001b[0;32m--> 116\u001b[0m     v1_grad \u001b[39m=\u001b[39m comp\u001b[39m.\u001b[39;49mcompute_gradient(children_function, \n\u001b[1;32m    117\u001b[0m                                     \u001b[39mself\u001b[39;49m\u001b[39m.\u001b[39;49m_gradient_step, \n\u001b[1;32m    118\u001b[0m                                     \u001b[39m0\u001b[39;49m,\n\u001b[1;32m    119\u001b[0m                                     \u001b[39mself\u001b[39;49m\u001b[39m.\u001b[39;49m_children[\u001b[39m0\u001b[39;49m], \n\u001b[1;32m    120\u001b[0m                                     \u001b[39mself\u001b[39;49m\u001b[39m.\u001b[39;49m_children[\u001b[39m1\u001b[39;49m])\n\u001b[1;32m    122\u001b[0m     v2_grad \u001b[39m=\u001b[39m comp\u001b[39m.\u001b[39mcompute_gradient(children_function, \n\u001b[1;32m    123\u001b[0m                                     \u001b[39mself\u001b[39m\u001b[39m.\u001b[39m_gradient_step, \n\u001b[1;32m    124\u001b[0m                                     \u001b[39m1\u001b[39m,\n\u001b[1;32m    125\u001b[0m                                     \u001b[39mself\u001b[39m\u001b[39m.\u001b[39m_children[\u001b[39m0\u001b[39m], \n\u001b[1;32m    126\u001b[0m                                     \u001b[39mself\u001b[39m\u001b[39m.\u001b[39m_children[\u001b[39m1\u001b[39m])\n\u001b[1;32m    128\u001b[0m     \u001b[39m# call the backward operation on both children nodes\u001b[39;00m\n",
      "File \u001b[0;32m~/DEV/My_Kaggle_Repo/src/NN_from_scratch/computation.py:36\u001b[0m, in \u001b[0;36mcompute_gradient\u001b[0;34m(f, h, arg_index, *args)\u001b[0m\n\u001b[1;32m     33\u001b[0m args_minus \u001b[39m=\u001b[39m args\u001b[39m.\u001b[39mcopy()\n\u001b[1;32m     34\u001b[0m args_minus[arg_index] \u001b[39m-\u001b[39m\u001b[39m=\u001b[39m h\n\u001b[0;32m---> 36\u001b[0m gradient \u001b[39m=\u001b[39m (f(\u001b[39m*\u001b[39;49margs_plus) \u001b[39m-\u001b[39m f(\u001b[39m*\u001b[39margs_minus)) \u001b[39m/\u001b[39m (\u001b[39m2\u001b[39m \u001b[39m*\u001b[39m h)\n\u001b[1;32m     37\u001b[0m \u001b[39mreturn\u001b[39;00m gradient\n",
      "File \u001b[0;32m~/DEV/My_Kaggle_Repo/src/NN_from_scratch/variable.py:115\u001b[0m, in \u001b[0;36mVariable.backward.<locals>.<lambda>\u001b[0;34m(c1, c2)\u001b[0m\n\u001b[1;32m    111\u001b[0m \u001b[39m# the first non-base case is having children variables\u001b[39;00m\n\u001b[1;32m    112\u001b[0m \u001b[39mif\u001b[39;00m \u001b[39mlen\u001b[39m(\u001b[39mself\u001b[39m\u001b[39m.\u001b[39m_children) \u001b[39m>\u001b[39m \u001b[39m0\u001b[39m:\n\u001b[1;32m    113\u001b[0m     \u001b[39m# let's define The current variable in terms of the children\u001b[39;00m\n\u001b[1;32m    114\u001b[0m     \u001b[39m# we use the children_function to compute\u001b[39;00m\n\u001b[0;32m--> 115\u001b[0m     children_function \u001b[39m=\u001b[39m \u001b[39mlambda\u001b[39;00m c1, c2: comp\u001b[39m.\u001b[39;49mcompute(c1, c2, \u001b[39mself\u001b[39;49m\u001b[39m.\u001b[39;49m_operation)\n\u001b[1;32m    116\u001b[0m     v1_grad \u001b[39m=\u001b[39m comp\u001b[39m.\u001b[39mcompute_gradient(children_function, \n\u001b[1;32m    117\u001b[0m                                     \u001b[39mself\u001b[39m\u001b[39m.\u001b[39m_gradient_step, \n\u001b[1;32m    118\u001b[0m                                     \u001b[39m0\u001b[39m,\n\u001b[1;32m    119\u001b[0m                                     \u001b[39mself\u001b[39m\u001b[39m.\u001b[39m_children[\u001b[39m0\u001b[39m], \n\u001b[1;32m    120\u001b[0m                                     \u001b[39mself\u001b[39m\u001b[39m.\u001b[39m_children[\u001b[39m1\u001b[39m])\n\u001b[1;32m    122\u001b[0m     v2_grad \u001b[39m=\u001b[39m comp\u001b[39m.\u001b[39mcompute_gradient(children_function, \n\u001b[1;32m    123\u001b[0m                                     \u001b[39mself\u001b[39m\u001b[39m.\u001b[39m_gradient_step, \n\u001b[1;32m    124\u001b[0m                                     \u001b[39m1\u001b[39m,\n\u001b[1;32m    125\u001b[0m                                     \u001b[39mself\u001b[39m\u001b[39m.\u001b[39m_children[\u001b[39m0\u001b[39m], \n\u001b[1;32m    126\u001b[0m                                     \u001b[39mself\u001b[39m\u001b[39m.\u001b[39m_children[\u001b[39m1\u001b[39m])\n",
      "File \u001b[0;32m~/DEV/My_Kaggle_Repo/src/NN_from_scratch/computation.py:19\u001b[0m, in \u001b[0;36mcompute\u001b[0;34m(arg1, arg2, operator)\u001b[0m\n\u001b[1;32m     18\u001b[0m \u001b[39mdef\u001b[39;00m \u001b[39mcompute\u001b[39m(arg1: \u001b[39mfloat\u001b[39m, arg2: \u001b[39mfloat\u001b[39m, operator: \u001b[39mstr\u001b[39m) \u001b[39m-\u001b[39m\u001b[39m>\u001b[39m \u001b[39mfloat\u001b[39m:\n\u001b[0;32m---> 19\u001b[0m     \u001b[39mreturn\u001b[39;00m symbol_op_map[operator](arg1, arg2)\n",
      "File \u001b[0;32m~/DEV/My_Kaggle_Repo/src/NN_from_scratch/computation.py:14\u001b[0m, in \u001b[0;36m<lambda>\u001b[0;34m(x, y)\u001b[0m\n\u001b[1;32m      8\u001b[0m MUL \u001b[39m=\u001b[39m \u001b[39m'\u001b[39m\u001b[39m*\u001b[39m\u001b[39m'\u001b[39m\n\u001b[1;32m      9\u001b[0m EXP \u001b[39m=\u001b[39m \u001b[39m'\u001b[39m\u001b[39m**\u001b[39m\u001b[39m'\u001b[39m\n\u001b[1;32m     11\u001b[0m symbol_op_map \u001b[39m=\u001b[39m {ADD: \u001b[39mlambda\u001b[39;00m x, y: x \u001b[39m+\u001b[39m y,\n\u001b[1;32m     12\u001b[0m                  SUB: \u001b[39mlambda\u001b[39;00m x, y: x \u001b[39m-\u001b[39m y,\n\u001b[1;32m     13\u001b[0m                  DIV: \u001b[39mlambda\u001b[39;00m x, y: x \u001b[39m/\u001b[39m y,\n\u001b[0;32m---> 14\u001b[0m                  MUL: \u001b[39mlambda\u001b[39;00m x, y: x \u001b[39m*\u001b[39;49m y,\n\u001b[1;32m     15\u001b[0m                  EXP: \u001b[39mlambda\u001b[39;00m x, y: x \u001b[39m*\u001b[39m\u001b[39m*\u001b[39m y}\n\u001b[1;32m     18\u001b[0m \u001b[39mdef\u001b[39;00m \u001b[39mcompute\u001b[39m(arg1: \u001b[39mfloat\u001b[39m, arg2: \u001b[39mfloat\u001b[39m, operator: \u001b[39mstr\u001b[39m) \u001b[39m-\u001b[39m\u001b[39m>\u001b[39m \u001b[39mfloat\u001b[39m:\n\u001b[1;32m     19\u001b[0m     \u001b[39mreturn\u001b[39;00m symbol_op_map[operator](arg1, arg2)\n",
      "File \u001b[0;32m~/DEV/My_Kaggle_Repo/src/NN_from_scratch/variable.py:89\u001b[0m, in \u001b[0;36mVariable.__mul__\u001b[0;34m(self, other)\u001b[0m\n\u001b[1;32m     88\u001b[0m \u001b[39mdef\u001b[39;00m \u001b[39m__mul__\u001b[39m(\u001b[39mself\u001b[39m, other: Union[\u001b[39m'\u001b[39m\u001b[39mVariable\u001b[39m\u001b[39m'\u001b[39m, \u001b[39mfloat\u001b[39m, \u001b[39mint\u001b[39m]) \u001b[39m-\u001b[39m\u001b[39m>\u001b[39m \u001b[39m'\u001b[39m\u001b[39mVariable\u001b[39m\u001b[39m'\u001b[39m:\n\u001b[0;32m---> 89\u001b[0m     \u001b[39mreturn\u001b[39;00m Variable(value\u001b[39m=\u001b[39m\u001b[39mself\u001b[39;49m\u001b[39m.\u001b[39;49mvalue \u001b[39m*\u001b[39;49m \u001b[39mself\u001b[39;49m\u001b[39m.\u001b[39;49mget_other_value(other),\n\u001b[1;32m     90\u001b[0m                     _operation\u001b[39m=\u001b[39mcomp\u001b[39m.\u001b[39mMUL,\n\u001b[1;32m     91\u001b[0m                     _children\u001b[39m=\u001b[39m[\u001b[39mself\u001b[39m, \u001b[39mself\u001b[39m\u001b[39m.\u001b[39mget_other(other)],\n\u001b[1;32m     92\u001b[0m                     label\u001b[39m=\u001b[39m\u001b[39mself\u001b[39m\u001b[39m.\u001b[39mdefault_label(\u001b[39mself\u001b[39m, \u001b[39mself\u001b[39m\u001b[39m.\u001b[39mget_other(other), operation_str\u001b[39m=\u001b[39mcomp\u001b[39m.\u001b[39mMUL))\n",
      "\u001b[0;31mTypeError\u001b[0m: unsupported operand type(s) for *: 'float' and 'Variable'"
     ]
    }
   ],
   "source": [
    "L.backward()"
   ]
  },
  {
   "cell_type": "code",
   "execution_count": null,
   "metadata": {},
   "outputs": [],
   "source": []
  }
 ],
 "metadata": {
  "kernelspec": {
   "display_name": "kaggle_env",
   "language": "python",
   "name": "python3"
  },
  "language_info": {
   "codemirror_mode": {
    "name": "ipython",
    "version": 3
   },
   "file_extension": ".py",
   "mimetype": "text/x-python",
   "name": "python",
   "nbconvert_exporter": "python",
   "pygments_lexer": "ipython3",
   "version": "3.11.5"
  },
  "orig_nbformat": 4
 },
 "nbformat": 4,
 "nbformat_minor": 2
}
