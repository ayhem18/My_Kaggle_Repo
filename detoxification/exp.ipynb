{
 "cells": [
  {
   "cell_type": "code",
   "execution_count": 3,
   "metadata": {},
   "outputs": [],
   "source": [
    "import os, sys\n",
    "from pathlib import Path\n",
    "HOME = os.getcwd()\n",
    "current = HOME\n",
    "while 'src' not in os.listdir(current):\n",
    "    current = Path(current).parent\n",
    "\n",
    "sys.path.append(str(current))\n",
    "sys.path.append(os.path.join(str(current), 'src'))"
   ]
  },
  {
   "cell_type": "code",
   "execution_count": 7,
   "metadata": {},
   "outputs": [],
   "source": [
    "# let's have a quick look at the data\n",
    "import pandas as pd\n",
    "DATA = os.path.join(HOME, 'filtered.tsv')\n",
    "# read few lines \n",
    "lines = pd.read_csv(DATA, sep='\\t', nrows=200, index_col=0)"
   ]
  },
  {
   "cell_type": "code",
   "execution_count": 19,
   "metadata": {},
   "outputs": [
    {
     "name": "stdout",
     "output_type": "stream",
     "text": [
      "“Damn, I forgot.\n",
      "\"hell, I forgot.\n",
      "0.9888549447059632 0.0022433772683143\n",
      "####################################################################################################\n",
      "Give him a goddam gun.\n",
      "give him the gun.\n",
      "0.9803726077079772 0.0942545086145401\n",
      "####################################################################################################\n",
      "It's a pencil, and the eraser is stuck up Bin Laden's pooper.\n",
      "it's a pencil...... and the rubber is stuck in Bin Laden's breast.\n",
      "0.0347821675240993 0.6157360672950745\n",
      "####################################################################################################\n",
      "If I did scratch, it's not signaling. It's because I'm fuckin' scared shitless!\n",
      "and if I scratched... not to give him a sign, but because I'm scared shitless!\n",
      "0.9778542518615724 0.0529772080481052\n",
      "####################################################################################################\n",
      "He was miserable.\n",
      "he felt miserable.\n",
      "0.9934225678443908 0.2934703826904297\n",
      "####################################################################################################\n",
      "\"You see me shoot him, Tenente?\"\n",
      "\"did you see how I shot him, Tenente?\"\n",
      "0.9732797741889954 0.0190973468124866\n",
      "####################################################################################################\n",
      "‘Nonsense!\n",
      "\"bullshit!\n",
      "0.004740189295262 0.9996047616004944\n",
      "####################################################################################################\n",
      "Everybody says he stole your jokes.\n",
      "he stole your jokes, dumbass.\n",
      "0.000155630390509 0.9995631575584412\n",
      "####################################################################################################\n",
      "After a good, hot cup of coffee after a good meal and a good, hard fuck but... not too often.\n",
      "if I have a good hot coffee after a good lunch and I'm pretty much screwed, not so much.\n",
      "0.9956915974617004 0.1138616576790809\n",
      "####################################################################################################\n",
      "Which I know is stupid, because they're probably beyond worried about me, but...\n",
      "I know it's silly because they're worried about me.\n",
      "0.9859439134597778 0.0155761651694774\n",
      "####################################################################################################\n"
     ]
    }
   ],
   "source": [
    "# print(lines.columns)\n",
    "for row_index, row in lines.tail(10).iterrows():\n",
    "    s1, s2, sim, l, t1, t2 = row\n",
    "    print(s1)\n",
    "    print(s2)\n",
    "    print(t1, t2)\n",
    "    print(\"#\" * 100)\n"
   ]
  },
  {
   "cell_type": "code",
   "execution_count": null,
   "metadata": {},
   "outputs": [],
   "source": []
  }
 ],
 "metadata": {
  "kernelspec": {
   "display_name": "kaggle_env",
   "language": "python",
   "name": "python3"
  },
  "language_info": {
   "codemirror_mode": {
    "name": "ipython",
    "version": 3
   },
   "file_extension": ".py",
   "mimetype": "text/x-python",
   "name": "python",
   "nbconvert_exporter": "python",
   "pygments_lexer": "ipython3",
   "version": "3.11.5"
  },
  "orig_nbformat": 4
 },
 "nbformat": 4,
 "nbformat_minor": 2
}
