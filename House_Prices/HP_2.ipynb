{
 "cells": [
  {
   "cell_type": "markdown",
   "metadata": {},
   "source": [
    "# House Pricing Predictions\n",
    "This is my attempt on the data science challenge on [Kaggle](https://www.kaggle.com/competitions/house-prices-advanced-regression-techniques/overview), predicting the house prices given a large number of features. "
   ]
  },
  {
   "cell_type": "markdown",
   "metadata": {},
   "source": [
    "## Preliminary work: imports and loading data"
   ]
  },
  {
   "cell_type": "code",
   "execution_count": 287,
   "metadata": {},
   "outputs": [],
   "source": [
    "# imports\n",
    "import numpy as np\n",
    "import pandas as pd\n",
    "import matplotlib.pyplot as plt\n",
    "import os\n",
    "import sklearn"
   ]
  },
  {
   "cell_type": "code",
   "execution_count": 288,
   "metadata": {},
   "outputs": [],
   "source": [
    "# variables to store the location of the training and test datasets\n",
    "train_file = \"train.csv\"\n",
    "test_file = \"test.csv\""
   ]
  },
  {
   "cell_type": "code",
   "execution_count": 289,
   "metadata": {},
   "outputs": [],
   "source": [
    "df_train_org = pd.read_csv(train_file)\n",
    "df_test_org = pd.read_csv(test_file)\n",
    "# df and df_test are copies of the original datasets with target value referred to as y\n",
    "Y = \"y\"\n",
    "df = df_train_org.rename(columns={'SalePrice': Y})\n",
    "df_test = df_test_org.rename(columns={'SalePrice':Y})"
   ]
  },
  {
   "cell_type": "markdown",
   "metadata": {},
   "source": [
    "## Data Exploration \n",
    "In this section we explore the basic aspects of the provided dataset."
   ]
  },
  {
   "cell_type": "code",
   "execution_count": 290,
   "metadata": {},
   "outputs": [],
   "source": [
    "# a function to drop an element to both train and test dataframes\n",
    "def drop_cols(col_names:list, on='both'):\n",
    "    global df, df_test\n",
    "    try:\n",
    "        df = df.drop(col_names, axis=1)\n",
    "        df_test = df_test.drop(col_names, axis=1)\n",
    "    except:\n",
    "        print(\"The column{s} {cols} have already been dropped\".\n",
    "        format(s= \"\" if (col_names is str or len(col_names) == 1) else \"s\", cols=str(col_names)))\n",
    "    "
   ]
  },
  {
   "cell_type": "code",
   "execution_count": 291,
   "metadata": {},
   "outputs": [
    {
     "name": "stdout",
     "output_type": "stream",
     "text": [
      "(1460, 81) (1459, 80)\n",
      "True\n",
      "(1460, 80) (1459, 79)\n"
     ]
    }
   ],
   "source": [
    "# let's first understand the nature of our data\n",
    "print(df.shape, df_test.shape) \n",
    "# each sample is described by 81 features. This number if relatively high.\n",
    "\n",
    "print((df['Id'].values == range(1 ,len(df) + 1)).all()) \n",
    "# as we can see the Id column is merely for ennumeriation purposes. It can be either dropped or set as an index.\n",
    "drop_cols(\"Id\")\n",
    "print(df.shape, df_test.shape)\n"
   ]
  },
  {
   "cell_type": "markdown",
   "metadata": {},
   "source": [
    "### Categorical and Numerical features\n",
    "Let's consider the different types of features. First, we divide them into numerical and non-numerical. The non-numerical are definitely categorical (or can be made as such). As for numerical, columns with int values, can be considered categorical if the number of unique values is limited."
   ]
  },
  {
   "cell_type": "code",
   "execution_count": 292,
   "metadata": {},
   "outputs": [
    {
     "name": "stdout",
     "output_type": "stream",
     "text": [
      "Index(['MSZoning', 'Street', 'Alley', 'LotShape', 'LandContour', 'Utilities',\n",
      "       'LotConfig', 'LandSlope', 'Neighborhood', 'Condition1', 'Condition2',\n",
      "       'BldgType', 'HouseStyle', 'RoofStyle', 'RoofMatl', 'Exterior1st',\n",
      "       'Exterior2nd', 'MasVnrType', 'ExterQual', 'ExterCond', 'Foundation',\n",
      "       'BsmtQual', 'BsmtCond', 'BsmtExposure', 'BsmtFinType1', 'BsmtFinType2',\n",
      "       'Heating', 'HeatingQC', 'CentralAir', 'Electrical', 'KitchenQual',\n",
      "       'Functional', 'FireplaceQu', 'GarageType', 'GarageFinish', 'GarageQual',\n",
      "       'GarageCond', 'PavedDrive', 'PoolQC', 'Fence', 'MiscFeature',\n",
      "       'SaleType', 'SaleCondition'],\n",
      "      dtype='object')\n",
      "Index(['MSSubClass', 'LotFrontage', 'LotArea', 'OverallQual', 'OverallCond',\n",
      "       'YearBuilt', 'YearRemodAdd', 'MasVnrArea', 'BsmtFinSF1', 'BsmtFinSF2',\n",
      "       'BsmtUnfSF', 'TotalBsmtSF', '1stFlrSF', '2ndFlrSF', 'LowQualFinSF',\n",
      "       'GrLivArea', 'BsmtFullBath', 'BsmtHalfBath', 'FullBath', 'HalfBath',\n",
      "       'BedroomAbvGr', 'KitchenAbvGr', 'TotRmsAbvGrd', 'Fireplaces',\n",
      "       'GarageYrBlt', 'GarageCars', 'GarageArea', 'WoodDeckSF', 'OpenPorchSF',\n",
      "       'EnclosedPorch', '3SsnPorch', 'ScreenPorch', 'PoolArea', 'MiscVal',\n",
      "       'MoSold', 'YrSold', 'y'],\n",
      "      dtype='object')\n"
     ]
    }
   ],
   "source": [
    "# consider non-numerical values\n",
    "object_type = \"object\"\n",
    "cat_type = 'category'\n",
    "non_num_cols = df.select_dtypes([object_type, cat_type]).columns\n",
    "print(non_num_cols)\n",
    "num_cols = df.select_dtypes(np.number).columns\n",
    "print(num_cols)"
   ]
  },
  {
   "cell_type": "code",
   "execution_count": 293,
   "metadata": {},
   "outputs": [
    {
     "name": "stdout",
     "output_type": "stream",
     "text": [
      "{'MSSubClass': 15, 'LotArea': 1073, 'OverallQual': 10, 'OverallCond': 9, 'YearBuilt': 112, 'YearRemodAdd': 61, 'BsmtFinSF1': 637, 'BsmtFinSF2': 144, 'BsmtUnfSF': 780, 'TotalBsmtSF': 721, '1stFlrSF': 753, '2ndFlrSF': 417, 'LowQualFinSF': 24, 'GrLivArea': 861, 'BsmtFullBath': 4, 'BsmtHalfBath': 3, 'FullBath': 4, 'HalfBath': 3, 'BedroomAbvGr': 8, 'KitchenAbvGr': 4, 'TotRmsAbvGrd': 12, 'Fireplaces': 4, 'GarageCars': 5, 'GarageArea': 441, 'WoodDeckSF': 274, 'OpenPorchSF': 202, 'EnclosedPorch': 120, '3SsnPorch': 20, 'ScreenPorch': 76, 'PoolArea': 8, 'MiscVal': 21, 'MoSold': 12, 'YrSold': 5, 'y': 663}\n"
     ]
    }
   ],
   "source": [
    "# let's consider the subset of numerical columns with few discrete values\n",
    "num_discrete = df.select_dtypes('int64').columns\n",
    "num_dis_count = [len(df[num_d].unique()) for num_d in num_discrete]  \n",
    "print(dict(zip(num_discrete, num_dis_count)))\n",
    "\n",
    "# we can see that a \"MSSubClass\" is a categorical feature\n",
    "# a number of features are not categorical by say, but can be treated as such: Bath related features, Fireplaces, GarageCars, and most importantly\n",
    "# OverallQual and OveralCond\n"
   ]
  },
  {
   "cell_type": "markdown",
   "metadata": {},
   "source": [
    "## Data Cleaning\n",
    "Certain columns might contain corrupted data and thus require cleaning. I will start with categorical columns. \n"
   ]
  },
  {
   "cell_type": "markdown",
   "metadata": {},
   "source": [
    "### Cleaning categorical columns \n",
    "The main procedure is as follows:\n",
    "* replace the values that do not belong to the data description set of values by the one described there, mainly typos in string typed values\n",
    "* in the worst case drop rows that have values significantly different from the pre-determined categories\n"
   ]
  },
  {
   "cell_type": "code",
   "execution_count": 294,
   "metadata": {},
   "outputs": [
    {
     "name": "stdout",
     "output_type": "stream",
     "text": [
      "MSZoning\n",
      "['RL' 'RM' 'C (all)' 'FV' 'RH']\n",
      "Street\n",
      "['Pave' 'Grvl']\n",
      "Alley\n",
      "[nan 'Grvl' 'Pave']\n",
      "LotShape\n",
      "['Reg' 'IR1' 'IR2' 'IR3']\n",
      "LandContour\n",
      "['Lvl' 'Bnk' 'Low' 'HLS']\n",
      "Utilities\n",
      "['AllPub' 'NoSeWa']\n",
      "LotConfig\n",
      "['Inside' 'FR2' 'Corner' 'CulDSac' 'FR3']\n",
      "LandSlope\n",
      "['Gtl' 'Mod' 'Sev']\n",
      "Neighborhood\n",
      "['CollgCr' 'Veenker' 'Crawfor' 'NoRidge' 'Mitchel' 'Somerst' 'NWAmes'\n",
      " 'OldTown' 'BrkSide' 'Sawyer' 'NridgHt' 'NAmes' 'SawyerW' 'IDOTRR'\n",
      " 'MeadowV' 'Edwards' 'Timber' 'Gilbert' 'StoneBr' 'ClearCr' 'NPkVill'\n",
      " 'Blmngtn' 'BrDale' 'SWISU' 'Blueste']\n",
      "Condition1\n",
      "['Norm' 'Feedr' 'PosN' 'Artery' 'RRAe' 'RRNn' 'RRAn' 'PosA' 'RRNe']\n",
      "Condition2\n",
      "['Norm' 'Artery' 'RRNn' 'Feedr' 'PosN' 'PosA' 'RRAn' 'RRAe']\n",
      "BldgType\n",
      "['1Fam' '2fmCon' 'Duplex' 'TwnhsE' 'Twnhs']\n",
      "HouseStyle\n",
      "['2Story' '1Story' '1.5Fin' '1.5Unf' 'SFoyer' 'SLvl' '2.5Unf' '2.5Fin']\n",
      "RoofStyle\n",
      "['Gable' 'Hip' 'Gambrel' 'Mansard' 'Flat' 'Shed']\n",
      "RoofMatl\n",
      "['CompShg' 'WdShngl' 'Metal' 'WdShake' 'Membran' 'Tar&Grv' 'Roll'\n",
      " 'ClyTile']\n",
      "Exterior1st\n",
      "['VinylSd' 'MetalSd' 'Wd Sdng' 'HdBoard' 'BrkFace' 'WdShing' 'CemntBd'\n",
      " 'Plywood' 'AsbShng' 'Stucco' 'BrkComm' 'AsphShn' 'Stone' 'ImStucc'\n",
      " 'CBlock']\n",
      "Exterior2nd\n",
      "['VinylSd' 'MetalSd' 'Wd Shng' 'HdBoard' 'Plywood' 'Wd Sdng' 'CmentBd'\n",
      " 'BrkFace' 'Stucco' 'AsbShng' 'Brk Cmn' 'ImStucc' 'AsphShn' 'Stone'\n",
      " 'Other' 'CBlock']\n",
      "MasVnrType\n",
      "['BrkFace' 'None' 'Stone' 'BrkCmn' nan]\n",
      "ExterQual\n",
      "['Gd' 'TA' 'Ex' 'Fa']\n",
      "ExterCond\n",
      "['TA' 'Gd' 'Fa' 'Po' 'Ex']\n",
      "Foundation\n",
      "['PConc' 'CBlock' 'BrkTil' 'Wood' 'Slab' 'Stone']\n",
      "BsmtQual\n",
      "['Gd' 'TA' 'Ex' nan 'Fa']\n",
      "BsmtCond\n",
      "['TA' 'Gd' nan 'Fa' 'Po']\n",
      "BsmtExposure\n",
      "['No' 'Gd' 'Mn' 'Av' nan]\n",
      "BsmtFinType1\n",
      "['GLQ' 'ALQ' 'Unf' 'Rec' 'BLQ' nan 'LwQ']\n",
      "BsmtFinType2\n",
      "['Unf' 'BLQ' nan 'ALQ' 'Rec' 'LwQ' 'GLQ']\n",
      "Heating\n",
      "['GasA' 'GasW' 'Grav' 'Wall' 'OthW' 'Floor']\n",
      "HeatingQC\n",
      "['Ex' 'Gd' 'TA' 'Fa' 'Po']\n",
      "CentralAir\n",
      "['Y' 'N']\n",
      "Electrical\n",
      "['SBrkr' 'FuseF' 'FuseA' 'FuseP' 'Mix' nan]\n",
      "KitchenQual\n",
      "['Gd' 'TA' 'Ex' 'Fa']\n",
      "Functional\n",
      "['Typ' 'Min1' 'Maj1' 'Min2' 'Mod' 'Maj2' 'Sev']\n",
      "FireplaceQu\n",
      "[nan 'TA' 'Gd' 'Fa' 'Ex' 'Po']\n",
      "GarageType\n",
      "['Attchd' 'Detchd' 'BuiltIn' 'CarPort' nan 'Basment' '2Types']\n",
      "GarageFinish\n",
      "['RFn' 'Unf' 'Fin' nan]\n",
      "GarageQual\n",
      "['TA' 'Fa' 'Gd' nan 'Ex' 'Po']\n",
      "GarageCond\n",
      "['TA' 'Fa' nan 'Gd' 'Po' 'Ex']\n",
      "PavedDrive\n",
      "['Y' 'N' 'P']\n",
      "PoolQC\n",
      "[nan 'Ex' 'Fa' 'Gd']\n",
      "Fence\n",
      "[nan 'MnPrv' 'GdWo' 'GdPrv' 'MnWw']\n",
      "MiscFeature\n",
      "[nan 'Shed' 'Gar2' 'Othr' 'TenC']\n",
      "SaleType\n",
      "['WD' 'New' 'COD' 'ConLD' 'ConLI' 'CWD' 'ConLw' 'Con' 'Oth']\n",
      "SaleCondition\n",
      "['Normal' 'Abnorml' 'Partial' 'AdjLand' 'Alloca' 'Family']\n"
     ]
    }
   ],
   "source": [
    "for col, uni_values in zip(non_num_cols, [df[col].unique() for col in non_num_cols]):\n",
    "    print(col)\n",
    "    print(uni_values)"
   ]
  },
  {
   "cell_type": "code",
   "execution_count": 295,
   "metadata": {},
   "outputs": [],
   "source": [
    "# investigating the output of the previous cell as well as inspecting the content of the documentation\n",
    "# suggests a couple of corrupted values in certain columns such as Exterior2nd\n",
    "\n",
    "# let's define a function to replace these values both in the training and test dataframes\n",
    "def replace_values(col_names:list , wrong_correct:list, on='both'):\n",
    "    assert (isinstance(col_names, str) and isinstance(wrong_correct, dict)) or all([isinstance(l, dict) for l in wrong_correct]) and isinstance(col_names, list) \n",
    "    assert on in ['both', 'df', 'df_test']\n",
    "    \n",
    "    global df, df_test\n",
    "    \n",
    "    if isinstance(col_names, str):\n",
    "        for k, v in wrong_correct.items():\n",
    "            df = df.replace(k, v)\n",
    "            df_test = df_test.replace(k, v)\n",
    "        return \n",
    "    \n",
    "    try:\n",
    "        for col, dic in zip(col_names, wrong_correct):\n",
    "            for k, v in dic.items():\n",
    "                df = df.replace(k, v)\n",
    "                df_test = df_test.replace(k, v)\n",
    "                \n",
    "    except:\n",
    "        print(\"Something is wrong check again !!\")\n"
   ]
  },
  {
   "cell_type": "code",
   "execution_count": 296,
   "metadata": {},
   "outputs": [],
   "source": [
    "# the value C (all) is corrupted in MSZoning\n",
    "mszoning = \"MSZoning\"\n",
    "correct_mszoning = {\"C (all)\": \"C\"}\n",
    "ext2 = \"Exterior2nd\"\n",
    "correct_ext2 = {\"Brk Cmn\": \"BrkComm\", \"CmentBd\": \"CemntBd\"}\n",
    "\n",
    "ms_ext = [mszoning, ext2]\n",
    "correct = [correct_mszoning, correct_ext2]\n",
    "\n",
    "replace_values(ms_ext, correct)\n"
   ]
  },
  {
   "cell_type": "markdown",
   "metadata": {},
   "source": [
    "### Cleaning numerical columns\n",
    "This task is slightly trickier as it might require domain expertise. The main procedure is as follows:\n",
    "1. replace (or drop) values that contradict general common sense, for instance negative areas, months cannot be more than $12$\n",
    "2. consider the relationship between certain rows. values in a certain columns cannot be smaller / larger than the corresponding values in other columns. This step require more careful study of the nature of the problem."
   ]
  },
  {
   "cell_type": "code",
   "execution_count": 297,
   "metadata": {},
   "outputs": [
    {
     "name": "stdout",
     "output_type": "stream",
     "text": [
      "Index(['MSSubClass', 'LotFrontage', 'LotArea', 'OverallQual', 'OverallCond',\n",
      "       'YearBuilt', 'YearRemodAdd', 'MasVnrArea', 'BsmtFinSF1', 'BsmtFinSF2',\n",
      "       'BsmtUnfSF', 'TotalBsmtSF', '1stFlrSF', '2ndFlrSF', 'LowQualFinSF',\n",
      "       'GrLivArea', 'BsmtFullBath', 'BsmtHalfBath', 'FullBath', 'HalfBath',\n",
      "       'BedroomAbvGr', 'KitchenAbvGr', 'TotRmsAbvGrd', 'Fireplaces',\n",
      "       'GarageYrBlt', 'GarageCars', 'GarageArea', 'WoodDeckSF', 'OpenPorchSF',\n",
      "       'EnclosedPorch', '3SsnPorch', 'ScreenPorch', 'PoolArea', 'MiscVal',\n",
      "       'MoSold', 'YrSold', 'y'],\n",
      "      dtype='object')\n"
     ]
    }
   ],
   "source": [
    "# let's first display the numerical columns\n",
    "print(num_cols)"
   ]
  },
  {
   "cell_type": "code",
   "execution_count": 298,
   "metadata": {},
   "outputs": [
    {
     "name": "stdout",
     "output_type": "stream",
     "text": [
      "['LotArea', 'MasVnrArea', 'GrLivArea', 'GarageArea', 'PoolArea', 'BsmtFinSF1', 'BsmtFinSF2', 'BsmtUnfSF', 'TotalBsmtSF', '1stFlrSF', '2ndFlrSF', 'LowQualFinSF', 'WoodDeckSF', 'OpenPorchSF']\n",
      "[]\n"
     ]
    }
   ],
   "source": [
    "# let's consider areas\n",
    "areas = [col for col in num_cols if (\"area\" in col.strip().lower())]\n",
    "# inverstiagating the data description, the term SF generally refers to surface (area)\n",
    "areas.extend([col for col in num_cols if \"SF\" in col.strip()]) \n",
    "print(areas)\n",
    "# verify all values are positive\n",
    "areas_with_neg = [any(df[area] < 0) for area in areas]\n",
    "areas_with_neg = [area for area, a in zip(areas, areas_with_neg) if a]\n",
    "print(areas_with_neg)\n",
    "# as we can see all areas-values are positive"
   ]
  },
  {
   "cell_type": "markdown",
   "metadata": {},
   "source": [
    "The data description indicats that \n",
    "* OverallQuall and OverallCond should belong to the interval [1, 10]\n",
    "* YearRemodAdd is year of remodel, thus it should be larger or equal to YearBuilt\n",
    "* The relationship between the the year where the garage was built and the other year features should be investigated.\n",
    "* MSSubClass represents a label encoding of the different types of houses: values should belong to predetermined set of values specified in the data description\n",
    "* MoSold is the month where the house was sold. it should belong to [1, 12]\n",
    "* it might be worthwhile investigating any abnormalities in the relationship between \"BsmtFinSF1\", \"BsmtUnfSF\", \"BsmtFinSF2\" and \"TotalBsmtSF\" \n",
    " "
   ]
  },
  {
   "cell_type": "code",
   "execution_count": 299,
   "metadata": {},
   "outputs": [],
   "source": [
    "# first of all let's define a method to replace the names of features in both training and test datasets\n",
    "\n",
    "def new_col_names(old_new_names:dict):\n",
    "    global df, df_test\n",
    "    try:\n",
    "        \n",
    "        df = df.rename(columns=old_new_names)\n",
    "        df_test = df_test.rename(columns=old_new_names)\n",
    "    except:\n",
    "        df_no_col = [col for col in old_new_names.keys if col not in df.columns]\n",
    "        df_test_no_col = [col for col in old_new_names.keys if col not in df_test.columns]\n",
    "        print(\"{cols} are not in the {dataf}\".format(df_no_col, \"training dataset\"))\n",
    "        print(\"{cols} are not in the {dataf}\".format(df_test_no_col, \"test dataset\"))\n"
   ]
  },
  {
   "cell_type": "code",
   "execution_count": 300,
   "metadata": {},
   "outputs": [],
   "source": [
    "old_new_cols = {\"OverallQual\": \"qua\", \n",
    "\"OverallCond\": \"cond\", \"YearBuilt\": \"Yb\", \"YearRemodAdd\": \"Yr\", \"MSSubClass\": \"mss\" , \n",
    "\"BsmtFinSF1\": \"bSF1\", \"BsmtFinSF2\": \"bSF2\", \"BsmtUnfSF\": \"bubf\", \"GarageYrBlt\":\"GYb\"}\n",
    "new_col_names(old_new_cols)"
   ]
  },
  {
   "cell_type": "code",
   "execution_count": 301,
   "metadata": {},
   "outputs": [
    {
     "name": "stdout",
     "output_type": "stream",
     "text": [
      "True\n",
      "True\n",
      "True\n",
      "True\n",
      "True\n"
     ]
    }
   ],
   "source": [
    "# verify the integrity of overall quality and condition features\n",
    "qua = \"qua\"\n",
    "cond = \"cond\"\n",
    "print(all(df[qua].isin(range(1, 11))))\n",
    "print(all(df[cond].isin(range(1, 11))))\n",
    "\n",
    "# verify the remodeling and building years features\n",
    "yb = \"Yb\"\n",
    "yr = \"Yr\"\n",
    "print(df[df[yb] > df[yr]].empty) # the resulting dataframe is empty: no problems with either of these features\n",
    "\n",
    "# verify the MSubclass features\n",
    "mss = \"mss\"\n",
    "mss_values = [20, 30, 40, 45, 50, 60, 70, 75, 80, 85, 90, 120, 150, 160, 180, 190]\n",
    "\n",
    "print(df[~df[mss].isin(mss_values)].empty) # all values from \"MSsubclass\" feature are under check\n",
    "\n",
    "# verify the month feature\n",
    "\n",
    "print(df[~df[\"MoSold\"].isin(range(1, 13))].empty) # all values of the month feature are correct"
   ]
  },
  {
   "cell_type": "code",
   "execution_count": 302,
   "metadata": {},
   "outputs": [],
   "source": [
    "# let' define a function that applies a function to either \n",
    "# the whole dataframe or certain columns on the dataframe\n",
    "\n",
    "def apply_functions(funcs, col_names=None):\n",
    "    # either have one function passed that should be applied to the whole dataframe\n",
    "    # or have an equal number of columns and functions where each funtion will be applied to the corresponding column\n",
    "    all_data = callable(funcs) and col_names is None\n",
    "    col_funcs = True\n",
    "    #  if the funcs argument is indeed a function, then the code below will raise an error \n",
    "    try:\n",
    "        col_funcs = (all([callable(f) for f in funcs]) and len(funcs) == len(col_names))\n",
    "    except:\n",
    "        col_funcs = False\n",
    "    \n",
    "    assert all_data or col_funcs\n",
    "   \n",
    "    global df, df_test\n",
    "    if col_names is None: # if the function is to be applied to the whole dataframe\n",
    "        df = df.apply(funcs, axis=1)\n",
    "        df_test = df_test.apply(funcs, axis=1)\n",
    "    else:\n",
    "        for col, f in zip(col_names, funcs):\n",
    "            df = df.apply(f)\n",
    "            df_test = df_test.apply(f)"
   ]
  },
  {
   "cell_type": "code",
   "execution_count": 303,
   "metadata": {},
   "outputs": [
    {
     "name": "stdout",
     "output_type": "stream",
     "text": [
      "         GYb    Yb    Yr\n",
      "29    1920.0  1927  1950\n",
      "93    1900.0  1910  1998\n",
      "324   1961.0  1967  2007\n",
      "600   2003.0  2005  2005\n",
      "736   1949.0  1950  1950\n",
      "1103  1954.0  1959  1959\n",
      "1376  1925.0  1930  1950\n",
      "1414  1922.0  1923  2000\n",
      "1418  1962.0  1963  1963\n",
      "         GYb    Yb    Yr\n",
      "61    1956.0  1959  1959\n",
      "116   2009.0  2010  2010\n",
      "345   1920.0  1935  1998\n",
      "380   1960.0  1978  1978\n",
      "435   1940.0  1941  1950\n",
      "437   1926.0  1935  1950\n",
      "662   1925.0  1945  1995\n",
      "803   2005.0  2006  2007\n",
      "1049  2005.0  2006  2006\n",
      "True\n",
      "Empty DataFrame\n",
      "Columns: [GYb, Yb, Yr]\n",
      "Index: []\n",
      "Empty DataFrame\n",
      "Columns: [GYb, Yb, Yr]\n",
      "Index: []\n"
     ]
    }
   ],
   "source": [
    "# let's consider the year where the garage was built\n",
    "gyb = \"GYb\"\n",
    "print(df[df[gyb] < df[yb]][[gyb, yb, yr]])\n",
    "\n",
    "print(df_test[df_test[gyb] < df_test[yb]][[gyb, yb, yr]]) \n",
    "# with few exceptions the year where the garage if it is before the year where the house was built is generally few years earilier\n",
    "# which suggests that the garage was meant to be built with the house, yet the house took slightly longer to complete.\n",
    "\n",
    "# if GYb is less than Yb then we will set to Yb.\n",
    "def set_garage_year(row):\n",
    "    if row[gyb] < row[yb]:\n",
    "        row[gyb] = row[yb]\n",
    "    return row\n",
    "# set the changes in both train and test data\n",
    "print(callable(set_garage_year))\n",
    "apply_functions(set_garage_year)\n",
    "\n",
    "print(df[df[gyb] < df[yb]][[gyb, yb, yr]]) \n",
    "print(df_test[df_test[gyb] < df_test[yb]][[gyb, yb, yr]])\n",
    "# the changes were applied to both data sets"
   ]
  },
  {
   "cell_type": "markdown",
   "metadata": {},
   "source": [
    "## Imputing missing values\n",
    "The second step is imputing the missing values and making sure no Nan values are passed to our machine learning models. The main procedure is as follows:\n",
    "1. drop all columns with a nan ratio exceeding a certain treshhold\n",
    "2. imput the missing values. The strategy depends mainly on the feature in question:\n",
    "    * if the feature is highly related to other features, then a highly accurate and natural value can be deduced\n",
    "    * some statistical value could be used to impute the missing values\n",
    "    * investigating related features could help come up with an aggregated value when the data is grouped by a number of features."
   ]
  },
  {
   "cell_type": "markdown",
   "metadata": {},
   "source": [
    "### 1st strategy: drop columns"
   ]
  },
  {
   "cell_type": "code",
   "execution_count": 304,
   "metadata": {},
   "outputs": [
    {
     "name": "stdout",
     "output_type": "stream",
     "text": [
      "LotFrontage      259\n",
      "Alley           1369\n",
      "MasVnrType         8\n",
      "MasVnrArea         8\n",
      "BsmtQual          37\n",
      "BsmtCond          37\n",
      "BsmtExposure      38\n",
      "BsmtFinType1      37\n",
      "BsmtFinType2      38\n",
      "Electrical         1\n",
      "FireplaceQu      690\n",
      "GarageType        81\n",
      "GYb               81\n",
      "GarageFinish      81\n",
      "GarageQual        81\n",
      "GarageCond        81\n",
      "PoolQC          1453\n",
      "Fence           1179\n",
      "MiscFeature     1406\n",
      "dtype: int64\n",
      "Index(['Alley', 'PoolQC', 'Fence', 'MiscFeature'], dtype='object')\n"
     ]
    }
   ],
   "source": [
    "# let's first discover which columns have Nan values\n",
    "nan_values = df.isna().sum()\n",
    "cols_nan = nan_values[nan_values > 0]\n",
    "print(cols_nan)\n",
    "NAN_THRESHOLD = 0.8 # all columns with more than 0.8 nan values will be dropped\n",
    "cols_nan = cols_nan / len(df)\n",
    "# print(cols_nan)\n",
    "cols_nan_drop = cols_nan[cols_nan > NAN_THRESHOLD].index\n",
    "print(cols_nan_drop) "
   ]
  },
  {
   "cell_type": "markdown",
   "metadata": {},
   "source": [
    "As we can see: Alley, PoolQC, fence and MiscFeature have an extremely high ratio of nan values. \n",
    "before dropping these columns, it is necessary to drop features tightly related to those.  \n",
    "Investigating the data description reveals that:  \n",
    "* PoolQC is related to PoolArea\n",
    "* MiscFeature is related to MiscVal\n"
   ]
  },
  {
   "cell_type": "code",
   "execution_count": 305,
   "metadata": {},
   "outputs": [
    {
     "name": "stdout",
     "output_type": "stream",
     "text": [
      "0    1453\n",
      "Name: PoolArea, dtype: int64\n",
      "197     235000\n",
      "810     181000\n",
      "1170    171000\n",
      "1182    745000\n",
      "1298    160000\n",
      "1386    250000\n",
      "1423    274970\n",
      "Name: y, dtype: int64\n"
     ]
    }
   ],
   "source": [
    "# let's better understand those relations\n",
    "pq = \"PoolQC\"\n",
    "pa = \"PoolArea\"\n",
    "print(df[df[pq].isna()][pa].value_counts()) \n",
    "# Nan values are associated with 0 pool area, which means that there is no pool in the first place\n",
    "# an extremely high ratio of houses do not have a pool.\n",
    "# let's consider the prices of houses with pool\n",
    "print(df[~df[pq].isna()][Y]) #  there is only few values with relatively high variance"
   ]
  },
  {
   "cell_type": "code",
   "execution_count": 306,
   "metadata": {},
   "outputs": [
    {
     "name": "stdout",
     "output_type": "stream",
     "text": [
      "0    1406\n",
      "Name: MiscVal, dtype: int64\n"
     ]
    }
   ],
   "source": [
    "misf = \"MiscFeature\"\n",
    "misv = \"MiscVal\"\n",
    "print(df[df[misf].isna()][misv].value_counts()) # we can see that houses with Nan on MiscFeature \n",
    "# have 0 on MiscVal which means that they do not any additional features to mention\n",
    "# both of these features should be dropped"
   ]
  },
  {
   "cell_type": "code",
   "execution_count": 307,
   "metadata": {},
   "outputs": [],
   "source": [
    "# let's drop the features in questions\n",
    "cols_nan_drop = cols_nan_drop.values.tolist() + [misv, pa]\n",
    "drop_cols(cols_nan_drop)"
   ]
  },
  {
   "cell_type": "markdown",
   "metadata": {},
   "source": [
    "### 2nd strategy: deduce values"
   ]
  },
  {
   "cell_type": "code",
   "execution_count": 308,
   "metadata": {},
   "outputs": [
    {
     "name": "stdout",
     "output_type": "stream",
     "text": [
      "LotFrontage     259\n",
      "MasVnrType        8\n",
      "MasVnrArea        8\n",
      "BsmtQual         37\n",
      "BsmtCond         37\n",
      "BsmtExposure     38\n",
      "BsmtFinType1     37\n",
      "BsmtFinType2     38\n",
      "Electrical        1\n",
      "FireplaceQu     690\n",
      "GarageType       81\n",
      "GYb              81\n",
      "GarageFinish     81\n",
      "GarageQual       81\n",
      "GarageCond       81\n",
      "dtype: int64\n"
     ]
    }
   ],
   "source": [
    "# let's consider the columns left with nan values\n",
    "nan_values = df.isna().sum()\n",
    "cols_nan = nan_values[nan_values > 0]\n",
    "print(cols_nan)"
   ]
  },
  {
   "cell_type": "markdown",
   "metadata": {},
   "source": [
    "The values with Nan can be divided into categories:\n",
    "* Masonry veneer \n",
    "* Basement\n",
    "* Garage\n",
    "* FirePlace\n",
    "* LotFrontage (only one column) and Electrical\n"
   ]
  },
  {
   "cell_type": "code",
   "execution_count": 309,
   "metadata": {},
   "outputs": [],
   "source": [
    "def set_nan(col_names:list, fill_values:list):\n",
    "    one = isinstance(col_names, str) and isinstance(fill_values, str)\n",
    "    try:\n",
    "        many = len(col_names) == len(fill_values)\n",
    "    except:\n",
    "        many = False\n",
    "    assert one or many \n",
    "    global df, df_test\n",
    "    if many: \n",
    "        for col, v in zip(col_names, fill_values):\n",
    "            df[col] = df[col].fillna(v)\n",
    "            df_test[col] = df_test[col].fillna(v)\n",
    "    else:\n",
    "        df[col_names] = df[col_names].fillna(fill_values)\n",
    "        df_test[col_names] = df_test[col_names].fillna(fill_values)"
   ]
  },
  {
   "cell_type": "code",
   "execution_count": 310,
   "metadata": {},
   "outputs": [
    {
     "name": "stdout",
     "output_type": "stream",
     "text": [
      "      MasVnrArea MasVnrType\n",
      "234          NaN        NaN\n",
      "529          NaN        NaN\n",
      "650          NaN        NaN\n",
      "936          NaN        NaN\n",
      "973          NaN        NaN\n",
      "977          NaN        NaN\n",
      "1243         NaN        NaN\n",
      "1278         NaN        NaN\n"
     ]
    }
   ],
   "source": [
    "# let's consider Masonry Veneer columns\n",
    "msvt = \"MasVnrType\"\n",
    "msva = \"MasVnrArea\"\n",
    "\n",
    "print(df[(df[msvt].isna()) | (df[msva].isna())][[msva, msvt]]) \n",
    "# we can see that type and are either both nan or both non-nan\n",
    "# a reasonable assumption is that there is no Masonry Veneer\n",
    "set_nan([msvt, msva], ['None', 0])"
   ]
  },
  {
   "cell_type": "code",
   "execution_count": 311,
   "metadata": {},
   "outputs": [
    {
     "name": "stdout",
     "output_type": "stream",
     "text": [
      "0    81\n",
      "Name: GarageArea, dtype: int64\n",
      "Series([], Name: GYb, dtype: int64)\n"
     ]
    }
   ],
   "source": [
    "# let's consider the garage columns\n",
    "gt = \"GarageType\"\n",
    "gf = \"GarageFinish\"\n",
    "gc = \"GarageCars\"\n",
    "ga = \"GarageArea\"\n",
    "gcond = \"GarageCond\"\n",
    "gqua = \"GarageQual\"\n",
    "\n",
    "g = [gt, gyb, gf, gc, ga, gcond, gqua]\n",
    "print(df[df[gt].isna() | df[gyb].isna() | df[gf].isna() | df[gcond].isna() | df[gqua].isna()][ga].value_counts())\n",
    "# if any of the garage features in a certain row is set to Nan, then its area is 0\n",
    "# which means there is no garage\n",
    "\n",
    "# let's first consider the Garage built year feature for such rows\n",
    "print(df[df[gt].isna() | df[gf].isna() | df[gcond].isna() | df[gqua].isna()][gyb].value_counts())\n",
    "\n",
    "set_nan(g, [\"NA\", 0, \"NA\", 0, 0, \"NA\", \"NA\"])\n",
    "\n",
    "garage_old_new = {gt: \"gt\", gf:\"gf\", gc:\"gc\", ga:\"ga\", gcond:\"gcond\", gqua:\"gqua\"}\n",
    "\n",
    "new_col_names(garage_old_new)\n",
    "\n",
    "gt = \"gt\"\n",
    "gf = \"gf\"\n",
    "gc = \"gc\"\n",
    "ga = \"ga\"\n",
    "gcond = \"gcond\"\n",
    "gqua = \"gqua\"\n"
   ]
  },
  {
   "cell_type": "code",
   "execution_count": 312,
   "metadata": {},
   "outputs": [
    {
     "name": "stdout",
     "output_type": "stream",
     "text": [
      "0    37\n",
      "Name: bSF1, dtype: int64\n"
     ]
    }
   ],
   "source": [
    "# let's consider the basement nan-values\n",
    "bqua = \"BsmtQual\"\n",
    "bcond = \"BsmtCond\"\n",
    "bexp = \"BsmtExposure\"\n",
    "bf2 = \"BsmtFinType2\"\n",
    "bf1 = \"BsmtFinType1\"\n",
    "baf1 = \"bSF1\"\n",
    "baf2 = \"bSF2\"\n",
    "\n",
    "# BsmtQual         37\n",
    "# BsmtCond         37\n",
    "# BsmtExposure     38\n",
    "# BsmtFinType1     37\n",
    "# BsmtFinType2     38\n",
    "\n",
    "print(df[df[bqua].isna() & df[bcond].isna() & df[bexp].isna() & df[bf1].isna() ][baf1].value_counts())\n",
    "# we can assume that Nan values for each of these basement features reflect No basement\n",
    "\n",
    "set_nan([bqua, bcond, bexp, bf1, bf2], [\"NA\"] * 5)\n",
    "# change the basement's features \n",
    "\n",
    "basement_new_old = {bqua: \"bqua\", bcond: \"bcond\", bexp: \"bexp\", bf1:\"bf1\", bf2: \"bf2\"}\n",
    "new_col_names(basement_new_old)\n",
    "\n",
    "bqua = \"bqua\"\n",
    "bcond = \"bcond\"\n",
    "bexp = \"bexp\"\n",
    "bf2 = \"bf2\"\n",
    "bf1 = \"bf1\"\n",
    "baf1 = \"baf1\"\n",
    "baf2 = \"baf2\"\n"
   ]
  },
  {
   "cell_type": "code",
   "execution_count": 313,
   "metadata": {},
   "outputs": [
    {
     "name": "stdout",
     "output_type": "stream",
     "text": [
      "0    690\n",
      "Name: Fireplaces, dtype: int64\n",
      "SBrkr    1334\n",
      "FuseA      94\n",
      "FuseF      27\n",
      "FuseP       3\n",
      "Mix         1\n",
      "Name: Electrical, dtype: int64\n"
     ]
    }
   ],
   "source": [
    "# let's check the rest real quick\n",
    "# LotFrontage     259\n",
    "# Electrical        1\n",
    "# FireplaceQu     690\n",
    "\n",
    "firequa = \"FireplaceQu\"\n",
    "firep = \"Fireplaces\"\n",
    "print(df[df[firequa].isna()][firep].value_counts())\n",
    "# so nan values refer to NOn existing fire places\n",
    "set_nan(firequa, \"NA\")\n",
    "\n",
    "e = \"Electrical\"\n",
    "print(df[e].value_counts())\n",
    "lf = \"LotFrontage\"\n",
    "# we can assume that the only missing value is SBrkr with a high statistical possibility\n",
    "# the simplest solution for LotFrontage is to nan values to 0\n",
    "set_nan([e, lf], [\"SBrkr\", 0])\n",
    "\n",
    "fire_new_old = {firequa:\"firequa\", firep:\"firep\"}\n",
    "new_col_names(fire_new_old)\n",
    "\n",
    "firequa = \"firequa\"\n",
    "firep = \"firep\"\n"
   ]
  },
  {
   "cell_type": "code",
   "execution_count": 314,
   "metadata": {},
   "outputs": [
    {
     "name": "stdout",
     "output_type": "stream",
     "text": [
      "0.0\n"
     ]
    }
   ],
   "source": [
    "print(df[df.isna()].sum().sum())"
   ]
  },
  {
   "cell_type": "markdown",
   "metadata": {},
   "source": [
    "## Encode the categorial features"
   ]
  },
  {
   "cell_type": "code",
   "execution_count": 315,
   "metadata": {},
   "outputs": [],
   "source": [
    "# first let's consider once again categorical and numerical features\n",
    "non_num_cols = df.select_dtypes([object_type, cat_type]).columns\n",
    "# print(non_num_cols)\n",
    "num_cols = df.select_dtypes(np.number).columns.values.tolist()\n",
    "# print(num_cols)\n"
   ]
  },
  {
   "cell_type": "code",
   "execution_count": 316,
   "metadata": {},
   "outputs": [],
   "source": [
    "# store the current state of the dataframes of later modifications\n",
    "df_cat = df.copy()\n",
    "df_t_cat = df_test.copy()"
   ]
  },
  {
   "cell_type": "code",
   "execution_count": 317,
   "metadata": {},
   "outputs": [],
   "source": [
    "# let's define the orders for each of the ordinal columns\n",
    "usual_levels = [\"NA\", \"Po\", \"Fa\", \"TA\", \"Gd\", \"Ex\"]\n",
    "\n",
    "ordered_levels = {\n",
    "    \"ExterQual\": usual_levels,\n",
    "    \"ExterCond\": usual_levels,\n",
    "    \"bqua\": usual_levels,\n",
    "    \"bcond\": usual_levels,\n",
    "    \"HeatingQC\": usual_levels,\n",
    "    \"KitchenQual\": usual_levels,\n",
    "    \"firequa\": usual_levels,\n",
    "    \"gqua\": usual_levels,\n",
    "    \"gcond\": usual_levels,\n",
    "    \"LotShape\": [\"Reg\", \"IR1\", \"IR2\", \"IR3\"],\n",
    "    \"LandSlope\": [\"Sev\", \"Mod\", \"Gtl\"],\n",
    "    \"bexp\": [\"NA\", \"No\", \"Mn\", \"Av\", \"Gd\"],\n",
    "    \"bf1\": [\"NA\", \"Unf\", \"LwQ\", \"Rec\", \"BLQ\", \"ALQ\", \"GLQ\"],\n",
    "    \"bf2\": [\"NA\", \"Unf\", \"LwQ\", \"Rec\", \"BLQ\", \"ALQ\", \"GLQ\"],\n",
    "    \"Functional\": [\"Sal\", \"Sev\", \"Maj1\", \"Maj2\", \"Mod\", \"Min2\", \"Min1\", \"Typ\"],\n",
    "    \"gf\": [\"NA\", \"Unf\", \"RFn\", \"Fin\"],\n",
    "    \"PavedDrive\": [\"N\", \"P\", \"Y\"],\n",
    "    \"Utilities\": [\"NoSeWa\", \"NoSewr\", \"AllPub\"],\n",
    "    \"CentralAir\": [\"N\", \"Y\"],\n",
    "    \"Electrical\": [\"Mix\", \"FuseP\", \"FuseF\", \"FuseA\", \"SBrkr\"],\n",
    "}"
   ]
  },
  {
   "cell_type": "code",
   "execution_count": 318,
   "metadata": {},
   "outputs": [],
   "source": [
    "# let's encode ordinal data\n",
    "def cat_to_ord(col:list, categories:list, ordered:bool=True):\n",
    "    global df, df_test\n",
    "    final_cat = categories if ordered else categories[::-1]\n",
    "    df[col] = df[col].apply(dict(zip(final_cat, range(0, len(final_cat)))).get)\n",
    "    df_test[col] = df_test[col].apply(dict(zip(final_cat, range(0, len(final_cat)))).get)\n",
    "\n",
    "\n",
    "for k, v in ordered_levels.items():\n",
    "    cat_to_ord(k, v)"
   ]
  },
  {
   "cell_type": "code",
   "execution_count": 319,
   "metadata": {},
   "outputs": [
    {
     "name": "stdout",
     "output_type": "stream",
     "text": [
      "3    906\n",
      "4    488\n",
      "5     52\n",
      "2     14\n",
      "Name: ExterQual, dtype: int64\n",
      "3    1282\n",
      "4     146\n",
      "2      28\n",
      "5       3\n",
      "1       1\n",
      "Name: ExterCond, dtype: int64\n",
      "3    649\n",
      "4    618\n",
      "5    121\n",
      "0     37\n",
      "2     35\n",
      "Name: bqua, dtype: int64\n",
      "3    1311\n",
      "4      65\n",
      "2      45\n",
      "0      37\n",
      "1       2\n",
      "Name: bcond, dtype: int64\n",
      "5    741\n",
      "3    428\n",
      "4    241\n",
      "2     49\n",
      "1      1\n",
      "Name: HeatingQC, dtype: int64\n",
      "3    735\n",
      "4    586\n",
      "5    100\n",
      "2     39\n",
      "Name: KitchenQual, dtype: int64\n",
      "0    690\n",
      "4    380\n",
      "3    313\n",
      "2     33\n",
      "5     24\n",
      "1     20\n",
      "Name: firequa, dtype: int64\n",
      "3    1311\n",
      "0      81\n",
      "2      48\n",
      "4      14\n",
      "5       3\n",
      "1       3\n",
      "Name: gqua, dtype: int64\n",
      "3    1326\n",
      "0      81\n",
      "2      35\n",
      "4       9\n",
      "1       7\n",
      "5       2\n",
      "Name: gcond, dtype: int64\n",
      "0    925\n",
      "1    484\n",
      "2     41\n",
      "3     10\n",
      "Name: LotShape, dtype: int64\n",
      "2    1382\n",
      "1      65\n",
      "0      13\n",
      "Name: LandSlope, dtype: int64\n",
      "1    953\n",
      "3    221\n",
      "4    134\n",
      "2    114\n",
      "0     38\n",
      "Name: bexp, dtype: int64\n",
      "1    430\n",
      "6    418\n",
      "5    220\n",
      "4    148\n",
      "3    133\n",
      "2     74\n",
      "0     37\n",
      "Name: bf1, dtype: int64\n",
      "1    1256\n",
      "3      54\n",
      "2      46\n",
      "0      38\n",
      "4      33\n",
      "5      19\n",
      "6      14\n",
      "Name: bf2, dtype: int64\n",
      "7    1360\n",
      "5      34\n",
      "6      31\n",
      "4      15\n",
      "2      14\n",
      "3       5\n",
      "1       1\n",
      "Name: Functional, dtype: int64\n",
      "1    605\n",
      "2    422\n",
      "3    352\n",
      "0     81\n",
      "Name: gf, dtype: int64\n",
      "2    1340\n",
      "0      90\n",
      "1      30\n",
      "Name: PavedDrive, dtype: int64\n",
      "2    1459\n",
      "0       1\n",
      "Name: Utilities, dtype: int64\n",
      "1    1365\n",
      "0      95\n",
      "Name: CentralAir, dtype: int64\n",
      "4    1335\n",
      "3      94\n",
      "2      27\n",
      "1       3\n",
      "0       1\n",
      "Name: Electrical, dtype: int64\n"
     ]
    }
   ],
   "source": [
    "for k in ordered_levels.keys():\n",
    "    print(df[k].value_counts())"
   ]
  },
  {
   "cell_type": "code",
   "execution_count": 320,
   "metadata": {},
   "outputs": [],
   "source": [
    "# let's encode non ordinal data using the label encoder\n",
    "from sklearn.preprocessing import LabelEncoder\n",
    "non_ord_cat = [cat for cat in non_num_cols if cat not in ordered_levels.keys()]\n",
    "\n",
    "le = LabelEncoder()\n",
    "\n",
    "for col in non_ord_cat:\n",
    "    df[col] = le.fit_transform(df[col].values)    \n",
    "\n",
    "# changing some column names for ease of manipulation\n",
    "new_col_names({\"TotalBsmtSF\": \"bSF\", \"bubf\": \"b_unfSF\"})"
   ]
  },
  {
   "cell_type": "markdown",
   "metadata": {},
   "source": [
    "## FeatureEngineering\n",
    "In this section we will work on improving the performance by creating a number of synthetic features out of the given ones. "
   ]
  },
  {
   "cell_type": "code",
   "execution_count": 321,
   "metadata": {},
   "outputs": [],
   "source": [
    "# let's save the dataframe before introducing any new feature\n",
    "df_base = df.copy()\n",
    "df_test_base = df_test.copy()"
   ]
  },
  {
   "cell_type": "markdown",
   "metadata": {},
   "source": [
    "### Baseline performance\n",
    "Creating a baseline model with the initial (left) features gives me a ground on which I can base my next decisions. I will use the same performance metric as in the competition. The baseline model would be a sophisticated RandomForest model."
   ]
  },
  {
   "cell_type": "code",
   "execution_count": 322,
   "metadata": {},
   "outputs": [],
   "source": [
    "# definining the cross validation procedure\n",
    "from sklearn.model_selection import KFold\n",
    "n_splits = 5 \n",
    "random_state = 3\n",
    "shuffle = True\n",
    "kf = KFold(n_splits=n_splits, random_state=random_state, shuffle=shuffle)"
   ]
  },
  {
   "cell_type": "code",
   "execution_count": 323,
   "metadata": {},
   "outputs": [
    {
     "name": "stdout",
     "output_type": "stream",
     "text": [
      "['accuracy', 'adjusted_mutual_info_score', 'adjusted_rand_score', 'average_precision', 'balanced_accuracy', 'completeness_score', 'explained_variance', 'f1', 'f1_macro', 'f1_micro', 'f1_samples', 'f1_weighted', 'fowlkes_mallows_score', 'homogeneity_score', 'jaccard', 'jaccard_macro', 'jaccard_micro', 'jaccard_samples', 'jaccard_weighted', 'matthews_corrcoef', 'max_error', 'mutual_info_score', 'neg_brier_score', 'neg_log_loss', 'neg_mean_absolute_error', 'neg_mean_absolute_percentage_error', 'neg_mean_gamma_deviance', 'neg_mean_poisson_deviance', 'neg_mean_squared_error', 'neg_mean_squared_log_error', 'neg_median_absolute_error', 'neg_root_mean_squared_error', 'normalized_mutual_info_score', 'precision', 'precision_macro', 'precision_micro', 'precision_samples', 'precision_weighted', 'r2', 'rand_score', 'recall', 'recall_macro', 'recall_micro', 'recall_samples', 'recall_weighted', 'roc_auc', 'roc_auc_ovo', 'roc_auc_ovo_weighted', 'roc_auc_ovr', 'roc_auc_ovr_weighted', 'top_k_accuracy', 'v_measure_score']\n"
     ]
    }
   ],
   "source": [
    "print(sklearn.metrics.get_scorer_names())"
   ]
  },
  {
   "cell_type": "code",
   "execution_count": 324,
   "metadata": {},
   "outputs": [],
   "source": [
    "# the main score of the competition is the square of log error squared\n",
    "# let's define a function to calculate a model's performance according to this metric\n",
    "scoring = \"neg_mean_squared_error\"\n",
    "from sklearn.model_selection import cross_val_score\n",
    "from xgboost import XGBRegressor as xgr\n",
    "def model_performance(X, y, model=xgr(seed=0)):\n",
    "    global kf, scoring\n",
    "    log_y = np.log(y)\n",
    "    score = cross_val_score(model, X, log_y, cv=5, scoring=scoring)\n",
    "    return np.sqrt(-score.mean()) "
   ]
  },
  {
   "cell_type": "code",
   "execution_count": 325,
   "metadata": {},
   "outputs": [
    {
     "name": "stdout",
     "output_type": "stream",
     "text": [
      "0.13672205323313016\n"
     ]
    }
   ],
   "source": [
    "X = df.copy()\n",
    "y = X.pop(Y)\n",
    "\n",
    "from sklearn.ensemble import RandomForestRegressor\n",
    "\n",
    "rf_base = RandomForestRegressor(max_depth=5, n_estimators=100, random_state=3)\n",
    "base_score = model_performance(X, y)\n",
    "print(base_score)"
   ]
  },
  {
   "cell_type": "markdown",
   "metadata": {},
   "source": [
    "### Informative features: mutual information\n",
    "The mutual information is quite a powerful and general technique to determine the relevance of features with respect to the target variable.\n"
   ]
  },
  {
   "cell_type": "code",
   "execution_count": 326,
   "metadata": {},
   "outputs": [],
   "source": [
    "from sklearn.feature_selection import mutual_info_regression\n",
    "\n",
    "def make_mi_scores(X, y):\n",
    "    X = X.copy()\n",
    "    # discrete features are the ones with type int\n",
    "    discrete_features = [pd.api.types.is_integer_dtype(t) for t in X.dtypes]\n",
    "\n",
    "    mi_scores = mutual_info_regression(X, y, discrete_features=discrete_features, random_state=0)\n",
    "    mi_scores = pd.Series(mi_scores, name=\"MI Scores\", index=X.columns)\n",
    "    mi_scores = mi_scores.sort_values(ascending=False)\n",
    "    return mi_scores\n",
    "\n",
    "\n",
    "def plot_mi_scores(scores):\n",
    "    scores = scores.sort_values(ascending=True)\n",
    "    width = np.arange(len(scores))\n",
    "    ticks = list(scores.index)\n",
    "    plt.barh(width, scores)\n",
    "    plt.yticks(width, ticks)\n",
    "    plt.title(\"Mutual Information Scores\")"
   ]
  },
  {
   "cell_type": "code",
   "execution_count": 327,
   "metadata": {},
   "outputs": [
    {
     "data": {
      "text/plain": [
       "qua             5.786503e-01\n",
       "Neighborhood    5.253900e-01\n",
       "ga              4.927946e-01\n",
       "GrLivArea       4.328080e-01\n",
       "Yb              4.087151e-01\n",
       "                    ...     \n",
       "Condition2      2.664787e-03\n",
       "3SsnPorch       7.615664e-04\n",
       "Street          3.666896e-04\n",
       "Utilities       1.887379e-15\n",
       "MoSold          0.000000e+00\n",
       "Name: MI Scores, Length: 73, dtype: float64"
      ]
     },
     "execution_count": 327,
     "metadata": {},
     "output_type": "execute_result"
    }
   ],
   "source": [
    "mi_scores = make_mi_scores(X, y)\n",
    "mi_scores"
   ]
  },
  {
   "cell_type": "code",
   "execution_count": 328,
   "metadata": {},
   "outputs": [],
   "source": [
    "# drop the all features that do not scroe higher than a certain predetermined threshold.\n",
    "mi_threshhold = 0.02\n",
    "\n",
    "irrelevant_feats = mi_scores[mi_scores < mi_threshhold].index.values.tolist()\n",
    "\n",
    "drop_cols(irrelevant_feats)"
   ]
  },
  {
   "cell_type": "code",
   "execution_count": 329,
   "metadata": {},
   "outputs": [
    {
     "name": "stdout",
     "output_type": "stream",
     "text": [
      "0.13585312167511115\n"
     ]
    }
   ],
   "source": [
    "X = df.copy()\n",
    "y = X.pop(Y) \n",
    "\n",
    "new_score = model_performance(X, y)\n",
    "print(new_score) # a very small gain is achieved out of removing the unformative features"
   ]
  },
  {
   "cell_type": "code",
   "execution_count": 330,
   "metadata": {},
   "outputs": [
    {
     "name": "stdout",
     "output_type": "stream",
     "text": [
      "qua             0.578650\n",
      "Neighborhood    0.525390\n",
      "ga              0.492795\n",
      "GrLivArea       0.432808\n",
      "Yb              0.408715\n",
      "bSF             0.399518\n",
      "LotArea         0.392427\n",
      "gc              0.360102\n",
      "bqua            0.331398\n",
      "ExterQual       0.325150\n",
      "KitchenQual     0.322472\n",
      "1stFlrSF        0.283265\n",
      "mss             0.278183\n",
      "Yr              0.275659\n",
      "FullBath        0.273156\n",
      "gf              0.262945\n",
      "GYb             0.259218\n",
      "LotFrontage     0.216092\n",
      "firequa         0.209348\n",
      "TotRmsAbvGrd    0.207962\n",
      "Name: MI Scores, dtype: float64\n"
     ]
    }
   ],
   "source": [
    "print(mi_scores.head(20))"
   ]
  },
  {
   "cell_type": "markdown",
   "metadata": {},
   "source": [
    "#### Quality feature\n",
    "This subsection I try to understand the Quality feature and its relations to the other features"
   ]
  },
  {
   "cell_type": "code",
   "execution_count": 331,
   "metadata": {},
   "outputs": [],
   "source": [
    "# let's create a a function that returns three lists: num, ord, cat features\n",
    "def feature_types():\n",
    "    global df, df_test\n",
    "    # using the dataframe version before the numerical encoding\n",
    "    num = df_cat.select_dtypes(np.number).columns.values.tolist()\n",
    "    ord = [k for k in ordered_levels.keys()]\n",
    "    # filter the columns that are still in the dataframe\n",
    "    num = [col for col in num if col in df.columns]\n",
    "    ord = [col for col in ord if col in df.columns]\n",
    "    # the columns left in df that do not belong to the previous two are categorical\n",
    "    cat = [k for k in df.columns if k not in ord and k not in num]\n",
    "    return num, ord, cat"
   ]
  },
  {
   "cell_type": "code",
   "execution_count": 332,
   "metadata": {},
   "outputs": [],
   "source": [
    "num_cols, ord_cols, cat_cols = feature_types()"
   ]
  },
  {
   "cell_type": "code",
   "execution_count": 333,
   "metadata": {},
   "outputs": [
    {
     "name": "stdout",
     "output_type": "stream",
     "text": [
      "MasVnrArea      0.407252\n",
      "TotRmsAbvGrd    0.427452\n",
      "HeatingQC       0.457083\n",
      "1stFlrSF        0.476224\n",
      "firequa         0.490788\n",
      "FullBath        0.550600\n",
      "Yr              0.550684\n",
      "gf              0.556863\n",
      "ga              0.562022\n",
      "Yb              0.572323\n",
      "GrLivArea       0.593007\n",
      "gc              0.600671\n",
      "bqua            0.629379\n",
      "KitchenQual     0.673331\n",
      "ExterQual       0.726278\n",
      "y               0.790982\n",
      "qua             1.000000\n",
      "Name: qua, dtype: float64\n"
     ]
    }
   ],
   "source": [
    "num_or_ordinal = num_cols  + ord_cols\n",
    "corr_with_qua = df.loc[:, num_or_ordinal].corr()[qua] \n",
    "corr_with_qua = corr_with_qua[(corr_with_qua > 0.4) | (corr_with_qua < -0.4)]\n",
    "print(corr_with_qua.sort_values())"
   ]
  },
  {
   "cell_type": "code",
   "execution_count": 334,
   "metadata": {},
   "outputs": [],
   "source": [
    "def plot_scatters(col_names, x=None):\n",
    "    global df, df_test\n",
    "    if x is None:\n",
    "        x = df.index.values.tolist()\n",
    "    for col in col_names:\n",
    "        plt.scatter(x=x, y=df[col].values)\n",
    "        \n",
    "    plt.title(str(col_names) + \" variation\")\n",
    "    plt.show()"
   ]
  },
  {
   "cell_type": "code",
   "execution_count": 335,
   "metadata": {},
   "outputs": [],
   "source": [
    "agg_funcs = ['count', np.mean, np.median, np.min, np.max]"
   ]
  },
  {
   "cell_type": "code",
   "execution_count": 336,
   "metadata": {},
   "outputs": [
    {
     "name": "stdout",
     "output_type": "stream",
     "text": [
      "state    0.565294\n",
      "y        1.000000\n",
      "qua      0.790982\n",
      "cond    -0.077856\n",
      "Name: y, dtype: float64\n",
      "state    0.746668\n",
      "y        1.000000\n",
      "qua      0.790982\n",
      "cond    -0.077856\n",
      "Name: y, dtype: float64\n"
     ]
    }
   ],
   "source": [
    "# let's consider a new feature: qua * cond\n",
    "df['state'] = df[qua] * df[cond]\n",
    "# print(df['state'].value_counts().sort_index())\n",
    "print(df[['state', Y, qua, cond]].corr()[Y])\n",
    "# as the condition is not as significant as the quality, it might be worth trying a different tranformation\n",
    "df['state'] = df[qua] *  np.floor(np.sqrt(df[cond]))\n",
    "print(df[['state', Y, qua, cond]].corr()[Y])\n",
    "# apparently this feature makes the best out of both features let's verify its effect with and without the old features"
   ]
  },
  {
   "cell_type": "code",
   "execution_count": 337,
   "metadata": {},
   "outputs": [
    {
     "name": "stdout",
     "output_type": "stream",
     "text": [
      "0.1387210980691614\n"
     ]
    }
   ],
   "source": [
    "X = df.copy()\n",
    "y = X.pop(Y)\n",
    "print(model_performance(X, y))\n",
    "# there is some slight improvement of 0.01 \n",
    "# # the feature is worth keeping\n",
    "df_test['state'] = df_test[qua] *  np.floor(np.sqrt(df_test[cond]))\n"
   ]
  },
  {
   "cell_type": "markdown",
   "metadata": {},
   "source": [
    "### Garage features\n",
    "Garage is clearly an informative element. Some more investigation is needed."
   ]
  },
  {
   "cell_type": "code",
   "execution_count": 338,
   "metadata": {},
   "outputs": [
    {
     "name": "stdout",
     "output_type": "stream",
     "text": [
      "             gt       GYb        gf        gc        ga      gqua     gcond\n",
      "gt     1.000000 -0.457129 -0.585905 -0.445903 -0.411341 -0.461255 -0.472196\n",
      "GYb   -0.457129  1.000000  0.489831  0.597991  0.560766  0.946611  0.949418\n",
      "gf    -0.585905  0.489831  1.000000  0.579729  0.516428  0.482399  0.481813\n",
      "gc    -0.445903  0.597991  0.579729  1.000000  0.882475  0.576622  0.568408\n",
      "ga    -0.411341  0.560766  0.516428  0.882475  1.000000  0.558938  0.547259\n",
      "gqua  -0.461255  0.946611  0.482399  0.576622  0.558938  1.000000  0.959172\n",
      "gcond -0.472196  0.949418  0.481813  0.568408  0.547259  0.959172  1.000000\n"
     ]
    }
   ],
   "source": [
    "garage_cols = [col for col in df.columns if col.lower().startswith(\"g\")]\n",
    "garage_cols.remove(\"GrLivArea\")\n",
    "print(df[garage_cols].corr())"
   ]
  },
  {
   "cell_type": "code",
   "execution_count": 339,
   "metadata": {},
   "outputs": [
    {
     "name": "stdout",
     "output_type": "stream",
     "text": [
      "Detchd     191\n",
      "NA          81\n",
      "Attchd      30\n",
      "2Types       2\n",
      "CarPort      2\n",
      "BuiltIn      2\n",
      "Name: gt, dtype: int64\n"
     ]
    }
   ],
   "source": [
    "# let's inspect gt, GYB, and gf\n",
    "# for c in [gt, gyb, gf]:\n",
    "#     print(df_cat[c].value_counts())\n",
    "\n",
    "print(df_cat[(df_cat[gyb] != df_cat[yb]) & (df_cat[gyb]!= df_cat[yr])][gt].value_counts())"
   ]
  },
  {
   "cell_type": "code",
   "execution_count": 340,
   "metadata": {},
   "outputs": [
    {
     "name": "stdout",
     "output_type": "stream",
     "text": [
      "     count         mean  median    amin    amax                      mode\n",
      "       GYb          GYb     GYb     GYb     GYb                       GYb\n",
      "gqua                                                                     \n",
      "0       81     0.000000     0.0     0.0     0.0                       0.0\n",
      "1        3  1918.666667  1920.0  1910.0  1926.0  [1910.0, 1920.0, 1926.0]\n",
      "2       48  1933.937500  1930.5  1908.0  1977.0                    1920.0\n",
      "3     1311  1980.254005  1982.0  1906.0  2010.0                    2005.0\n",
      "4       14  1980.928571  1985.0  1939.0  2006.0                    1990.0\n",
      "5        3  1989.000000  1993.0  1966.0  2008.0  [1966.0, 1993.0, 2008.0]\n",
      "      count         mean  median    amin    amax              mode\n",
      "        GYb          GYb     GYb     GYb     GYb               GYb\n",
      "gcond                                                             \n",
      "0        81     0.000000     0.0     0.0     0.0               0.0\n",
      "1         7  1922.714286  1920.0  1910.0  1940.0            1910.0\n",
      "2        35  1939.142857  1932.0  1914.0  1981.0            1920.0\n",
      "3      1326  1979.895928  1981.0  1906.0  2010.0            2005.0\n",
      "4         9  1972.555556  1983.0  1910.0  1997.0  [1966.0, 1990.0]\n",
      "5         2  1987.000000  1987.0  1966.0  2008.0  [1966.0, 2008.0]\n",
      "   count      mean median amin amax mode\n",
      "    gqua      gqua   gqua gqua gqua gqua\n",
      "gf                                      \n",
      "0     81  0.000000      0    0    0    0\n",
      "1    605  2.927273      3    1    5    3\n",
      "2    422  3.016588      3    3    4    3\n",
      "3    352  3.008523      3    2    5    3\n",
      "   count      mean median  amin  amax  mode\n",
      "   gcond     gcond  gcond gcond gcond gcond\n",
      "gf                                         \n",
      "0     81  0.000000      0     0     0     0\n",
      "1    605  2.928926      3     1     5     3\n",
      "2    422  3.011848      3     3     4     3\n",
      "3    352  3.005682      3     2     5     3\n"
     ]
    }
   ],
   "source": [
    "print(pd.pivot_table(df, values=gyb, index=gqua, aggfunc=agg_funcs + [pd.Series.mode]))\n",
    "print(pd.pivot_table(df, values=gyb, index=gcond, aggfunc=agg_funcs + [pd.Series.mode]))\n",
    "# we can see that the older the more likely for its quality as well as condition to degrade\n",
    "# let's try to incorporate this idea\n",
    "print(pd.pivot_table(df, values=gqua, index=gf, aggfunc=agg_funcs + [pd.Series.mode]))\n",
    "print(pd.pivot_table(df, values=gcond, index=gf, aggfunc=agg_funcs + [pd.Series.mode]))\n",
    "\n",
    "# the gf seems of little to no significance"
   ]
  },
  {
   "cell_type": "code",
   "execution_count": 341,
   "metadata": {},
   "outputs": [
    {
     "name": "stdout",
     "output_type": "stream",
     "text": [
      "     count      mean median amin amax\n",
      "       qua       qua    qua  qua  qua\n",
      "gqua                                 \n",
      "0       81  4.604938    5.0    1    8\n",
      "1        3  5.333333    5.0    5    6\n",
      "2       48  5.166667    5.0    3    7\n",
      "3     1311  6.218917    6.0    2   10\n",
      "4       14  6.714286    6.5    5   10\n",
      "5        3  7.000000    6.0    5   10\n",
      "gqua     0.273839\n",
      "gcond    0.263191\n",
      "y        1.000000\n",
      "Name: y, dtype: float64\n",
      "y         1.000000\n",
      "gcond     0.263191\n",
      "gqua      0.273839\n",
      "gcond2    0.264539\n",
      "gstate    0.745916\n",
      "Name: y, dtype: float64\n",
      "gcond     0.075880\n",
      "gqua      0.051049\n",
      "gcond2    0.066109\n",
      "gstate    0.582603\n",
      "Name: MI Scores, dtype: float64\n"
     ]
    }
   ],
   "source": [
    "print(pd.pivot_table(df, index=gqua, values=qua, aggfunc=agg_funcs))\n",
    "print(df[[gqua, gcond, Y]].corr()[Y])\n",
    "# the new state of garage should be similar to the one created for the whole whouse\n",
    "# let's suggest the new state\n",
    "# 0, 1,2 -> 1/2 : quality is low anyway\n",
    "# 3 -> 1: only the quality matters in this case\n",
    "# in general quality is high, a better condition means a better state\n",
    "\n",
    "gcond2= \"gcond2\"\n",
    "def new_gcond(row):\n",
    "    row[gcond2] = 0\n",
    "    if row[gcond] in [0, 1, 2]:\n",
    "        row[gcond2] = 0.5\n",
    "    elif row[gcond] == 3:\n",
    "        row[gcond2] = 1\n",
    "    else:\n",
    "        row[gcond2] = 1.5\n",
    "    return row\n",
    "apply_functions(new_gcond)\n",
    "df['gstate'] = df[qua] * df[gcond2]\n",
    "print(df[[Y, gcond, gqua, gcond2, 'gstate']].corr()[Y]) \n",
    "# as we can see is highly correlated with the target variable\n",
    "# let's test the new feature\n",
    "X = df.copy()\n",
    "y = X.pop(Y)\n",
    "g_mi_scores =  make_mi_scores(X, y)[[gcond, gqua, gcond2, 'gstate']]\n",
    "print(g_mi_scores)"
   ]
  },
  {
   "cell_type": "code",
   "execution_count": 342,
   "metadata": {},
   "outputs": [
    {
     "name": "stdout",
     "output_type": "stream",
     "text": [
      "0.13894454542436763\n",
      "0.1388826442960222\n"
     ]
    }
   ],
   "source": [
    "# at the moment the new feature seems quite promising, let's inspect its effect on the performance\n",
    "print(model_performance(X, y))\n",
    "\n",
    "# let's try removing the different subsets of [gcon, gqua, gcond2]\n",
    "X1 = df.drop([gcond, gqua, gcond2], axis=1).copy()\n",
    "y1 = X1.pop(Y)\n",
    "print(model_performance(X1, y1))\n",
    "\n",
    "## uncomment the lines of code below to \n",
    "## see the performance with the different subsets of removed featurs\n",
    "\n",
    "# X2= df.drop([gqua, gcond2], axis=1).copy()\n",
    "# y2 = X2.pop(Y)\n",
    "# print(model_performance(X2, y2))\n",
    "\n",
    "# X3= df.drop([gcond, gcond2], axis=1).copy()\n",
    "# y3 = X3.pop(Y)\n",
    "# print(model_performance(X3, y3))\n",
    "\n",
    "# X4= df.drop([gcond, gqua], axis=1).copy()\n",
    "# y4 = X4.pop(Y)\n",
    "# print(model_performance(X4, y4))\n",
    "\n",
    "# X5= df.drop([gcond], axis=1).copy()\n",
    "# y5 = X5.pop(Y)\n",
    "# print(model_performance(X5, y5))\n",
    "\n",
    "# X6= df.drop([gcond2], axis=1).copy()\n",
    "# y6 = X6.pop(Y)\n",
    "# print(model_performance(X6, y6))\n",
    "\n",
    "# X7= df.drop([gqua], axis=1).copy()\n",
    "# y7 = X7.pop(Y)\n",
    "# print(model_performance(X7, y7))\n",
    "\n",
    "## even though the performance did not improve, the mi scores as well a\n",
    "## as the correlation scores are solid proofs of the usefulness of this feature\n"
   ]
  },
  {
   "cell_type": "code",
   "execution_count": 343,
   "metadata": {},
   "outputs": [
    {
     "data": {
      "image/png": "[encoded data removed]",
      "text/plain": [
       "<Figure size 640x480 with 1 Axes>"
      ]
     },
     "metadata": {},
     "output_type": "display_data"
    }
   ],
   "source": [
    "min_gyb = df[gyb].min()\n",
    "max_gyb = df[gyb].max()\n",
    "# there are two possible ways, either consider age divided by the number of garages\n",
    "# or consider the square root or log of the age\n",
    "gage = \"gage\"\n",
    "df[gage] = np.log(np.sqrt((max_gyb + 2) - df[gyb]))\n",
    "\n",
    "gage_counts = df[gage].value_counts()\n",
    "plt.bar(gage_counts.index.values, gage_counts.values)\n",
    "plt.show()\n",
    "# the gage feature is promising\n",
    " "
   ]
  },
  {
   "cell_type": "code",
   "execution_count": 344,
   "metadata": {},
   "outputs": [],
   "source": [
    "# let's drop gt, gf for the moment, as they do not seem to be as informative \n",
    "drop_cols([gt, gf])"
   ]
  },
  {
   "cell_type": "code",
   "execution_count": 345,
   "metadata": {},
   "outputs": [
    {
     "name": "stdout",
     "output_type": "stream",
     "text": [
      "['GYb', 'gc', 'ga', 'gqua', 'gcond', 'gcond2', 'gstate', 'gage']\n"
     ]
    }
   ],
   "source": [
    "garage_cols = [col for col in df.columns if col.lower().startswith(\"g\")]\n",
    "garage_cols.remove(\"GrLivArea\")\n",
    "print(garage_cols )"
   ]
  },
  {
   "cell_type": "code",
   "execution_count": 346,
   "metadata": {},
   "outputs": [],
   "source": [
    "df[ga] = df_base[ga]"
   ]
  },
  {
   "cell_type": "code",
   "execution_count": 349,
   "metadata": {},
   "outputs": [
    {
     "name": "stdout",
     "output_type": "stream",
     "text": [
      "          ga        gc         y\n",
      "ga  1.000000  0.882475  0.623431\n",
      "gc  0.882475  1.000000  0.640409\n",
      "y   0.623431  0.640409  1.000000\n",
      "    count        mean median amin  amax\n",
      "       ga          ga     ga   ga    ga\n",
      "gc                                     \n",
      "0.0    81    0.000000      0    0     0\n",
      "1.0   369  300.517615    288  160   924\n",
      "2.0   824  519.797330    506  320  1418\n",
      "3.0   181  811.574586    818  478  1390\n",
      "4.0     5  890.400000    864  480  1356\n",
      "             GYb        gc        ga      gqua     gcond    gcond2    gstate  \\\n",
      "GYb     1.000000  0.603395  0.560766  0.963460  0.960605  0.771366  0.374083   \n",
      "gc      0.603395  1.000000  0.882971  0.594054  0.585719  0.494980  0.634716   \n",
      "ga      0.560766  0.882971  1.000000  0.560582  0.551967  0.488915  0.572247   \n",
      "gqua    0.963460  0.594054  0.560582  1.000000  0.970609  0.827777  0.386440   \n",
      "gcond   0.960605  0.585719  0.551967  0.970609  1.000000  0.888847  0.400512   \n",
      "gcond2  0.771366  0.494980  0.488915  0.827777  0.888847  1.000000  0.444532   \n",
      "gstate  0.374083  0.634716  0.572247  0.386440  0.400512  0.444532  1.000000   \n",
      "gage   -0.779102 -0.766572 -0.717120 -0.763413 -0.755912 -0.648358 -0.640208   \n",
      "\n",
      "            gage  \n",
      "GYb    -0.779102  \n",
      "gc     -0.766572  \n",
      "ga     -0.717120  \n",
      "gqua   -0.763413  \n",
      "gcond  -0.755912  \n",
      "gcond2 -0.648358  \n",
      "gstate -0.640208  \n",
      "gage    1.000000  \n"
     ]
    }
   ],
   "source": [
    "# let's consider the different relation between the two garage areas\n",
    "print(df[[ga, gc, Y]].corr())\n",
    "print(pd.pivot_table(df, values=ga, index=gc, aggfunc=agg_funcs))\n",
    "\n",
    "# there is practically no difference between having 3 and 4 car capacity in a garage\n",
    "# let's experiment with setting the 5 4-car capacity garages to 3\n",
    "replace_values([gc, gc], [{4:3}, {5: 3}])\n",
    "print(df[garage_cols].corr())"
   ]
  },
  {
   "cell_type": "code",
   "execution_count": 350,
   "metadata": {},
   "outputs": [],
   "source": [
    "# let's investigate the effect of the area within the garage with the same car capacity\n",
    "g1cap = df[df[gc] == 1]\n",
    "g2cap = df[df[gc] == 2]\n",
    "g3cap = df[df[gc] == 3]\n",
    "gs = [g1cap, g2cap, g3cap]"
   ]
  },
  {
   "cell_type": "code",
   "execution_count": 351,
   "metadata": {},
   "outputs": [
    {
     "name": "stdout",
     "output_type": "stream",
     "text": [
      "y     1.000000\n",
      "ga    0.025078\n",
      "Name: y, dtype: float64\n",
      "y     1.000000\n",
      "ga    0.209404\n",
      "Name: y, dtype: float64\n",
      "y     1.000000\n",
      "ga    0.053138\n",
      "Name: y, dtype: float64\n"
     ]
    }
   ],
   "source": [
    "for g in [g1cap, g2cap, g3cap]:\n",
    "    print(g.loc[:, [Y, ga]].corr()[Y])  # numerically a garage's area is not of much relevance given the capacity is either 1 or 3"
   ]
  },
  {
   "cell_type": "code",
   "execution_count": 352,
   "metadata": {},
   "outputs": [
    {
     "data": {
      "image/png": "[encoded data removed]",
      "text/plain": [
       "<Figure size 640x480 with 1 Axes>"
      ]
     },
     "metadata": {},
     "output_type": "display_data"
    }
   ],
   "source": [
    "gcs = [g1cap[ga].values, g2cap[ga].values, g3cap[ga].values]\n",
    "plt.boxplot(gcs)\n",
    "plt.show()    "
   ]
  },
  {
   "cell_type": "code",
   "execution_count": 356,
   "metadata": {},
   "outputs": [
    {
     "name": "stdout",
     "output_type": "stream",
     "text": [
      "\n"
     ]
    },
    {
     "name": "stderr",
     "output_type": "stream",
     "text": [
      "/tmp/ipykernel_7251/3049316836.py:15: SettingWithCopyWarning: \n",
      "A value is trying to be set on a copy of a slice from a DataFrame.\n",
      "Try using .loc[row_indexer,col_indexer] = value instead\n",
      "\n",
      "See the caveats in the documentation: https://pandas.pydata.org/pandas-docs/stable/user_guide/indexing.html#returning-a-view-versus-a-copy\n",
      "  g_no_out[ga] = np.log((g_no_out[ga]))\n",
      "/tmp/ipykernel_7251/3049316836.py:16: SettingWithCopyWarning: \n",
      "A value is trying to be set on a copy of a slice from a DataFrame.\n",
      "Try using .loc[row_indexer,col_indexer] = value instead\n",
      "\n",
      "See the caveats in the documentation: https://pandas.pydata.org/pandas-docs/stable/user_guide/indexing.html#returning-a-view-versus-a-copy\n",
      "  g_no_out[Y] = g_no_out[Y] / (10 ** 4)\n"
     ]
    },
    {
     "data": {
      "image/png": "[encoded data removed]",
      "text/plain": [
       "<Figure size 640x480 with 1 Axes>"
      ]
     },
     "metadata": {},
     "output_type": "display_data"
    },
    {
     "data": {
      "image/png": "[encoded data removed]",
      "text/plain": [
       "<Figure size 640x480 with 1 Axes>"
      ]
     },
     "metadata": {},
     "output_type": "display_data"
    },
    {
     "data": {
      "image/png": "[encoded data removed]",
      "text/plain": [
       "<Figure size 640x480 with 1 Axes>"
      ]
     },
     "metadata": {},
     "output_type": "display_data"
    }
   ],
   "source": [
    "import itertools \n",
    "\n",
    "# let's check the case of garage capacity\n",
    "ga_outliers = {1:[120, 450], 2: [250, 780], 3:[600, 1100]}\n",
    "print()\n",
    "# for g, out in zip(gs, ga_outliers):\n",
    "#     g_no_out = g[g[ga] <= out]\n",
    "#     g_no_out.plot(kind=\"scatter\", y=Y, x=ga, title='price by garage area for {}-car garages'.format(str(i)))\n",
    "#     i += 1\n",
    "    \n",
    "i = 1\n",
    "# let's try rendering the data to normal distribution\n",
    "for g, out in zip(gs, ga_outliers):\n",
    "    g_no_out = g[(g[ga] <= ga_outliers[out][1]) & (g[ga] >= ga_outliers[out][0])]\n",
    "    g_no_out[ga] = np.log((g_no_out[ga]))\n",
    "    g_no_out[Y] = g_no_out[Y] / (10 ** 4)\n",
    "    plt.bar(g_no_out[ga].values, g_no_out[Y].values)\n",
    "    plt.show()\n",
    "    \n",
    "ga_outliers[0] = [0.0, 0.0]"
   ]
  },
  {
   "cell_type": "code",
   "execution_count": 357,
   "metadata": {},
   "outputs": [],
   "source": [
    "def transform_garage_areas(row):\n",
    "    # ga_outliers[row[gc]][0]: represents the minimum (no -outlier) area associated with the capacity of the garage \n",
    "    row[gc] = int(row[gc])\n",
    "    row[ga] = max(ga_outliers[row[gc]][0], row[ga])\n",
    "    row[ga] = min(ga_outliers[row[gc]][1], row[ga])\n",
    "    row[ga] = np.log(np.sqrt(row[ga])) if row[ga] > 0 else 0\n",
    "    return row   \n",
    "apply_functions(transform_garage_areas)"
   ]
  },
  {
   "cell_type": "code",
   "execution_count": 358,
   "metadata": {},
   "outputs": [
    {
     "data": {
      "text/plain": [
       "<BarContainer object of 1460 artists>"
      ]
     },
     "execution_count": 358,
     "metadata": {},
     "output_type": "execute_result"
    },
    {
     "data": {
      "image/png": "[encoded data removed]",
      "text/plain": [
       "<Figure size 640x480 with 1 Axes>"
      ]
     },
     "metadata": {},
     "output_type": "display_data"
    }
   ],
   "source": [
    "plt.bar(df[ga].values, df[Y].values)"
   ]
  },
  {
   "cell_type": "code",
   "execution_count": 359,
   "metadata": {},
   "outputs": [
    {
     "name": "stdout",
     "output_type": "stream",
     "text": [
      "['gc', 'ga', 'gstate', 'gage']\n"
     ]
    }
   ],
   "source": [
    "# the garage area is to be dropped\n",
    "drop_cols([gcond2, gcond, gqua, gyb])\n",
    "garage_cols = [col for col in df.columns if col.lower().startswith(\"g\")]\n",
    "garage_cols.remove(\"GrLivArea\")\n",
    "print(garage_cols)"
   ]
  },
  {
   "cell_type": "code",
   "execution_count": 360,
   "metadata": {},
   "outputs": [
    {
     "name": "stdout",
     "output_type": "stream",
     "text": [
      "0.137012654323214\n"
     ]
    }
   ],
   "source": [
    "X = df.copy()\n",
    "y = X.pop(Y)\n",
    "print(model_performance(X, y))"
   ]
  },
  {
   "cell_type": "markdown",
   "metadata": {},
   "source": [
    "### Basement Features\n",
    "The large number of basement-related features requires a better investigation of the relation between them. Feature engineering could pay off well in this aspect of the problem\n"
   ]
  },
  {
   "cell_type": "code",
   "execution_count": 361,
   "metadata": {},
   "outputs": [
    {
     "name": "stdout",
     "output_type": "stream",
     "text": [
      "['mss' 'MSZoning' 'LotFrontage' 'LotArea' 'LotShape' 'LandContour'\n",
      " 'Neighborhood' 'Condition1' 'BldgType' 'HouseStyle' 'qua' 'cond' 'Yb'\n",
      " 'Yr' 'RoofStyle' 'Exterior1st' 'Exterior2nd' 'MasVnrType' 'MasVnrArea'\n",
      " 'ExterQual' 'Foundation' 'bqua' 'bcond' 'bexp' 'bf1' 'bSF1' 'bf2'\n",
      " 'b_unfSF' 'bSF' 'HeatingQC' 'CentralAir' 'Electrical' '1stFlrSF'\n",
      " '2ndFlrSF' 'GrLivArea' 'FullBath' 'HalfBath' 'BedroomAbvGr'\n",
      " 'KitchenAbvGr' 'KitchenQual' 'TotRmsAbvGrd' 'firep' 'firequa' 'gc' 'ga'\n",
      " 'PavedDrive' 'WoodDeckSF' 'OpenPorchSF' 'EnclosedPorch' 'ScreenPorch'\n",
      " 'SaleType' 'SaleCondition' 'y' 'state' 'gstate' 'gage']\n"
     ]
    }
   ],
   "source": [
    "print(df.columns.values)"
   ]
  },
  {
   "cell_type": "code",
   "execution_count": 362,
   "metadata": {},
   "outputs": [
    {
     "name": "stdout",
     "output_type": "stream",
     "text": [
      "['bqua', 'bcond', 'bexp', 'bf1', 'bSF1', 'bf2', 'b_unfSF', 'bSF']\n"
     ]
    }
   ],
   "source": [
    "new_col_names({\"TotalBsmtSF\": \"bSF\", \"bubf\": \"b_unfSF\"})\n",
    "bas_cols = [col for col in df.columns.values if col.lower().startswith(\"b\")]\n",
    "bas_cols.remove(\"BldgType\")\n",
    "bas_cols.remove( \"BedroomAbvGr\")\n",
    "print(bas_cols)"
   ]
  },
  {
   "cell_type": "markdown",
   "metadata": {},
   "source": [
    "#### Applying PCA on basement features\n",
    "Due to the large number (8 features for one aspect), complexity and (potential) importance of basement features, it is worth experimenting with some "
   ]
  },
  {
   "cell_type": "code",
   "execution_count": 363,
   "metadata": {},
   "outputs": [
    {
     "name": "stdout",
     "output_type": "stream",
     "text": [
      "3.0    1388\n",
      "0.0      37\n",
      "2.0      35\n",
      "Name: bqua, dtype: int64\n"
     ]
    },
    {
     "data": {
      "text/plain": [
       "3    649\n",
       "4    618\n",
       "5    121\n",
       "0     37\n",
       "2     35\n",
       "Name: bqua, dtype: int64"
      ]
     },
     "execution_count": 363,
     "metadata": {},
     "output_type": "execute_result"
    }
   ],
   "source": [
    "print(df[bqua].value_counts())\n",
    "df_base[bqua].value_counts()"
   ]
  },
  {
   "cell_type": "code",
   "execution_count": 285,
   "metadata": {},
   "outputs": [
    {
     "name": "stdout",
     "output_type": "stream",
     "text": [
      "3.0    1388\n",
      "0.0      37\n",
      "2.0      35\n",
      "Name: bqua, dtype: int64\n",
      "3.0    1376\n",
      "2.0      45\n",
      "0.0      37\n",
      "1.0       2\n",
      "Name: bcond, dtype: int64\n",
      "1.0    953\n",
      "3.0    355\n",
      "2.0    114\n",
      "0.0     38\n",
      "Name: bexp, dtype: int64\n",
      "3.0    501\n",
      "1.0    430\n",
      "6.0    418\n",
      "2.0     74\n",
      "0.0     37\n",
      "Name: bf1, dtype: int64\n",
      "0.0       467\n",
      "24.0       12\n",
      "16.0        9\n",
      "686.0       5\n",
      "662.0       5\n",
      "         ... \n",
      "1338.0      1\n",
      "1324.0      1\n",
      "1460.0      1\n",
      "328.0       1\n",
      "830.0       1\n",
      "Name: bSF1, Length: 637, dtype: int64\n",
      "1.0    1256\n",
      "3.0     106\n",
      "2.0      46\n",
      "0.0      38\n",
      "6.0      14\n",
      "Name: bf2, dtype: int64\n",
      "0.0       118\n",
      "728.0       9\n",
      "384.0       8\n",
      "600.0       7\n",
      "300.0       7\n",
      "         ... \n",
      "551.0       1\n",
      "1257.0      1\n",
      "605.0       1\n",
      "467.0       1\n",
      "136.0       1\n",
      "Name: b_unfSF, Length: 780, dtype: int64\n",
      "0.0       37\n",
      "864.0     35\n",
      "672.0     17\n",
      "912.0     15\n",
      "1040.0    14\n",
      "          ..\n",
      "1838.0     1\n",
      "1581.0     1\n",
      "707.0      1\n",
      "611.0      1\n",
      "1542.0     1\n",
      "Name: bSF, Length: 721, dtype: int64\n"
     ]
    }
   ],
   "source": [
    "# before applying the PCA, we need to check for outliers\n",
    "# for bcol in bas_cols:\n",
    "#     plt.boxplot(df[bcol].values)\n",
    "#     plt.show()\n",
    "for bcol in bas_cols:\n",
    "    print(df[bcol].value_counts())"
   ]
  },
  {
   "cell_type": "code",
   "execution_count": null,
   "metadata": {},
   "outputs": [],
   "source": [
    "print(df[bas_cols].corr())"
   ]
  },
  {
   "cell_type": "code",
   "execution_count": null,
   "metadata": {},
   "outputs": [],
   "source": [
    "bSF = \"bSF\"\n",
    "print(pd.pivot_table(df, index=bqua, values=bSF, aggfunc=agg_funcs))\n",
    "# let's investigate the relation between the total area, finished and unfinished area\n",
    "# using the base dataframe as the area of the 2nd basement has been deemed irrelevant\n",
    "bSF1 = \"bSF1\"\n",
    "df_base['b_sum_SF'] = df_base[bSF1] + df_base[\"b_unfSF\"] + df_base[\"bSF2\"]\n",
    "total_no_sum = df_base[df[bSF] != df_base['b_sum_SF']].copy() \n",
    "print(total_no_sum.empty)\n",
    "# so as indicated by the names of the columns, there is a relation between both the 4 surface features\n",
    "# let's consider 2 main new features: ration_finished, finished surface\n",
    "\n",
    "df['bfSF'] = df_base['bSF1'] + df_base['bSF2']\n",
    "df_test['bfSF'] = df_test_base['bSF1'] + df_test_base['bSF2']\n",
    "\n",
    "df['bf_ratio'] = df['bfSF'] / df[bSF]\n",
    "df_test['bf_ratio'] = df_test['bfSF'] / df_test[bSF]\n"
   ]
  },
  {
   "cell_type": "code",
   "execution_count": null,
   "metadata": {},
   "outputs": [],
   "source": [
    "print(pd.pivot_table(df, index=bcond, values=bqua, aggfunc=agg_funcs))\n",
    "# let's consider the qualities of the condition 2 \n",
    "print(df[df[bcond] == 2][bqua].value_counts()) # the majority of has quality 3\n",
    "print(df[df[bcond] == 3][bqua].value_counts())\n",
    "print(df[bqua].value_counts())\n",
    "\n",
    "# so the point here is clear: bcondition is informative in a very specific way:\n",
    "# condition = 0 or condition = 5 then quality = condition\n",
    "# otherwise, no clear relation is visible for the moment\n",
    "\n",
    "# let's consider the categorical feature b_is_ex\n",
    "df['b_is_ex'] = (df[bcond] == 5).astype(int)\n",
    "df_test['b_is_ex'] = (df_test[bcond] == 5).astype(int)\n",
    "\n",
    "print(pd.pivot_table(df, index=bexp, values=bqua, aggfunc=agg_funcs)) # the feature does not seem to influence the \n",
    "# the quality of the basement.\n",
    "\n",
    "print(pd.pivot_table(df, index=bf1, values=bqua, aggfunc=agg_funcs)) "
   ]
  },
  {
   "cell_type": "code",
   "execution_count": null,
   "metadata": {},
   "outputs": [],
   "source": [
    "# to fanalize the state of the basement\n",
    "# I will introduce the bstate feature\n",
    "# as the product to the (quality + b_is_ex) * np.log(b_exp + 2)\n",
    "df['bstate'] = (df['bqua'] + df['b_is_ex']) * np.floor(np.log(df['bexp'] + np.exp(1)))\n",
    "df_test['bstate'] = (df_test['bqua'] + df_test['b_is_ex']) * np.floor(np.log(df_test['bexp'] + np.exp(1)))\n",
    "\n",
    "drop_cols(bas_cols + ['b_is_ex'])\n",
    "X = df.copy()\n",
    "y = X.pop(Y)\n",
    "print(model_performance(X, y))"
   ]
  },
  {
   "cell_type": "markdown",
   "metadata": {},
   "source": [
    "### Area features \n",
    "There is a number of features that represent a sort of areas in the house. I will try to investigate the different possible relations between those areas and how to make the most of them"
   ]
  },
  {
   "cell_type": "code",
   "execution_count": 75,
   "metadata": {},
   "outputs": [
    {
     "name": "stdout",
     "output_type": "stream",
     "text": [
      "['LotArea', 'MasVnrArea', '1stFlrSF', '2ndFlrSF', 'GrLivArea', 'WoodDeckSF', 'OpenPorchSF', 'bfSF']\n"
     ]
    }
   ],
   "source": [
    "area_features = [col for col in df.columns.values if 'area' in col.strip().lower() or 'sf' in col.strip().lower()]\n",
    "print(area_features)"
   ]
  },
  {
   "cell_type": "code",
   "execution_count": 76,
   "metadata": {},
   "outputs": [
    {
     "name": "stdout",
     "output_type": "stream",
     "text": [
      "count      1460.000000\n",
      "mean      10516.828082\n",
      "std        9981.264932\n",
      "min        1300.000000\n",
      "25%        7553.500000\n",
      "50%        9478.500000\n",
      "75%       11601.500000\n",
      "max      215245.000000\n",
      "Name: area, dtype: float64\n"
     ]
    },
    {
     "name": "stderr",
     "output_type": "stream",
     "text": [
      "/tmp/ipykernel_7251/1740375244.py:23: SettingWithCopyWarning: \n",
      "A value is trying to be set on a copy of a slice from a DataFrame.\n",
      "Try using .loc[row_indexer,col_indexer] = value instead\n",
      "\n",
      "See the caveats in the documentation: https://pandas.pydata.org/pandas-docs/stable/user_guide/indexing.html#returning-a-view-versus-a-copy\n",
      "  norm_area['area'] = np.log(norm_area['area'])\n"
     ]
    },
    {
     "data": {
      "text/plain": [
       "<AxesSubplot:xlabel='area', ylabel='y'>"
      ]
     },
     "execution_count": 76,
     "metadata": {},
     "output_type": "execute_result"
    },
    {
     "data": {
      "image/png": "[encoded data removed]",
      "text/plain": [
       "<Figure size 640x480 with 1 Axes>"
      ]
     },
     "metadata": {},
     "output_type": "display_data"
    },
    {
     "data": {
      "image/png": "[encoded data removed]",
      "text/plain": [
       "<Figure size 640x480 with 1 Axes>"
      ]
     },
     "metadata": {},
     "output_type": "display_data"
    },
    {
     "data": {
      "image/png": "[encoded data removed]",
      "text/plain": [
       "<Figure size 640x480 with 1 Axes>"
      ]
     },
     "metadata": {},
     "output_type": "display_data"
    },
    {
     "data": {
      "image/png": "[encoded data removed]",
      "text/plain": [
       "<Figure size 640x480 with 1 Axes>"
      ]
     },
     "metadata": {},
     "output_type": "display_data"
    }
   ],
   "source": [
    "# we will consider the first 5 besides the MasVrnArea\n",
    "new_col_names({\"1stFlrSF\": \"f1SF\",\"2ndFlrSF\": \"f2SF\", \"LotArea\": \"area\", \"GrLivArea\": \"liv_area\"})\n",
    "\n",
    "df['liv_ratio'] = df['liv_area'] /  df['area']\n",
    "df.plot(kind='scatter', x='liv_ratio', y=Y)\n",
    "# df.plot(kind='scatter', x='area', y=Y)\n",
    "# the lot area's plot it remarkably skewed. Let's do two things:\n",
    "## consider the values with extremely large lot areas (possible outliers)\n",
    "## consider applying a mathematical transformation\n",
    "\n",
    "# df[df['area'] <= 5 * 10 ** 4].plot(kind='scatter', x='area', y=Y)\n",
    "print(df['area'].describe())\n",
    "# the fourth quartile starts from 11600\n",
    "fth_q_lot_area = 11600\n",
    "\n",
    "sus_area = df[df['area'] > fth_q_lot_area]\n",
    "sus_area.plot(kind='scatter', x='area', y=Y)\n",
    "# apparently outliers start from 30k \n",
    "\n",
    "sus_area = df[df['area'] > 3 * 10 ** 4]\n",
    "norm_area = df[df['area'] <= 3 * 10 ** 4]\n",
    "norm_area.plot(kind='scatter', x='area', y=Y)\n",
    "norm_area['area'] = np.log(norm_area['area'])\n",
    "norm_area.plot(kind='scatter', x='area', y=Y) # close to normal distribution with a slightly high mean\n"
   ]
  },
  {
   "cell_type": "code",
   "execution_count": 77,
   "metadata": {},
   "outputs": [
    {
     "name": "stdout",
     "output_type": "stream",
     "text": [
      "20.0     11\n",
      "60.0      6\n",
      "190.0     3\n",
      "50.0      2\n",
      "Name: mss, dtype: int64\n",
      "3.0    22\n",
      "Name: MSZoning, dtype: int64\n",
      "0.0      9\n",
      "68.0     1\n",
      "141.0    1\n",
      "73.0     1\n",
      "150.0    1\n",
      "100.0    1\n",
      "62.0     1\n",
      "130.0    1\n",
      "52.0     1\n",
      "47.0     1\n",
      "75.0     1\n",
      "118.0    1\n",
      "50.0     1\n",
      "313.0    1\n",
      "Name: LotFrontage, dtype: int64\n",
      "50271.0     1\n",
      "31770.0     1\n",
      "63887.0     1\n",
      "36500.0     1\n",
      "32463.0     1\n",
      "35133.0     1\n",
      "35760.0     1\n",
      "45600.0     1\n",
      "53504.0     1\n",
      "115149.0    1\n",
      "46589.0     1\n",
      "32668.0     1\n",
      "40094.0     1\n",
      "53227.0     1\n",
      "70761.0     1\n",
      "34650.0     1\n",
      "53107.0     1\n",
      "164660.0    1\n",
      "215245.0    1\n",
      "39104.0     1\n",
      "159000.0    1\n",
      "57200.0     1\n",
      "Name: area, dtype: int64\n",
      "1.0    11\n",
      "2.0     6\n",
      "0.0     3\n",
      "3.0     2\n",
      "Name: LotShape, dtype: int64\n",
      "2.0    10\n",
      "3.0     5\n",
      "0.0     5\n",
      "1.0     2\n",
      "Name: LandContour, dtype: int64\n",
      "3.0     8\n",
      "23.0    4\n",
      "7.0     2\n",
      "15.0    2\n",
      "24.0    1\n",
      "12.0    1\n",
      "8.0     1\n",
      "6.0     1\n",
      "22.0    1\n",
      "11.0    1\n",
      "Name: Neighborhood, dtype: int64\n",
      "2.0    19\n",
      "1.0     2\n",
      "3.0     1\n",
      "Name: Condition1, dtype: int64\n",
      "0.0    19\n",
      "1.0     3\n",
      "Name: BldgType, dtype: int64\n",
      "2.0    13\n",
      "5.0     6\n",
      "0.0     3\n",
      "Name: HouseStyle, dtype: int64\n",
      "6.0     5\n",
      "5.0     5\n",
      "7.0     4\n",
      "10.0    3\n",
      "3.0     2\n",
      "8.0     2\n",
      "9.0     1\n",
      "Name: qua, dtype: int64\n",
      "5.0    13\n",
      "7.0     3\n",
      "3.0     3\n",
      "6.0     2\n",
      "8.0     1\n",
      "Name: cond, dtype: int64\n",
      "1954.0    2\n",
      "1965.0    2\n",
      "1981.0    1\n",
      "1971.0    1\n",
      "2008.0    1\n",
      "1964.0    1\n",
      "1961.0    1\n",
      "1963.0    1\n",
      "1995.0    1\n",
      "1908.0    1\n",
      "2003.0    1\n",
      "1994.0    1\n",
      "1960.0    1\n",
      "1957.0    1\n",
      "2007.0    1\n",
      "1975.0    1\n",
      "1955.0    1\n",
      "1992.0    1\n",
      "1958.0    1\n",
      "1948.0    1\n",
      "Name: Yb, dtype: int64\n",
      "1975.0    3\n",
      "2005.0    2\n",
      "1965.0    2\n",
      "2008.0    2\n",
      "1987.0    1\n",
      "2003.0    1\n",
      "1964.0    1\n",
      "1963.0    1\n",
      "1996.0    1\n",
      "1997.0    1\n",
      "1994.0    1\n",
      "2002.0    1\n",
      "1960.0    1\n",
      "1955.0    1\n",
      "1992.0    1\n",
      "2006.0    1\n",
      "1950.0    1\n",
      "Name: Yr, dtype: int64\n",
      "1.0    10\n",
      "3.0    10\n",
      "0.0     2\n",
      "Name: RoofStyle, dtype: int64\n",
      "13.0    6\n",
      "9.0     5\n",
      "3.0     2\n",
      "6.0     2\n",
      "5.0     2\n",
      "8.0     2\n",
      "14.0    1\n",
      "12.0    1\n",
      "11.0    1\n",
      "Name: Exterior1st, dtype: int64\n",
      "10.0    6\n",
      "14.0    4\n",
      "6.0     3\n",
      "15.0    2\n",
      "8.0     2\n",
      "3.0     1\n",
      "5.0     1\n",
      "11.0    1\n",
      "13.0    1\n",
      "12.0    1\n",
      "Name: Exterior2nd, dtype: int64\n",
      "2.0    11\n",
      "3.0     5\n",
      "1.0     4\n",
      "0.0     2\n",
      "Name: MasVnrType, dtype: int64\n",
      "0.0       11\n",
      "112.0      1\n",
      "472.0      1\n",
      "762.0      1\n",
      "528.0      1\n",
      "351.0      1\n",
      "603.0      1\n",
      "1378.0     1\n",
      "226.0      1\n",
      "149.0      1\n",
      "621.0      1\n",
      "796.0      1\n",
      "Name: MasVnrArea, dtype: int64\n",
      "3.0    19\n",
      "5.0     3\n",
      "Name: ExterQual, dtype: int64\n",
      "1.0    14\n",
      "2.0     7\n",
      "0.0     1\n",
      "Name: Foundation, dtype: int64\n",
      "3.0    10\n",
      "5.0    10\n",
      "2.0     2\n",
      "Name: HeatingQC, dtype: int64\n",
      "1.0    21\n",
      "0.0     1\n",
      "Name: CentralAir, dtype: int64\n",
      "3.0    22\n",
      "Name: Electrical, dtype: int64\n",
      "1842.0    1\n",
      "1656.0    1\n",
      "4692.0    1\n",
      "1582.0    1\n",
      "1622.0    1\n",
      "1572.0    1\n",
      "1831.0    1\n",
      "1307.0    1\n",
      "1690.0    1\n",
      "1824.0    1\n",
      "1686.0    1\n",
      "2515.0    1\n",
      "3138.0    1\n",
      "1663.0    1\n",
      "1533.0    1\n",
      "1056.0    1\n",
      "1079.0    1\n",
      "1619.0    1\n",
      "2036.0    1\n",
      "1363.0    1\n",
      "1444.0    1\n",
      "1687.0    1\n",
      "Name: f1SF, dtype: int64\n",
      "0.0       13\n",
      "700.0      1\n",
      "167.0      1\n",
      "874.0      1\n",
      "1538.0     1\n",
      "762.0      1\n",
      "1589.0     1\n",
      "1051.0     1\n",
      "1796.0     1\n",
      "950.0      1\n",
      "Name: f2SF, dtype: int64\n",
      "1842.0    1\n",
      "1656.0    1\n",
      "5642.0    1\n",
      "1582.0    1\n",
      "1622.0    1\n",
      "1572.0    1\n",
      "3627.0    1\n",
      "2358.0    1\n",
      "3279.0    1\n",
      "1824.0    1\n",
      "2448.0    1\n",
      "2515.0    1\n",
      "4676.0    1\n",
      "1663.0    1\n",
      "1533.0    1\n",
      "1056.0    1\n",
      "1953.0    1\n",
      "1786.0    1\n",
      "2036.0    1\n",
      "1363.0    1\n",
      "2144.0    1\n",
      "1687.0    1\n",
      "Name: liv_area, dtype: int64\n",
      "2.0    9\n",
      "1.0    7\n",
      "3.0    5\n",
      "0.0    1\n",
      "Name: FullBath, dtype: int64\n",
      "0.0    14\n",
      "1.0     8\n",
      "Name: HalfBath, dtype: int64\n",
      "3.0    16\n",
      "2.0     4\n",
      "0.0     1\n",
      "5.0     1\n",
      "Name: BedroomAbvGr, dtype: int64\n",
      "1.0    21\n",
      "2.0     1\n",
      "Name: KitchenAbvGr, dtype: int64\n",
      "3.0    19\n",
      "5.0     3\n",
      "Name: KitchenQual, dtype: int64\n",
      "5.0     6\n",
      "7.0     6\n",
      "8.0     2\n",
      "9.0     2\n",
      "12.0    2\n",
      "10.0    2\n",
      "6.0     1\n",
      "11.0    1\n",
      "Name: TotRmsAbvGrd, dtype: int64\n",
      "2.0    12\n",
      "1.0     7\n",
      "0.0     2\n",
      "3.0     1\n",
      "Name: firep, dtype: int64\n",
      "3.0    19\n",
      "0.0     2\n",
      "2.0     1\n",
      "Name: firequa, dtype: int64\n",
      "2.0    15\n",
      "3.0     7\n",
      "Name: gc, dtype: int64\n",
      "2.0    19\n",
      "0.0     2\n",
      "1.0     1\n",
      "Name: PavedDrive, dtype: int64\n",
      "0.0      5\n",
      "857.0    1\n",
      "517.0    1\n",
      "168.0    1\n",
      "439.0    1\n",
      "361.0    1\n",
      "486.0    1\n",
      "503.0    1\n",
      "380.0    1\n",
      "208.0    1\n",
      "210.0    1\n",
      "224.0    1\n",
      "200.0    1\n",
      "264.0    1\n",
      "216.0    1\n",
      "670.0    1\n",
      "81.0     1\n",
      "214.0    1\n",
      "Name: WoodDeckSF, dtype: int64\n",
      "0.0      7\n",
      "76.0     2\n",
      "72.0     1\n",
      "62.0     1\n",
      "98.0     1\n",
      "231.0    1\n",
      "54.0     1\n",
      "137.0    1\n",
      "406.0    1\n",
      "48.0     1\n",
      "36.0     1\n",
      "40.0     1\n",
      "263.0    1\n",
      "198.0    1\n",
      "292.0    1\n",
      "Name: OpenPorchSF, dtype: int64\n",
      "0.0      20\n",
      "200.0     1\n",
      "50.0      1\n",
      "Name: EnclosedPorch, dtype: int64\n",
      "0.0      19\n",
      "210.0     1\n",
      "175.0     1\n",
      "263.0     1\n",
      "Name: ScreenPorch, dtype: int64\n",
      "8.0    20\n",
      "6.0     2\n",
      "Name: SaleType, dtype: int64\n",
      "3.0    19\n",
      "5.0     2\n",
      "2.0     1\n",
      "Name: SaleCondition, dtype: int64\n",
      "160000.0    2\n",
      "240000.0    2\n",
      "200624.0    1\n",
      "190000.0    1\n",
      "168000.0    1\n",
      "186700.0    1\n",
      "625000.0    1\n",
      "538000.0    1\n",
      "302000.0    1\n",
      "402000.0    1\n",
      "385000.0    1\n",
      "215000.0    1\n",
      "256000.0    1\n",
      "280000.0    1\n",
      "145000.0    1\n",
      "228950.0    1\n",
      "375000.0    1\n",
      "241500.0    1\n",
      "277000.0    1\n",
      "184750.0    1\n",
      "Name: y, dtype: int64\n",
      "10.0    5\n",
      "12.0    4\n",
      "14.0    4\n",
      "20.0    3\n",
      "8.0     2\n",
      "16.0    2\n",
      "18.0    1\n",
      "6.0     1\n",
      "Name: state, dtype: int64\n",
      "6.0     5\n",
      "5.0     5\n",
      "7.0     4\n",
      "10.0    3\n",
      "3.0     2\n",
      "8.0     2\n",
      "9.0     1\n",
      "Name: gstate, dtype: int64\n",
      "1.805459    3\n",
      "2.030222    2\n",
      "1.925074    2\n",
      "1.716994    1\n",
      "1.098612    1\n",
      "0.693147    1\n",
      "1.935601    1\n",
      "1.945910    1\n",
      "1.416607    1\n",
      "2.322195    1\n",
      "1.445186    1\n",
      "1.856786    1\n",
      "1.975622    1\n",
      "0.804719    1\n",
      "2.021526    1\n",
      "1.497866    1\n",
      "1.994492    1\n",
      "1.914321    1\n",
      "Name: gage, dtype: int64\n",
      "1159    2\n",
      "1219    2\n",
      "1810    1\n",
      "639     1\n",
      "5644    1\n",
      "812     1\n",
      "1387    1\n",
      "0       1\n",
      "1416    1\n",
      "1541    1\n",
      "2260    1\n",
      "1116    1\n",
      "655     1\n",
      "1056    1\n",
      "985     1\n",
      "1396    1\n",
      "2056    1\n",
      "1289    1\n",
      "697     1\n",
      "687     1\n",
      "Name: bfSF, dtype: int64\n",
      "0.982628    1\n",
      "0.591667    1\n",
      "0.923732    1\n",
      "0.500000    1\n",
      "0.927942    1\n",
      "0.737277    1\n",
      "0.718653    1\n",
      "0.000000    1\n",
      "0.858182    1\n",
      "0.741935    1\n",
      "0.945979    1\n",
      "0.599017    1\n",
      "0.720204    1\n",
      "0.818182    1\n",
      "0.427267    1\n",
      "1.000000    1\n",
      "0.623418    1\n",
      "0.931288    1\n",
      "0.962547    1\n",
      "0.930686    1\n",
      "0.482687    1\n",
      "0.919679    1\n",
      "Name: bf_ratio, dtype: int64\n",
      "3.0    18\n",
      "5.0     4\n",
      "Name: bstate, dtype: int64\n",
      "0.036641    1\n",
      "0.052125    1\n",
      "0.088312    1\n",
      "0.043342    1\n",
      "0.049965    1\n",
      "0.044744    1\n",
      "0.101426    1\n",
      "0.051711    1\n",
      "0.061285    1\n",
      "0.015840    1\n",
      "0.052545    1\n",
      "0.076987    1\n",
      "0.116626    1\n",
      "0.031244    1\n",
      "0.021664    1\n",
      "0.030476    1\n",
      "0.036775    1\n",
      "0.010847    1\n",
      "0.009459    1\n",
      "0.034856    1\n",
      "0.013484    1\n",
      "0.029493    1\n",
      "Name: liv_ratio, dtype: int64\n"
     ]
    }
   ],
   "source": [
    "\n",
    "# let's consider the behavior of rows in sus_area as the values are quite high while the prices are not following the trend\n",
    "for col in df.columns:\n",
    "    print(sus_area[col].value_counts())"
   ]
  },
  {
   "cell_type": "code",
   "execution_count": null,
   "metadata": {},
   "outputs": [],
   "source": []
  }
 ],
 "metadata": {
  "kernelspec": {
   "display_name": "Python 3.10.4 ('ds_env')",
   "language": "python",
   "name": "python3"
  },
  "language_info": {
   "codemirror_mode": {
    "name": "ipython",
    "version": 3
   },
   "file_extension": ".py",
   "mimetype": "text/x-python",
   "name": "python",
   "nbconvert_exporter": "python",
   "pygments_lexer": "ipython3",
   "version": "3.10.4"
  },
  "orig_nbformat": 4,
  "vscode": {
   "interpreter": {
    "hash": "006414dea9a04848ce797b510a25f3f28ac8668e3d3244e777242cca6bed477f"
   }
  }
 },
 "nbformat": 4,
 "nbformat_minor": 2
}
