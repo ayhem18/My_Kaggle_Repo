{
  "cells": [
    {
      "cell_type": "markdown",
      "id": "bc14ad96-ac5c-4689-ae0c-e185ab6549d2",
      "metadata": {
        "id": "bc14ad96-ac5c-4689-ae0c-e185ab6549d2"
      },
      "source": [
        "## Week 3 : Autoencoders\n",
        "```\n",
        "- Generative Artificial Intelligence (Fall semester 2023)\n",
        "- Professor: Muhammad Fahim\n",
        "- Teaching Assistant: Gcinizwe Dlamini\n",
        "```\n",
        "<hr>\n",
        "\n",
        "## Content\n",
        "In this lab we will cover the following topics:\n",
        "```\n",
        "1. Types of autoencoders\n",
        "2. Applications of autoencoders\n",
        "3. Autoencoders training procedure\n",
        "4. Reparametrisation trick\n",
        "\n",
        "```"
      ]
    },
    {
      "cell_type": "markdown",
      "id": "1978f329e79d20bd",
      "metadata": {
        "collapsed": false,
        "id": "1978f329e79d20bd"
      },
      "source": [
        "## Undercomplete & Overcomplete\n",
        "\n",
        "PCA vs. Undercomplete autoencoders\n",
        "* Autoencoders are much flexible than PCA.\n",
        "* Neural Network activation functions introduce “non-linearities” in encoding, but PCA only linear transformation."
      ]
    },
    {
      "cell_type": "code",
      "execution_count": null,
      "id": "1cba6ef6-dda4-4227-a330-a8730f89c35b",
      "metadata": {
        "ExecuteTime": {
          "end_time": "2023-09-01T18:56:03.551804902Z",
          "start_time": "2023-09-01T18:56:01.427185604Z"
        },
        "id": "1cba6ef6-dda4-4227-a330-a8730f89c35b"
      },
      "outputs": [
        {
          "ename": "",
          "evalue": "",
          "output_type": "error",
          "traceback": [
            "\u001b[1;31mFailed to start the Kernel. \n",
            "\u001b[1;31mAttributeError: partially initialized module 'pdb' has no attribute 'Pdb' (most likely due to a circular import). Did you mean: 'bdb'?. \n",
            "\u001b[1;31mView Jupyter <a href='command:jupyter.viewOutput'>log</a> for further details."
          ]
        }
      ],
      "source": [
        "import torch\n",
        "import torch.nn as nn\n",
        "import torch.optim as optim\n",
        "from torchsummary import summary\n",
        "from torch.utils.data import TensorDataset, DataLoader\n",
        "\n",
        "import torchvision\n",
        "import torchvision.transforms as transforms\n",
        "\n",
        "\n",
        "device = torch.device(\"cuda:0\" if torch.cuda.is_available() else \"cpu\")"
      ]
    },
    {
      "cell_type": "markdown",
      "id": "264eba0df344e957",
      "metadata": {
        "collapsed": false,
        "id": "264eba0df344e957"
      },
      "source": [
        "## Defining Undercomplete Autoencoder"
      ]
    },
    {
      "cell_type": "code",
      "execution_count": null,
      "id": "23b8e9663964f5b7",
      "metadata": {
        "ExecuteTime": {
          "end_time": "2023-09-01T18:57:36.849966667Z",
          "start_time": "2023-09-01T18:57:36.787728400Z"
        },
        "id": "23b8e9663964f5b7"
      },
      "outputs": [
        {
          "ename": "",
          "evalue": "",
          "output_type": "error",
          "traceback": [
            "\u001b[1;31mFailed to start the Kernel. \n",
            "\u001b[1;31mAttributeError: partially initialized module 'pdb' has no attribute 'Pdb' (most likely due to a circular import). Did you mean: 'bdb'?. \n",
            "\u001b[1;31mView Jupyter <a href='command:jupyter.viewOutput'>log</a> for further details."
          ]
        }
      ],
      "source": [
        "## Undercomplete\n",
        "class autoencoder(nn.Module):\n",
        "    def __init__(self, input_size, latent_dim):\n",
        "      super(autoencoder, self).__init__()\n",
        "      # Step 1 : Define the encoder\n",
        "      # Step 2 : Define the decoder\n",
        "      # Step 3 : Initialize the weights (optional)\n",
        "\n",
        "    def forward(self, x):\n",
        "      # Step 1: Pass the input through encoder to get latent representation\n",
        "      # Step 2: Take latent representation and pass through decoder\n",
        "      # x = x + noise\n",
        "      x = None\n",
        "      return x\n",
        "\n",
        "    def encode(self,input):\n",
        "      #Step 1: Pass the input through the encoder to get latent representation\n",
        "      return None\n",
        "\n",
        "    def __init_weights(self,m):\n",
        "      #Init the weights (optional)\n",
        "      if type(m) == nn.Linear:\n",
        "          torch.nn.init.xavier_uniform_(m.weight)\n",
        "          m.bias.data.fill_(0.01)"
      ]
    },
    {
      "cell_type": "markdown",
      "id": "55c4f7449d3d123d",
      "metadata": {
        "collapsed": false,
        "id": "55c4f7449d3d123d"
      },
      "source": [
        "## Define training parameters\n",
        "\n",
        "```\n",
        "Step 1: Set training parameters (batch size, learning rate, optimizer, number of epochs, loss function)\n",
        "Step 2: Create dataset (Randomly generated)\n",
        "Step 3: Create data loader\n",
        "Step 4: Define the training loop\n",
        "```"
      ]
    },
    {
      "cell_type": "code",
      "execution_count": null,
      "id": "2ca588c9087743f",
      "metadata": {
        "ExecuteTime": {
          "end_time": "2023-09-01T18:57:46.888448683Z",
          "start_time": "2023-09-01T18:57:46.846125334Z"
        },
        "id": "2ca588c9087743f"
      },
      "outputs": [
        {
          "ename": "",
          "evalue": "",
          "output_type": "error",
          "traceback": [
            "\u001b[1;31mFailed to start the Kernel. \n",
            "\u001b[1;31mAttributeError: partially initialized module 'pdb' has no attribute 'Pdb' (most likely due to a circular import). Did you mean: 'bdb'?. \n",
            "\u001b[1;31mView Jupyter <a href='command:jupyter.viewOutput'>log</a> for further details."
          ]
        }
      ],
      "source": [
        "batchSize = 100\n",
        "learning_rate = 0.01\n",
        "num_epochs = 20\n",
        "sample = torch.randn((batchSize,1,64))\n",
        "AE = autoencoder(64,5).to(device)\n",
        "print(AE)\n",
        "\n",
        "criterion = nn.MSELoss()\n",
        "optimizer = torch.optim.Adam(AE.parameters(),lr=learning_rate)\n",
        "\n",
        "#Create a random dataset\n",
        "data_loader = DataLoader(TensorDataset(torch.randn((1000,1,64))),batch_size=32,shuffle=True)"
      ]
    },
    {
      "cell_type": "markdown",
      "id": "c77e11fb332375a6",
      "metadata": {
        "collapsed": false,
        "id": "c77e11fb332375a6"
      },
      "source": [
        "## Training Loop"
      ]
    },
    {
      "cell_type": "code",
      "execution_count": null,
      "id": "adcc13244cbcab28",
      "metadata": {
        "ExecuteTime": {
          "end_time": "2023-09-01T18:58:00.928975399Z",
          "start_time": "2023-09-01T18:57:57.995708923Z"
        },
        "id": "adcc13244cbcab28"
      },
      "outputs": [
        {
          "ename": "",
          "evalue": "",
          "output_type": "error",
          "traceback": [
            "\u001b[1;31mFailed to start the Kernel. \n",
            "\u001b[1;31mAttributeError: partially initialized module 'pdb' has no attribute 'Pdb' (most likely due to a circular import). Did you mean: 'bdb'?. \n",
            "\u001b[1;31mView Jupyter <a href='command:jupyter.viewOutput'>log</a> for further details."
          ]
        }
      ],
      "source": [
        "for epoch in range(num_epochs):\n",
        "    epoch_loss = 0.0\n",
        "    for X in data_loader:\n",
        "        X = X[0].to(device)\n",
        "\n",
        "        optimizer.zero_grad()\n",
        "        # forward\n",
        "        output = AE(X)\n",
        "        loss = criterion(output, X)\n",
        "\n",
        "        # backward\n",
        "        loss.backward()\n",
        "        optimizer.step()\n",
        "\n",
        "        epoch_loss += loss.item()\n",
        "\n",
        "    # log\n",
        "    print('epoch [{}/{}], loss:{:.4f}'.format(epoch + 1, num_epochs, loss.item()))"
      ]
    },
    {
      "cell_type": "markdown",
      "id": "99a2937ecb5d7be2",
      "metadata": {
        "collapsed": false,
        "id": "99a2937ecb5d7be2"
      },
      "source": [
        "## Regularized Autoencoder\n",
        "\n",
        "Regularized autoencoders use a loss function that encourages the model to have other properties besides the ability to copy its input to its output.\n",
        "\n",
        "* **Sparse Autoencoders** : It impose a constraint in its loss by adding a regularization term in the loss function.\n",
        "$$L(x,\\hat{x}) + λ \\sum_{i}|h_i|$$\n",
        "\n",
        "  **Regularization Form** : It can be L1 regularization or Any other kinds of penalties are possible\n",
        "\n",
        "\n",
        "* **Denoising Autoencoder** : a special autoencoder that is robust to noise. By adding stochastic noise, we force Autoencoder to learn more robust features"
      ]
    },
    {
      "cell_type": "markdown",
      "id": "404c42942b451ae9",
      "metadata": {
        "collapsed": false,
        "id": "404c42942b451ae9"
      },
      "source": [
        "## Sparse Autoencoder\n",
        "\n",
        "**Task**: implement a Sparse Autoencoder for 1D data of your choice"
      ]
    },
    {
      "cell_type": "code",
      "execution_count": null,
      "id": "2706b9ccfa63f09",
      "metadata": {
        "ExecuteTime": {
          "end_time": "2023-09-01T19:10:13.542620925Z",
          "start_time": "2023-09-01T19:10:13.517375230Z"
        },
        "id": "2706b9ccfa63f09"
      },
      "outputs": [
        {
          "ename": "",
          "evalue": "",
          "output_type": "error",
          "traceback": [
            "\u001b[1;31mFailed to start the Kernel. \n",
            "\u001b[1;31mAttributeError: partially initialized module 'pdb' has no attribute 'Pdb' (most likely due to a circular import). Did you mean: 'bdb'?. \n",
            "\u001b[1;31mView Jupyter <a href='command:jupyter.viewOutput'>log</a> for further details."
          ]
        }
      ],
      "source": [
        "# TODO: implement a Sparse Autoencoder for 1D data of your choice\n",
        "\n",
        "class SparseAutoencoder(nn.Module):\n",
        "  def __init__(self, input_size, latent_dim):\n",
        "    super(SparseAutoencoder, self).__init__()\n",
        "    pass\n",
        "\n",
        "  def foward(self, x):\n",
        "    return None"
      ]
    },
    {
      "cell_type": "markdown",
      "id": "d73cb157c3af0036",
      "metadata": {
        "collapsed": false,
        "id": "d73cb157c3af0036"
      },
      "source": [
        "## Denoising Autoencoder\n",
        "\n",
        "**Task** : implement a Denoising Autoencoder for CIFAR 10 dataset. Choose one class from the 10"
      ]
    },
    {
      "cell_type": "code",
      "execution_count": null,
      "id": "33993deb453b952b",
      "metadata": {
        "ExecuteTime": {
          "end_time": "2023-09-01T19:10:27.459285703Z",
          "start_time": "2023-09-01T19:10:27.402642320Z"
        },
        "id": "33993deb453b952b"
      },
      "outputs": [
        {
          "ename": "",
          "evalue": "",
          "output_type": "error",
          "traceback": [
            "\u001b[1;31mFailed to start the Kernel. \n",
            "\u001b[1;31mAttributeError: partially initialized module 'pdb' has no attribute 'Pdb' (most likely due to a circular import). Did you mean: 'bdb'?. \n",
            "\u001b[1;31mView Jupyter <a href='command:jupyter.viewOutput'>log</a> for further details."
          ]
        }
      ],
      "source": [
        "# TODO : implement a Denoising Autoencoder for CIFAR 10 dataset. Choose one class from the 10\n",
        "\n",
        "class DenoisingAutoencoder(nn.Module):\n",
        "  def __init__(self, input_size, latent_dim):\n",
        "    super(DenoisingAutoencoder, self).__init__()\n",
        "    pass\n",
        "\n",
        "  def foward(self, x):\n",
        "    return None"
      ]
    },
    {
      "cell_type": "markdown",
      "id": "73322f7a2540127",
      "metadata": {
        "collapsed": false,
        "id": "73322f7a2540127"
      },
      "source": [
        "### Get Image data (CIFAR 10 dataset)"
      ]
    },
    {
      "cell_type": "code",
      "execution_count": null,
      "id": "8fa487e1004b7cd8",
      "metadata": {
        "ExecuteTime": {
          "start_time": "2023-09-01T19:10:38.985245541Z"
        },
        "id": "8fa487e1004b7cd8"
      },
      "outputs": [
        {
          "ename": "",
          "evalue": "",
          "output_type": "error",
          "traceback": [
            "\u001b[1;31mFailed to start the Kernel. \n",
            "\u001b[1;31mAttributeError: partially initialized module 'pdb' has no attribute 'Pdb' (most likely due to a circular import). Did you mean: 'bdb'?. \n",
            "\u001b[1;31mView Jupyter <a href='command:jupyter.viewOutput'>log</a> for further details."
          ]
        }
      ],
      "source": [
        "transform = transforms.Compose(\n",
        "    [transforms.ToTensor(),\n",
        "     transforms.Normalize((0.5, 0.5, 0.5), (0.5, 0.5, 0.5))])\n",
        "\n",
        "trainset = torchvision.datasets.CIFAR10(root='./data', train=True,\n",
        "                                        download=True, transform=transform)\n",
        "\n",
        "testset = torchvision.datasets.CIFAR10(root='./data', train=False,\n",
        "                                       download=True, transform=transform)"
      ]
    },
    {
      "cell_type": "markdown",
      "id": "3b16128728f80b41",
      "metadata": {
        "collapsed": false,
        "id": "3b16128728f80b41"
      },
      "source": [
        "## Variational Autoencoders\n",
        "\n",
        "![caption](https://learnopencv.com/wp-content/uploads/2020/11/vae-diagram-1-1024x563.jpg)"
      ]
    },
    {
      "cell_type": "code",
      "execution_count": null,
      "id": "3df745061b5b8db7",
      "metadata": {
        "ExecuteTime": {
          "start_time": "2023-09-01T19:13:21.280023317Z"
        },
        "id": "3df745061b5b8db7"
      },
      "outputs": [
        {
          "ename": "",
          "evalue": "",
          "output_type": "error",
          "traceback": [
            "\u001b[1;31mFailed to start the Kernel. \n",
            "\u001b[1;31mAttributeError: partially initialized module 'pdb' has no attribute 'Pdb' (most likely due to a circular import). Did you mean: 'bdb'?. \n",
            "\u001b[1;31mView Jupyter <a href='command:jupyter.viewOutput'>log</a> for further details."
          ]
        }
      ],
      "source": [
        "import os\n",
        "import torch\n",
        "import torch.nn as nn\n",
        "import torch.nn.functional as F\n",
        "from torchvision import transforms\n",
        "from torchvision.utils import save_image"
      ]
    },
    {
      "cell_type": "markdown",
      "id": "41f66457b552a690",
      "metadata": {
        "collapsed": false,
        "id": "41f66457b552a690"
      },
      "source": [
        "## Get data (MNIST)"
      ]
    },
    {
      "cell_type": "code",
      "execution_count": null,
      "id": "6c22a7a33e32d298",
      "metadata": {
        "ExecuteTime": {
          "end_time": "2023-09-01T19:18:48.340804174Z",
          "start_time": "2023-09-01T19:18:44.048912215Z"
        },
        "id": "6c22a7a33e32d298"
      },
      "outputs": [
        {
          "ename": "",
          "evalue": "",
          "output_type": "error",
          "traceback": [
            "\u001b[1;31mFailed to start the Kernel. \n",
            "\u001b[1;31mAttributeError: partially initialized module 'pdb' has no attribute 'Pdb' (most likely due to a circular import). Did you mean: 'bdb'?. \n",
            "\u001b[1;31mView Jupyter <a href='command:jupyter.viewOutput'>log</a> for further details."
          ]
        }
      ],
      "source": [
        "# Hyper-parameters\n",
        "image_size = 784\n",
        "h_dim = 400\n",
        "z_dim = 20\n",
        "num_epochs = 15\n",
        "batch_size = 128\n",
        "learning_rate = 1e-3\n",
        "\n",
        "# MNIST dataset\n",
        "dataset = torchvision.datasets.MNIST(root='../../data',\n",
        "                                     train=True,\n",
        "                                     transform=transforms.ToTensor(),\n",
        "                                     download=True)\n",
        "\n",
        "# Data loader\n",
        "data_loader = torch.utils.data.DataLoader(dataset=dataset,\n",
        "                                          batch_size=batch_size,\n",
        "                                          shuffle=True)"
      ]
    },
    {
      "cell_type": "markdown",
      "id": "129496ce26f02f9a",
      "metadata": {
        "collapsed": false,
        "id": "129496ce26f02f9a"
      },
      "source": [
        "## Define VAE"
      ]
    },
    {
      "cell_type": "code",
      "execution_count": null,
      "id": "93556385412cf9ef",
      "metadata": {
        "ExecuteTime": {
          "end_time": "2023-09-01T19:19:01.678951844Z",
          "start_time": "2023-09-01T19:19:01.635196458Z"
        },
        "id": "93556385412cf9ef"
      },
      "outputs": [
        {
          "ename": "",
          "evalue": "",
          "output_type": "error",
          "traceback": [
            "\u001b[1;31mFailed to start the Kernel. \n",
            "\u001b[1;31mAttributeError: partially initialized module 'pdb' has no attribute 'Pdb' (most likely due to a circular import). Did you mean: 'bdb'?. \n",
            "\u001b[1;31mView Jupyter <a href='command:jupyter.viewOutput'>log</a> for further details."
          ]
        }
      ],
      "source": [
        "# VAE model\n",
        "class VAE(nn.Module):\n",
        "  def __init__(self, image_size=784, h_dim=400, z_dim=20):\n",
        "    super(VAE, self).__init__()\n",
        "    # Encoder part\n",
        "    self.fc1 = nn.Linear(image_size, h_dim)\n",
        "    self.fc2 = nn.Linear(h_dim, z_dim)\n",
        "    self.fc3 = nn.Linear(h_dim, z_dim)\n",
        "    # Decoder part\n",
        "    self.fc4 = nn.Linear(z_dim, h_dim)\n",
        "    self.fc5 = nn.Linear(h_dim, image_size)\n",
        "\n",
        "  def encode(self, x):\n",
        "    h = F.relu(self.fc1(x))\n",
        "    return self.fc2(h), self.fc3(h)\n",
        "\n",
        "  def reparameterize(self, mu, log_var):\n",
        "    std = torch.exp(log_var/2)\n",
        "    eps = torch.randn_like(std)\n",
        "    return mu + eps * std\n",
        "\n",
        "  def decode(self, z):\n",
        "    h = F.relu(self.fc4(z))\n",
        "    return F.sigmoid(self.fc5(h))\n",
        "\n",
        "  def forward(self, x):\n",
        "    mu, log_var = self.encode(x)\n",
        "    z = self.reparameterize(mu, log_var)\n",
        "    x_reconst = self.decode(z)\n",
        "    return x_reconst, mu, log_var"
      ]
    },
    {
      "cell_type": "markdown",
      "id": "1154fffb5f071a40",
      "metadata": {
        "collapsed": false,
        "id": "1154fffb5f071a40"
      },
      "source": [
        "### Train Autoencoder"
      ]
    },
    {
      "cell_type": "code",
      "execution_count": null,
      "id": "d07cb5384934f2f",
      "metadata": {
        "ExecuteTime": {
          "end_time": "2023-09-01T19:19:10.689426524Z",
          "start_time": "2023-09-01T19:19:10.666359725Z"
        },
        "id": "d07cb5384934f2f"
      },
      "outputs": [
        {
          "ename": "",
          "evalue": "",
          "output_type": "error",
          "traceback": [
            "\u001b[1;31mFailed to start the Kernel. \n",
            "\u001b[1;31mAttributeError: partially initialized module 'pdb' has no attribute 'Pdb' (most likely due to a circular import). Did you mean: 'bdb'?. \n",
            "\u001b[1;31mView Jupyter <a href='command:jupyter.viewOutput'>log</a> for further details."
          ]
        }
      ],
      "source": [
        "model = VAE(image_size, h_dim, z_dim).to(device)\n",
        "optimizer = torch.optim.Adam(model.parameters(), lr=learning_rate)"
      ]
    },
    {
      "cell_type": "code",
      "execution_count": null,
      "id": "478014c4c3c09f92",
      "metadata": {
        "ExecuteTime": {
          "end_time": "2023-09-01T19:20:20.051726542Z",
          "start_time": "2023-09-01T19:19:23.943111378Z"
        },
        "id": "478014c4c3c09f92"
      },
      "outputs": [
        {
          "ename": "",
          "evalue": "",
          "output_type": "error",
          "traceback": [
            "\u001b[1;31mFailed to start the Kernel. \n",
            "\u001b[1;31mAttributeError: partially initialized module 'pdb' has no attribute 'Pdb' (most likely due to a circular import). Did you mean: 'bdb'?. \n",
            "\u001b[1;31mView Jupyter <a href='command:jupyter.viewOutput'>log</a> for further details."
          ]
        }
      ],
      "source": [
        "# Start training\n",
        "mse_loss = nn.MSELoss()\n",
        "for epoch in range(num_epochs):\n",
        "    for i, (x, _) in enumerate(data_loader):\n",
        "        # Forward pass\n",
        "        x = x.to(device).view(-1, image_size)\n",
        "        x_reconst, mu, log_var = model(x)\n",
        "\n",
        "        # Compute reconstruction loss and kl divergence\n",
        "        reconst_loss = mse_loss(x_reconst, x)\n",
        "        kl_div = - 0.5 * torch.sum(1 + log_var - mu.pow(2) - log_var.exp())\n",
        "\n",
        "        # Backprop and optimize\n",
        "        loss = reconst_loss + kl_div\n",
        "        optimizer.zero_grad()\n",
        "        loss.backward()\n",
        "        optimizer.step()\n",
        "\n",
        "        if (i+1) % 10 == 0:\n",
        "            print (\"Epoch[{}/{}], Step [{}/{}], Reconst Loss: {:.4f}\"\n",
        "                   .format(epoch+1, num_epochs, i+1, len(data_loader), reconst_loss.item()))\n",
        "\n",
        "    with torch.no_grad():\n",
        "        # Save the sampled images\n",
        "        z = torch.randn(batch_size, z_dim).to(device)\n",
        "        out = model.decode(z).view(-1, 1, 28, 28)\n",
        "        save_image(out,'./sampled-{}.png'.format(epoch+1))\n",
        "\n",
        "        # Save the reconstructed images\n",
        "        out, _, _ = model(x)\n",
        "        x_concat = torch.cat([x.view(-1, 1, 28, 28), out.view(-1, 1, 28, 28)], dim=3)\n",
        "        save_image(x_concat, './reconst-{}.png'.format(epoch+1))"
      ]
    },
    {
      "cell_type": "markdown",
      "id": "c1b190215fb51bfb",
      "metadata": {
        "collapsed": false,
        "id": "c1b190215fb51bfb"
      },
      "source": [
        "**Task :** Add tensorboard to log the encoder loss and weights"
      ]
    },
    {
      "cell_type": "code",
      "execution_count": null,
      "id": "faa4c179bc4e3bac",
      "metadata": {
        "ExecuteTime": {
          "end_time": "2023-09-14T14:13:11.527517812Z",
          "start_time": "2023-09-14T14:13:11.526834486Z"
        },
        "id": "faa4c179bc4e3bac"
      },
      "outputs": [
        {
          "ename": "",
          "evalue": "",
          "output_type": "error",
          "traceback": [
            "\u001b[1;31mFailed to start the Kernel. \n",
            "\u001b[1;31mAttributeError: partially initialized module 'pdb' has no attribute 'Pdb' (most likely due to a circular import). Did you mean: 'bdb'?. \n",
            "\u001b[1;31mView Jupyter <a href='command:jupyter.viewOutput'>log</a> for further details."
          ]
        }
      ],
      "source": [
        "# TODO: Add tensorboard to log the encoder loss and weights"
      ]
    },
    {
      "cell_type": "markdown",
      "id": "12542de3ad505149",
      "metadata": {
        "collapsed": false,
        "id": "12542de3ad505149"
      },
      "source": [
        "## Resources\n",
        "\n",
        "* [Auto-Encoding Variational Bayes](https://arxiv.org/pdf/1312.6114.pdf)\n",
        "* [Variational inference: A review for statisticians](https://arxiv.org/pdf/1601.00670.pdf)\n",
        "* [Tutorial on variational autoencoders](https://arxiv.org/pdf/1606.05908.pdf)\n",
        "* [Stochastic Backpropagation and Approximate Inference in Deep Generative Models](https://arxiv.org/pdf/1401.4082.pdf)\n",
        "\n",
        "**Key theories behind VAE:** <br>\n",
        "1. Change of variable\n",
        "2. Loacation-Scale Transformation\n",
        "3. [Law of The Unconscious Statistician](https://en.wikipedia.org/wiki/Law_of_the_unconscious_statistician)\n",
        "4. [Evidence lower bound (ELBO)](https://en.wikipedia.org/wiki/Evidence_lower_bound)"
      ]
    }
  ],
  "metadata": {
    "colab": {
      "provenance": []
    },
    "kernelspec": {
      "display_name": "Python 3",
      "name": "python3"
    },
    "language_info": {
      "codemirror_mode": {
        "name": "ipython",
        "version": 3
      },
      "file_extension": ".py",
      "mimetype": "text/x-python",
      "name": "python",
      "nbconvert_exporter": "python",
      "pygments_lexer": "ipython3",
      "version": "3.11.5"
    }
  },
  "nbformat": 4,
  "nbformat_minor": 5
}
