{
 "cells": [
  {
   "cell_type": "markdown",
   "metadata": {},
   "source": [
    "## Midterm Lab Exam \n",
    "\n",
    "```\n",
    "- Generative Artificial Intelligence (Fall semester 2023)\n",
    "- Professor: Muhammad Fahim\n",
    "- Teaching Assistant: Gcinizwe Dlamini\n",
    "```\n",
    "<hr>\n",
    "\n",
    "## Tasks\n",
    "```\n",
    "1. Variational AutoEncoder \n",
    "2. Conditional GAN (bonus)\n",
    "```\n",
    "All implementation in python and using PyTorch framework for neural networks\n",
    "<hr>"
   ]
  },
  {
   "cell_type": "markdown",
   "metadata": {},
   "source": [
    "## 0. Dataset\n",
    "\n",
    "For both tasks CIFAR-10 dataset will be used"
   ]
  },
  {
   "cell_type": "code",
   "execution_count": 1,
   "metadata": {},
   "outputs": [
    {
     "name": "stdout",
     "output_type": "stream",
     "text": [
      "available device : cuda\n",
      "Files already downloaded and verified\n"
     ]
    }
   ],
   "source": [
    "import torch\n",
    "from torch import nn\n",
    "import torchvision\n",
    "import torchvision.transforms as transforms\n",
    "\n",
    "device = 'cuda' if torch.cuda.is_available() else 'cpu'\n",
    "print(f'available device : {device}')\n",
    "\n",
    "transform = transforms.Compose(\n",
    "    [transforms.ToTensor(),\n",
    "     transforms.Normalize((0.5, 0.5, 0.5), (0.5, 0.5, 0.5))])\n",
    "\n",
    "batch_size = 32\n",
    "\n",
    "trainset = torchvision.datasets.CIFAR10(root='./data', train=False,\n",
    "                                        download=True, transform=transform)\n",
    "trainloader = torch.utils.data.DataLoader(trainset, batch_size=batch_size,\n",
    "                                          shuffle=True, num_workers=2)\n",
    "\n",
    "classes = ('plane', 'car', 'bird', 'cat',\n",
    "           'deer', 'dog', 'frog', 'horse', 'ship', 'truck')"
   ]
  },
  {
   "cell_type": "markdown",
   "metadata": {},
   "source": [
    "## 2. Task 1 (variational autoencoder)\n",
    "\n",
    "* Implement and train a variational autoencoder for cifar 10 data using the achitecture below for generator and discriminator as baseline (you can only improve the achitecture by extending the achitecture on top of baseline)\n",
    "* Implement a function that will generate images using the implemented vae \n",
    "\n",
    "\n",
    "### 2.1  VAE definition (20 points)\n",
    "\n",
    "**Encoder Achitecture (baseline)**\n",
    "- 3 convolutional layers whereby each layer is followed by batch normalization and relu activation function\n",
    "  - Layer 1 : applies 32 filters\n",
    "  - Layer 2 : applies 64 filters\n",
    "  - Layer 3 : applies 128 filters\n",
    "\n",
    "**Latent space**\n",
    "- without activation\n",
    "\n",
    "**Decoder Achitecture (baseline)**\n",
    "- 3 deconvolutional layers whereby each layer is followed by batch normalization and relu activation function\n",
    "- Mirror of the encoder network\n",
    "\n",
    "**NB**: For both convolution and deconvolution `kernel_size=4, stride=2, padding=1`"
   ]
  },
  {
   "cell_type": "code",
   "execution_count": 2,
   "metadata": {},
   "outputs": [],
   "source": [
    "def conv_block(input_channels, \n",
    "                output_channels, \n",
    "                kernel_size=4, \n",
    "                stride=2,\n",
    "                padding: int = 1, \n",
    "                final_layer=False):\n",
    "    \n",
    "    layers = [\n",
    "        nn.Conv2d(in_channels=input_channels,\n",
    "                    out_channels=output_channels,\n",
    "                    kernel_size=kernel_size,\n",
    "                    stride=stride, \n",
    "                    padding=padding\n",
    "                    )\n",
    "    ]\n",
    "    \n",
    "    if not final_layer:\n",
    "        layers.extend([nn.BatchNorm2d(output_channels), nn.ReLU(inplace=True)])\n",
    "    return nn.Sequential(*layers)\n",
    "\n",
    "def deconv_block(input_channels, \n",
    "                   output_channels,                 \n",
    "                   kernel_size=4, \n",
    "                    stride=2,\n",
    "                    padding: int = 1, \n",
    "                    final_layer: bool = False):\n",
    "    \n",
    "    layers = [\n",
    "        nn.ConvTranspose2d(in_channels=input_channels, \n",
    "                            out_channels=output_channels,\n",
    "                            kernel_size=kernel_size,\n",
    "                            stride=stride,\n",
    "                            padding=padding), \n",
    "    ]\n",
    "    \n",
    "    if final_layer:\n",
    "        layers.append(nn.Tanh())    \n",
    "    else: \n",
    "        layers.extend([nn.BatchNorm2d(output_channels), nn.ReLU()])\n",
    "        \n",
    "    return nn.Sequential(*layers)\n",
    "\n"
   ]
  },
  {
   "cell_type": "code",
   "execution_count": 3,
   "metadata": {},
   "outputs": [],
   "source": [
    "class VAE(nn.Module):\n",
    "    def __init__(self, channel_num=3, kernel_num=128, z_size=128, image_size=32):\n",
    "        super(VAE, self).__init__()\n",
    "        # the encoder is 3 layers\n",
    "        self.z_dim = z_size\n",
    "\n",
    "        self.encoder = nn.Sequential(conv_block(input_channels=channel_num, output_channels=32), \n",
    "                        conv_block(input_channels=32, output_channels=64), \n",
    "                        conv_block(input_channels=64, output_channels=128))\n",
    "        \n",
    "        # the latent dimensions \n",
    "        self.mu_layer = nn.LazyLinear(out_features=z_size)\n",
    "        self.sigma_layer = nn.LazyLinear(out_features=z_size)\n",
    "\n",
    "        self.latent_map = nn.Linear(in_features=self.z_dim, out_features=2048)\n",
    "\n",
    "        self.decoder = nn.Sequential(deconv_block(input_channels=z_size, output_channels=64), \n",
    "                                     deconv_block(input_channels=64, output_channels=32), \n",
    "                                     deconv_block(input_channels=32, output_channels=3))\n",
    "    \n",
    "    def reparametrize(self, mu, log_var):\n",
    "        std = torch.exp(log_var/2)\n",
    "        eps = torch.randn_like(std)\n",
    "        return mu + eps * std\n",
    "\n",
    "    def forward(self, x: torch.Tensor):\n",
    "        assert x.shape[-2:] == (32, 32)\n",
    "\n",
    "        # first run through the encoder\n",
    "        x_encoder = self.encoder(x)\n",
    "        x_flat = nn.Flatten()(x_encoder)\n",
    "        # save the dimension of the feature map\n",
    "        _, fmw, fmh = x_encoder.shape[1:] \n",
    "\n",
    "        mean, log_var = self.mu_layer(x_flat), self.sigma_layer(x_flat)\n",
    "        z = self.reparametrize(mean, log_var)\n",
    "        # convert 'z' back the size of the flattened feature map\n",
    "        z1 = self.latent_map(z)\n",
    "        # unsqueeze 'z' to match the dimensions of unflattened encoder output\n",
    "        z_image = z1.view(len(z), self.z_dim, fmw, fmh)\n",
    "        \n",
    "        return self.decoder(z_image), mean, log_var\n",
    "\n",
    "    def generate(self, noise: torch.Tensor):\n",
    "        with torch.no_grad():\n",
    "            mean, log_var = self.mu_layer(noise), self.sigma_layer(noise)\n",
    "            z = self.reparametrize(mean, log_var)\n",
    "            # convert 'z' back the size of the flattened feature map\n",
    "            z1 = self.latent_map(z)\n",
    "            # unsqueeze 'z' to match the dimensions of unflattened encoder output\n",
    "            z_image = z1.view(len(z1), self.z_dim, 4, 4)\n",
    "            return self.decoder(z_image)\n"
   ]
  },
  {
   "cell_type": "code",
   "execution_count": 4,
   "metadata": {},
   "outputs": [
    {
     "name": "stdout",
     "output_type": "stream",
     "text": [
      "torch.Size([1, 3, 32, 32])\n",
      "torch.Size([1, 128])\n",
      "torch.Size([1, 128])\n"
     ]
    },
    {
     "name": "stderr",
     "output_type": "stream",
     "text": [
      "/home/ayhem18/DEV/My_Kaggle_Repo/kaggle_env/lib/python3.11/site-packages/torch/nn/modules/lazy.py:180: UserWarning: Lazy modules are a new feature under heavy development so changes to the API or functionality can happen at any moment.\n",
      "  warnings.warn('Lazy modules are a new feature under heavy development '\n"
     ]
    }
   ],
   "source": [
    "vae_model= VAE()\n",
    "x = torch.rand(1, 3, 32, 32)\n",
    "o, mu, var = vae_model.forward(x)\n",
    "print(o.shape)\n",
    "# we can see the architecture match the baseline described in the task\n",
    "# print(vae_model)\n",
    "print(mu.shape)\n",
    "print(var.shape)"
   ]
  },
  {
   "cell_type": "markdown",
   "metadata": {},
   "source": [
    "### 2.2 Training parameters definition (10 points)\n",
    "\n",
    "- Define optimizer : Adam optimizer (default `weight_decay=1e-5, learning_rate=3e-04`)\n",
    "- Define the criterion : kl-divergence loss and reconstruction loss"
   ]
  },
  {
   "cell_type": "code",
   "execution_count": 5,
   "metadata": {},
   "outputs": [],
   "source": [
    "from torch.optim import Adam\n",
    "from torch.nn import MSELoss\n",
    "learning_rate = 3e-04 \n",
    "mse = torch.nn.MSELoss()\n",
    "vae_optimizer = Adam(vae_model.parameters(), lr=learning_rate)\n",
    "device = 'cuda' if torch.cuda.is_available() else 'cpu'\n",
    "\n",
    "def reconstruction_loss(x_reconstructed, x):\n",
    "    # define the criterion\n",
    "    criterion =  MSELoss()\n",
    "    return criterion(x_reconstructed, x)\n",
    "\n",
    "def kl_divergence_loss(mu, logvar):\n",
    "    total_loss = -0.5*torch.sum(1 + logvar - mu ** 2 - logvar.exp(), dim=1)\n",
    "    KL_loss = torch.mean(total_loss, dim=0) \n",
    "    return KL_loss"
   ]
  },
  {
   "cell_type": "markdown",
   "metadata": {},
   "source": [
    "### 2.3 VAE Training and Evaluation (15 points)\n",
    "\n",
    "- Define the training procedure and train the vae model \n",
    "- Add model evaluation every after (n batches) or (n epochs)"
   ]
  },
  {
   "cell_type": "code",
   "execution_count": 6,
   "metadata": {},
   "outputs": [],
   "source": [
    "# let's define the hyperparameters needed\n",
    "EPOCHS = 50\n",
    "# the kl divergence is expected to be larger than MSE loss, \n",
    "# thus to balance the training we will update the values of the coefficient associated with KL divergence loss\n",
    "KL_ALPHA_MIN = 10 ** -4\n",
    "KL_ALPHA_MAX = 10 ** -2"
   ]
  },
  {
   "cell_type": "code",
   "execution_count": 7,
   "metadata": {},
   "outputs": [
    {
     "name": "stdout",
     "output_type": "stream",
     "text": [
      "1e-07\n"
     ]
    },
    {
     "name": "stdout",
     "output_type": "stream",
     "text": [
      "Epoch 1/50\t KL Loss:\t15975.650198\t\tR Loss:\t0.233485\t α=1.00E-07\n",
      "1.0985411419875573e-07\n",
      "Epoch 2/50\t KL Loss:\t365.468310\t\tR Loss:\t0.178305\t α=1.10E-07\n",
      "1.2067926406393288e-07\n",
      "Epoch 3/50\t KL Loss:\t418.190581\t\tR Loss:\t0.170548\t α=1.21E-07\n",
      "1.3257113655901082e-07\n",
      "Epoch 4/50\t KL Loss:\t475.971910\t\tR Loss:\t0.164550\t α=1.33E-07\n",
      "1.4563484775012443e-07\n",
      "Epoch 5/50\t KL Loss:\t526.024247\t\tR Loss:\t0.159849\t α=1.46E-07\n",
      "1.5998587196060574e-07\n",
      "Epoch 6/50\t KL Loss:\t549.852472\t\tR Loss:\t0.157594\t α=1.60E-07\n",
      "1.757510624854793e-07\n",
      "Epoch 7/50\t KL Loss:\t567.199572\t\tR Loss:\t0.156345\t α=1.76E-07\n",
      "1.9306977288832497e-07\n",
      "Epoch 8/50\t KL Loss:\t576.864362\t\tR Loss:\t0.154965\t α=1.93E-07\n",
      "2.1209508879201927e-07\n",
      "Epoch 9/50\t KL Loss:\t580.846358\t\tR Loss:\t0.154151\t α=2.12E-07\n",
      "2.329951810515372e-07\n",
      "Epoch 10/50\t KL Loss:\t582.636687\t\tR Loss:\t0.153430\t α=2.33E-07\n",
      "2.559547922699533e-07\n",
      "Epoch 11/50\t KL Loss:\t574.237084\t\tR Loss:\t0.152450\t α=2.56E-07\n",
      "2.811768697974231e-07\n",
      "Epoch 12/50\t KL Loss:\t570.941412\t\tR Loss:\t0.152121\t α=2.81E-07\n",
      "3.0888435964774783e-07\n",
      "Epoch 13/50\t KL Loss:\t569.299204\t\tR Loss:\t0.151534\t α=3.09E-07\n",
      "3.3932217718953295e-07\n",
      "Epoch 14/50\t KL Loss:\t562.159392\t\tR Loss:\t0.151047\t α=3.39E-07\n",
      "3.727593720314938e-07\n",
      "Epoch 15/50\t KL Loss:\t557.025244\t\tR Loss:\t0.150605\t α=3.73E-07\n",
      "4.0949150623804273e-07\n",
      "Epoch 16/50\t KL Loss:\t563.920546\t\tR Loss:\t0.150274\t α=4.09E-07\n",
      "4.498432668969444e-07\n",
      "Epoch 17/50\t KL Loss:\t562.361386\t\tR Loss:\t0.149602\t α=4.50E-07\n",
      "4.941713361323838e-07\n",
      "Epoch 18/50\t KL Loss:\t552.165441\t\tR Loss:\t0.148914\t α=4.94E-07\n",
      "5.428675439323859e-07\n",
      "Epoch 19/50\t KL Loss:\t564.309151\t\tR Loss:\t0.148845\t α=5.43E-07\n",
      "5.963623316594636e-07\n",
      "Epoch 20/50\t KL Loss:\t541.273335\t\tR Loss:\t0.148266\t α=5.96E-07\n",
      "6.55128556859551e-07\n",
      "Epoch 21/50\t KL Loss:\t535.145065\t\tR Loss:\t0.148178\t α=6.55E-07\n",
      "7.196856730011514e-07\n",
      "Epoch 22/50\t KL Loss:\t525.024109\t\tR Loss:\t0.147850\t α=7.20E-07\n",
      "7.906043210907702e-07\n",
      "Epoch 23/50\t KL Loss:\t515.763580\t\tR Loss:\t0.147598\t α=7.91E-07\n",
      "8.685113737513521e-07\n",
      "Epoch 24/50\t KL Loss:\t509.389259\t\tR Loss:\t0.147393\t α=8.69E-07\n",
      "9.540954763499944e-07\n",
      "Epoch 25/50\t KL Loss:\t502.826480\t\tR Loss:\t0.147307\t α=9.54E-07\n",
      "1.0481131341546853e-06\n",
      "Epoch 26/50\t KL Loss:\t495.140598\t\tR Loss:\t0.147279\t α=1.05E-06\n",
      "1.151395399326448e-06\n",
      "Epoch 27/50\t KL Loss:\t480.680199\t\tR Loss:\t0.146908\t α=1.15E-06\n",
      "1.2648552168552959e-06\n",
      "Epoch 28/50\t KL Loss:\t470.628411\t\tR Loss:\t0.146882\t α=1.26E-06\n",
      "1.389495494373136e-06\n",
      "Epoch 29/50\t KL Loss:\t462.367209\t\tR Loss:\t0.146835\t α=1.39E-06\n",
      "1.5264179671752333e-06\n",
      "Epoch 30/50\t KL Loss:\t452.102546\t\tR Loss:\t0.146675\t α=1.53E-06\n",
      "1.6768329368110065e-06\n",
      "Epoch 31/50\t KL Loss:\t440.780771\t\tR Loss:\t0.146545\t α=1.68E-06\n",
      "1.8420699693267164e-06\n",
      "Epoch 32/50\t KL Loss:\t427.464612\t\tR Loss:\t0.146355\t α=1.84E-06\n",
      "2.0235896477251557e-06\n",
      "Epoch 33/50\t KL Loss:\t417.991266\t\tR Loss:\t0.146374\t α=2.02E-06\n",
      "2.2229964825261954e-06\n",
      "Epoch 34/50\t KL Loss:\t406.559727\t\tR Loss:\t0.146291\t α=2.22E-06\n",
      "2.4420530945486497e-06\n",
      "Epoch 35/50\t KL Loss:\t397.136688\t\tR Loss:\t0.146180\t α=2.44E-06\n",
      "2.6826957952797274e-06\n",
      "Epoch 36/50\t KL Loss:\t387.333524\t\tR Loss:\t0.146187\t α=2.68E-06\n",
      "2.94705170255181e-06\n",
      "Epoch 37/50\t KL Loss:\t374.234826\t\tR Loss:\t0.146029\t α=2.95E-06\n",
      "3.23745754281764e-06\n",
      "Epoch 38/50\t KL Loss:\t365.377933\t\tR Loss:\t0.146168\t α=3.24E-06\n",
      "3.5564803062231285e-06\n",
      "Epoch 39/50\t KL Loss:\t354.601182\t\tR Loss:\t0.146102\t α=3.56E-06\n",
      "3.906939937054613e-06\n",
      "Epoch 40/50\t KL Loss:\t343.470370\t\tR Loss:\t0.145937\t α=3.91E-06\n",
      "4.291934260128778e-06\n",
      "Epoch 41/50\t KL Loss:\t335.185346\t\tR Loss:\t0.145979\t α=4.29E-06\n",
      "4.71486636345739e-06\n",
      "Epoch 42/50\t KL Loss:\t324.053194\t\tR Loss:\t0.145758\t α=4.71E-06\n",
      "5.179474679231212e-06\n",
      "Epoch 43/50\t KL Loss:\t314.833724\t\tR Loss:\t0.145968\t α=5.18E-06\n",
      "5.689866029018293e-06\n",
      "Epoch 44/50\t KL Loss:\t308.737144\t\tR Loss:\t0.146006\t α=5.69E-06\n",
      "6.250551925273976e-06\n",
      "Epoch 45/50\t KL Loss:\t298.938897\t\tR Loss:\t0.145999\t α=6.25E-06\n",
      "6.866488450042998e-06\n",
      "Epoch 46/50\t KL Loss:\t291.361953\t\tR Loss:\t0.145919\t α=6.87E-06\n",
      "7.543120063354607e-06\n",
      "Epoch 47/50\t KL Loss:\t282.299521\t\tR Loss:\t0.145875\t α=7.54E-06\n",
      "8.286427728546843e-06\n",
      "Epoch 48/50\t KL Loss:\t274.648082\t\tR Loss:\t0.145960\t α=8.29E-06\n",
      "9.102981779915228e-06\n",
      "Epoch 49/50\t KL Loss:\t266.051124\t\tR Loss:\t0.145891\t α=9.10E-06\n",
      "1e-05\n",
      "Epoch 50/50\t KL Loss:\t259.004333\t\tR Loss:\t0.146014\t α=1.00E-05\n"
     ]
    }
   ],
   "source": [
    "import numpy as np\n",
    "np.random.seed(69)\n",
    "torch.manual_seed(69)\n",
    "vae_model.to(device)\n",
    "\n",
    "for epoch, alpha in zip(range(1, EPOCHS + 1), np.logspace(start=-7, stop=-5., num=EPOCHS)):\n",
    "    print(alpha)\n",
    "    KL_epoch_loss = 0\n",
    "    R_epoch_loss = 0\n",
    "    num_steps = 0\n",
    "\n",
    "    for (x, _) in trainloader:\n",
    "        x = x.to(device)\n",
    "        x_pred, mu, log_sigma = vae_model(x)\n",
    "\n",
    "        # calculate the losses\n",
    "        r_loss = reconstruction_loss(x_pred, x)\n",
    "        kl_loss = kl_divergence_loss(mu=mu, logvar=log_sigma)\n",
    "\n",
    "        total_loss = r_loss + alpha * kl_loss\n",
    "\n",
    "        vae_optimizer.zero_grad()\n",
    "        total_loss.backward()\n",
    "        vae_optimizer.step()\n",
    "\n",
    "        num_steps += 1\n",
    "\n",
    "        KL_epoch_loss += kl_loss.item()\n",
    "        R_epoch_loss += r_loss.item()\n",
    "\n",
    "    \n",
    "    print(\"Epoch {}/{}\\t KL Loss:\\t{:.6f}\\t\\tR Loss:\\t{:.6f}\\t α={:.2E}\"\n",
    "        .format(epoch, EPOCHS, KL_epoch_loss / num_steps, R_epoch_loss / num_steps, alpha))\n",
    "\n"
   ]
  },
  {
   "cell_type": "markdown",
   "metadata": {},
   "source": [
    "### 2.4 Images generation (5 points)\n",
    "\n",
    "- Implement a function that will take the number of images to be generated, generate images using the previously implemented vae and save them to folder"
   ]
  },
  {
   "cell_type": "code",
   "execution_count": 8,
   "metadata": {},
   "outputs": [],
   "source": [
    "import cv2\n",
    "from typing import Union\n",
    "def display_image(image: Union[np.ndarray, torch.Tensor]):\n",
    "    if isinstance(image, torch.Tensor):\n",
    "        image = image.detach().permute(1, 2, 0).cpu().numpy()\n",
    "\n",
    "    cv2.imshow('image', image)\n",
    "    cv2.waitKey(0)\n",
    "    cv2.destroyWindow(winname='image')\n",
    "    return image\n",
    "    \n",
    "import matplotlib.pyplot as plt\n",
    "\n",
    "def plot_images(images,\n",
    "                captions= None,\n",
    "                rows=2,\n",
    "                columns=5,\n",
    "                title=\"\", **kwargs):\n",
    "    \"\"\"\n",
    "    Plots images with captions\n",
    "\n",
    "    :param images: list of images to plot\n",
    "    :param captions: captions of images:\n",
    "    :param rows: number of rows in figure\n",
    "    :param columns: number of columns:\n",
    "    :param title: super title of figure\n",
    "    \"\"\"\n",
    "    fig = plt.figure(figsize=(6, 3))\n",
    "    for i, img in enumerate(images):\n",
    "        fig.add_subplot(rows, columns, i + 1)\n",
    "        plt.imshow(img, **kwargs)\n",
    "\n",
    "        if captions is not None:\n",
    "            if i < len(captions):\n",
    "                plt.title(captions[i])\n",
    "        \n",
    "        plt.axis(\"off\")\n",
    "    fig.suptitle(title)\n",
    "    plt.show()"
   ]
  },
  {
   "cell_type": "code",
   "execution_count": 9,
   "metadata": {},
   "outputs": [],
   "source": [
    "import os\n",
    "torch.manual_seed(69)\n",
    "\n",
    "def generate_images(num_images=5, model=vae_model, dir_path: str = None):\n",
    "\n",
    "    if dir_path is None:\n",
    "        dir_path = os.getcwd()\n",
    "    \n",
    "    images =  model.generate(torch.rand(num_images, 2048).to(device))\n",
    "    for index, i in enumerate(images):\n",
    "        i_numpy = display_image(i)\n",
    "        cv2.imwrite(os.path.join(dir_path, f'image_{index}.jpg'), i_numpy)\n",
    "\n",
    "# generate_images(num_images=5, model=vae_model)\n"
   ]
  },
  {
   "cell_type": "code",
   "execution_count": 10,
   "metadata": {},
   "outputs": [
    {
     "data": {
      "text/plain": [
       "'cuda'"
      ]
     },
     "execution_count": 10,
     "metadata": {},
     "output_type": "execute_result"
    }
   ],
   "source": [
    "device"
   ]
  },
  {
   "cell_type": "code",
   "execution_count": 15,
   "metadata": {},
   "outputs": [
    {
     "name": "stderr",
     "output_type": "stream",
     "text": [
      "Clipping input data to the valid range for imshow with RGB data ([0..1] for floats or [0..255] for integers).\n",
      "Clipping input data to the valid range for imshow with RGB data ([0..1] for floats or [0..255] for integers).\n"
     ]
    },
    {
     "data": {
      "image/png": "[encoded data removed]",
      "text/plain": [
       "<Figure size 600x300 with 2 Axes>"
      ]
     },
     "metadata": {},
     "output_type": "display_data"
    },
    {
     "name": "stderr",
     "output_type": "stream",
     "text": [
      "Clipping input data to the valid range for imshow with RGB data ([0..1] for floats or [0..255] for integers).\n",
      "Clipping input data to the valid range for imshow with RGB data ([0..1] for floats or [0..255] for integers).\n"
     ]
    },
    {
     "data": {
      "image/png": "[encoded data removed]",
      "text/plain": [
       "<Figure size 600x300 with 2 Axes>"
      ]
     },
     "metadata": {},
     "output_type": "display_data"
    },
    {
     "name": "stderr",
     "output_type": "stream",
     "text": [
      "Clipping input data to the valid range for imshow with RGB data ([0..1] for floats or [0..255] for integers).\n"
     ]
    },
    {
     "data": {
      "image/png": "[encoded data removed]",
      "text/plain": [
       "<Figure size 600x300 with 2 Axes>"
      ]
     },
     "metadata": {},
     "output_type": "display_data"
    },
    {
     "name": "stderr",
     "output_type": "stream",
     "text": [
      "Clipping input data to the valid range for imshow with RGB data ([0..1] for floats or [0..255] for integers).\n"
     ]
    },
    {
     "data": {
      "image/png": "[encoded data removed]",
      "text/plain": [
       "<Figure size 600x300 with 2 Axes>"
      ]
     },
     "metadata": {},
     "output_type": "display_data"
    },
    {
     "name": "stderr",
     "output_type": "stream",
     "text": [
      "Clipping input data to the valid range for imshow with RGB data ([0..1] for floats or [0..255] for integers).\n"
     ]
    },
    {
     "data": {
      "image/png": "[encoded data removed]",
      "text/plain": [
       "<Figure size 600x300 with 2 Axes>"
      ]
     },
     "metadata": {},
     "output_type": "display_data"
    }
   ],
   "source": [
    "vae_model.to(device)\n",
    "for x, _ in trainloader:\n",
    "    x = x.to(device)\n",
    "    with torch.no_grad():\n",
    "        x_generated, mu, sigma = vae_model(x)\n",
    "        # plot_images(x_generated[:5])\n",
    "        for g, r in zip(x_generated[:5].cpu(), x[:5].cpu()):\n",
    "            x_r_image = r.detach().permute(1, 2, 0).cpu().numpy()\n",
    "            x_g_image = g.detach().permute(1, 2, 0).cpu().numpy()\n",
    "            plot_images([x_g_image, x_r_image], captions=['generated', 'real'])\n",
    "    \n",
    "    break"
   ]
  },
  {
   "cell_type": "markdown",
   "metadata": {},
   "source": [
    "## Bonus task (50 points)\n",
    "\n",
    "- Grading for the bonus task is binary (its eighter you get it all correct or zero) -- One mistake equals zero \n",
    "- The bonus points scope is the midterm lab exam only (bonus points cannot be tranfered to other parts of the course)\n",
    "- Implement a conditional GAN for CIFAR 10 data\n",
    "- Train and evaluate cGAN \n",
    "- Log the training and validation perfomace metrics to `TensorBoard`\n",
    "- Implement a function that will take a condition, generate images using the previously implemented conditional GAN and visualize the result"
   ]
  },
  {
   "cell_type": "code",
   "execution_count": null,
   "metadata": {},
   "outputs": [],
   "source": [
    "## Your code here"
   ]
  },
  {
   "cell_type": "code",
   "execution_count": null,
   "metadata": {},
   "outputs": [],
   "source": []
  }
 ],
 "metadata": {
  "kernelspec": {
   "display_name": "ms-ml-2023-_Jg3l2dS-py3.9",
   "language": "python",
   "name": "python3"
  },
  "language_info": {
   "codemirror_mode": {
    "name": "ipython",
    "version": 3
   },
   "file_extension": ".py",
   "mimetype": "text/x-python",
   "name": "python",
   "nbconvert_exporter": "python",
   "pygments_lexer": "ipython3",
   "version": "3.11.5"
  }
 },
 "nbformat": 4,
 "nbformat_minor": 2
}
