{
 "cells": [
  {
   "cell_type": "markdown",
   "metadata": {},
   "source": [
    "# Data and imports"
   ]
  },
  {
   "cell_type": "code",
   "execution_count": 9,
   "metadata": {},
   "outputs": [
    {
     "data": {
      "text/plain": [
       "<torch._C.Generator at 0x7f3ba05fde50>"
      ]
     },
     "execution_count": 9,
     "metadata": {},
     "output_type": "execute_result"
    }
   ],
   "source": [
    "import torch\n",
    "from torch import nn\n",
    "import numpy as np\n",
    "import random \n",
    "\n",
    "# let's first set the random seeds \n",
    "random.seed(69)\n",
    "np.random.seed(69)\n",
    "torch.manual_seed(69)"
   ]
  },
  {
   "cell_type": "code",
   "execution_count": 10,
   "metadata": {},
   "outputs": [],
   "source": [
    "import os, sys\n",
    "from pathlib import Path\n",
    "\n",
    "HOME = os.getcwd()\n",
    "DATA_FOLDER = os.path.join(HOME, 'data') \n",
    "current = HOME\n",
    "\n",
    "\n",
    "\n",
    "while 'pytorch_modular' not in os.listdir(current):\n",
    "    current = Path(current).parent\n",
    "\n",
    "sys.path.append(str(current))\n",
    "sys.path.append(os.path.join(current, 'pytorch_modular'))\n"
   ]
  },
  {
   "cell_type": "code",
   "execution_count": 11,
   "metadata": {},
   "outputs": [],
   "source": [
    "# first load the MNIST dataset.\n",
    "from torch.utils.data import Dataset\n",
    "from torchvision.datasets import MNIST\n",
    "from torch.utils.data import DataLoader\n",
    "from torchvision import transforms as tr\n",
    "\n",
    "mnist_train = MNIST(root=DATA_FOLDER, train=True, download=True, transform=tr.Compose([tr.ToTensor(), lambda x: x.reshape(-1)]))\n",
    "mnist_test = MNIST(root=DATA_FOLDER, train=False, download=True, transform=tr.Compose([tr.ToTensor(), lambda x: x.reshape(-1)]))\n",
    "\n",
    "from sklearn.model_selection import train_test_split\n",
    "# create the val split\n",
    "mnist_train, mnist_val = train_test_split(mnist_train, random_state=69, test_size=0.1)"
   ]
  },
  {
   "cell_type": "code",
   "execution_count": 12,
   "metadata": {},
   "outputs": [],
   "source": [
    "\n",
    "# since the task is not classification, a new dataset should be created to fit our training objectives\n",
    "class GenerativeWrapper(Dataset):\n",
    "    def __init__(self, data: Dataset) -> None:\n",
    "        super().__init__()\n",
    "        self.original_data = data\n",
    "\n",
    "    def __getitem__(self, index):\n",
    "        data, _ = self.original_data.__getitem__(index)\n",
    "        return (data, data)\n",
    "    \n",
    "    def __len__(self):\n",
    "        return len(self.original_data)\n",
    "    \n",
    "# wrap the different splits\n",
    "mnist_train = GenerativeWrapper(mnist_train)\n",
    "mnist_val = GenerativeWrapper(mnist_val)\n",
    "mnist_test = GenerativeWrapper(mnist_test)"
   ]
  },
  {
   "cell_type": "code",
   "execution_count": 13,
   "metadata": {},
   "outputs": [
    {
     "name": "stdout",
     "output_type": "stream",
     "text": [
      "torch.Size([512, 784])\n",
      "torch.Size([512, 784])\n"
     ]
    }
   ],
   "source": [
    "# create dataloader\n",
    "train_dl = DataLoader(dataset=mnist_train, \n",
    "                      batch_size=512, \n",
    "                      shuffle=True,\n",
    "                      pin_memory=True,\n",
    "                      drop_last=True,\n",
    "                      num_workers=os.cpu_count() // 2, \n",
    "                      ) \n",
    "\n",
    "val_dl = DataLoader(dataset=mnist_val, \n",
    "                    batch_size=512, \n",
    "                    shuffle=False,\n",
    "                    pin_memory=True,\n",
    "                    drop_last=False,\n",
    "                    num_workers=os.cpu_count() // 2) \n",
    "\n",
    "test_dl = DataLoader(dataset=mnist_test, \n",
    "                    batch_size=512, \n",
    "                    shuffle=False,\n",
    "                    pin_memory=True,\n",
    "                    drop_last=False,\n",
    "                    num_workers=os.cpu_count() // 2) \n",
    "\n",
    "for im, label in train_dl:\n",
    "    print(im.shape)\n",
    "    print(label.shape)\n",
    "    break"
   ]
  },
  {
   "cell_type": "markdown",
   "metadata": {},
   "source": [
    "Having the building blocks ready, let's write ourselves an undercomplete autoencoder."
   ]
  },
  {
   "cell_type": "markdown",
   "metadata": {},
   "source": [
    "# Training Undercomplete AE"
   ]
  },
  {
   "cell_type": "code",
   "execution_count": 14,
   "metadata": {},
   "outputs": [
    {
     "ename": "NameError",
     "evalue": "name 'shit' is not defined",
     "output_type": "error",
     "traceback": [
      "\u001b[0;31m---------------------------------------------------------------------------\u001b[0m",
      "\u001b[0;31mNameError\u001b[0m                                 Traceback (most recent call last)",
      "\u001b[1;32m/home/ayhem18/DEV/My_Kaggle_Repo/autoencoders/exp.ipynb Cell 9\u001b[0m line \u001b[0;36m1\n\u001b[0;32m----> <a href='vscode-notebook-cell:/home/ayhem18/DEV/My_Kaggle_Repo/autoencoders/exp.ipynb#X11sZmlsZQ%3D%3D?line=0'>1</a>\u001b[0m shit\n\u001b[1;32m      <a href='vscode-notebook-cell:/home/ayhem18/DEV/My_Kaggle_Repo/autoencoders/exp.ipynb#X11sZmlsZQ%3D%3D?line=2'>3</a>\u001b[0m \u001b[39mfrom\u001b[39;00m \u001b[39mbuilding_blocks\u001b[39;00m \u001b[39mimport\u001b[39;00m BasicAutoEncoder\n\u001b[1;32m      <a href='vscode-notebook-cell:/home/ayhem18/DEV/My_Kaggle_Repo/autoencoders/exp.ipynb#X11sZmlsZQ%3D%3D?line=3'>4</a>\u001b[0m \u001b[39mfrom\u001b[39;00m \u001b[39mpytorch_modular\u001b[39;00m\u001b[39m.\u001b[39;00m\u001b[39mimage_classification\u001b[39;00m \u001b[39mimport\u001b[39;00m engine_classification \u001b[39mas\u001b[39;00m engine\n",
      "\u001b[0;31mNameError\u001b[0m: name 'shit' is not defined"
     ]
    }
   ],
   "source": [
    "shit\n",
    "\n",
    "from building_blocks import BasicAutoEncoder\n",
    "from pytorch_modular.image_classification import engine_classification as engine\n",
    "from torch.optim import Adam \n",
    "from torch.optim.lr_scheduler import LinearLR\n",
    "from torch.nn import MSELoss\n",
    "\n",
    "\n",
    "model = BasicAutoEncoder(in_features=784, bottleneck=256, num_layers=1)\n",
    "\n",
    "# training     \n",
    "DEVICE = 'cuda' if torch.cuda.is_available() else 'cpu'\n",
    "optimizer = Adam(model.parameters(), lr=0.01)\n",
    "scheduler = LinearLR(optimizer=optimizer, start_factor=1, end_factor=0.05, total_iters=100)\n",
    "\n",
    "output_layer = lambda x: x\n",
    "loss_function = MSELoss().to(DEVICE)\n",
    "\n",
    "train_configuration = {\"optimizer\": optimizer, \n",
    "                    'scheduler': scheduler,\n",
    "                    'output_layer': output_layer,\n",
    "                    'loss_function': loss_function,\n",
    "                    'min_val_loss': 10 ** -4,\n",
    "                    'max_epochs': 25,\n",
    "                    'report_epoch': 5,\n",
    "                    'metrics': {}\n",
    "                    }\n",
    "\n",
    "best_model, train_results = engine.train_model(model=model, \n",
    "                    train_dataloader=train_dl, \n",
    "                    test_dataloader=val_dl, \n",
    "                    train_configuration=train_configuration,\n",
    "                    log_dir=os.path.join(HOME, 'runs'),\n",
    "                    )"
   ]
  },
  {
   "cell_type": "code",
   "execution_count": null,
   "metadata": {},
   "outputs": [],
   "source": [
    "def test_iterator():\n",
    "    for data, _ in test_dl:\n",
    "        yield data\n",
    "        \n",
    "import importlib\n",
    "importlib.reload(engine)\n",
    "predictions = engine.inference(model, inference_source_data=test_iterator(), output_layer=output_layer)"
   ]
  },
  {
   "cell_type": "code",
   "execution_count": null,
   "metadata": {},
   "outputs": [
    {
     "data": {
      "image/png": "[encoded data removed]",
      "text/plain": [
       "<Figure size 600x300 with 2 Axes>"
      ]
     },
     "metadata": {},
     "output_type": "display_data"
    },
    {
     "data": {
      "image/png": "[encoded data removed]",
      "text/plain": [
       "<Figure size 600x300 with 2 Axes>"
      ]
     },
     "metadata": {},
     "output_type": "display_data"
    },
    {
     "data": {
      "image/png": "[encoded data removed]",
      "text/plain": [
       "<Figure size 600x300 with 2 Axes>"
      ]
     },
     "metadata": {},
     "output_type": "display_data"
    },
    {
     "data": {
      "image/png": "[encoded data removed]",
      "text/plain": [
       "<Figure size 600x300 with 2 Axes>"
      ]
     },
     "metadata": {},
     "output_type": "display_data"
    },
    {
     "data": {
      "image/png": "[encoded data removed]",
      "text/plain": [
       "<Figure size 600x300 with 2 Axes>"
      ]
     },
     "metadata": {},
     "output_type": "display_data"
    }
   ],
   "source": [
    "from pytorch_modular.visual import plot_images\n",
    "for data, lable in test_dl:\n",
    "    data = data.cpu().numpy()[:5]\n",
    "    preds = predictions[:5]\n",
    "    for i, p in zip(data,preds):\n",
    "        # first reshape both images\n",
    "        i = i.reshape(28, 28)\n",
    "        p = p.reshape(28, 28)\n",
    "        plot_images([i, p], captions=['original', 'generated'])\n",
    "    break\n"
   ]
  },
  {
   "cell_type": "markdown",
   "metadata": {},
   "source": [
    "# SparseAutoEncoder\n",
    "What if we can make the model a bit larger, with both more hidden units and layers ? This would require imposing constraints on different aspects of the model or the model's training. Thus, It is the time for the sparse auto-encoder to shine !!"
   ]
  },
  {
   "cell_type": "code",
   "execution_count": 15,
   "metadata": {},
   "outputs": [],
   "source": [
    "from building_blocks import SparseAutoEncoder\n",
    "from pytorch_modular.image_classification import engine_classification as engine\n",
    "from torch.optim import Adam \n",
    "from torch.optim.lr_scheduler import LinearLR\n",
    "from torch.nn import MSELoss\n",
    "\n",
    "from pytorch_modular.pytorch_utilities import get_module_device\n",
    "from typing import Tuple, List\n",
    "\n",
    "\n",
    "model = SparseAutoEncoder(in_features=784, \n",
    "                            bottleneck=1024, \n",
    "                            num_layers=3, \n",
    "                            encoder_sparse_layers=1, \n",
    "                            decoder_sparse_layers=1, \n",
    "                            activation='relu')\n",
    "# the loss associated with the sparse AE is not straightforward and thus should be written and fed to teh training functionalities\n",
    "\n",
    "def compute_loss(model_output: Tuple[torch.Tensor, List[torch.Tensor]], \n",
    "                y: torch.Tensor,\n",
    "                activation_threshold: float, \n",
    "                alpha: float, \n",
    "                epsilon: float = 10 ** -5 \n",
    "                ):\n",
    "    \n",
    "    device = get_module_device(model)\n",
    "\n",
    "    # first decouple the data from \n",
    "    x, activations = model_output\n",
    "    # activations are expected to a list of N torch.Tensors where each element is the activations of a layer across the entire  \n",
    "    mse_loss = MSELoss()(x, y)\n",
    "    sparse_loss = torch.zeros(1).to(device=device)\n",
    "    \n",
    "    kl_loss_function = nn.KLDivLoss(reduction='batchmean').to(device=device)\n",
    "\n",
    "    # iterate through each of the activation layers\n",
    "    # we just need to compute\n",
    "    \n",
    "\n",
    "    for a in activations:\n",
    "        if a.dim() != 2:\n",
    "            raise ValueError((f\"The activations are expected to be 1-dimensional\\n\"\n",
    "                            f\"Found: {a.dim() - 1} dimensions\"))\n",
    "        if not torch.all(a >= 0):\n",
    "            raise ValueError(f\"The activations are expected to be positive. Please make sure to use the 'ReLU' activation\")\n",
    "        \n",
    "        # adding a small epsilon to avoid issues with log of '0'\n",
    "        a = (a + epsilon).log()\n",
    "        # the target should be \n",
    "        temp_loss = kl_loss_function(a, torch.full(size=a.shape, fill_value=activation_threshold).to(device=device)).abs()\n",
    "        sparse_loss += temp_loss\n",
    "\n",
    "    # divide by the number of activations\n",
    "    sparse_loss /= len(activations)\n",
    "\n",
    "    # return a linear combination of the mse_loss and sparse_loss\n",
    "    return mse_loss + alpha * sparse_loss\n",
    "\n"
   ]
  },
  {
   "cell_type": "code",
   "execution_count": 16,
   "metadata": {},
   "outputs": [
    {
     "name": "stdout",
     "output_type": "stream",
     "text": [
      "[INFO] Created SummaryWriter, saving to: /home/ayhem18/DEV/My_Kaggle_Repo/autoencoders/runs/experience_6...\n"
     ]
    },
    {
     "name": "stderr",
     "output_type": "stream",
     "text": [
      "  4%|▍         | 1/25 [00:01<00:32,  1.35s/it]"
     ]
    },
    {
     "name": "stdout",
     "output_type": "stream",
     "text": [
      "#########################\n",
      "training loss: 8.113644894957542\n",
      "validation loss : 3.1312998632589975\n",
      "#########################\n"
     ]
    },
    {
     "name": "stderr",
     "output_type": "stream",
     "text": [
      " 24%|██▍       | 6/25 [00:07<00:24,  1.28s/it]"
     ]
    },
    {
     "name": "stdout",
     "output_type": "stream",
     "text": [
      "#########################\n",
      "training loss: 0.7493347642677171\n",
      "validation loss : 1.0479421007136505\n",
      "#########################\n"
     ]
    },
    {
     "name": "stderr",
     "output_type": "stream",
     "text": [
      " 44%|████▍     | 11/25 [00:14<00:17,  1.25s/it]"
     ]
    },
    {
     "name": "stdout",
     "output_type": "stream",
     "text": [
      "#########################\n",
      "training loss: 0.5526890780244554\n",
      "validation loss : 1.8221179445584614\n",
      "#########################\n"
     ]
    },
    {
     "name": "stderr",
     "output_type": "stream",
     "text": [
      " 64%|██████▍   | 16/25 [00:20<00:11,  1.29s/it]"
     ]
    },
    {
     "name": "stdout",
     "output_type": "stream",
     "text": [
      "#########################\n",
      "training loss: 0.4672983116337231\n",
      "validation loss : 1.2339477588733037\n",
      "#########################\n"
     ]
    },
    {
     "name": "stderr",
     "output_type": "stream",
     "text": [
      " 84%|████████▍ | 21/25 [00:27<00:05,  1.30s/it]"
     ]
    },
    {
     "name": "stdout",
     "output_type": "stream",
     "text": [
      "#########################\n",
      "training loss: 0.42769623569079807\n",
      "validation loss : 0.7090456336736679\n",
      "#########################\n"
     ]
    },
    {
     "name": "stderr",
     "output_type": "stream",
     "text": [
      "100%|██████████| 25/25 [00:32<00:00,  1.28s/it]\n"
     ]
    }
   ],
   "source": [
    "import importlib\n",
    "importlib.reload(engine)\n",
    "# training     \n",
    "# DEVICE = 'cuda' if torch.cuda.is_available() else 'cpu'\n",
    "optimizer = Adam(model.parameters(), lr=0.01)\n",
    "scheduler = LinearLR(optimizer=optimizer, start_factor=1, end_factor=0.05, total_iters=100)\n",
    "\n",
    "output_layer = lambda x: x\n",
    "# loss_function = MSELoss().to(DEVICE)\n",
    "\n",
    "train_configuration = {\"optimizer\": optimizer, \n",
    "                    'scheduler': scheduler,\n",
    "                    'min_val_loss': 10 ** -4,\n",
    "                    'max_epochs': 25,\n",
    "                    'report_epoch': 5,\n",
    "                    'metrics': {},\n",
    "                    'output_layer': output_layer,\n",
    "                    'compute_loss': compute_loss, \n",
    "                    'compute_loss_kwargs': {\"activation_threshold\": 0.05, \"alpha\": 0.5}\n",
    "                    }\n",
    "\n",
    "best_model, train_results = engine.train_model(model=model, \n",
    "                    train_dataloader=train_dl, \n",
    "                    test_dataloader=val_dl, \n",
    "                    train_configuration=train_configuration,\n",
    "                    log_dir=os.path.join(HOME, 'runs'),\n",
    "                    )"
   ]
  },
  {
   "cell_type": "code",
   "execution_count": 18,
   "metadata": {},
   "outputs": [],
   "source": [
    "def test_iterator():\n",
    "    for data, _ in test_dl:\n",
    "        yield data\n",
    "        \n",
    "import importlib\n",
    "importlib.reload(engine)\n",
    "predictions = engine.inference(model, inference_source_data=test_iterator(), output_layer=lambda x: x[0])"
   ]
  },
  {
   "cell_type": "code",
   "execution_count": 19,
   "metadata": {},
   "outputs": [
    {
     "data": {
      "text/plain": [
       "array([[-5.62223978e-03, -1.92313734e-03,  5.73843718e-04, ...,\n",
       "         2.27078423e-03, -5.31845726e-03, -2.22465564e-02],\n",
       "       [ 1.27100265e-02,  1.31544666e-02,  1.44156963e-02, ...,\n",
       "         1.48724020e-03,  4.64250147e-03,  9.36044753e-03],\n",
       "       [-4.19235788e-03,  3.53256636e-03,  7.72062084e-03, ...,\n",
       "         8.42429604e-03, -6.98903669e-03, -9.66644660e-03],\n",
       "       [ 7.30117969e-03,  8.15535709e-03, -3.28273512e-04, ...,\n",
       "        -5.41950064e-03, -2.45571509e-03, -7.33695924e-06],\n",
       "       [-9.16693453e-03, -5.46665071e-03,  8.04939028e-03, ...,\n",
       "         5.55244926e-03,  2.07500905e-03, -2.14190260e-02]])"
      ]
     },
     "execution_count": 19,
     "metadata": {},
     "output_type": "execute_result"
    }
   ],
   "source": []
  },
  {
   "cell_type": "code",
   "execution_count": null,
   "metadata": {},
   "outputs": [],
   "source": []
  }
 ],
 "metadata": {
  "kernelspec": {
   "display_name": "kaggle_env",
   "language": "python",
   "name": "python3"
  },
  "language_info": {
   "codemirror_mode": {
    "name": "ipython",
    "version": 3
   },
   "file_extension": ".py",
   "mimetype": "text/x-python",
   "name": "python",
   "nbconvert_exporter": "python",
   "pygments_lexer": "ipython3",
   "version": "3.11.5"
  }
 },
 "nbformat": 4,
 "nbformat_minor": 2
}
