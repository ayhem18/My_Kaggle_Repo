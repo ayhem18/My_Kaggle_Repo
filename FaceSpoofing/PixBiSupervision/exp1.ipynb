{
 "cells": [
  {
   "cell_type": "code",
   "execution_count": 12,
   "metadata": {
    "ExecuteTime": {
     "end_time": "2023-09-30T13:38:15.513613632Z",
     "start_time": "2023-09-30T13:38:14.633075278Z"
    }
   },
   "outputs": [
    {
     "name": "stdout",
     "output_type": "stream",
     "text": [
      "tensor([0.4098, 0.3107, 0.1577, 0.4388])\n",
      "tensor(1.1828)\n",
      "<class 'torch.Tensor'>\n"
     ]
    }
   ],
   "source": [
    "import torch\n",
    "from torch import nn\n",
    "tensor = torch.rand(4)\n",
    "print(tensor)\n",
    "\n",
    "t = torch.flatten(tensor)\n",
    "loss = nn.BCELoss()\n",
    "# res = loss(t, torch.tensor([1]).float())\n",
    "\n",
    "res = loss(t, torch.full(tuple(t.shape), fill_value=1).float())\n",
    "print(torch.mean(-torch.log(tensor))) \n",
    "print(type(res))"
   ]
  },
  {
   "cell_type": "code",
   "execution_count": 13,
   "metadata": {
    "ExecuteTime": {
     "end_time": "2023-09-30T13:38:15.521826545Z",
     "start_time": "2023-09-30T13:38:15.514410026Z"
    },
    "collapsed": false
   },
   "outputs": [],
   "source": [
    "import os\n",
    "import sys\n",
    "from pathlib import Path\n",
    "\n",
    "script_dir = os.getcwd()\n",
    "DATA_FOLDER = os.path.join(script_dir, 'training', 'data')\n",
    "current = script_dir\n",
    "while 'src' not in os.listdir(current):\n",
    "    current = Path(current).parent\n",
    "\n",
    "sys.path.append(str(current))\n",
    "sys.path.append(os.path.join(str(current), 'FaceSpoofing'))\n"
   ]
  },
  {
   "cell_type": "code",
   "execution_count": 16,
   "metadata": {
    "ExecuteTime": {
     "end_time": "2023-09-30T13:39:04.193537571Z",
     "start_time": "2023-09-30T13:39:04.147557274Z"
    }
   },
   "outputs": [],
   "source": [
    "import shutil\n",
    "import src.pytorch_modular.directories_and_files as dirf\n",
    "\n",
    "\n",
    "RAW_DATA = os.path.join(DATA_FOLDER, 'raw')\n",
    "if os.path.isdir(RAW_DATA):\n",
    "    shutil.rmtree(RAW_DATA)\n",
    "\n",
    "dirf.unzip_data_file(os.path.join(DATA_FOLDER, 'raw.zip'))\n",
    "dirf.squeeze_directory(RAW_DATA)\n",
    "# remove any non directories in RAW_DATA folder\n",
    "# rename\n",
    "os.rename(os.path.join(RAW_DATA, 'ClientRaw'), os.path.join(RAW_DATA, 'real'))\n",
    "os.rename(os.path.join(RAW_DATA, 'ImposterRaw'), os.path.join(RAW_DATA, 'fake'))\n",
    "\n",
    "initial_raw_data = os.listdir(RAW_DATA)\n",
    "for f in initial_raw_data:\n",
    "    pf = os.path.join(RAW_DATA, f)\n",
    "    if not os.path.isdir(pf):\n",
    "        os.remove(pf)\n",
    "\n",
    "raw1 = os.path.join(DATA_FOLDER, 'raw', 'real')\n",
    "raw0 = os.path.join(DATA_FOLDER, 'raw', 'fake')\n",
    "\n",
    "\n",
    "initial_dirs1 = os.listdir(raw1)\n",
    "initial_dirs0 = os.listdir(raw0)\n"
   ]
  },
  {
   "cell_type": "code",
   "execution_count": 17,
   "metadata": {
    "ExecuteTime": {
     "end_time": "2023-09-30T13:38:15.710369438Z",
     "start_time": "2023-09-30T13:38:15.709838723Z"
    }
   },
   "outputs": [],
   "source": [
    "for raw1_dir in initial_dirs1:\n",
    "    path_dir = os.path.join(raw1, raw1_dir)\n",
    "    if os.path.isdir(path_dir) and not str(raw1_dir).endswith('.db'):\n",
    "        dirf.copy_directories(path_dir, raw1, copy=False, filter_directories=lambda x: not x.endswith('.db'))   \n",
    "    else:\n",
    "        os.remove(path_dir)\n",
    "    # remove the directory at the end\n",
    "    shutil.rmtree(path_dir)\n",
    "        \n",
    "for raw0_dir in initial_dirs0:\n",
    "    path_dir = os.path.join(raw0, raw0_dir)\n",
    "\n",
    "    if os.path.isdir(path_dir) and not str(raw0_dir).endswith('.db'):\n",
    "        dirf.copy_directories(path_dir, raw0,copy=False, filter_directories=lambda x: not x.endswith('.db'))\n",
    "    else:\n",
    "        os.remove(path_dir)\n",
    "    shutil.rmtree(path_dir)\n"
   ]
  },
  {
   "cell_type": "code",
   "execution_count": 18,
   "metadata": {
    "ExecuteTime": {
     "end_time": "2023-09-30T13:39:08.487526641Z",
     "start_time": "2023-09-30T13:39:08.484834482Z"
    }
   },
   "outputs": [],
   "source": [
    "# let's put everything together\n",
    "TRAIN_DIR = os.path.join(DATA_FOLDER, 'train')\n",
    "TEST_DIR = os.path.join(DATA_FOLDER, 'test')\n",
    "\n",
    "if os.path.isdir(TRAIN_DIR):\n",
    "    shutil.rmtree(TRAIN_DIR)\n",
    "    os.makedirs(TRAIN_DIR)\n",
    "\n",
    "if os.path.isdir(TEST_DIR):\n",
    "    shutil.rmtree(TEST_DIR)\n",
    "    os.makedirs(TEST_DIR)"
   ]
  },
  {
   "cell_type": "code",
   "execution_count": 19,
   "metadata": {
    "ExecuteTime": {
     "end_time": "2023-09-30T13:39:09.016652710Z",
     "start_time": "2023-09-30T13:39:09.013391133Z"
    }
   },
   "outputs": [],
   "source": [
    "# pass a portion of the dataset to the training dir\n",
    "dirf.dataset_portion(RAW_DATA, TRAIN_DIR, portion=0.9, copy=False)\n",
    "dirf.copy_directories(RAW_DATA, TEST_DIR, copy=False)"
   ]
  },
  {
   "cell_type": "code",
   "execution_count": 20,
   "metadata": {
    "ExecuteTime": {
     "start_time": "2023-09-30T13:47:23.574990947Z"
    },
    "is_executing": true
   },
   "outputs": [
    {
     "name": "stdout",
     "output_type": "stream",
     "text": [
      "cuda\n",
      "batch 2 processed !!\n",
      "batch 3 processed !!\n",
      "batch 4 processed !!\n",
      "batch 5 processed !!\n",
      "batch 6 processed !!\n",
      "batch 7 processed !!\n",
      "batch 8 processed !!\n",
      "batch 9 processed !!\n",
      "batch 10 processed !!\n",
      "batch 11 processed !!\n",
      "batch 12 processed !!\n",
      "batch 13 processed !!\n",
      "batch 14 processed !!\n",
      "batch 15 processed !!\n",
      "batch 16 processed !!\n",
      "batch 17 processed !!\n",
      "batch 18 processed !!\n",
      "batch 19 processed !!\n",
      "batch 20 processed !!\n",
      "batch 21 processed !!\n",
      "batch 22 processed !!\n",
      "batch 23 processed !!\n",
      "batch 24 processed !!\n",
      "batch 25 processed !!\n",
      "batch 26 processed !!\n",
      "batch 27 processed !!\n",
      "batch 28 processed !!\n",
      "batch 2 processed !!\n",
      "batch 3 processed !!\n",
      "batch 4 processed !!\n",
      "batch 5 processed !!\n",
      "batch 6 processed !!\n",
      "batch 7 processed !!\n",
      "batch 8 processed !!\n",
      "batch 9 processed !!\n",
      "batch 10 processed !!\n",
      "batch 11 processed !!\n",
      "batch 12 processed !!\n",
      "batch 13 processed !!\n",
      "batch 14 processed !!\n",
      "batch 15 processed !!\n",
      "batch 16 processed !!\n",
      "batch 17 processed !!\n",
      "batch 18 processed !!\n",
      "batch 19 processed !!\n"
     ]
    }
   ],
   "source": [
    "from FaceSpoofing.PixBiSupervision.training import preprocessing as pr, losses as ls\n",
    "from  FaceSpoofing.PixBiSupervision.model import PiBiNet as binet,  DenseNetFE as dense\n",
    "import importlib\n",
    "\n",
    "importlib.reload(pr)\n",
    "importlib.reload(ls)\n",
    "importlib.reload(binet)\n",
    "importlib.reload(dense)\n",
    "\n",
    "pr.prepare_data(TRAIN_DIR)\n",
    "pr.prepare_data(TEST_DIR)\n",
    "# train_dl, test_dl = pr.prepare_dataloaders(TRAIN_DIR, TEST_DIR)"
   ]
  },
  {
   "cell_type": "code",
   "execution_count": null,
   "metadata": {},
   "outputs": [],
   "source": []
  },
  {
   "cell_type": "code",
   "execution_count": 23,
   "metadata": {
    "collapsed": false
   },
   "outputs": [
    {
     "data": {
      "text/plain": [
       "[tensor([[[[-2.1179, -2.1179, -2.1179,  ..., -2.1179, -2.1179, -2.1179],\n",
       "           [-2.1179, -2.1179, -2.1179,  ..., -2.1179, -2.1179, -2.1179],\n",
       "           [-2.1179, -2.1179, -2.1179,  ..., -2.1179, -2.1179, -2.1179],\n",
       "           ...,\n",
       "           [-2.1179, -2.1179, -2.1179,  ..., -2.1179, -2.1179, -2.1179],\n",
       "           [-2.1179, -2.1179, -2.1179,  ..., -2.1179, -2.1179, -2.1179],\n",
       "           [-2.1179, -2.1179, -2.1179,  ..., -2.1179, -2.1179, -2.1179]],\n",
       " \n",
       "          [[-2.0357, -2.0357, -2.0357,  ..., -2.0357, -2.0357, -2.0357],\n",
       "           [-2.0357, -2.0357, -2.0357,  ..., -2.0357, -2.0357, -2.0357],\n",
       "           [-2.0357, -2.0357, -2.0357,  ..., -2.0357, -2.0357, -2.0357],\n",
       "           ...,\n",
       "           [-2.0357, -2.0357, -2.0357,  ..., -2.0357, -2.0357, -2.0357],\n",
       "           [-2.0357, -2.0357, -2.0357,  ..., -2.0357, -2.0357, -2.0357],\n",
       "           [-2.0357, -2.0357, -2.0357,  ..., -2.0357, -2.0357, -2.0357]],\n",
       " \n",
       "          [[-1.8044, -1.8044, -1.8044,  ..., -1.8044, -1.8044, -1.8044],\n",
       "           [-1.8044, -1.8044, -1.8044,  ..., -1.8044, -1.8044, -1.8044],\n",
       "           [-1.8044, -1.8044, -1.8044,  ..., -1.8044, -1.8044, -1.8044],\n",
       "           ...,\n",
       "           [-1.8044, -1.8044, -1.8044,  ..., -1.8044, -1.8044, -1.8044],\n",
       "           [-1.8044, -1.8044, -1.8044,  ..., -1.8044, -1.8044, -1.8044],\n",
       "           [-1.8044, -1.8044, -1.8044,  ..., -1.8044, -1.8044, -1.8044]]],\n",
       " \n",
       " \n",
       "         [[[-2.1179, -2.1179, -2.1179,  ..., -2.1179, -2.1179, -2.1179],\n",
       "           [-2.1179, -2.1179, -2.1179,  ..., -2.1179, -2.1179, -2.1179],\n",
       "           [-2.1179, -2.1179, -2.1179,  ..., -2.1179, -2.1179, -2.1179],\n",
       "           ...,\n",
       "           [-0.3541, -0.3541, -0.3541,  ..., -1.8097, -1.4158, -1.1589],\n",
       "           [-0.3541, -0.3541, -0.3541,  ..., -1.7925, -1.4329, -1.1932],\n",
       "           [-0.3541, -0.3541, -0.3541,  ..., -1.7583, -1.4329, -1.2274]],\n",
       " \n",
       "          [[-2.0357, -2.0357, -2.0357,  ..., -2.0182, -2.0007, -2.0007],\n",
       "           [-2.0357, -2.0357, -2.0357,  ..., -2.0182, -2.0007, -2.0007],\n",
       "           [-2.0357, -2.0357, -2.0357,  ..., -2.0182, -2.0007, -2.0007],\n",
       "           ...,\n",
       "           [ 0.4678,  0.4678,  0.4678,  ..., -1.1253, -0.5301, -0.1099],\n",
       "           [ 0.4678,  0.4678,  0.4678,  ..., -1.0903, -0.5301, -0.1450],\n",
       "           [ 0.4678,  0.4678,  0.4678,  ..., -1.0203, -0.5301, -0.1800]],\n",
       " \n",
       "          [[-1.8044, -1.8044, -1.8044,  ..., -0.9504, -0.9330, -0.9156],\n",
       "           [-1.8044, -1.8044, -1.8044,  ..., -0.9504, -0.9330, -0.9156],\n",
       "           [-1.8044, -1.8044, -1.8044,  ..., -0.9504, -0.9330, -0.9330],\n",
       "           ...,\n",
       "           [ 1.7163,  1.7163,  1.7163,  ..., -0.3230,  0.3393,  0.8274],\n",
       "           [ 1.7163,  1.7163,  1.7163,  ..., -0.2707,  0.3568,  0.7925],\n",
       "           [ 1.7163,  1.7163,  1.7163,  ..., -0.2010,  0.3568,  0.7576]]],\n",
       " \n",
       " \n",
       "         [[[-2.1179, -2.1179, -2.1179,  ..., -2.1179, -2.1179, -2.1179],\n",
       "           [-2.1179, -2.1179, -2.1179,  ..., -2.1179, -2.1179, -2.1179],\n",
       "           [-2.1179, -2.1179, -2.1179,  ..., -2.1179, -2.1179, -2.1179],\n",
       "           ...,\n",
       "           [ 1.0844,  1.0844,  1.0844,  ...,  0.3138,  0.2453,  0.1597],\n",
       "           [ 1.1015,  1.1015,  1.1015,  ...,  0.3481,  0.2796,  0.1939],\n",
       "           [ 1.1015,  1.1015,  1.1015,  ...,  0.3823,  0.3138,  0.2453]],\n",
       " \n",
       "          [[-2.0357, -2.0357, -2.0357,  ..., -2.0357, -2.0357, -2.0357],\n",
       "           [-2.0357, -2.0357, -2.0357,  ..., -2.0357, -2.0357, -2.0357],\n",
       "           [-2.0357, -2.0357, -2.0357,  ..., -2.0357, -2.0357, -2.0357],\n",
       "           ...,\n",
       "           [ 1.6758,  1.6758,  1.6933,  ...,  0.1176,  0.0826,  0.0476],\n",
       "           [ 1.6933,  1.6933,  1.7108,  ...,  0.1352,  0.0826,  0.0476],\n",
       "           [ 1.6933,  1.6933,  1.7108,  ...,  0.1352,  0.0826,  0.0476]],\n",
       " \n",
       "          [[-1.8044, -1.8044, -1.8044,  ..., -1.8044, -1.8044, -1.8044],\n",
       "           [-1.8044, -1.8044, -1.8044,  ..., -1.8044, -1.8044, -1.8044],\n",
       "           [-1.8044, -1.8044, -1.8044,  ..., -1.8044, -1.8044, -1.8044],\n",
       "           ...,\n",
       "           [ 2.2740,  2.2391,  2.2043,  ...,  0.2696,  0.2173,  0.1825],\n",
       "           [ 2.2914,  2.2566,  2.2217,  ...,  0.2871,  0.2348,  0.1999],\n",
       "           [ 2.2914,  2.2566,  2.2217,  ...,  0.3045,  0.2522,  0.1999]]],\n",
       " \n",
       " \n",
       "         ...,\n",
       " \n",
       " \n",
       "         [[[-2.1179, -2.1179, -2.1179,  ..., -2.1179, -2.1179, -2.1179],\n",
       "           [-2.1179, -2.1179, -2.1179,  ..., -2.1179, -2.1179, -2.1179],\n",
       "           [-2.1179, -2.1179, -2.1179,  ..., -2.1179, -2.1179, -2.1179],\n",
       "           ...,\n",
       "           [-0.8678, -0.8507, -0.8335,  ..., -2.0665, -2.0494, -2.0323],\n",
       "           [-0.8507, -0.8335, -0.8164,  ..., -2.0665, -2.0494, -2.0494],\n",
       "           [-0.8507, -0.8335, -0.8164,  ..., -2.0665, -2.0494, -2.0494]],\n",
       " \n",
       "          [[-2.0357, -2.0357, -2.0357,  ..., -2.0357, -2.0357, -2.0357],\n",
       "           [-2.0357, -2.0357, -2.0357,  ..., -2.0357, -2.0357, -2.0357],\n",
       "           [-2.0357, -2.0357, -2.0357,  ..., -2.0357, -2.0357, -2.0357],\n",
       "           ...,\n",
       "           [-0.6527, -0.6352, -0.6176,  ..., -2.0357, -2.0182, -2.0182],\n",
       "           [-0.6352, -0.6176, -0.6001,  ..., -2.0357, -2.0357, -2.0357],\n",
       "           [-0.6352, -0.6176, -0.6001,  ..., -2.0357, -2.0357, -2.0357]],\n",
       " \n",
       "          [[-1.8044, -1.8044, -1.8044,  ..., -1.8044, -1.8044, -1.8044],\n",
       "           [-1.8044, -1.8044, -1.8044,  ..., -1.8044, -1.8044, -1.8044],\n",
       "           [-1.8044, -1.8044, -1.8044,  ..., -1.8044, -1.8044, -1.8044],\n",
       "           ...,\n",
       "           [-0.6018, -0.5844, -0.5670,  ..., -1.8044, -1.8044, -1.8044],\n",
       "           [-0.5844, -0.5670, -0.5495,  ..., -1.8044, -1.8044, -1.8044],\n",
       "           [-0.5844, -0.5670, -0.5495,  ..., -1.8044, -1.8044, -1.8044]]],\n",
       " \n",
       " \n",
       "         [[[-2.1179, -2.1179, -2.1179,  ..., -2.1179, -2.1179, -2.1179],\n",
       "           [-2.1179, -2.1179, -2.1179,  ..., -2.1179, -2.1179, -2.1179],\n",
       "           [-2.1179, -2.1179, -2.1179,  ..., -2.1179, -2.1179, -2.1179],\n",
       "           ...,\n",
       "           [ 2.1975,  2.1804,  2.1633,  ..., -2.1008, -2.1179, -2.1179],\n",
       "           [ 2.2147,  2.1975,  2.1804,  ..., -2.1008, -2.1179, -2.1179],\n",
       "           [ 2.2147,  2.1975,  2.1804,  ..., -2.1008, -2.1179, -2.1179]],\n",
       " \n",
       "          [[-2.0357, -2.0357, -2.0357,  ..., -2.0357, -2.0357, -2.0357],\n",
       "           [-2.0357, -2.0357, -2.0357,  ..., -2.0357, -2.0357, -2.0357],\n",
       "           [-2.0357, -2.0357, -2.0357,  ..., -2.0357, -2.0357, -2.0357],\n",
       "           ...,\n",
       "           [ 2.4111,  2.3936,  2.3761,  ..., -1.9832, -2.0007, -1.9832],\n",
       "           [ 2.4286,  2.4111,  2.3936,  ..., -1.9832, -2.0007, -2.0007],\n",
       "           [ 2.4286,  2.4111,  2.3936,  ..., -1.9832, -2.0007, -2.0007]],\n",
       " \n",
       "          [[-1.8044, -1.8044, -1.8044,  ..., -1.8044, -1.8044, -1.8044],\n",
       "           [-1.8044, -1.8044, -1.8044,  ..., -1.8044, -1.8044, -1.8044],\n",
       "           [-1.8044, -1.8044, -1.8044,  ..., -1.8044, -1.8044, -1.8044],\n",
       "           ...,\n",
       "           [ 2.6051,  2.5877,  2.5703,  ..., -1.8044, -1.8044, -1.8044],\n",
       "           [ 2.6226,  2.6051,  2.5877,  ..., -1.8044, -1.8044, -1.8044],\n",
       "           [ 2.6226,  2.6051,  2.5877,  ..., -1.8044, -1.8044, -1.8044]]],\n",
       " \n",
       " \n",
       "         [[[-2.1179, -2.1179, -2.1179,  ..., -2.1179, -2.1179, -2.1179],\n",
       "           [-2.1179, -2.1179, -2.1179,  ..., -2.1179, -2.1179, -2.1179],\n",
       "           [-2.1179, -2.1179, -2.1179,  ..., -2.1179, -2.1179, -2.1179],\n",
       "           ...,\n",
       "           [-2.1008, -2.1008, -2.1179,  ..., -2.1179, -2.1179, -2.1179],\n",
       "           [-2.1008, -2.1008, -2.1179,  ..., -2.1179, -2.1179, -2.1179],\n",
       "           [-2.1008, -2.1008, -2.1179,  ..., -2.1179, -2.1179, -2.1179]],\n",
       " \n",
       "          [[-2.0357, -2.0357, -2.0357,  ..., -2.0357, -2.0357, -2.0357],\n",
       "           [-2.0357, -2.0357, -2.0357,  ..., -2.0357, -2.0357, -2.0357],\n",
       "           [-2.0357, -2.0357, -2.0357,  ..., -2.0357, -2.0357, -2.0357],\n",
       "           ...,\n",
       "           [-2.0357, -2.0357, -2.0357,  ..., -1.9832, -2.0007, -2.0007],\n",
       "           [-2.0357, -2.0357, -2.0357,  ..., -2.0007, -2.0182, -2.0182],\n",
       "           [-2.0357, -2.0357, -2.0357,  ..., -2.0182, -2.0182, -2.0182]],\n",
       " \n",
       "          [[-1.8044, -1.8044, -1.8044,  ..., -1.8044, -1.8044, -1.8044],\n",
       "           [-1.8044, -1.8044, -1.8044,  ..., -1.8044, -1.8044, -1.8044],\n",
       "           [-1.8044, -1.8044, -1.8044,  ..., -1.8044, -1.8044, -1.8044],\n",
       "           ...,\n",
       "           [-1.8044, -1.8044, -1.8044,  ..., -1.7696, -1.7870, -1.8044],\n",
       "           [-1.8044, -1.8044, -1.8044,  ..., -1.7870, -1.8044, -1.8044],\n",
       "           [-1.8044, -1.8044, -1.8044,  ..., -1.8044, -1.8044, -1.7870]]]]),\n",
       " tensor([1, 0, 0, 0, 1, 0, 0, 0, 0, 0, 1, 0, 0, 1, 0, 1, 0, 0, 0, 0, 0, 0, 1, 0,\n",
       "         0, 1, 0, 0, 0, 0, 1, 0, 0, 1, 0, 1, 1, 1, 0, 0, 0, 0, 1, 0, 1, 0, 0, 1,\n",
       "         0, 1, 0, 1, 1, 0, 1, 1, 1, 1, 0, 0, 0, 0, 0, 0, 0, 0, 0, 0, 1, 1, 0, 0,\n",
       "         0, 1, 0, 1, 1, 1, 0, 1, 0, 1, 0, 0, 0, 0, 1, 1, 1, 0, 1, 0, 1, 0, 0, 1,\n",
       "         0, 1, 0, 1, 0, 1, 1, 1, 0, 1, 0, 1, 1, 1, 1, 1, 0, 0, 0, 0, 1, 0, 0, 0,\n",
       "         0, 0, 0, 0, 1, 0, 1, 0, 0, 0, 0, 0, 0, 0, 1, 0, 0, 0, 0, 1, 0, 1, 0, 1,\n",
       "         1, 0, 0, 1, 0, 0, 0, 0, 0, 1, 0, 0, 0, 1, 1, 0, 1, 0, 1, 0, 0, 0, 0, 1,\n",
       "         1, 1, 0, 0, 1, 0, 1, 1, 1, 1, 0, 0, 1, 0, 0, 0, 0, 0, 1, 0, 0, 1, 0, 0,\n",
       "         0, 0, 0, 0, 0, 0, 0, 0, 0, 0, 0, 1, 0, 0, 0, 0, 0, 0, 0, 0, 0, 0, 0, 0,\n",
       "         0, 0, 0, 0, 1, 0, 0, 1, 0, 1, 0, 0, 1, 0, 0, 0, 0, 1, 0, 1, 1, 1, 1, 0,\n",
       "         1, 1, 1, 1, 0, 1, 1, 0, 0, 0, 0, 0, 0, 0, 1, 0])]"
      ]
     },
     "execution_count": 23,
     "metadata": {},
     "output_type": "execute_result"
    }
   ],
   "source": [
    "# prepare the data loaders\n",
    "from src.pytorch_modular.data_loaders import create_dataloaders\n",
    "train_dl, test_dl, classes_info = create_dataloaders(train_dir=TRAIN_DIR, \n",
    "                                       test_dir=TEST_DIR,\n",
    "                                       train_transform=binet.DenseNetFeatureExtractor.default_transform,\n",
    "                                       batch_size=256)"
   ]
  },
  {
   "cell_type": "code",
   "execution_count": null,
   "metadata": {},
   "outputs": [],
   "source": [
    "# let's define the model\n",
    "from torch.optim import AdamW\n",
    "from torch.optim.lr_scheduler import LinearLR\n",
    "model = binet.PiBiNet()\n",
    "loss = ls.pixelBinaryLoss()\n",
    "optimizer = AdamW(params=model.parameters(), lr=10**-4, weight_decay=10**-5)\n",
    "lr_scheduler = LinearLR(optimizer=optimizer, start_factor=1, end_factor=0.5, total_iters=100)\n",
    "\n"
   ]
  }
 ],
 "metadata": {
  "kernelspec": {
   "display_name": "kaggle_env",
   "language": "python",
   "name": "python3"
  },
  "language_info": {
   "codemirror_mode": {
    "name": "ipython",
    "version": 3
   },
   "file_extension": ".py",
   "mimetype": "text/x-python",
   "name": "python",
   "nbconvert_exporter": "python",
   "pygments_lexer": "ipython3",
   "version": "3.11.5"
  },
  "orig_nbformat": 4
 },
 "nbformat": 4,
 "nbformat_minor": 2
}
